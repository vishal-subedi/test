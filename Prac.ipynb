{
 "cells": [
  {
   "cell_type": "code",
   "execution_count": 1,
   "metadata": {
    "collapsed": false
   },
   "outputs": [
    {
     "name": "stderr",
     "output_type": "stream",
     "text": [
      "Using TensorFlow backend.\n"
     ]
    }
   ],
   "source": [
    "import numpy as np\n",
    "import pandas as pd\n",
    "from matplotlib import pyplot as plt\n",
    "#from mpl_toolkits.mplot3d import Axes3D\n",
    "from sklearn.model_selection import train_test_split as tts\n",
    "import seaborn as sns\n",
    "from sklearn.preprocessing import StandardScaler\n",
    "import scipy.stats as stats\n",
    "from sklearn.cluster import KMeans, AgglomerativeClustering\n",
    "import scipy.cluster.hierarchy as sch\n",
    "from sklearn.preprocessing import LabelEncoder, OneHotEncoder\n",
    "from keras.models import Sequential\n",
    "from keras.layers import Dense, Convolution2D, MaxPooling2D, Flatten\n",
    "from keras.preprocessing.image import ImageDataGenerator\n",
    "from keras.preprocessing import image\n",
    "import cv2\n",
    "from sklearn.metrics import confusion_matrix\n",
    "ss = StandardScaler()"
   ]
  },
  {
   "cell_type": "code",
   "execution_count": 6,
   "metadata": {
    "collapsed": false
   },
   "outputs": [
    {
     "data": {
      "text/html": [
       "<div>\n",
       "<table border=\"1\" class=\"dataframe\">\n",
       "  <thead>\n",
       "    <tr style=\"text-align: right;\">\n",
       "      <th></th>\n",
       "      <th>Survived</th>\n",
       "      <th>Pclass</th>\n",
       "      <th>Name</th>\n",
       "      <th>Sex</th>\n",
       "      <th>Age</th>\n",
       "      <th>SibSp</th>\n",
       "      <th>Parch</th>\n",
       "      <th>Ticket</th>\n",
       "      <th>Fare</th>\n",
       "      <th>Cabin</th>\n",
       "      <th>Embarked</th>\n",
       "    </tr>\n",
       "  </thead>\n",
       "  <tbody>\n",
       "    <tr>\n",
       "      <th>0</th>\n",
       "      <td>0</td>\n",
       "      <td>3</td>\n",
       "      <td>Braund, Mr. Owen Harris</td>\n",
       "      <td>0</td>\n",
       "      <td>22.0</td>\n",
       "      <td>1</td>\n",
       "      <td>0</td>\n",
       "      <td>A/5 21171</td>\n",
       "      <td>7.2500</td>\n",
       "      <td>NaN</td>\n",
       "      <td>S</td>\n",
       "    </tr>\n",
       "    <tr>\n",
       "      <th>1</th>\n",
       "      <td>1</td>\n",
       "      <td>1</td>\n",
       "      <td>Cumings, Mrs. John Bradley (Florence Briggs Th...</td>\n",
       "      <td>1</td>\n",
       "      <td>38.0</td>\n",
       "      <td>1</td>\n",
       "      <td>0</td>\n",
       "      <td>PC 17599</td>\n",
       "      <td>71.2833</td>\n",
       "      <td>C85</td>\n",
       "      <td>C</td>\n",
       "    </tr>\n",
       "    <tr>\n",
       "      <th>2</th>\n",
       "      <td>1</td>\n",
       "      <td>3</td>\n",
       "      <td>Heikkinen, Miss. Laina</td>\n",
       "      <td>1</td>\n",
       "      <td>26.0</td>\n",
       "      <td>0</td>\n",
       "      <td>0</td>\n",
       "      <td>STON/O2. 3101282</td>\n",
       "      <td>7.9250</td>\n",
       "      <td>NaN</td>\n",
       "      <td>S</td>\n",
       "    </tr>\n",
       "    <tr>\n",
       "      <th>3</th>\n",
       "      <td>1</td>\n",
       "      <td>1</td>\n",
       "      <td>Futrelle, Mrs. Jacques Heath (Lily May Peel)</td>\n",
       "      <td>1</td>\n",
       "      <td>35.0</td>\n",
       "      <td>1</td>\n",
       "      <td>0</td>\n",
       "      <td>113803</td>\n",
       "      <td>53.1000</td>\n",
       "      <td>C123</td>\n",
       "      <td>S</td>\n",
       "    </tr>\n",
       "    <tr>\n",
       "      <th>4</th>\n",
       "      <td>0</td>\n",
       "      <td>3</td>\n",
       "      <td>Allen, Mr. William Henry</td>\n",
       "      <td>0</td>\n",
       "      <td>35.0</td>\n",
       "      <td>0</td>\n",
       "      <td>0</td>\n",
       "      <td>373450</td>\n",
       "      <td>8.0500</td>\n",
       "      <td>NaN</td>\n",
       "      <td>S</td>\n",
       "    </tr>\n",
       "  </tbody>\n",
       "</table>\n",
       "</div>"
      ],
      "text/plain": [
       "   Survived  Pclass                                               Name  Sex  \\\n",
       "0         0       3                            Braund, Mr. Owen Harris    0   \n",
       "1         1       1  Cumings, Mrs. John Bradley (Florence Briggs Th...    1   \n",
       "2         1       3                             Heikkinen, Miss. Laina    1   \n",
       "3         1       1       Futrelle, Mrs. Jacques Heath (Lily May Peel)    1   \n",
       "4         0       3                           Allen, Mr. William Henry    0   \n",
       "\n",
       "    Age  SibSp  Parch            Ticket     Fare Cabin Embarked  \n",
       "0  22.0      1      0         A/5 21171   7.2500   NaN        S  \n",
       "1  38.0      1      0          PC 17599  71.2833   C85        C  \n",
       "2  26.0      0      0  STON/O2. 3101282   7.9250   NaN        S  \n",
       "3  35.0      1      0            113803  53.1000  C123        S  \n",
       "4  35.0      0      0            373450   8.0500   NaN        S  "
      ]
     },
     "execution_count": 6,
     "metadata": {},
     "output_type": "execute_result"
    }
   ],
   "source": [
    "titanic = pd.read_csv('C:/Users/visha/Downloads/Documents/train.csv', delimiter = ',', header = 0, index_col = 'PassengerId')\n",
    "titanic = titanic.reset_index('PassengerId', drop = True)\n",
    "titanic.head()"
   ]
  },
  {
   "cell_type": "code",
   "execution_count": 7,
   "metadata": {
    "collapsed": false
   },
   "outputs": [
    {
     "data": {
      "image/png": "[encoded data removed]",
      "text/plain": [
       "<matplotlib.figure.Figure at 0x280799f6a20>"
      ]
     },
     "metadata": {},
     "output_type": "display_data"
    }
   ],
   "source": [
    "males = (titanic['Sex'] == 0).sum()\n",
    "females = (titanic['Sex'] == 1).sum()\n",
    "proportions = [males, females]\n",
    "proportions\n",
    "plt.pie(proportions, labels = ['Males', 'Females'], autopct = '%1.1f%%')\n",
    "plt.show()"
   ]
  },
  {
   "cell_type": "code",
   "execution_count": 8,
   "metadata": {
    "collapsed": false
   },
   "outputs": [
    {
     "data": {
      "text/plain": [
       "<seaborn.axisgrid.FacetGrid at 0x2807ba350f0>"
      ]
     },
     "execution_count": 8,
     "metadata": {},
     "output_type": "execute_result"
    },
    {
     "data": {
      "image/png": "[encoded data removed]",
      "text/plain": [
       "<matplotlib.figure.Figure at 0x2807ba21c88>"
      ]
     },
     "metadata": {},
     "output_type": "display_data"
    }
   ],
   "source": [
    "%matplotlib inline\n",
    "sns.lmplot(data = titanic, x = 'Age', y = 'Pclass', hue = 'Survived', fit_reg = 0)"
   ]
  },
  {
   "cell_type": "code",
   "execution_count": 9,
   "metadata": {
    "collapsed": false
   },
   "outputs": [
    {
     "data": {
      "text/plain": [
       "count    891.000000\n",
       "mean      32.204208\n",
       "std       49.693429\n",
       "min        0.000000\n",
       "25%        7.910400\n",
       "50%       14.454200\n",
       "75%       31.000000\n",
       "max      512.329200\n",
       "Name: Fare, dtype: float64"
      ]
     },
     "execution_count": 9,
     "metadata": {},
     "output_type": "execute_result"
    }
   ],
   "source": [
    "titanic.Fare.describe()"
   ]
  },
  {
   "cell_type": "code",
   "execution_count": 10,
   "metadata": {
    "collapsed": false
   },
   "outputs": [
    {
     "name": "stdout",
     "output_type": "stream",
     "text": [
      "5\n"
     ]
    },
    {
     "data": {
      "text/plain": [
       "8"
      ]
     },
     "execution_count": 10,
     "metadata": {},
     "output_type": "execute_result"
    }
   ],
   "source": [
    "x = int(input())\n",
    "x+3"
   ]
  },
  {
   "cell_type": "code",
   "execution_count": 11,
   "metadata": {
    "collapsed": false
   },
   "outputs": [
    {
     "data": {
      "text/plain": [
       "(array([ 4.69968663+0.j        , -0.14409062+1.77453026j,\n",
       "        -0.14409062-1.77453026j, -0.41150539+0.j        ]),\n",
       " array([[-0.20627338+0.j        , -0.22075471+0.12028046j,\n",
       "         -0.22075471-0.12028046j,  0.3186    +0.j        ],\n",
       "        [-0.07503395+0.j        , -0.01881567-0.08738371j,\n",
       "         -0.01881567+0.08738371j, -0.05049716+0.j        ],\n",
       "        [-0.31851902+0.j        ,  0.11638588+0.24701489j,\n",
       "          0.11638588-0.24701489j, -0.60179422+0.j        ],\n",
       "        [-0.92215337+0.j        ,  0.92425538+0.j        ,\n",
       "          0.92425538-0.j        ,  0.73060783+0.j        ]]))"
      ]
     },
     "execution_count": 11,
     "metadata": {},
     "output_type": "execute_result"
    }
   ],
   "source": [
    "x=[[1, 7, 1/3, 1/7],\n",
    "   [1/7, 1, 1/5, 1/5],\n",
    "   [3, 5, 1, 1/5],\n",
    "   [7, 5, 5, 1]]\n",
    "np.linalg.eig(x)"
   ]
  },
  {
   "cell_type": "code",
   "execution_count": 12,
   "metadata": {
    "collapsed": false
   },
   "outputs": [
    {
     "name": "stdout",
     "output_type": "stream",
     "text": [
      "4.699686628284987\n"
     ]
    },
    {
     "data": {
      "text/plain": [
       "array([13.55296492,  4.93002302, 20.92794116, 60.58907089])"
      ]
     },
     "execution_count": 12,
     "metadata": {},
     "output_type": "execute_result"
    }
   ],
   "source": [
    "x=[[1, 7, 1/3, 1/7],\n",
    "   [1/7, 1, 1/5, 1/5],\n",
    "   [3, 5, 1, 1/5],\n",
    "   [7, 5, 5, 1]]\n",
    "y, z = np.linalg.eig(x)\n",
    "r = np.zeros(4)\n",
    "#print(z[3][0])\n",
    "for i in range(4):\n",
    "    r[i] = -np.real(z[i][0])\n",
    "rsum = r[0] + r[1] + r[2] + r[3]\n",
    "rsum\n",
    "for i in range(4):\n",
    "    r[i] = r[i]/rsum\n",
    "print(np.real(np.max(y)))\n",
    "r*100"
   ]
  },
  {
   "cell_type": "code",
   "execution_count": 13,
   "metadata": {
    "collapsed": false
   },
   "outputs": [
    {
     "data": {
      "text/plain": [
       "0.5800000000000001"
      ]
     },
     "execution_count": 13,
     "metadata": {},
     "output_type": "execute_result"
    }
   ],
   "source": [
    ".33+.11+.14"
   ]
  },
  {
   "cell_type": "code",
   "execution_count": 14,
   "metadata": {
    "collapsed": false
   },
   "outputs": [
    {
     "name": "stdout",
     "output_type": "stream",
     "text": [
      "foo\n"
     ]
    }
   ],
   "source": [
    "if 4.148956>4.148954:\n",
    "    print(\"foo\")\n",
    "else:\n",
    "    print(\"bar\")"
   ]
  },
  {
   "cell_type": "code",
   "execution_count": 15,
   "metadata": {
    "collapsed": false
   },
   "outputs": [
    {
     "data": {
      "text/plain": [
       "0.05555555555555556"
      ]
     },
     "execution_count": 15,
     "metadata": {},
     "output_type": "execute_result"
    }
   ],
   "source": [
    "0.05/0.9"
   ]
  },
  {
   "cell_type": "code",
   "execution_count": 16,
   "metadata": {
    "collapsed": false
   },
   "outputs": [
    {
     "ename": "NameError",
     "evalue": "name 'keras' is not defined",
     "output_type": "error",
     "traceback": [
      "\u001b[0;31m---------------------------------------------------------------------------\u001b[0m",
      "\u001b[0;31mNameError\u001b[0m                                 Traceback (most recent call last)",
      "\u001b[0;32m<ipython-input-16-6ea212592c91>\u001b[0m in \u001b[0;36m<module>\u001b[0;34m()\u001b[0m\n\u001b[0;32m----> 1\u001b[0;31m \u001b[0mhelp\u001b[0m\u001b[1;33m(\u001b[0m\u001b[0mkeras\u001b[0m\u001b[1;33m.\u001b[0m\u001b[0mmodels\u001b[0m\u001b[1;33m)\u001b[0m\u001b[1;33m\u001b[0m\u001b[0m\n\u001b[0m",
      "\u001b[0;31mNameError\u001b[0m: name 'keras' is not defined"
     ]
    }
   ],
   "source": [
    "help(keras.models)"
   ]
  },
  {
   "cell_type": "code",
   "execution_count": null,
   "metadata": {
    "collapsed": false
   },
   "outputs": [],
   "source": [
    "pct = float(input())\n",
    "pot = float(input())\n",
    "n = float(input())\n",
    "x = pot*(1 - pct) + (2/n)*pct\n",
    "print(\"%.6f\" %round(x,2))"
   ]
  },
  {
   "cell_type": "code",
   "execution_count": null,
   "metadata": {
    "collapsed": false
   },
   "outputs": [],
   "source": [
    "0.3*0.8 + 0.2/5"
   ]
  },
  {
   "cell_type": "code",
   "execution_count": null,
   "metadata": {
    "collapsed": false
   },
   "outputs": [],
   "source": [
    "mark = [8, 19, 12, 8, 25, 8, 6, 14, 18, 22, 24, 25, 25, 18, 25, 12, 8, 25, 15, 21, 11, 16, 20, 20, 22, 25, 23, 7, 8, 0, 20, 14, 19, 9, 8, 10]\n",
    "marks = np.sort(mark)\n",
    "mean = np.mean(marks)\n",
    "std = np.std(marks)\n",
    "z = (marks - mean)/std\n",
    "k = stats.probplot(marks, sparams = (4,), dist = stats.dgamma, fit = 1, plot = plt, rvalue = 1)\n",
    "#stats.percentileofscore(marks, 15)\n",
    "plt.show()"
   ]
  },
  {
   "cell_type": "code",
   "execution_count": null,
   "metadata": {
    "collapsed": false
   },
   "outputs": [],
   "source": [
    "marks = [0, 2, 5, 8, 9, 10, 10, 10, 12, 13, 13, 13, 14, 14, 14, 15, 15, 16, 16, 17, 17, 17, 18, 18, 18, 18, 19, 20, 21, 21, 24, 25, 25, 25, 25, 25]\n",
    "plt.hist(marks, normed = 1, align = 'mid')\n",
    "plt.show()"
   ]
  },
  {
   "cell_type": "code",
   "execution_count": null,
   "metadata": {
    "collapsed": false
   },
   "outputs": [],
   "source": [
    "help(stats)"
   ]
  },
  {
   "cell_type": "code",
   "execution_count": null,
   "metadata": {
    "collapsed": false
   },
   "outputs": [],
   "source": [
    "a = [1,1, 1, 1, 2, 2]\n",
    "np.unique(a)"
   ]
  },
  {
   "cell_type": "code",
   "execution_count": null,
   "metadata": {
    "collapsed": false
   },
   "outputs": [],
   "source": [
    "import pandas as pd\n",
    "import numpy as np\n",
    "from sklearn.neural_network import MLPClassifier as mlp\n",
    "from sklearn.model_selection import train_test_split as tts\n",
    "%matplotlib inline\n",
    "df_train = pd.read_csv('C:/Users/visha/Desktop/Datasets/mnist_train.csv', header = 0, index_col = None)\n",
    "df_test = pd.read_csv('C:/Users/visha/Desktop/Datasets/mnist_test.csv', header = 0, index_col = None)\n",
    "df_train.head()\n",
    "X_train = df_train.iloc[:,1:]\n",
    "y_train = df_train.iloc[:,0]\n",
    "X_test = df_test.iloc[:,1:]\n",
    "y_test = df_test.iloc[:,0]\n",
    "#X_train, X_test, y_train, y_test = tts(X, y, test_size = 0.30)\n",
    "clf = mlp(hidden_layer_sizes = (100,), activation = 'logistic', solver = 'sgd', random_state = 1, max_iter = 1000)\n",
    "clf.fit(X_train, y_train)\n",
    "clf.score(X_test, y_test)"
   ]
  },
  {
   "cell_type": "code",
   "execution_count": null,
   "metadata": {
    "collapsed": false,
    "scrolled": true
   },
   "outputs": [],
   "source": [
    "import sklearn\n",
    "help(sklearn.neural_network)"
   ]
  },
  {
   "cell_type": "code",
   "execution_count": 17,
   "metadata": {
    "collapsed": false,
    "scrolled": true
   },
   "outputs": [],
   "source": [
    "df = pd.read_csv('K_Means/Mall.csv', header = 0, index_col = None)"
   ]
  },
  {
   "cell_type": "code",
   "execution_count": 18,
   "metadata": {
    "collapsed": false
   },
   "outputs": [
    {
     "data": {
      "text/html": [
       "<div>\n",
       "<table border=\"1\" class=\"dataframe\">\n",
       "  <thead>\n",
       "    <tr style=\"text-align: right;\">\n",
       "      <th></th>\n",
       "      <th>CustomerID</th>\n",
       "      <th>Genre</th>\n",
       "      <th>Age</th>\n",
       "      <th>Annual Income (k$)</th>\n",
       "      <th>Spending Score (1-100)</th>\n",
       "    </tr>\n",
       "  </thead>\n",
       "  <tbody>\n",
       "    <tr>\n",
       "      <th>0</th>\n",
       "      <td>1</td>\n",
       "      <td>Male</td>\n",
       "      <td>19</td>\n",
       "      <td>15</td>\n",
       "      <td>39</td>\n",
       "    </tr>\n",
       "    <tr>\n",
       "      <th>1</th>\n",
       "      <td>2</td>\n",
       "      <td>Male</td>\n",
       "      <td>21</td>\n",
       "      <td>15</td>\n",
       "      <td>81</td>\n",
       "    </tr>\n",
       "    <tr>\n",
       "      <th>2</th>\n",
       "      <td>3</td>\n",
       "      <td>Female</td>\n",
       "      <td>20</td>\n",
       "      <td>16</td>\n",
       "      <td>6</td>\n",
       "    </tr>\n",
       "    <tr>\n",
       "      <th>3</th>\n",
       "      <td>4</td>\n",
       "      <td>Female</td>\n",
       "      <td>23</td>\n",
       "      <td>16</td>\n",
       "      <td>77</td>\n",
       "    </tr>\n",
       "    <tr>\n",
       "      <th>4</th>\n",
       "      <td>5</td>\n",
       "      <td>Female</td>\n",
       "      <td>31</td>\n",
       "      <td>17</td>\n",
       "      <td>40</td>\n",
       "    </tr>\n",
       "    <tr>\n",
       "      <th>5</th>\n",
       "      <td>6</td>\n",
       "      <td>Female</td>\n",
       "      <td>22</td>\n",
       "      <td>17</td>\n",
       "      <td>76</td>\n",
       "    </tr>\n",
       "    <tr>\n",
       "      <th>6</th>\n",
       "      <td>7</td>\n",
       "      <td>Female</td>\n",
       "      <td>35</td>\n",
       "      <td>18</td>\n",
       "      <td>6</td>\n",
       "    </tr>\n",
       "  </tbody>\n",
       "</table>\n",
       "</div>"
      ],
      "text/plain": [
       "   CustomerID   Genre  Age  Annual Income (k$)  Spending Score (1-100)\n",
       "0           1    Male   19                  15                      39\n",
       "1           2    Male   21                  15                      81\n",
       "2           3  Female   20                  16                       6\n",
       "3           4  Female   23                  16                      77\n",
       "4           5  Female   31                  17                      40\n",
       "5           6  Female   22                  17                      76\n",
       "6           7  Female   35                  18                       6"
      ]
     },
     "execution_count": 18,
     "metadata": {},
     "output_type": "execute_result"
    }
   ],
   "source": [
    "df.head(7)"
   ]
  },
  {
   "cell_type": "code",
   "execution_count": 42,
   "metadata": {
    "collapsed": true
   },
   "outputs": [],
   "source": [
    "X = df.iloc[:, 2:5].values"
   ]
  },
  {
   "cell_type": "code",
   "execution_count": 43,
   "metadata": {
    "collapsed": true
   },
   "outputs": [],
   "source": [
    "wcss = []"
   ]
  },
  {
   "cell_type": "code",
   "execution_count": 44,
   "metadata": {
    "collapsed": false
   },
   "outputs": [
    {
     "data": {
      "text/plain": [
       "0"
      ]
     },
     "execution_count": 44,
     "metadata": {},
     "output_type": "execute_result"
    }
   ],
   "source": [
    "len(wcss)"
   ]
  },
  {
   "cell_type": "code",
   "execution_count": 45,
   "metadata": {
    "collapsed": true
   },
   "outputs": [],
   "source": [
    "for i in range(1, 11):\n",
    "    kmeans = KMeans(n_clusters = i, init = 'k-means++', max_iter = 300, random_state = 1)\n",
    "    kmeans.fit(X)\n",
    "    wcss.append(kmeans.inertia_)"
   ]
  },
  {
   "cell_type": "code",
   "execution_count": 46,
   "metadata": {
    "collapsed": false
   },
   "outputs": [
    {
     "data": {
      "image/png": "[encoded data removed]",
      "text/plain": [
       "<matplotlib.figure.Figure at 0x2807be049b0>"
      ]
     },
     "metadata": {},
     "output_type": "display_data"
    }
   ],
   "source": [
    "fig = plt.figure()\n",
    "ax = fig.gca(projection = '3d')\n",
    "ax.plot(range(1, 11), wcss)\n",
    "ax.view_init(90, -50)"
   ]
  },
  {
   "cell_type": "code",
   "execution_count": 47,
   "metadata": {
    "collapsed": true
   },
   "outputs": [],
   "source": [
    "kmeans = KMeans(n_clusters = 5, init = 'k-means++', max_iter = 300, random_state = 1)"
   ]
  },
  {
   "cell_type": "code",
   "execution_count": 48,
   "metadata": {
    "collapsed": false
   },
   "outputs": [],
   "source": [
    "pred = kmeans.fit_predict(X)"
   ]
  },
  {
   "cell_type": "code",
   "execution_count": 49,
   "metadata": {
    "collapsed": false
   },
   "outputs": [
    {
     "name": "stdout",
     "output_type": "stream",
     "text": [
      "1->3\n",
      "2->1\n",
      "3->3\n",
      "4->1\n",
      "5->3\n",
      "6->1\n",
      "7->3\n",
      "8->1\n",
      "9->3\n",
      "10->1\n",
      "11->3\n",
      "12->1\n",
      "13->3\n",
      "14->1\n",
      "15->3\n",
      "16->1\n",
      "17->3\n",
      "18->1\n",
      "19->3\n",
      "20->1\n",
      "21->3\n",
      "22->1\n",
      "23->3\n",
      "24->1\n",
      "25->3\n",
      "26->1\n",
      "27->3\n",
      "28->1\n",
      "29->3\n",
      "30->1\n",
      "31->3\n",
      "32->1\n",
      "33->3\n",
      "34->1\n",
      "35->3\n",
      "36->1\n",
      "37->3\n",
      "38->1\n",
      "39->3\n",
      "40->1\n",
      "41->3\n",
      "42->1\n",
      "43->3\n",
      "44->1\n",
      "45->3\n",
      "46->1\n",
      "47->4\n",
      "48->4\n",
      "49->4\n",
      "50->4\n",
      "51->4\n",
      "52->4\n",
      "53->4\n",
      "54->4\n",
      "55->4\n",
      "56->4\n",
      "57->4\n",
      "58->4\n",
      "59->4\n",
      "60->4\n",
      "61->4\n",
      "62->4\n",
      "63->4\n",
      "64->4\n",
      "65->4\n",
      "66->4\n",
      "67->4\n",
      "68->4\n",
      "69->4\n",
      "70->4\n",
      "71->4\n",
      "72->4\n",
      "73->4\n",
      "74->4\n",
      "75->4\n",
      "76->4\n",
      "77->4\n",
      "78->4\n",
      "79->4\n",
      "80->4\n",
      "81->4\n",
      "82->4\n",
      "83->4\n",
      "84->4\n",
      "85->4\n",
      "86->4\n",
      "87->4\n",
      "88->4\n",
      "89->4\n",
      "90->4\n",
      "91->4\n",
      "92->4\n",
      "93->4\n",
      "94->4\n",
      "95->4\n",
      "96->4\n",
      "97->4\n",
      "98->4\n",
      "99->4\n",
      "100->4\n",
      "101->4\n",
      "102->4\n",
      "103->4\n",
      "104->4\n",
      "105->4\n",
      "106->4\n",
      "107->4\n",
      "108->4\n",
      "109->4\n",
      "110->4\n",
      "111->4\n",
      "112->4\n",
      "113->4\n",
      "114->4\n",
      "115->4\n",
      "116->4\n",
      "117->4\n",
      "118->4\n",
      "119->4\n",
      "120->4\n",
      "121->4\n",
      "122->4\n",
      "123->4\n",
      "124->2\n",
      "125->0\n",
      "126->2\n",
      "127->4\n",
      "128->2\n",
      "129->0\n",
      "130->2\n",
      "131->0\n",
      "132->2\n",
      "133->0\n",
      "134->2\n",
      "135->0\n",
      "136->2\n",
      "137->0\n",
      "138->2\n",
      "139->0\n",
      "140->2\n",
      "141->0\n",
      "142->2\n",
      "143->4\n",
      "144->2\n",
      "145->0\n",
      "146->2\n",
      "147->0\n",
      "148->2\n",
      "149->0\n",
      "150->2\n",
      "151->0\n",
      "152->2\n",
      "153->0\n",
      "154->2\n",
      "155->0\n",
      "156->2\n",
      "157->0\n",
      "158->2\n",
      "159->0\n",
      "160->2\n",
      "161->0\n",
      "162->2\n",
      "163->0\n",
      "164->2\n",
      "165->0\n",
      "166->2\n",
      "167->0\n",
      "168->2\n",
      "169->0\n",
      "170->2\n",
      "171->0\n",
      "172->2\n",
      "173->0\n",
      "174->2\n",
      "175->0\n",
      "176->2\n",
      "177->0\n",
      "178->2\n",
      "179->0\n",
      "180->2\n",
      "181->0\n",
      "182->2\n",
      "183->0\n",
      "184->2\n",
      "185->0\n",
      "186->2\n",
      "187->0\n",
      "188->2\n",
      "189->0\n",
      "190->2\n",
      "191->0\n",
      "192->2\n",
      "193->0\n",
      "194->2\n",
      "195->0\n",
      "196->2\n",
      "197->0\n",
      "198->2\n",
      "199->0\n",
      "200->2\n"
     ]
    }
   ],
   "source": [
    "for i, j in zip(df['CustomerID'].values, pred):\n",
    "    print(i, end = \"\")\n",
    "    print('->', end = \"\")\n",
    "    print(j)\n",
    "       "
   ]
  },
  {
   "cell_type": "code",
   "execution_count": 50,
   "metadata": {
    "collapsed": false
   },
   "outputs": [],
   "source": [
    "cc = kmeans.cluster_centers_"
   ]
  },
  {
   "cell_type": "code",
   "execution_count": 51,
   "metadata": {
    "collapsed": false
   },
   "outputs": [
    {
     "data": {
      "text/plain": [
       "array([[19, 15, 39],\n",
       "       [21, 15, 81],\n",
       "       [20, 16,  6],\n",
       "       [23, 16, 77],\n",
       "       [31, 17, 40],\n",
       "       [22, 17, 76]], dtype=int64)"
      ]
     },
     "execution_count": 51,
     "metadata": {},
     "output_type": "execute_result"
    }
   ],
   "source": [
    "X[:6, :]"
   ]
  },
  {
   "cell_type": "code",
   "execution_count": 52,
   "metadata": {
    "collapsed": false
   },
   "outputs": [
    {
     "data": {
      "text/plain": [
       "array([23, 59, 47, 25, 20, 44, 19, 57, 25, 48, 34, 43, 44, 47, 37, 34, 56,\n",
       "       19, 50, 42, 36, 40, 36, 52, 58, 59, 37, 46, 41, 54, 41, 34, 33, 47,\n",
       "       45, 32], dtype=int64)"
      ]
     },
     "execution_count": 52,
     "metadata": {},
     "output_type": "execute_result"
    }
   ],
   "source": [
    "X[pred == 0, 0]"
   ]
  },
  {
   "cell_type": "code",
   "execution_count": 53,
   "metadata": {
    "collapsed": false
   },
   "outputs": [
    {
     "data": {
      "image/png": "[encoded data removed]",
      "text/plain": [
       "<matplotlib.figure.Figure at 0x2807ba354e0>"
      ]
     },
     "metadata": {},
     "output_type": "display_data"
    }
   ],
   "source": [
    "%matplotlib inline\n",
    "fig = plt.figure()\n",
    "ax = fig.gca(projection = '3d', xlabel = 'Age', ylabel = 'Annual Income', zlabel = 'Spending Score')\n",
    "ax.scatter(X[pred == 0, 0], X[pred == 0, 1], X[pred == 0, 2], s = 30, c = 'r', depthshade = 0)\n",
    "ax.scatter(X[pred == 1, 0], X[pred == 1, 1], X[pred == 1, 2], s = 30, c = 'b', depthshade = 0)\n",
    "ax.scatter(X[pred == 2, 0], X[pred == 2, 1], X[pred == 2, 2], s = 30, c = 'g', depthshade = 0)\n",
    "ax.scatter(X[pred == 3, 0], X[pred == 3, 1], X[pred == 3, 2], s = 30, c = 'y',depthshade = 0)\n",
    "ax.scatter(X[pred == 4, 0], X[pred == 4, 1], X[pred == 4, 2], s = 30, c = 'purple', depthshade = 0)\n",
    "ax.scatter(X[pred == 5, 0], X[pred == 5, 1], X[pred == 5, 2], s = 30, c = 'c', depthshade = 0)\n",
    "ax.scatter(cc[:, 0], cc[:, 1], cc[:, 2], s = 100, c = 'magenta', depthshade = 0)\n",
    "ax.view_init(10, 10)\n",
    "#ax.xlabel('Age')\n",
    "#ax.ylabel('Annual Income')\n",
    "#ax.zlabel('Spending Score')"
   ]
  },
  {
   "cell_type": "code",
   "execution_count": 59,
   "metadata": {
    "collapsed": false
   },
   "outputs": [
    {
     "data": {
      "image/png": "[encoded data removed]",
      "text/plain": [
       "<matplotlib.figure.Figure at 0x2807d206438>"
      ]
     },
     "metadata": {},
     "output_type": "display_data"
    }
   ],
   "source": [
    "dendrogram = sch.dendrogram(sch.linkage(X, method = 'ward'))"
   ]
  },
  {
   "cell_type": "code",
   "execution_count": 78,
   "metadata": {
    "collapsed": true
   },
   "outputs": [],
   "source": [
    "hc = AgglomerativeClustering(n_clusters = 5)"
   ]
  },
  {
   "cell_type": "code",
   "execution_count": 79,
   "metadata": {
    "collapsed": true
   },
   "outputs": [],
   "source": [
    "y_pred = hc.fit_predict(X)"
   ]
  },
  {
   "cell_type": "code",
   "execution_count": 80,
   "metadata": {
    "collapsed": false,
    "scrolled": true
   },
   "outputs": [
    {
     "name": "stdout",
     "output_type": "stream",
     "text": [
      "1->4\n",
      "2->3\n",
      "3->4\n",
      "4->3\n",
      "5->4\n",
      "6->3\n",
      "7->4\n",
      "8->3\n",
      "9->4\n",
      "10->3\n",
      "11->4\n",
      "12->3\n",
      "13->4\n",
      "14->3\n",
      "15->4\n",
      "16->3\n",
      "17->4\n",
      "18->3\n",
      "19->4\n",
      "20->3\n",
      "21->4\n",
      "22->3\n",
      "23->4\n",
      "24->3\n",
      "25->4\n",
      "26->3\n",
      "27->4\n",
      "28->0\n",
      "29->4\n",
      "30->3\n",
      "31->4\n",
      "32->3\n",
      "33->4\n",
      "34->3\n",
      "35->4\n",
      "36->3\n",
      "37->4\n",
      "38->3\n",
      "39->4\n",
      "40->3\n",
      "41->4\n",
      "42->3\n",
      "43->4\n",
      "44->0\n",
      "45->4\n",
      "46->0\n",
      "47->0\n",
      "48->0\n",
      "49->0\n",
      "50->0\n",
      "51->0\n",
      "52->0\n",
      "53->0\n",
      "54->0\n",
      "55->0\n",
      "56->0\n",
      "57->0\n",
      "58->0\n",
      "59->0\n",
      "60->0\n",
      "61->0\n",
      "62->0\n",
      "63->0\n",
      "64->0\n",
      "65->0\n",
      "66->0\n",
      "67->0\n",
      "68->0\n",
      "69->0\n",
      "70->0\n",
      "71->0\n",
      "72->0\n",
      "73->0\n",
      "74->0\n",
      "75->0\n",
      "76->0\n",
      "77->0\n",
      "78->0\n",
      "79->0\n",
      "80->0\n",
      "81->0\n",
      "82->0\n",
      "83->0\n",
      "84->0\n",
      "85->0\n",
      "86->0\n",
      "87->0\n",
      "88->0\n",
      "89->0\n",
      "90->0\n",
      "91->0\n",
      "92->0\n",
      "93->0\n",
      "94->0\n",
      "95->0\n",
      "96->0\n",
      "97->0\n",
      "98->0\n",
      "99->0\n",
      "100->0\n",
      "101->0\n",
      "102->0\n",
      "103->0\n",
      "104->0\n",
      "105->0\n",
      "106->0\n",
      "107->0\n",
      "108->0\n",
      "109->0\n",
      "110->0\n",
      "111->0\n",
      "112->0\n",
      "113->0\n",
      "114->0\n",
      "115->0\n",
      "116->0\n",
      "117->0\n",
      "118->0\n",
      "119->0\n",
      "120->0\n",
      "121->0\n",
      "122->0\n",
      "123->0\n",
      "124->2\n",
      "125->0\n",
      "126->2\n",
      "127->1\n",
      "128->2\n",
      "129->1\n",
      "130->2\n",
      "131->1\n",
      "132->2\n",
      "133->0\n",
      "134->2\n",
      "135->1\n",
      "136->2\n",
      "137->1\n",
      "138->2\n",
      "139->1\n",
      "140->2\n",
      "141->1\n",
      "142->2\n",
      "143->0\n",
      "144->2\n",
      "145->1\n",
      "146->2\n",
      "147->1\n",
      "148->2\n",
      "149->1\n",
      "150->2\n",
      "151->1\n",
      "152->2\n",
      "153->1\n",
      "154->2\n",
      "155->1\n",
      "156->2\n",
      "157->1\n",
      "158->2\n",
      "159->1\n",
      "160->2\n",
      "161->1\n",
      "162->2\n",
      "163->1\n",
      "164->2\n",
      "165->1\n",
      "166->2\n",
      "167->1\n",
      "168->2\n",
      "169->1\n",
      "170->2\n",
      "171->1\n",
      "172->2\n",
      "173->1\n",
      "174->2\n",
      "175->1\n",
      "176->2\n",
      "177->1\n",
      "178->2\n",
      "179->1\n",
      "180->2\n",
      "181->1\n",
      "182->2\n",
      "183->1\n",
      "184->2\n",
      "185->1\n",
      "186->2\n",
      "187->1\n",
      "188->2\n",
      "189->1\n",
      "190->2\n",
      "191->1\n",
      "192->2\n",
      "193->1\n",
      "194->2\n",
      "195->1\n",
      "196->2\n",
      "197->1\n",
      "198->2\n",
      "199->1\n",
      "200->2\n"
     ]
    }
   ],
   "source": [
    "for i, j in zip(df['CustomerID'].values, y_pred):\n",
    "    print(i, end = \"\")\n",
    "    print('->', end = \"\")\n",
    "    print(j)"
   ]
  },
  {
   "cell_type": "code",
   "execution_count": 81,
   "metadata": {
    "collapsed": false
   },
   "outputs": [
    {
     "data": {
      "text/plain": [
       "array([[ 19,  15,  39],\n",
       "       [ 21,  15,  81],\n",
       "       [ 20,  16,   6],\n",
       "       [ 23,  16,  77],\n",
       "       [ 31,  17,  40],\n",
       "       [ 22,  17,  76],\n",
       "       [ 35,  18,   6],\n",
       "       [ 23,  18,  94],\n",
       "       [ 64,  19,   3],\n",
       "       [ 30,  19,  72],\n",
       "       [ 67,  19,  14],\n",
       "       [ 35,  19,  99],\n",
       "       [ 58,  20,  15],\n",
       "       [ 24,  20,  77],\n",
       "       [ 37,  20,  13],\n",
       "       [ 22,  20,  79],\n",
       "       [ 35,  21,  35],\n",
       "       [ 20,  21,  66],\n",
       "       [ 52,  23,  29],\n",
       "       [ 35,  23,  98],\n",
       "       [ 35,  24,  35],\n",
       "       [ 25,  24,  73],\n",
       "       [ 46,  25,   5],\n",
       "       [ 31,  25,  73],\n",
       "       [ 54,  28,  14],\n",
       "       [ 29,  28,  82],\n",
       "       [ 45,  28,  32],\n",
       "       [ 35,  28,  61],\n",
       "       [ 40,  29,  31],\n",
       "       [ 23,  29,  87],\n",
       "       [ 60,  30,   4],\n",
       "       [ 21,  30,  73],\n",
       "       [ 53,  33,   4],\n",
       "       [ 18,  33,  92],\n",
       "       [ 49,  33,  14],\n",
       "       [ 21,  33,  81],\n",
       "       [ 42,  34,  17],\n",
       "       [ 30,  34,  73],\n",
       "       [ 36,  37,  26],\n",
       "       [ 20,  37,  75],\n",
       "       [ 65,  38,  35],\n",
       "       [ 24,  38,  92],\n",
       "       [ 48,  39,  36],\n",
       "       [ 31,  39,  61],\n",
       "       [ 49,  39,  28],\n",
       "       [ 24,  39,  65],\n",
       "       [ 50,  40,  55],\n",
       "       [ 27,  40,  47],\n",
       "       [ 29,  40,  42],\n",
       "       [ 31,  40,  42],\n",
       "       [ 49,  42,  52],\n",
       "       [ 33,  42,  60],\n",
       "       [ 31,  43,  54],\n",
       "       [ 59,  43,  60],\n",
       "       [ 50,  43,  45],\n",
       "       [ 47,  43,  41],\n",
       "       [ 51,  44,  50],\n",
       "       [ 69,  44,  46],\n",
       "       [ 27,  46,  51],\n",
       "       [ 53,  46,  46],\n",
       "       [ 70,  46,  56],\n",
       "       [ 19,  46,  55],\n",
       "       [ 67,  47,  52],\n",
       "       [ 54,  47,  59],\n",
       "       [ 63,  48,  51],\n",
       "       [ 18,  48,  59],\n",
       "       [ 43,  48,  50],\n",
       "       [ 68,  48,  48],\n",
       "       [ 19,  48,  59],\n",
       "       [ 32,  48,  47],\n",
       "       [ 70,  49,  55],\n",
       "       [ 47,  49,  42],\n",
       "       [ 60,  50,  49],\n",
       "       [ 60,  50,  56],\n",
       "       [ 59,  54,  47],\n",
       "       [ 26,  54,  54],\n",
       "       [ 45,  54,  53],\n",
       "       [ 40,  54,  48],\n",
       "       [ 23,  54,  52],\n",
       "       [ 49,  54,  42],\n",
       "       [ 57,  54,  51],\n",
       "       [ 38,  54,  55],\n",
       "       [ 67,  54,  41],\n",
       "       [ 46,  54,  44],\n",
       "       [ 21,  54,  57],\n",
       "       [ 48,  54,  46],\n",
       "       [ 55,  57,  58],\n",
       "       [ 22,  57,  55],\n",
       "       [ 34,  58,  60],\n",
       "       [ 50,  58,  46],\n",
       "       [ 68,  59,  55],\n",
       "       [ 18,  59,  41],\n",
       "       [ 48,  60,  49],\n",
       "       [ 40,  60,  40],\n",
       "       [ 32,  60,  42],\n",
       "       [ 24,  60,  52],\n",
       "       [ 47,  60,  47],\n",
       "       [ 27,  60,  50],\n",
       "       [ 48,  61,  42],\n",
       "       [ 20,  61,  49],\n",
       "       [ 23,  62,  41],\n",
       "       [ 49,  62,  48],\n",
       "       [ 67,  62,  59],\n",
       "       [ 26,  62,  55],\n",
       "       [ 49,  62,  56],\n",
       "       [ 21,  62,  42],\n",
       "       [ 66,  63,  50],\n",
       "       [ 54,  63,  46],\n",
       "       [ 68,  63,  43],\n",
       "       [ 66,  63,  48],\n",
       "       [ 65,  63,  52],\n",
       "       [ 19,  63,  54],\n",
       "       [ 38,  64,  42],\n",
       "       [ 19,  64,  46],\n",
       "       [ 18,  65,  48],\n",
       "       [ 19,  65,  50],\n",
       "       [ 63,  65,  43],\n",
       "       [ 49,  65,  59],\n",
       "       [ 51,  67,  43],\n",
       "       [ 50,  67,  57],\n",
       "       [ 27,  67,  56],\n",
       "       [ 38,  67,  40],\n",
       "       [ 40,  69,  58],\n",
       "       [ 39,  69,  91],\n",
       "       [ 23,  70,  29],\n",
       "       [ 31,  70,  77],\n",
       "       [ 43,  71,  35],\n",
       "       [ 40,  71,  95],\n",
       "       [ 59,  71,  11],\n",
       "       [ 38,  71,  75],\n",
       "       [ 47,  71,   9],\n",
       "       [ 39,  71,  75],\n",
       "       [ 25,  72,  34],\n",
       "       [ 31,  72,  71],\n",
       "       [ 20,  73,   5],\n",
       "       [ 29,  73,  88],\n",
       "       [ 44,  73,   7],\n",
       "       [ 32,  73,  73],\n",
       "       [ 19,  74,  10],\n",
       "       [ 35,  74,  72],\n",
       "       [ 57,  75,   5],\n",
       "       [ 32,  75,  93],\n",
       "       [ 28,  76,  40],\n",
       "       [ 32,  76,  87],\n",
       "       [ 25,  77,  12],\n",
       "       [ 28,  77,  97],\n",
       "       [ 48,  77,  36],\n",
       "       [ 32,  77,  74],\n",
       "       [ 34,  78,  22],\n",
       "       [ 34,  78,  90],\n",
       "       [ 43,  78,  17],\n",
       "       [ 39,  78,  88],\n",
       "       [ 44,  78,  20],\n",
       "       [ 38,  78,  76],\n",
       "       [ 47,  78,  16],\n",
       "       [ 27,  78,  89],\n",
       "       [ 37,  78,   1],\n",
       "       [ 30,  78,  78],\n",
       "       [ 34,  78,   1],\n",
       "       [ 30,  78,  73],\n",
       "       [ 56,  79,  35],\n",
       "       [ 29,  79,  83],\n",
       "       [ 19,  81,   5],\n",
       "       [ 31,  81,  93],\n",
       "       [ 50,  85,  26],\n",
       "       [ 36,  85,  75],\n",
       "       [ 42,  86,  20],\n",
       "       [ 33,  86,  95],\n",
       "       [ 36,  87,  27],\n",
       "       [ 32,  87,  63],\n",
       "       [ 40,  87,  13],\n",
       "       [ 28,  87,  75],\n",
       "       [ 36,  87,  10],\n",
       "       [ 36,  87,  92],\n",
       "       [ 52,  88,  13],\n",
       "       [ 30,  88,  86],\n",
       "       [ 58,  88,  15],\n",
       "       [ 27,  88,  69],\n",
       "       [ 59,  93,  14],\n",
       "       [ 35,  93,  90],\n",
       "       [ 37,  97,  32],\n",
       "       [ 32,  97,  86],\n",
       "       [ 46,  98,  15],\n",
       "       [ 29,  98,  88],\n",
       "       [ 41,  99,  39],\n",
       "       [ 30,  99,  97],\n",
       "       [ 54, 101,  24],\n",
       "       [ 28, 101,  68],\n",
       "       [ 41, 103,  17],\n",
       "       [ 36, 103,  85],\n",
       "       [ 34, 103,  23],\n",
       "       [ 32, 103,  69],\n",
       "       [ 33, 113,   8],\n",
       "       [ 38, 113,  91],\n",
       "       [ 47, 120,  16],\n",
       "       [ 35, 120,  79],\n",
       "       [ 45, 126,  28],\n",
       "       [ 32, 126,  74],\n",
       "       [ 32, 137,  18],\n",
       "       [ 30, 137,  83]], dtype=int64)"
      ]
     },
     "execution_count": 81,
     "metadata": {},
     "output_type": "execute_result"
    }
   ],
   "source": [
    "X"
   ]
  },
  {
   "cell_type": "code",
   "execution_count": 82,
   "metadata": {
    "collapsed": false
   },
   "outputs": [
    {
     "data": {
      "text/plain": [
       "<matplotlib.text.Text at 0x2807d872e80>"
      ]
     },
     "execution_count": 82,
     "metadata": {},
     "output_type": "execute_result"
    },
    {
     "data": {
      "image/png": "[encoded data removed]",
      "text/plain": [
       "<matplotlib.figure.Figure at 0x2807d81f0f0>"
      ]
     },
     "metadata": {},
     "output_type": "display_data"
    }
   ],
   "source": [
    "%matplotlib inline\n",
    "plt.scatter(X[y_pred == 0, 0], X[y_pred == 0, 1], s = 30, c = 'r')\n",
    "plt.scatter(X[y_pred == 1, 0], X[y_pred == 1, 1], s = 30, c = 'b')\n",
    "plt.scatter(X[y_pred == 2, 0], X[y_pred == 2, 1], s = 30, c = 'g')\n",
    "plt.scatter(X[y_pred == 3, 0], X[y_pred == 3, 1], s = 30, c = 'y')\n",
    "plt.scatter(X[y_pred == 4, 0], X[y_pred == 4, 1], s = 30, c = 'purple')\n",
    "plt.xlabel('Annual Income')\n",
    "plt.ylabel('Spending Score')   "
   ]
  },
  {
   "cell_type": "code",
   "execution_count": 83,
   "metadata": {
    "collapsed": false
   },
   "outputs": [],
   "source": [
    "from Apriori_Python.apyori import apriori"
   ]
  },
  {
   "cell_type": "code",
   "execution_count": 84,
   "metadata": {
    "collapsed": false
   },
   "outputs": [],
   "source": [
    "df1 = pd.read_csv('Anaconda3/Lib/site-packages/Apriori_Python/Market_Basket_Optimisation.csv', header = None, index_col = None)"
   ]
  },
  {
   "cell_type": "code",
   "execution_count": 69,
   "metadata": {
    "collapsed": false
   },
   "outputs": [
    {
     "data": {
      "text/html": [
       "<div>\n",
       "<table border=\"1\" class=\"dataframe\">\n",
       "  <thead>\n",
       "    <tr style=\"text-align: right;\">\n",
       "      <th></th>\n",
       "      <th>0</th>\n",
       "      <th>1</th>\n",
       "      <th>2</th>\n",
       "      <th>3</th>\n",
       "      <th>4</th>\n",
       "      <th>5</th>\n",
       "      <th>6</th>\n",
       "      <th>7</th>\n",
       "      <th>8</th>\n",
       "      <th>9</th>\n",
       "      <th>10</th>\n",
       "      <th>11</th>\n",
       "      <th>12</th>\n",
       "      <th>13</th>\n",
       "      <th>14</th>\n",
       "      <th>15</th>\n",
       "      <th>16</th>\n",
       "      <th>17</th>\n",
       "      <th>18</th>\n",
       "      <th>19</th>\n",
       "    </tr>\n",
       "  </thead>\n",
       "  <tbody>\n",
       "    <tr>\n",
       "      <th>0</th>\n",
       "      <td>shrimp</td>\n",
       "      <td>almonds</td>\n",
       "      <td>avocado</td>\n",
       "      <td>vegetables mix</td>\n",
       "      <td>green grapes</td>\n",
       "      <td>whole weat flour</td>\n",
       "      <td>yams</td>\n",
       "      <td>cottage cheese</td>\n",
       "      <td>energy drink</td>\n",
       "      <td>tomato juice</td>\n",
       "      <td>low fat yogurt</td>\n",
       "      <td>green tea</td>\n",
       "      <td>honey</td>\n",
       "      <td>salad</td>\n",
       "      <td>mineral water</td>\n",
       "      <td>salmon</td>\n",
       "      <td>antioxydant juice</td>\n",
       "      <td>frozen smoothie</td>\n",
       "      <td>spinach</td>\n",
       "      <td>olive oil</td>\n",
       "    </tr>\n",
       "    <tr>\n",
       "      <th>1</th>\n",
       "      <td>burgers</td>\n",
       "      <td>meatballs</td>\n",
       "      <td>eggs</td>\n",
       "      <td>NaN</td>\n",
       "      <td>NaN</td>\n",
       "      <td>NaN</td>\n",
       "      <td>NaN</td>\n",
       "      <td>NaN</td>\n",
       "      <td>NaN</td>\n",
       "      <td>NaN</td>\n",
       "      <td>NaN</td>\n",
       "      <td>NaN</td>\n",
       "      <td>NaN</td>\n",
       "      <td>NaN</td>\n",
       "      <td>NaN</td>\n",
       "      <td>NaN</td>\n",
       "      <td>NaN</td>\n",
       "      <td>NaN</td>\n",
       "      <td>NaN</td>\n",
       "      <td>NaN</td>\n",
       "    </tr>\n",
       "    <tr>\n",
       "      <th>2</th>\n",
       "      <td>chutney</td>\n",
       "      <td>NaN</td>\n",
       "      <td>NaN</td>\n",
       "      <td>NaN</td>\n",
       "      <td>NaN</td>\n",
       "      <td>NaN</td>\n",
       "      <td>NaN</td>\n",
       "      <td>NaN</td>\n",
       "      <td>NaN</td>\n",
       "      <td>NaN</td>\n",
       "      <td>NaN</td>\n",
       "      <td>NaN</td>\n",
       "      <td>NaN</td>\n",
       "      <td>NaN</td>\n",
       "      <td>NaN</td>\n",
       "      <td>NaN</td>\n",
       "      <td>NaN</td>\n",
       "      <td>NaN</td>\n",
       "      <td>NaN</td>\n",
       "      <td>NaN</td>\n",
       "    </tr>\n",
       "    <tr>\n",
       "      <th>3</th>\n",
       "      <td>turkey</td>\n",
       "      <td>avocado</td>\n",
       "      <td>NaN</td>\n",
       "      <td>NaN</td>\n",
       "      <td>NaN</td>\n",
       "      <td>NaN</td>\n",
       "      <td>NaN</td>\n",
       "      <td>NaN</td>\n",
       "      <td>NaN</td>\n",
       "      <td>NaN</td>\n",
       "      <td>NaN</td>\n",
       "      <td>NaN</td>\n",
       "      <td>NaN</td>\n",
       "      <td>NaN</td>\n",
       "      <td>NaN</td>\n",
       "      <td>NaN</td>\n",
       "      <td>NaN</td>\n",
       "      <td>NaN</td>\n",
       "      <td>NaN</td>\n",
       "      <td>NaN</td>\n",
       "    </tr>\n",
       "    <tr>\n",
       "      <th>4</th>\n",
       "      <td>mineral water</td>\n",
       "      <td>milk</td>\n",
       "      <td>energy bar</td>\n",
       "      <td>whole wheat rice</td>\n",
       "      <td>green tea</td>\n",
       "      <td>NaN</td>\n",
       "      <td>NaN</td>\n",
       "      <td>NaN</td>\n",
       "      <td>NaN</td>\n",
       "      <td>NaN</td>\n",
       "      <td>NaN</td>\n",
       "      <td>NaN</td>\n",
       "      <td>NaN</td>\n",
       "      <td>NaN</td>\n",
       "      <td>NaN</td>\n",
       "      <td>NaN</td>\n",
       "      <td>NaN</td>\n",
       "      <td>NaN</td>\n",
       "      <td>NaN</td>\n",
       "      <td>NaN</td>\n",
       "    </tr>\n",
       "    <tr>\n",
       "      <th>5</th>\n",
       "      <td>low fat yogurt</td>\n",
       "      <td>NaN</td>\n",
       "      <td>NaN</td>\n",
       "      <td>NaN</td>\n",
       "      <td>NaN</td>\n",
       "      <td>NaN</td>\n",
       "      <td>NaN</td>\n",
       "      <td>NaN</td>\n",
       "      <td>NaN</td>\n",
       "      <td>NaN</td>\n",
       "      <td>NaN</td>\n",
       "      <td>NaN</td>\n",
       "      <td>NaN</td>\n",
       "      <td>NaN</td>\n",
       "      <td>NaN</td>\n",
       "      <td>NaN</td>\n",
       "      <td>NaN</td>\n",
       "      <td>NaN</td>\n",
       "      <td>NaN</td>\n",
       "      <td>NaN</td>\n",
       "    </tr>\n",
       "    <tr>\n",
       "      <th>6</th>\n",
       "      <td>whole wheat pasta</td>\n",
       "      <td>french fries</td>\n",
       "      <td>NaN</td>\n",
       "      <td>NaN</td>\n",
       "      <td>NaN</td>\n",
       "      <td>NaN</td>\n",
       "      <td>NaN</td>\n",
       "      <td>NaN</td>\n",
       "      <td>NaN</td>\n",
       "      <td>NaN</td>\n",
       "      <td>NaN</td>\n",
       "      <td>NaN</td>\n",
       "      <td>NaN</td>\n",
       "      <td>NaN</td>\n",
       "      <td>NaN</td>\n",
       "      <td>NaN</td>\n",
       "      <td>NaN</td>\n",
       "      <td>NaN</td>\n",
       "      <td>NaN</td>\n",
       "      <td>NaN</td>\n",
       "    </tr>\n",
       "    <tr>\n",
       "      <th>7</th>\n",
       "      <td>soup</td>\n",
       "      <td>light cream</td>\n",
       "      <td>shallot</td>\n",
       "      <td>NaN</td>\n",
       "      <td>NaN</td>\n",
       "      <td>NaN</td>\n",
       "      <td>NaN</td>\n",
       "      <td>NaN</td>\n",
       "      <td>NaN</td>\n",
       "      <td>NaN</td>\n",
       "      <td>NaN</td>\n",
       "      <td>NaN</td>\n",
       "      <td>NaN</td>\n",
       "      <td>NaN</td>\n",
       "      <td>NaN</td>\n",
       "      <td>NaN</td>\n",
       "      <td>NaN</td>\n",
       "      <td>NaN</td>\n",
       "      <td>NaN</td>\n",
       "      <td>NaN</td>\n",
       "    </tr>\n",
       "    <tr>\n",
       "      <th>8</th>\n",
       "      <td>frozen vegetables</td>\n",
       "      <td>spaghetti</td>\n",
       "      <td>green tea</td>\n",
       "      <td>NaN</td>\n",
       "      <td>NaN</td>\n",
       "      <td>NaN</td>\n",
       "      <td>NaN</td>\n",
       "      <td>NaN</td>\n",
       "      <td>NaN</td>\n",
       "      <td>NaN</td>\n",
       "      <td>NaN</td>\n",
       "      <td>NaN</td>\n",
       "      <td>NaN</td>\n",
       "      <td>NaN</td>\n",
       "      <td>NaN</td>\n",
       "      <td>NaN</td>\n",
       "      <td>NaN</td>\n",
       "      <td>NaN</td>\n",
       "      <td>NaN</td>\n",
       "      <td>NaN</td>\n",
       "    </tr>\n",
       "    <tr>\n",
       "      <th>9</th>\n",
       "      <td>french fries</td>\n",
       "      <td>NaN</td>\n",
       "      <td>NaN</td>\n",
       "      <td>NaN</td>\n",
       "      <td>NaN</td>\n",
       "      <td>NaN</td>\n",
       "      <td>NaN</td>\n",
       "      <td>NaN</td>\n",
       "      <td>NaN</td>\n",
       "      <td>NaN</td>\n",
       "      <td>NaN</td>\n",
       "      <td>NaN</td>\n",
       "      <td>NaN</td>\n",
       "      <td>NaN</td>\n",
       "      <td>NaN</td>\n",
       "      <td>NaN</td>\n",
       "      <td>NaN</td>\n",
       "      <td>NaN</td>\n",
       "      <td>NaN</td>\n",
       "      <td>NaN</td>\n",
       "    </tr>\n",
       "  </tbody>\n",
       "</table>\n",
       "</div>"
      ],
      "text/plain": [
       "                  0             1           2                 3   \\\n",
       "0             shrimp       almonds     avocado    vegetables mix   \n",
       "1            burgers     meatballs        eggs               NaN   \n",
       "2            chutney           NaN         NaN               NaN   \n",
       "3             turkey       avocado         NaN               NaN   \n",
       "4      mineral water          milk  energy bar  whole wheat rice   \n",
       "5     low fat yogurt           NaN         NaN               NaN   \n",
       "6  whole wheat pasta  french fries         NaN               NaN   \n",
       "7               soup   light cream     shallot               NaN   \n",
       "8  frozen vegetables     spaghetti   green tea               NaN   \n",
       "9       french fries           NaN         NaN               NaN   \n",
       "\n",
       "             4                 5     6               7             8   \\\n",
       "0  green grapes  whole weat flour  yams  cottage cheese  energy drink   \n",
       "1           NaN               NaN   NaN             NaN           NaN   \n",
       "2           NaN               NaN   NaN             NaN           NaN   \n",
       "3           NaN               NaN   NaN             NaN           NaN   \n",
       "4     green tea               NaN   NaN             NaN           NaN   \n",
       "5           NaN               NaN   NaN             NaN           NaN   \n",
       "6           NaN               NaN   NaN             NaN           NaN   \n",
       "7           NaN               NaN   NaN             NaN           NaN   \n",
       "8           NaN               NaN   NaN             NaN           NaN   \n",
       "9           NaN               NaN   NaN             NaN           NaN   \n",
       "\n",
       "             9               10         11     12     13             14  \\\n",
       "0  tomato juice  low fat yogurt  green tea  honey  salad  mineral water   \n",
       "1           NaN             NaN        NaN    NaN    NaN            NaN   \n",
       "2           NaN             NaN        NaN    NaN    NaN            NaN   \n",
       "3           NaN             NaN        NaN    NaN    NaN            NaN   \n",
       "4           NaN             NaN        NaN    NaN    NaN            NaN   \n",
       "5           NaN             NaN        NaN    NaN    NaN            NaN   \n",
       "6           NaN             NaN        NaN    NaN    NaN            NaN   \n",
       "7           NaN             NaN        NaN    NaN    NaN            NaN   \n",
       "8           NaN             NaN        NaN    NaN    NaN            NaN   \n",
       "9           NaN             NaN        NaN    NaN    NaN            NaN   \n",
       "\n",
       "       15                 16               17       18         19  \n",
       "0  salmon  antioxydant juice  frozen smoothie  spinach  olive oil  \n",
       "1     NaN                NaN              NaN      NaN        NaN  \n",
       "2     NaN                NaN              NaN      NaN        NaN  \n",
       "3     NaN                NaN              NaN      NaN        NaN  \n",
       "4     NaN                NaN              NaN      NaN        NaN  \n",
       "5     NaN                NaN              NaN      NaN        NaN  \n",
       "6     NaN                NaN              NaN      NaN        NaN  \n",
       "7     NaN                NaN              NaN      NaN        NaN  \n",
       "8     NaN                NaN              NaN      NaN        NaN  \n",
       "9     NaN                NaN              NaN      NaN        NaN  "
      ]
     },
     "execution_count": 69,
     "metadata": {},
     "output_type": "execute_result"
    }
   ],
   "source": [
    "df1.head(10)"
   ]
  },
  {
   "cell_type": "code",
   "execution_count": 70,
   "metadata": {
    "collapsed": true
   },
   "outputs": [],
   "source": [
    "transactions = []"
   ]
  },
  {
   "cell_type": "code",
   "execution_count": 71,
   "metadata": {
    "collapsed": false
   },
   "outputs": [
    {
     "data": {
      "text/plain": [
       "(7501, 20)"
      ]
     },
     "execution_count": 71,
     "metadata": {},
     "output_type": "execute_result"
    }
   ],
   "source": [
    "df1.shape"
   ]
  },
  {
   "cell_type": "code",
   "execution_count": 72,
   "metadata": {
    "collapsed": false
   },
   "outputs": [],
   "source": [
    "for i in range(7501):\n",
    "    transactions.append([str(df1.iloc[i, j]) for j in range(20)])"
   ]
  },
  {
   "cell_type": "code",
   "execution_count": 85,
   "metadata": {
    "collapsed": false
   },
   "outputs": [
    {
     "data": {
      "text/plain": [
       "7501"
      ]
     },
     "execution_count": 85,
     "metadata": {},
     "output_type": "execute_result"
    }
   ],
   "source": [
    "len(transactions)"
   ]
  },
  {
   "cell_type": "code",
   "execution_count": 86,
   "metadata": {
    "collapsed": true
   },
   "outputs": [],
   "source": [
    "rules = apriori(transactions, min_support = .003, min_confidence = .2, min_lift = 3, min_length = 2)"
   ]
  },
  {
   "cell_type": "code",
   "execution_count": 87,
   "metadata": {
    "collapsed": true
   },
   "outputs": [],
   "source": [
    "results = list(rules)"
   ]
  },
  {
   "cell_type": "code",
   "execution_count": 88,
   "metadata": {
    "collapsed": false
   },
   "outputs": [
    {
     "data": {
      "text/plain": [
       "[RelationRecord(items=frozenset({'chicken', 'light cream'}), support=0.004532728969470737, ordered_statistics=[OrderedStatistic(items_base=frozenset({'light cream'}), items_add=frozenset({'chicken'}), confidence=0.29059829059829057, lift=4.84395061728395)]),\n",
       " RelationRecord(items=frozenset({'escalope', 'mushroom cream sauce'}), support=0.005732568990801226, ordered_statistics=[OrderedStatistic(items_base=frozenset({'mushroom cream sauce'}), items_add=frozenset({'escalope'}), confidence=0.3006993006993007, lift=3.790832696715049)]),\n",
       " RelationRecord(items=frozenset({'escalope', 'pasta'}), support=0.005865884548726837, ordered_statistics=[OrderedStatistic(items_base=frozenset({'pasta'}), items_add=frozenset({'escalope'}), confidence=0.3728813559322034, lift=4.700811850163794)]),\n",
       " RelationRecord(items=frozenset({'honey', 'fromage blanc'}), support=0.003332888948140248, ordered_statistics=[OrderedStatistic(items_base=frozenset({'fromage blanc'}), items_add=frozenset({'honey'}), confidence=0.2450980392156863, lift=5.164270764485569)]),\n",
       " RelationRecord(items=frozenset({'herb & pepper', 'ground beef'}), support=0.015997866951073192, ordered_statistics=[OrderedStatistic(items_base=frozenset({'herb & pepper'}), items_add=frozenset({'ground beef'}), confidence=0.3234501347708895, lift=3.2919938411349285)]),\n",
       " RelationRecord(items=frozenset({'tomato sauce', 'ground beef'}), support=0.005332622317024397, ordered_statistics=[OrderedStatistic(items_base=frozenset({'tomato sauce'}), items_add=frozenset({'ground beef'}), confidence=0.3773584905660377, lift=3.840659481324083)]),\n",
       " RelationRecord(items=frozenset({'olive oil', 'light cream'}), support=0.003199573390214638, ordered_statistics=[OrderedStatistic(items_base=frozenset({'light cream'}), items_add=frozenset({'olive oil'}), confidence=0.20512820512820515, lift=3.1147098515519573)]),\n",
       " RelationRecord(items=frozenset({'olive oil', 'whole wheat pasta'}), support=0.007998933475536596, ordered_statistics=[OrderedStatistic(items_base=frozenset({'whole wheat pasta'}), items_add=frozenset({'olive oil'}), confidence=0.2714932126696833, lift=4.122410097642296)]),\n",
       " RelationRecord(items=frozenset({'shrimp', 'pasta'}), support=0.005065991201173177, ordered_statistics=[OrderedStatistic(items_base=frozenset({'pasta'}), items_add=frozenset({'shrimp'}), confidence=0.3220338983050847, lift=4.506672147735896)]),\n",
       " RelationRecord(items=frozenset({'milk', 'avocado', 'spaghetti'}), support=0.003332888948140248, ordered_statistics=[OrderedStatistic(items_base=frozenset({'avocado', 'spaghetti'}), items_add=frozenset({'milk'}), confidence=0.41666666666666663, lift=3.215449245541838)]),\n",
       " RelationRecord(items=frozenset({'milk', 'burgers', 'cake'}), support=0.0037328356219170776, ordered_statistics=[OrderedStatistic(items_base=frozenset({'milk', 'cake'}), items_add=frozenset({'burgers'}), confidence=0.27999999999999997, lift=3.211437308868501)]),\n",
       " RelationRecord(items=frozenset({'turkey', 'burgers', 'chocolate'}), support=0.0030662578322890282, ordered_statistics=[OrderedStatistic(items_base=frozenset({'turkey', 'chocolate'}), items_add=frozenset({'burgers'}), confidence=0.27058823529411763, lift=3.1034898363014927)]),\n",
       " RelationRecord(items=frozenset({'milk', 'burgers', 'turkey'}), support=0.003199573390214638, ordered_statistics=[OrderedStatistic(items_base=frozenset({'milk', 'turkey'}), items_add=frozenset({'burgers'}), confidence=0.2823529411764706, lift=3.2384241770102533)]),\n",
       " RelationRecord(items=frozenset({'tomatoes', 'cake', 'frozen vegetables'}), support=0.0030662578322890282, ordered_statistics=[OrderedStatistic(items_base=frozenset({'cake', 'frozen vegetables'}), items_add=frozenset({'tomatoes'}), confidence=0.2987012987012987, lift=4.367560314928736), OrderedStatistic(items_base=frozenset({'tomatoes', 'cake'}), items_add=frozenset({'frozen vegetables'}), confidence=0.36507936507936506, lift=3.8300144300144296)]),\n",
       " RelationRecord(items=frozenset({'spaghetti', 'ground beef', 'cereals'}), support=0.0030662578322890282, ordered_statistics=[OrderedStatistic(items_base=frozenset({'ground beef', 'cereals'}), items_add=frozenset({'spaghetti'}), confidence=0.6764705882352942, lift=3.8853031258445188), OrderedStatistic(items_base=frozenset({'spaghetti', 'cereals'}), items_add=frozenset({'ground beef'}), confidence=0.45999999999999996, lift=4.681763907734057)]),\n",
       " RelationRecord(items=frozenset({'chicken', 'ground beef', 'milk'}), support=0.0038661511798426876, ordered_statistics=[OrderedStatistic(items_base=frozenset({'chicken', 'ground beef'}), items_add=frozenset({'milk'}), confidence=0.40845070422535207, lift=3.152046020981858)]),\n",
       " RelationRecord(items=frozenset({'chicken', 'light cream', 'nan'}), support=0.004532728969470737, ordered_statistics=[OrderedStatistic(items_base=frozenset({'light cream', 'nan'}), items_add=frozenset({'chicken'}), confidence=0.29059829059829057, lift=4.84395061728395)]),\n",
       " RelationRecord(items=frozenset({'chicken', 'olive oil', 'milk'}), support=0.0035995200639914677, ordered_statistics=[OrderedStatistic(items_base=frozenset({'chicken', 'milk'}), items_add=frozenset({'olive oil'}), confidence=0.24324324324324323, lift=3.693456614509246), OrderedStatistic(items_base=frozenset({'chicken', 'olive oil'}), items_add=frozenset({'milk'}), confidence=0.5, lift=3.858539094650206), OrderedStatistic(items_base=frozenset({'milk', 'olive oil'}), items_add=frozenset({'chicken'}), confidence=0.2109375, lift=3.51609375)]),\n",
       " RelationRecord(items=frozenset({'chicken', 'olive oil', 'spaghetti'}), support=0.0034662045060658577, ordered_statistics=[OrderedStatistic(items_base=frozenset({'chicken', 'spaghetti'}), items_add=frozenset({'olive oil'}), confidence=0.20155038759689922, lift=3.0603835169318647)]),\n",
       " RelationRecord(items=frozenset({'shrimp', 'frozen vegetables', 'chocolate'}), support=0.005332622317024397, ordered_statistics=[OrderedStatistic(items_base=frozenset({'frozen vegetables', 'chocolate'}), items_add=frozenset({'shrimp'}), confidence=0.23255813953488375, lift=3.2545123221103784), OrderedStatistic(items_base=frozenset({'shrimp', 'chocolate'}), items_add=frozenset({'frozen vegetables'}), confidence=0.29629629629629634, lift=3.1084175084175087)]),\n",
       " RelationRecord(items=frozenset({'herb & pepper', 'ground beef', 'chocolate'}), support=0.003999466737768298, ordered_statistics=[OrderedStatistic(items_base=frozenset({'herb & pepper', 'chocolate'}), items_add=frozenset({'ground beef'}), confidence=0.4411764705882354, lift=4.4901827759597746)]),\n",
       " RelationRecord(items=frozenset({'milk', 'soup', 'chocolate'}), support=0.003999466737768298, ordered_statistics=[OrderedStatistic(items_base=frozenset({'soup', 'chocolate'}), items_add=frozenset({'milk'}), confidence=0.3947368421052632, lift=3.0462150747238472)]),\n",
       " RelationRecord(items=frozenset({'cooking oil', 'ground beef', 'spaghetti'}), support=0.004799360085321957, ordered_statistics=[OrderedStatistic(items_base=frozenset({'cooking oil', 'ground beef'}), items_add=frozenset({'spaghetti'}), confidence=0.5714285714285714, lift=3.2819951870487856), OrderedStatistic(items_base=frozenset({'cooking oil', 'spaghetti'}), items_add=frozenset({'ground beef'}), confidence=0.3025210084033613, lift=3.0789824749438446)]),\n",
       " RelationRecord(items=frozenset({'herb & pepper', 'ground beef', 'eggs'}), support=0.0041327822956939075, ordered_statistics=[OrderedStatistic(items_base=frozenset({'ground beef', 'eggs'}), items_add=frozenset({'herb & pepper'}), confidence=0.2066666666666667, lift=4.178454627133872), OrderedStatistic(items_base=frozenset({'herb & pepper', 'eggs'}), items_add=frozenset({'ground beef'}), confidence=0.3297872340425532, lift=3.3564912381997174)]),\n",
       " RelationRecord(items=frozenset({'red wine', 'eggs', 'spaghetti'}), support=0.0037328356219170776, ordered_statistics=[OrderedStatistic(items_base=frozenset({'red wine', 'eggs'}), items_add=frozenset({'spaghetti'}), confidence=0.5283018867924528, lift=3.0342974370828397)]),\n",
       " RelationRecord(items=frozenset({'nan', 'escalope', 'mushroom cream sauce'}), support=0.005732568990801226, ordered_statistics=[OrderedStatistic(items_base=frozenset({'nan', 'mushroom cream sauce'}), items_add=frozenset({'escalope'}), confidence=0.3006993006993007, lift=3.790832696715049)]),\n",
       " RelationRecord(items=frozenset({'pasta', 'escalope', 'nan'}), support=0.005865884548726837, ordered_statistics=[OrderedStatistic(items_base=frozenset({'pasta', 'nan'}), items_add=frozenset({'escalope'}), confidence=0.3728813559322034, lift=4.700811850163794)]),\n",
       " RelationRecord(items=frozenset({'herb & pepper', 'ground beef', 'french fries'}), support=0.003199573390214638, ordered_statistics=[OrderedStatistic(items_base=frozenset({'ground beef', 'french fries'}), items_add=frozenset({'herb & pepper'}), confidence=0.23076923076923078, lift=4.665768194070081), OrderedStatistic(items_base=frozenset({'herb & pepper', 'french fries'}), items_add=frozenset({'ground beef'}), confidence=0.46153846153846156, lift=4.697421981004071)]),\n",
       " RelationRecord(items=frozenset({'honey', 'fromage blanc', 'nan'}), support=0.003332888948140248, ordered_statistics=[OrderedStatistic(items_base=frozenset({'fromage blanc', 'nan'}), items_add=frozenset({'honey'}), confidence=0.2450980392156863, lift=5.164270764485569)]),\n",
       " RelationRecord(items=frozenset({'tomatoes', 'frozen vegetables', 'green tea'}), support=0.003332888948140248, ordered_statistics=[OrderedStatistic(items_base=frozenset({'frozen vegetables', 'green tea'}), items_add=frozenset({'tomatoes'}), confidence=0.2314814814814815, lift=3.38468341635983)]),\n",
       " RelationRecord(items=frozenset({'ground beef', 'frozen vegetables', 'spaghetti'}), support=0.008665511265164644, ordered_statistics=[OrderedStatistic(items_base=frozenset({'frozen vegetables', 'spaghetti'}), items_add=frozenset({'ground beef'}), confidence=0.31100478468899523, lift=3.165328208890303)]),\n",
       " RelationRecord(items=frozenset({'milk', 'olive oil', 'frozen vegetables'}), support=0.004799360085321957, ordered_statistics=[OrderedStatistic(items_base=frozenset({'milk', 'frozen vegetables'}), items_add=frozenset({'olive oil'}), confidence=0.20338983050847456, lift=3.088314005352364), OrderedStatistic(items_base=frozenset({'olive oil', 'frozen vegetables'}), items_add=frozenset({'milk'}), confidence=0.4235294117647058, lift=3.2684095860566447)]),\n",
       " RelationRecord(items=frozenset({'milk', 'frozen vegetables', 'soup'}), support=0.003999466737768298, ordered_statistics=[OrderedStatistic(items_base=frozenset({'frozen vegetables', 'soup'}), items_add=frozenset({'milk'}), confidence=0.5, lift=3.858539094650206)]),\n",
       " RelationRecord(items=frozenset({'milk', 'frozen vegetables', 'tomatoes'}), support=0.0041327822956939075, ordered_statistics=[OrderedStatistic(items_base=frozenset({'milk', 'tomatoes'}), items_add=frozenset({'frozen vegetables'}), confidence=0.29523809523809524, lift=3.0973160173160172)]),\n",
       " RelationRecord(items=frozenset({'mineral water', 'shrimp', 'frozen vegetables'}), support=0.007199040127982935, ordered_statistics=[OrderedStatistic(items_base=frozenset({'mineral water', 'shrimp'}), items_add=frozenset({'frozen vegetables'}), confidence=0.30508474576271183, lift=3.200616332819722)]),\n",
       " RelationRecord(items=frozenset({'olive oil', 'frozen vegetables', 'spaghetti'}), support=0.005732568990801226, ordered_statistics=[OrderedStatistic(items_base=frozenset({'frozen vegetables', 'spaghetti'}), items_add=frozenset({'olive oil'}), confidence=0.20574162679425836, lift=3.1240241752707125)]),\n",
       " RelationRecord(items=frozenset({'shrimp', 'frozen vegetables', 'spaghetti'}), support=0.005999200106652446, ordered_statistics=[OrderedStatistic(items_base=frozenset({'frozen vegetables', 'spaghetti'}), items_add=frozenset({'shrimp'}), confidence=0.21531100478468898, lift=3.0131489680782684)]),\n",
       " RelationRecord(items=frozenset({'tomatoes', 'shrimp', 'frozen vegetables'}), support=0.003999466737768298, ordered_statistics=[OrderedStatistic(items_base=frozenset({'shrimp', 'frozen vegetables'}), items_add=frozenset({'tomatoes'}), confidence=0.24000000000000002, lift=3.5092397660818717), OrderedStatistic(items_base=frozenset({'tomatoes', 'frozen vegetables'}), items_add=frozenset({'shrimp'}), confidence=0.2479338842975207, lift=3.4696866905143704), OrderedStatistic(items_base=frozenset({'tomatoes', 'shrimp'}), items_add=frozenset({'frozen vegetables'}), confidence=0.35714285714285715, lift=3.7467532467532467)]),\n",
       " RelationRecord(items=frozenset({'tomatoes', 'frozen vegetables', 'spaghetti'}), support=0.006665777896280496, ordered_statistics=[OrderedStatistic(items_base=frozenset({'frozen vegetables', 'spaghetti'}), items_add=frozenset({'tomatoes'}), confidence=0.23923444976076558, lift=3.4980460188216425), OrderedStatistic(items_base=frozenset({'tomatoes', 'spaghetti'}), items_add=frozenset({'frozen vegetables'}), confidence=0.3184713375796179, lift=3.341053850607991)]),\n",
       " RelationRecord(items=frozenset({'grated cheese', 'ground beef', 'spaghetti'}), support=0.005332622317024397, ordered_statistics=[OrderedStatistic(items_base=frozenset({'grated cheese', 'spaghetti'}), items_add=frozenset({'ground beef'}), confidence=0.3225806451612903, lift=3.283144395325426)]),\n",
       " RelationRecord(items=frozenset({'tomatoes', 'ground beef', 'green tea'}), support=0.0030662578322890282, ordered_statistics=[OrderedStatistic(items_base=frozenset({'ground beef', 'green tea'}), items_add=frozenset({'tomatoes'}), confidence=0.2072072072072072, lift=3.0297490472929067)]),\n",
       " RelationRecord(items=frozenset({'milk', 'herb & pepper', 'ground beef'}), support=0.0035995200639914677, ordered_statistics=[OrderedStatistic(items_base=frozenset({'milk', 'herb & pepper'}), items_add=frozenset({'ground beef'}), confidence=0.3913043478260869, lift=3.9825968969382335)]),\n",
       " RelationRecord(items=frozenset({'mineral water', 'herb & pepper', 'ground beef'}), support=0.006665777896280496, ordered_statistics=[OrderedStatistic(items_base=frozenset({'mineral water', 'herb & pepper'}), items_add=frozenset({'ground beef'}), confidence=0.39062500000000006, lift=3.975682666214383)]),\n",
       " RelationRecord(items=frozenset({'herb & pepper', 'ground beef', 'nan'}), support=0.015997866951073192, ordered_statistics=[OrderedStatistic(items_base=frozenset({'herb & pepper', 'nan'}), items_add=frozenset({'ground beef'}), confidence=0.3234501347708895, lift=3.2919938411349285)]),\n",
       " RelationRecord(items=frozenset({'herb & pepper', 'ground beef', 'spaghetti'}), support=0.006399146780429276, ordered_statistics=[OrderedStatistic(items_base=frozenset({'herb & pepper', 'spaghetti'}), items_add=frozenset({'ground beef'}), confidence=0.3934426229508197, lift=4.004359721511667)]),\n",
       " RelationRecord(items=frozenset({'milk', 'olive oil', 'ground beef'}), support=0.004932675643247567, ordered_statistics=[OrderedStatistic(items_base=frozenset({'milk', 'ground beef'}), items_add=frozenset({'olive oil'}), confidence=0.22424242424242427, lift=3.40494417862839)]),\n",
       " RelationRecord(items=frozenset({'milk', 'ground beef', 'soup'}), support=0.003999466737768298, ordered_statistics=[OrderedStatistic(items_base=frozenset({'ground beef', 'soup'}), items_add=frozenset({'milk'}), confidence=0.4109589041095891, lift=3.1714019956029094)]),\n",
       " RelationRecord(items=frozenset({'tomato sauce', 'ground beef', 'nan'}), support=0.005332622317024397, ordered_statistics=[OrderedStatistic(items_base=frozenset({'tomato sauce', 'nan'}), items_add=frozenset({'ground beef'}), confidence=0.3773584905660377, lift=3.840659481324083)]),\n",
       " RelationRecord(items=frozenset({'ground beef', 'pepper', 'spaghetti'}), support=0.003332888948140248, ordered_statistics=[OrderedStatistic(items_base=frozenset({'spaghetti', 'pepper'}), items_add=frozenset({'ground beef'}), confidence=0.33783783783783783, lift=3.4384282518610876)]),\n",
       " RelationRecord(items=frozenset({'shrimp', 'ground beef', 'spaghetti'}), support=0.005999200106652446, ordered_statistics=[OrderedStatistic(items_base=frozenset({'shrimp', 'ground beef'}), items_add=frozenset({'spaghetti'}), confidence=0.5232558139534884, lift=3.005315360233627)]),\n",
       " RelationRecord(items=frozenset({'tomato sauce', 'ground beef', 'spaghetti'}), support=0.0030662578322890282, ordered_statistics=[OrderedStatistic(items_base=frozenset({'tomato sauce', 'ground beef'}), items_add=frozenset({'spaghetti'}), confidence=0.5750000000000001, lift=3.3025076569678413), OrderedStatistic(items_base=frozenset({'tomato sauce', 'spaghetti'}), items_add=frozenset({'ground beef'}), confidence=0.4893617021276596, lift=4.980599901844742)]),\n",
       " RelationRecord(items=frozenset({'olive oil', 'light cream', 'nan'}), support=0.003199573390214638, ordered_statistics=[OrderedStatistic(items_base=frozenset({'light cream', 'nan'}), items_add=frozenset({'olive oil'}), confidence=0.20512820512820515, lift=3.1147098515519573)]),\n",
       " RelationRecord(items=frozenset({'milk', 'olive oil', 'shrimp'}), support=0.003199573390214638, ordered_statistics=[OrderedStatistic(items_base=frozenset({'olive oil', 'shrimp'}), items_add=frozenset({'milk'}), confidence=0.3934426229508197, lift=3.0362274843149164)]),\n",
       " RelationRecord(items=frozenset({'milk', 'olive oil', 'soup'}), support=0.0035995200639914677, ordered_statistics=[OrderedStatistic(items_base=frozenset({'milk', 'olive oil'}), items_add=frozenset({'soup'}), confidence=0.2109375, lift=4.174781497361478), OrderedStatistic(items_base=frozenset({'milk', 'soup'}), items_add=frozenset({'olive oil'}), confidence=0.23684210526315788, lift=3.5962603878116344), OrderedStatistic(items_base=frozenset({'olive oil', 'soup'}), items_add=frozenset({'milk'}), confidence=0.4029850746268656, lift=3.1098673300165833)]),\n",
       " RelationRecord(items=frozenset({'milk', 'olive oil', 'spaghetti'}), support=0.007199040127982935, ordered_statistics=[OrderedStatistic(items_base=frozenset({'milk', 'spaghetti'}), items_add=frozenset({'olive oil'}), confidence=0.20300751879699247, lift=3.0825089038385434)]),\n",
       " RelationRecord(items=frozenset({'milk', 'soup', 'tomatoes'}), support=0.0030662578322890282, ordered_statistics=[OrderedStatistic(items_base=frozenset({'milk', 'tomatoes'}), items_add=frozenset({'soup'}), confidence=0.21904761904761905, lift=4.335293378565146), OrderedStatistic(items_base=frozenset({'tomatoes', 'soup'}), items_add=frozenset({'milk'}), confidence=0.44230769230769235, lift=3.4133230452674903)]),\n",
       " RelationRecord(items=frozenset({'milk', 'spaghetti', 'whole wheat pasta'}), support=0.003999466737768298, ordered_statistics=[OrderedStatistic(items_base=frozenset({'spaghetti', 'whole wheat pasta'}), items_add=frozenset({'milk'}), confidence=0.4545454545454546, lift=3.5077628133183696)]),\n",
       " RelationRecord(items=frozenset({'mineral water', 'olive oil', 'soup'}), support=0.005199306759098787, ordered_statistics=[OrderedStatistic(items_base=frozenset({'mineral water', 'soup'}), items_add=frozenset({'olive oil'}), confidence=0.22543352601156072, lift=3.4230301186492245)]),\n",
       " RelationRecord(items=frozenset({'mineral water', 'olive oil', 'whole wheat pasta'}), support=0.0038661511798426876, ordered_statistics=[OrderedStatistic(items_base=frozenset({'mineral water', 'whole wheat pasta'}), items_add=frozenset({'olive oil'}), confidence=0.4027777777777778, lift=6.115862573099416)]),\n",
       " RelationRecord(items=frozenset({'olive oil', 'whole wheat pasta', 'nan'}), support=0.007998933475536596, ordered_statistics=[OrderedStatistic(items_base=frozenset({'whole wheat pasta', 'nan'}), items_add=frozenset({'olive oil'}), confidence=0.2714932126696833, lift=4.122410097642296)]),\n",
       " RelationRecord(items=frozenset({'pasta', 'shrimp', 'nan'}), support=0.005065991201173177, ordered_statistics=[OrderedStatistic(items_base=frozenset({'pasta', 'nan'}), items_add=frozenset({'shrimp'}), confidence=0.3220338983050847, lift=4.506672147735896)]),\n",
       " RelationRecord(items=frozenset({'olive oil', 'spaghetti', 'pancakes'}), support=0.005065991201173177, ordered_statistics=[OrderedStatistic(items_base=frozenset({'spaghetti', 'pancakes'}), items_add=frozenset({'olive oil'}), confidence=0.20105820105820105, lift=3.0529100529100526)]),\n",
       " RelationRecord(items=frozenset({'tomatoes', 'olive oil', 'spaghetti'}), support=0.004399413411545127, ordered_statistics=[OrderedStatistic(items_base=frozenset({'tomatoes', 'olive oil'}), items_add=frozenset({'spaghetti'}), confidence=0.6111111111111112, lift=3.5099115194827295), OrderedStatistic(items_base=frozenset({'tomatoes', 'spaghetti'}), items_add=frozenset({'olive oil'}), confidence=0.21019108280254778, lift=3.19158565202816)]),\n",
       " RelationRecord(items=frozenset({'tomatoes', 'spaghetti', 'whole wheat rice'}), support=0.0030662578322890282, ordered_statistics=[OrderedStatistic(items_base=frozenset({'spaghetti', 'whole wheat rice'}), items_add=frozenset({'tomatoes'}), confidence=0.2169811320754717, lift=3.1726617382029496)]),\n",
       " RelationRecord(items=frozenset({'milk', 'avocado', 'spaghetti', 'nan'}), support=0.003332888948140248, ordered_statistics=[OrderedStatistic(items_base=frozenset({'avocado', 'spaghetti', 'nan'}), items_add=frozenset({'milk'}), confidence=0.41666666666666663, lift=3.215449245541838)]),\n",
       " RelationRecord(items=frozenset({'milk', 'burgers', 'cake', 'nan'}), support=0.0037328356219170776, ordered_statistics=[OrderedStatistic(items_base=frozenset({'milk', 'cake', 'nan'}), items_add=frozenset({'burgers'}), confidence=0.27999999999999997, lift=3.211437308868501)]),\n",
       " RelationRecord(items=frozenset({'turkey', 'burgers', 'nan', 'chocolate'}), support=0.0030662578322890282, ordered_statistics=[OrderedStatistic(items_base=frozenset({'turkey', 'nan', 'chocolate'}), items_add=frozenset({'burgers'}), confidence=0.27058823529411763, lift=3.1034898363014927)]),\n",
       " RelationRecord(items=frozenset({'milk', 'turkey', 'burgers', 'nan'}), support=0.003199573390214638, ordered_statistics=[OrderedStatistic(items_base=frozenset({'milk', 'turkey', 'nan'}), items_add=frozenset({'burgers'}), confidence=0.2823529411764706, lift=3.2384241770102533)]),\n",
       " RelationRecord(items=frozenset({'nan', 'cake', 'tomatoes', 'frozen vegetables'}), support=0.0030662578322890282, ordered_statistics=[OrderedStatistic(items_base=frozenset({'nan', 'cake', 'frozen vegetables'}), items_add=frozenset({'tomatoes'}), confidence=0.2987012987012987, lift=4.367560314928736), OrderedStatistic(items_base=frozenset({'tomatoes', 'cake', 'nan'}), items_add=frozenset({'frozen vegetables'}), confidence=0.36507936507936506, lift=3.8300144300144296)]),\n",
       " RelationRecord(items=frozenset({'spaghetti', 'ground beef', 'cereals', 'nan'}), support=0.0030662578322890282, ordered_statistics=[OrderedStatistic(items_base=frozenset({'ground beef', 'cereals', 'nan'}), items_add=frozenset({'spaghetti'}), confidence=0.6764705882352942, lift=3.8853031258445188), OrderedStatistic(items_base=frozenset({'spaghetti', 'cereals', 'nan'}), items_add=frozenset({'ground beef'}), confidence=0.45999999999999996, lift=4.681763907734057)]),\n",
       " RelationRecord(items=frozenset({'chicken', 'ground beef', 'milk', 'nan'}), support=0.0038661511798426876, ordered_statistics=[OrderedStatistic(items_base=frozenset({'chicken', 'ground beef', 'nan'}), items_add=frozenset({'milk'}), confidence=0.40845070422535207, lift=3.152046020981858)]),\n",
       " RelationRecord(items=frozenset({'chicken', 'olive oil', 'milk', 'nan'}), support=0.0035995200639914677, ordered_statistics=[OrderedStatistic(items_base=frozenset({'chicken', 'milk', 'nan'}), items_add=frozenset({'olive oil'}), confidence=0.24324324324324323, lift=3.693456614509246), OrderedStatistic(items_base=frozenset({'chicken', 'olive oil', 'nan'}), items_add=frozenset({'milk'}), confidence=0.5, lift=3.858539094650206), OrderedStatistic(items_base=frozenset({'milk', 'olive oil', 'nan'}), items_add=frozenset({'chicken'}), confidence=0.2109375, lift=3.51609375)]),\n",
       " RelationRecord(items=frozenset({'chicken', 'olive oil', 'spaghetti', 'nan'}), support=0.0034662045060658577, ordered_statistics=[OrderedStatistic(items_base=frozenset({'chicken', 'spaghetti', 'nan'}), items_add=frozenset({'olive oil'}), confidence=0.20155038759689922, lift=3.0603835169318647)]),\n",
       " RelationRecord(items=frozenset({'mineral water', 'ground beef', 'eggs', 'chocolate'}), support=0.003999466737768298, ordered_statistics=[OrderedStatistic(items_base=frozenset({'mineral water', 'eggs', 'chocolate'}), items_add=frozenset({'ground beef'}), confidence=0.29702970297029707, lift=3.023093354111531)]),\n",
       " RelationRecord(items=frozenset({'mineral water', 'ground beef', 'frozen vegetables', 'chocolate'}), support=0.003332888948140248, ordered_statistics=[OrderedStatistic(items_base=frozenset({'mineral water', 'frozen vegetables', 'chocolate'}), items_add=frozenset({'ground beef'}), confidence=0.34246575342465757, lift=3.4855300087358976), OrderedStatistic(items_base=frozenset({'mineral water', 'ground beef', 'chocolate'}), items_add=frozenset({'frozen vegetables'}), confidence=0.30487804878048785, lift=3.1984478935698455)]),\n",
       " RelationRecord(items=frozenset({'ground beef', 'frozen vegetables', 'spaghetti', 'chocolate'}), support=0.0030662578322890282, ordered_statistics=[OrderedStatistic(items_base=frozenset({'ground beef', 'frozen vegetables', 'chocolate'}), items_add=frozenset({'spaghetti'}), confidence=0.5348837209302326, lift=3.0721001460165964), OrderedStatistic(items_base=frozenset({'frozen vegetables', 'spaghetti', 'chocolate'}), items_add=frozenset({'ground beef'}), confidence=0.3898305084745763, lift=3.967596531978015), OrderedStatistic(items_base=frozenset({'ground beef', 'spaghetti', 'chocolate'}), items_add=frozenset({'frozen vegetables'}), confidence=0.33333333333333337, lift=3.4969696969696975)]),\n",
       " RelationRecord(items=frozenset({'milk', 'mineral water', 'frozen vegetables', 'chocolate'}), support=0.003999466737768298, ordered_statistics=[OrderedStatistic(items_base=frozenset({'mineral water', 'frozen vegetables', 'chocolate'}), items_add=frozenset({'milk'}), confidence=0.4109589041095891, lift=3.1714019956029094)]),\n",
       " RelationRecord(items=frozenset({'milk', 'frozen vegetables', 'spaghetti', 'chocolate'}), support=0.0034662045060658577, ordered_statistics=[OrderedStatistic(items_base=frozenset({'frozen vegetables', 'spaghetti', 'chocolate'}), items_add=frozenset({'milk'}), confidence=0.44067796610169485, lift=3.4007463207086555), OrderedStatistic(items_base=frozenset({'milk', 'spaghetti', 'chocolate'}), items_add=frozenset({'frozen vegetables'}), confidence=0.3170731707317073, lift=3.3263858093126384)]),\n",
       " RelationRecord(items=frozenset({'mineral water', 'shrimp', 'frozen vegetables', 'chocolate'}), support=0.003199573390214638, ordered_statistics=[OrderedStatistic(items_base=frozenset({'mineral water', 'frozen vegetables', 'chocolate'}), items_add=frozenset({'shrimp'}), confidence=0.32876712328767127, lift=4.600899611531385), OrderedStatistic(items_base=frozenset({'mineral water', 'shrimp', 'chocolate'}), items_add=frozenset({'frozen vegetables'}), confidence=0.4210526315789474, lift=4.417224880382776)]),\n",
       " RelationRecord(items=frozenset({'nan', 'shrimp', 'frozen vegetables', 'chocolate'}), support=0.005332622317024397, ordered_statistics=[OrderedStatistic(items_base=frozenset({'nan', 'frozen vegetables', 'chocolate'}), items_add=frozenset({'shrimp'}), confidence=0.23255813953488375, lift=3.2545123221103784), OrderedStatistic(items_base=frozenset({'shrimp', 'nan', 'chocolate'}), items_add=frozenset({'frozen vegetables'}), confidence=0.29629629629629634, lift=3.1084175084175087)]),\n",
       " RelationRecord(items=frozenset({'nan', 'herb & pepper', 'ground beef', 'chocolate'}), support=0.003999466737768298, ordered_statistics=[OrderedStatistic(items_base=frozenset({'herb & pepper', 'nan', 'chocolate'}), items_add=frozenset({'ground beef'}), confidence=0.4411764705882354, lift=4.4901827759597746)]),\n",
       " RelationRecord(items=frozenset({'milk', 'nan', 'soup', 'chocolate'}), support=0.003999466737768298, ordered_statistics=[OrderedStatistic(items_base=frozenset({'nan', 'soup', 'chocolate'}), items_add=frozenset({'milk'}), confidence=0.3947368421052632, lift=3.0462150747238472)]),\n",
       " RelationRecord(items=frozenset({'mineral water', 'olive oil', 'spaghetti', 'chocolate'}), support=0.0038661511798426876, ordered_statistics=[OrderedStatistic(items_base=frozenset({'mineral water', 'spaghetti', 'chocolate'}), items_add=frozenset({'olive oil'}), confidence=0.2436974789915966, lift=3.700353825740822)]),\n",
       " RelationRecord(items=frozenset({'mineral water', 'shrimp', 'spaghetti', 'chocolate'}), support=0.0034662045060658577, ordered_statistics=[OrderedStatistic(items_base=frozenset({'mineral water', 'spaghetti', 'chocolate'}), items_add=frozenset({'shrimp'}), confidence=0.21848739495798317, lift=3.0576006522011783)]),\n",
       " RelationRecord(items=frozenset({'cooking oil', 'ground beef', 'spaghetti', 'nan'}), support=0.004799360085321957, ordered_statistics=[OrderedStatistic(items_base=frozenset({'cooking oil', 'ground beef', 'nan'}), items_add=frozenset({'spaghetti'}), confidence=0.5714285714285714, lift=3.2819951870487856), OrderedStatistic(items_base=frozenset({'cooking oil', 'spaghetti', 'nan'}), items_add=frozenset({'ground beef'}), confidence=0.3025210084033613, lift=3.0789824749438446)]),\n",
       " RelationRecord(items=frozenset({'milk', 'mineral water', 'eggs', 'frozen vegetables'}), support=0.0037328356219170776, ordered_statistics=[OrderedStatistic(items_base=frozenset({'mineral water', 'eggs', 'frozen vegetables'}), items_add=frozenset({'milk'}), confidence=0.411764705882353, lift=3.177620430888405)]),\n",
       " RelationRecord(items=frozenset({'herb & pepper', 'ground beef', 'eggs', 'nan'}), support=0.0041327822956939075, ordered_statistics=[OrderedStatistic(items_base=frozenset({'ground beef', 'eggs', 'nan'}), items_add=frozenset({'herb & pepper'}), confidence=0.2066666666666667, lift=4.178454627133872), OrderedStatistic(items_base=frozenset({'herb & pepper', 'eggs', 'nan'}), items_add=frozenset({'ground beef'}), confidence=0.3297872340425532, lift=3.3564912381997174)]),\n",
       " RelationRecord(items=frozenset({'red wine', 'eggs', 'spaghetti', 'nan'}), support=0.0037328356219170776, ordered_statistics=[OrderedStatistic(items_base=frozenset({'red wine', 'eggs', 'nan'}), items_add=frozenset({'spaghetti'}), confidence=0.5283018867924528, lift=3.0342974370828397)]),\n",
       " RelationRecord(items=frozenset({'herb & pepper', 'ground beef', 'french fries', 'nan'}), support=0.003199573390214638, ordered_statistics=[OrderedStatistic(items_base=frozenset({'ground beef', 'french fries', 'nan'}), items_add=frozenset({'herb & pepper'}), confidence=0.23076923076923078, lift=4.665768194070081), OrderedStatistic(items_base=frozenset({'herb & pepper', 'french fries', 'nan'}), items_add=frozenset({'ground beef'}), confidence=0.46153846153846156, lift=4.697421981004071)]),\n",
       " RelationRecord(items=frozenset({'milk', 'mineral water', 'frozen smoothie', 'spaghetti'}), support=0.003199573390214638, ordered_statistics=[OrderedStatistic(items_base=frozenset({'mineral water', 'frozen smoothie', 'spaghetti'}), items_add=frozenset({'milk'}), confidence=0.4705882352941177, lift=3.631566206729606), OrderedStatistic(items_base=frozenset({'milk', 'mineral water', 'spaghetti'}), items_add=frozenset({'frozen smoothie'}), confidence=0.2033898305084746, lift=3.211846565566459)]),\n",
       " RelationRecord(items=frozenset({'nan', 'frozen vegetables', 'tomatoes', 'green tea'}), support=0.003332888948140248, ordered_statistics=[OrderedStatistic(items_base=frozenset({'nan', 'frozen vegetables', 'green tea'}), items_add=frozenset({'tomatoes'}), confidence=0.2314814814814815, lift=3.38468341635983)]),\n",
       " RelationRecord(items=frozenset({'milk', 'mineral water', 'ground beef', 'frozen vegetables'}), support=0.0037328356219170776, ordered_statistics=[OrderedStatistic(items_base=frozenset({'mineral water', 'ground beef', 'frozen vegetables'}), items_add=frozenset({'milk'}), confidence=0.40579710144927533, lift=3.1315679608755294), OrderedStatistic(items_base=frozenset({'milk', 'mineral water', 'frozen vegetables'}), items_add=frozenset({'ground beef'}), confidence=0.3373493975903614, lift=3.4334570302921317), OrderedStatistic(items_base=frozenset({'milk', 'mineral water', 'ground beef'}), items_add=frozenset({'frozen vegetables'}), confidence=0.3373493975903614, lift=3.539101861993428)]),\n",
       " RelationRecord(items=frozenset({'milk', 'ground beef', 'frozen vegetables', 'spaghetti'}), support=0.0030662578322890282, ordered_statistics=[OrderedStatistic(items_base=frozenset({'milk', 'ground beef', 'frozen vegetables'}), items_add=frozenset({'spaghetti'}), confidence=0.5348837209302326, lift=3.0721001460165964), OrderedStatistic(items_base=frozenset({'milk', 'frozen vegetables', 'spaghetti'}), items_add=frozenset({'ground beef'}), confidence=0.3709677419354839, lift=3.7756160546242397), OrderedStatistic(items_base=frozenset({'milk', 'ground beef', 'spaghetti'}), items_add=frozenset({'frozen vegetables'}), confidence=0.3150684931506849, lift=3.305354919053549)]),\n",
       " RelationRecord(items=frozenset({'mineral water', 'ground beef', 'frozen vegetables', 'spaghetti'}), support=0.004399413411545127, ordered_statistics=[OrderedStatistic(items_base=frozenset({'mineral water', 'frozen vegetables', 'spaghetti'}), items_add=frozenset({'ground beef'}), confidence=0.3666666666666667, lift=3.7318407960199007)]),\n",
       " RelationRecord(items=frozenset({'ground beef', 'frozen vegetables', 'spaghetti', 'nan'}), support=0.008665511265164644, ordered_statistics=[OrderedStatistic(items_base=frozenset({'frozen vegetables', 'spaghetti', 'nan'}), items_add=frozenset({'ground beef'}), confidence=0.31100478468899523, lift=3.165328208890303)]),\n",
       " RelationRecord(items=frozenset({'milk', 'mineral water', 'frozen vegetables', 'olive oil'}), support=0.003332888948140248, ordered_statistics=[OrderedStatistic(items_base=frozenset({'milk', 'mineral water', 'frozen vegetables'}), items_add=frozenset({'olive oil'}), confidence=0.30120481927710846, lift=4.573557387444516), OrderedStatistic(items_base=frozenset({'mineral water', 'olive oil', 'frozen vegetables'}), items_add=frozenset({'milk'}), confidence=0.5102040816326531, lift=3.937284790459394), OrderedStatistic(items_base=frozenset({'milk', 'olive oil', 'mineral water'}), items_add=frozenset({'frozen vegetables'}), confidence=0.39062500000000006, lift=4.098011363636364)]),\n",
       " RelationRecord(items=frozenset({'milk', 'mineral water', 'frozen vegetables', 'soup'}), support=0.0030662578322890282, ordered_statistics=[OrderedStatistic(items_base=frozenset({'milk', 'mineral water', 'frozen vegetables'}), items_add=frozenset({'soup'}), confidence=0.27710843373493976, lift=5.484407286136631), OrderedStatistic(items_base=frozenset({'milk', 'frozen vegetables', 'soup'}), items_add=frozenset({'mineral water'}), confidence=0.7666666666666666, lift=3.21631245339299), OrderedStatistic(items_base=frozenset({'mineral water', 'frozen vegetables', 'soup'}), items_add=frozenset({'milk'}), confidence=0.6052631578947368, lift=4.670863114576565), OrderedStatistic(items_base=frozenset({'milk', 'mineral water', 'soup'}), items_add=frozenset({'frozen vegetables'}), confidence=0.35937500000000006, lift=3.7701704545454553)]),\n",
       " RelationRecord(items=frozenset({'milk', 'mineral water', 'frozen vegetables', 'spaghetti'}), support=0.004532728969470737, ordered_statistics=[OrderedStatistic(items_base=frozenset({'milk', 'mineral water', 'spaghetti'}), items_add=frozenset({'frozen vegetables'}), confidence=0.28813559322033894, lift=3.0228043143297376)]),\n",
       " RelationRecord(items=frozenset({'milk', 'olive oil', 'frozen vegetables', 'nan'}), support=0.004799360085321957, ordered_statistics=[OrderedStatistic(items_base=frozenset({'milk', 'frozen vegetables', 'nan'}), items_add=frozenset({'olive oil'}), confidence=0.20338983050847456, lift=3.088314005352364), OrderedStatistic(items_base=frozenset({'olive oil', 'frozen vegetables', 'nan'}), items_add=frozenset({'milk'}), confidence=0.4235294117647058, lift=3.2684095860566447)]),\n",
       " RelationRecord(items=frozenset({'milk', 'frozen vegetables', 'soup', 'nan'}), support=0.003999466737768298, ordered_statistics=[OrderedStatistic(items_base=frozenset({'frozen vegetables', 'soup', 'nan'}), items_add=frozenset({'milk'}), confidence=0.5, lift=3.858539094650206)]),\n",
       " RelationRecord(items=frozenset({'milk', 'frozen vegetables', 'tomatoes', 'nan'}), support=0.0041327822956939075, ordered_statistics=[OrderedStatistic(items_base=frozenset({'milk', 'tomatoes', 'nan'}), items_add=frozenset({'frozen vegetables'}), confidence=0.29523809523809524, lift=3.0973160173160172)]),\n",
       " RelationRecord(items=frozenset({'mineral water', 'shrimp', 'frozen vegetables', 'nan'}), support=0.007199040127982935, ordered_statistics=[OrderedStatistic(items_base=frozenset({'mineral water', 'shrimp', 'nan'}), items_add=frozenset({'frozen vegetables'}), confidence=0.3068181818181818, lift=3.218801652892562)]),\n",
       " RelationRecord(items=frozenset({'mineral water', 'shrimp', 'frozen vegetables', 'spaghetti'}), support=0.003332888948140248, ordered_statistics=[OrderedStatistic(items_base=frozenset({'mineral water', 'frozen vegetables', 'spaghetti'}), items_add=frozenset({'shrimp'}), confidence=0.2777777777777778, lift=3.8873341625207294), OrderedStatistic(items_base=frozenset({'mineral water', 'shrimp', 'spaghetti'}), items_add=frozenset({'frozen vegetables'}), confidence=0.39062500000000006, lift=4.098011363636364)]),\n",
       " RelationRecord(items=frozenset({'mineral water', 'frozen vegetables', 'spaghetti', 'tomatoes'}), support=0.0030662578322890282, ordered_statistics=[OrderedStatistic(items_base=frozenset({'mineral water', 'frozen vegetables', 'spaghetti'}), items_add=frozenset({'tomatoes'}), confidence=0.2555555555555556, lift=3.7366904916612524), OrderedStatistic(items_base=frozenset({'mineral water', 'frozen vegetables', 'tomatoes'}), items_add=frozenset({'spaghetti'}), confidence=0.5227272727272727, lift=3.0022796881525826), OrderedStatistic(items_base=frozenset({'mineral water', 'spaghetti', 'tomatoes'}), items_add=frozenset({'frozen vegetables'}), confidence=0.32857142857142857, lift=3.447012987012987)]),\n",
       " RelationRecord(items=frozenset({'olive oil', 'frozen vegetables', 'spaghetti', 'nan'}), support=0.005732568990801226, ordered_statistics=[OrderedStatistic(items_base=frozenset({'frozen vegetables', 'spaghetti', 'nan'}), items_add=frozenset({'olive oil'}), confidence=0.20574162679425836, lift=3.1240241752707125)]),\n",
       " RelationRecord(items=frozenset({'shrimp', 'frozen vegetables', 'spaghetti', 'nan'}), support=0.005999200106652446, ordered_statistics=[OrderedStatistic(items_base=frozenset({'frozen vegetables', 'spaghetti', 'nan'}), items_add=frozenset({'shrimp'}), confidence=0.21531100478468898, lift=3.0131489680782684)]),\n",
       " RelationRecord(items=frozenset({'tomatoes', 'shrimp', 'frozen vegetables', 'nan'}), support=0.003999466737768298, ordered_statistics=[OrderedStatistic(items_base=frozenset({'shrimp', 'frozen vegetables', 'nan'}), items_add=frozenset({'tomatoes'}), confidence=0.24000000000000002, lift=3.5092397660818717), OrderedStatistic(items_base=frozenset({'tomatoes', 'frozen vegetables', 'nan'}), items_add=frozenset({'shrimp'}), confidence=0.2479338842975207, lift=3.4696866905143704), OrderedStatistic(items_base=frozenset({'tomatoes', 'shrimp', 'nan'}), items_add=frozenset({'frozen vegetables'}), confidence=0.35714285714285715, lift=3.7467532467532467)]),\n",
       " RelationRecord(items=frozenset({'tomatoes', 'frozen vegetables', 'spaghetti', 'nan'}), support=0.006665777896280496, ordered_statistics=[OrderedStatistic(items_base=frozenset({'frozen vegetables', 'spaghetti', 'nan'}), items_add=frozenset({'tomatoes'}), confidence=0.23923444976076558, lift=3.4980460188216425), OrderedStatistic(items_base=frozenset({'tomatoes', 'spaghetti', 'nan'}), items_add=frozenset({'frozen vegetables'}), confidence=0.3184713375796179, lift=3.341053850607991)]),\n",
       " RelationRecord(items=frozenset({'grated cheese', 'ground beef', 'spaghetti', 'nan'}), support=0.005332622317024397, ordered_statistics=[OrderedStatistic(items_base=frozenset({'grated cheese', 'spaghetti', 'nan'}), items_add=frozenset({'ground beef'}), confidence=0.3225806451612903, lift=3.283144395325426)]),\n",
       " RelationRecord(items=frozenset({'nan', 'ground beef', 'tomatoes', 'green tea'}), support=0.0030662578322890282, ordered_statistics=[OrderedStatistic(items_base=frozenset({'nan', 'ground beef', 'green tea'}), items_add=frozenset({'tomatoes'}), confidence=0.2072072072072072, lift=3.0297490472929067)]),\n",
       " RelationRecord(items=frozenset({'milk', 'herb & pepper', 'ground beef', 'nan'}), support=0.0035995200639914677, ordered_statistics=[OrderedStatistic(items_base=frozenset({'milk', 'herb & pepper', 'nan'}), items_add=frozenset({'ground beef'}), confidence=0.3913043478260869, lift=3.9825968969382335)]),\n",
       " RelationRecord(items=frozenset({'mineral water', 'herb & pepper', 'ground beef', 'nan'}), support=0.006665777896280496, ordered_statistics=[OrderedStatistic(items_base=frozenset({'mineral water', 'herb & pepper', 'nan'}), items_add=frozenset({'ground beef'}), confidence=0.39062500000000006, lift=3.975682666214383)]),\n",
       " RelationRecord(items=frozenset({'herb & pepper', 'ground beef', 'spaghetti', 'nan'}), support=0.006399146780429276, ordered_statistics=[OrderedStatistic(items_base=frozenset({'herb & pepper', 'spaghetti', 'nan'}), items_add=frozenset({'ground beef'}), confidence=0.3934426229508197, lift=4.004359721511667)]),\n",
       " RelationRecord(items=frozenset({'milk', 'olive oil', 'ground beef', 'nan'}), support=0.004932675643247567, ordered_statistics=[OrderedStatistic(items_base=frozenset({'milk', 'ground beef', 'nan'}), items_add=frozenset({'olive oil'}), confidence=0.22424242424242427, lift=3.40494417862839)]),\n",
       " RelationRecord(items=frozenset({'milk', 'ground beef', 'soup', 'nan'}), support=0.003999466737768298, ordered_statistics=[OrderedStatistic(items_base=frozenset({'ground beef', 'soup', 'nan'}), items_add=frozenset({'milk'}), confidence=0.4109589041095891, lift=3.1714019956029094)]),\n",
       " RelationRecord(items=frozenset({'mineral water', 'olive oil', 'ground beef', 'spaghetti'}), support=0.0030662578322890282, ordered_statistics=[OrderedStatistic(items_base=frozenset({'mineral water', 'olive oil', 'spaghetti'}), items_add=frozenset({'ground beef'}), confidence=0.2987012987012987, lift=3.0401064335935435)]),\n",
       " RelationRecord(items=frozenset({'mineral water', 'ground beef', 'spaghetti', 'tomatoes'}), support=0.0030662578322890282, ordered_statistics=[OrderedStatistic(items_base=frozenset({'mineral water', 'ground beef', 'tomatoes'}), items_add=frozenset({'spaghetti'}), confidence=0.5609756097560976, lift=3.221958689724723), OrderedStatistic(items_base=frozenset({'mineral water', 'spaghetti', 'tomatoes'}), items_add=frozenset({'ground beef'}), confidence=0.32857142857142857, lift=3.344117076952898)]),\n",
       " RelationRecord(items=frozenset({'ground beef', 'pepper', 'spaghetti', 'nan'}), support=0.003332888948140248, ordered_statistics=[OrderedStatistic(items_base=frozenset({'spaghetti', 'pepper', 'nan'}), items_add=frozenset({'ground beef'}), confidence=0.33783783783783783, lift=3.4384282518610876)]),\n",
       " RelationRecord(items=frozenset({'shrimp', 'ground beef', 'spaghetti', 'nan'}), support=0.005999200106652446, ordered_statistics=[OrderedStatistic(items_base=frozenset({'shrimp', 'ground beef', 'nan'}), items_add=frozenset({'spaghetti'}), confidence=0.5232558139534884, lift=3.005315360233627)]),\n",
       " RelationRecord(items=frozenset({'tomato sauce', 'ground beef', 'spaghetti', 'nan'}), support=0.0030662578322890282, ordered_statistics=[OrderedStatistic(items_base=frozenset({'tomato sauce', 'ground beef', 'nan'}), items_add=frozenset({'spaghetti'}), confidence=0.5750000000000001, lift=3.3025076569678413), OrderedStatistic(items_base=frozenset({'tomato sauce', 'spaghetti', 'nan'}), items_add=frozenset({'ground beef'}), confidence=0.4893617021276596, lift=4.980599901844742)]),\n",
       " RelationRecord(items=frozenset({'milk', 'olive oil', 'mineral water', 'spaghetti'}), support=0.003332888948140248, ordered_statistics=[OrderedStatistic(items_base=frozenset({'milk', 'mineral water', 'spaghetti'}), items_add=frozenset({'olive oil'}), confidence=0.211864406779661, lift=3.216993755575379)]),\n",
       " RelationRecord(items=frozenset({'milk', 'mineral water', 'spaghetti', 'tomatoes'}), support=0.003332888948140248, ordered_statistics=[OrderedStatistic(items_base=frozenset({'milk', 'mineral water', 'spaghetti'}), items_add=frozenset({'tomatoes'}), confidence=0.211864406779661, lift=3.0978458387022165)]),\n",
       " RelationRecord(items=frozenset({'milk', 'olive oil', 'shrimp', 'nan'}), support=0.003199573390214638, ordered_statistics=[OrderedStatistic(items_base=frozenset({'olive oil', 'shrimp', 'nan'}), items_add=frozenset({'milk'}), confidence=0.39999999999999997, lift=3.0868312757201646)]),\n",
       " RelationRecord(items=frozenset({'milk', 'olive oil', 'soup', 'nan'}), support=0.0035995200639914677, ordered_statistics=[OrderedStatistic(items_base=frozenset({'milk', 'olive oil', 'nan'}), items_add=frozenset({'soup'}), confidence=0.2109375, lift=4.174781497361478), OrderedStatistic(items_base=frozenset({'milk', 'soup', 'nan'}), items_add=frozenset({'olive oil'}), confidence=0.23684210526315788, lift=3.5962603878116344), OrderedStatistic(items_base=frozenset({'olive oil', 'soup', 'nan'}), items_add=frozenset({'milk'}), confidence=0.4029850746268656, lift=3.1098673300165833)]),\n",
       " RelationRecord(items=frozenset({'milk', 'olive oil', 'spaghetti', 'nan'}), support=0.007199040127982935, ordered_statistics=[OrderedStatistic(items_base=frozenset({'milk', 'spaghetti', 'nan'}), items_add=frozenset({'olive oil'}), confidence=0.20300751879699247, lift=3.0825089038385434)]),\n",
       " RelationRecord(items=frozenset({'milk', 'tomatoes', 'soup', 'nan'}), support=0.0030662578322890282, ordered_statistics=[OrderedStatistic(items_base=frozenset({'milk', 'tomatoes', 'nan'}), items_add=frozenset({'soup'}), confidence=0.21904761904761905, lift=4.335293378565146), OrderedStatistic(items_base=frozenset({'tomatoes', 'soup', 'nan'}), items_add=frozenset({'milk'}), confidence=0.44230769230769235, lift=3.4133230452674903)]),\n",
       " RelationRecord(items=frozenset({'milk', 'spaghetti', 'whole wheat pasta', 'nan'}), support=0.003999466737768298, ordered_statistics=[OrderedStatistic(items_base=frozenset({'spaghetti', 'whole wheat pasta', 'nan'}), items_add=frozenset({'milk'}), confidence=0.4545454545454546, lift=3.5077628133183696)]),\n",
       " RelationRecord(items=frozenset({'mineral water', 'olive oil', 'soup', 'nan'}), support=0.005199306759098787, ordered_statistics=[OrderedStatistic(items_base=frozenset({'mineral water', 'soup', 'nan'}), items_add=frozenset({'olive oil'}), confidence=0.22543352601156072, lift=3.4230301186492245)]),\n",
       " RelationRecord(items=frozenset({'mineral water', 'olive oil', 'whole wheat pasta', 'nan'}), support=0.0038661511798426876, ordered_statistics=[OrderedStatistic(items_base=frozenset({'mineral water', 'whole wheat pasta', 'nan'}), items_add=frozenset({'olive oil'}), confidence=0.4027777777777778, lift=6.115862573099416)]),\n",
       " RelationRecord(items=frozenset({'olive oil', 'spaghetti', 'pancakes', 'nan'}), support=0.005065991201173177, ordered_statistics=[OrderedStatistic(items_base=frozenset({'spaghetti', 'pancakes', 'nan'}), items_add=frozenset({'olive oil'}), confidence=0.20105820105820105, lift=3.0529100529100526)]),\n",
       " RelationRecord(items=frozenset({'tomatoes', 'olive oil', 'spaghetti', 'nan'}), support=0.004399413411545127, ordered_statistics=[OrderedStatistic(items_base=frozenset({'tomatoes', 'olive oil', 'nan'}), items_add=frozenset({'spaghetti'}), confidence=0.6111111111111112, lift=3.5099115194827295), OrderedStatistic(items_base=frozenset({'tomatoes', 'spaghetti', 'nan'}), items_add=frozenset({'olive oil'}), confidence=0.21019108280254778, lift=3.19158565202816)]),\n",
       " RelationRecord(items=frozenset({'tomatoes', 'spaghetti', 'whole wheat rice', 'nan'}), support=0.0030662578322890282, ordered_statistics=[OrderedStatistic(items_base=frozenset({'spaghetti', 'whole wheat rice', 'nan'}), items_add=frozenset({'tomatoes'}), confidence=0.2169811320754717, lift=3.1726617382029496)]),\n",
       " RelationRecord(items=frozenset({'mineral water', 'nan', 'ground beef', 'eggs', 'chocolate'}), support=0.003999466737768298, ordered_statistics=[OrderedStatistic(items_base=frozenset({'mineral water', 'nan', 'eggs', 'chocolate'}), items_add=frozenset({'ground beef'}), confidence=0.29702970297029707, lift=3.023093354111531)]),\n",
       " RelationRecord(items=frozenset({'mineral water', 'nan', 'ground beef', 'frozen vegetables', 'chocolate'}), support=0.003332888948140248, ordered_statistics=[OrderedStatistic(items_base=frozenset({'mineral water', 'nan', 'frozen vegetables', 'chocolate'}), items_add=frozenset({'ground beef'}), confidence=0.34246575342465757, lift=3.4855300087358976), OrderedStatistic(items_base=frozenset({'mineral water', 'nan', 'ground beef', 'chocolate'}), items_add=frozenset({'frozen vegetables'}), confidence=0.30487804878048785, lift=3.1984478935698455)]),\n",
       " RelationRecord(items=frozenset({'nan', 'ground beef', 'frozen vegetables', 'spaghetti', 'chocolate'}), support=0.0030662578322890282, ordered_statistics=[OrderedStatistic(items_base=frozenset({'nan', 'ground beef', 'frozen vegetables', 'chocolate'}), items_add=frozenset({'spaghetti'}), confidence=0.5348837209302326, lift=3.0721001460165964), OrderedStatistic(items_base=frozenset({'nan', 'frozen vegetables', 'spaghetti', 'chocolate'}), items_add=frozenset({'ground beef'}), confidence=0.3898305084745763, lift=3.967596531978015), OrderedStatistic(items_base=frozenset({'nan', 'ground beef', 'spaghetti', 'chocolate'}), items_add=frozenset({'frozen vegetables'}), confidence=0.33333333333333337, lift=3.4969696969696975)]),\n",
       " RelationRecord(items=frozenset({'milk', 'mineral water', 'nan', 'frozen vegetables', 'chocolate'}), support=0.003999466737768298, ordered_statistics=[OrderedStatistic(items_base=frozenset({'mineral water', 'nan', 'frozen vegetables', 'chocolate'}), items_add=frozenset({'milk'}), confidence=0.4109589041095891, lift=3.1714019956029094)]),\n",
       " RelationRecord(items=frozenset({'milk', 'nan', 'frozen vegetables', 'spaghetti', 'chocolate'}), support=0.0034662045060658577, ordered_statistics=[OrderedStatistic(items_base=frozenset({'nan', 'frozen vegetables', 'spaghetti', 'chocolate'}), items_add=frozenset({'milk'}), confidence=0.44067796610169485, lift=3.4007463207086555), OrderedStatistic(items_base=frozenset({'milk', 'nan', 'spaghetti', 'chocolate'}), items_add=frozenset({'frozen vegetables'}), confidence=0.3170731707317073, lift=3.3263858093126384)]),\n",
       " RelationRecord(items=frozenset({'mineral water', 'nan', 'shrimp', 'frozen vegetables', 'chocolate'}), support=0.003199573390214638, ordered_statistics=[OrderedStatistic(items_base=frozenset({'mineral water', 'nan', 'frozen vegetables', 'chocolate'}), items_add=frozenset({'shrimp'}), confidence=0.32876712328767127, lift=4.600899611531385), OrderedStatistic(items_base=frozenset({'mineral water', 'shrimp', 'nan', 'chocolate'}), items_add=frozenset({'frozen vegetables'}), confidence=0.4210526315789474, lift=4.417224880382776)]),\n",
       " RelationRecord(items=frozenset({'mineral water', 'olive oil', 'nan', 'spaghetti', 'chocolate'}), support=0.0038661511798426876, ordered_statistics=[OrderedStatistic(items_base=frozenset({'mineral water', 'nan', 'spaghetti', 'chocolate'}), items_add=frozenset({'olive oil'}), confidence=0.2436974789915966, lift=3.700353825740822)]),\n",
       " RelationRecord(items=frozenset({'mineral water', 'shrimp', 'nan', 'spaghetti', 'chocolate'}), support=0.0034662045060658577, ordered_statistics=[OrderedStatistic(items_base=frozenset({'mineral water', 'nan', 'spaghetti', 'chocolate'}), items_add=frozenset({'shrimp'}), confidence=0.21848739495798317, lift=3.0576006522011783)]),\n",
       " RelationRecord(items=frozenset({'milk', 'mineral water', 'nan', 'eggs', 'frozen vegetables'}), support=0.0037328356219170776, ordered_statistics=[OrderedStatistic(items_base=frozenset({'mineral water', 'nan', 'eggs', 'frozen vegetables'}), items_add=frozenset({'milk'}), confidence=0.411764705882353, lift=3.177620430888405)]),\n",
       " RelationRecord(items=frozenset({'milk', 'mineral water', 'frozen smoothie', 'spaghetti', 'nan'}), support=0.003199573390214638, ordered_statistics=[OrderedStatistic(items_base=frozenset({'mineral water', 'frozen smoothie', 'spaghetti', 'nan'}), items_add=frozenset({'milk'}), confidence=0.4705882352941177, lift=3.631566206729606), OrderedStatistic(items_base=frozenset({'milk', 'mineral water', 'spaghetti', 'nan'}), items_add=frozenset({'frozen smoothie'}), confidence=0.2033898305084746, lift=3.211846565566459)]),\n",
       " RelationRecord(items=frozenset({'milk', 'mineral water', 'ground beef', 'frozen vegetables', 'nan'}), support=0.0037328356219170776, ordered_statistics=[OrderedStatistic(items_base=frozenset({'mineral water', 'ground beef', 'frozen vegetables', 'nan'}), items_add=frozenset({'milk'}), confidence=0.40579710144927533, lift=3.1315679608755294), OrderedStatistic(items_base=frozenset({'milk', 'mineral water', 'frozen vegetables', 'nan'}), items_add=frozenset({'ground beef'}), confidence=0.3373493975903614, lift=3.4334570302921317), OrderedStatistic(items_base=frozenset({'milk', 'mineral water', 'ground beef', 'nan'}), items_add=frozenset({'frozen vegetables'}), confidence=0.3373493975903614, lift=3.539101861993428)]),\n",
       " RelationRecord(items=frozenset({'milk', 'ground beef', 'frozen vegetables', 'spaghetti', 'nan'}), support=0.0030662578322890282, ordered_statistics=[OrderedStatistic(items_base=frozenset({'milk', 'ground beef', 'frozen vegetables', 'nan'}), items_add=frozenset({'spaghetti'}), confidence=0.5348837209302326, lift=3.0721001460165964), OrderedStatistic(items_base=frozenset({'milk', 'frozen vegetables', 'spaghetti', 'nan'}), items_add=frozenset({'ground beef'}), confidence=0.3709677419354839, lift=3.7756160546242397), OrderedStatistic(items_base=frozenset({'milk', 'ground beef', 'spaghetti', 'nan'}), items_add=frozenset({'frozen vegetables'}), confidence=0.3150684931506849, lift=3.305354919053549)]),\n",
       " RelationRecord(items=frozenset({'mineral water', 'ground beef', 'frozen vegetables', 'spaghetti', 'nan'}), support=0.004399413411545127, ordered_statistics=[OrderedStatistic(items_base=frozenset({'mineral water', 'frozen vegetables', 'spaghetti', 'nan'}), items_add=frozenset({'ground beef'}), confidence=0.3666666666666667, lift=3.7318407960199007)]),\n",
       " RelationRecord(items=frozenset({'milk', 'mineral water', 'frozen vegetables', 'olive oil', 'nan'}), support=0.003332888948140248, ordered_statistics=[OrderedStatistic(items_base=frozenset({'milk', 'mineral water', 'frozen vegetables', 'nan'}), items_add=frozenset({'olive oil'}), confidence=0.30120481927710846, lift=4.573557387444516), OrderedStatistic(items_base=frozenset({'mineral water', 'olive oil', 'frozen vegetables', 'nan'}), items_add=frozenset({'milk'}), confidence=0.5102040816326531, lift=3.937284790459394), OrderedStatistic(items_base=frozenset({'milk', 'olive oil', 'mineral water', 'nan'}), items_add=frozenset({'frozen vegetables'}), confidence=0.39062500000000006, lift=4.098011363636364)]),\n",
       " RelationRecord(items=frozenset({'milk', 'mineral water', 'frozen vegetables', 'soup', 'nan'}), support=0.0030662578322890282, ordered_statistics=[OrderedStatistic(items_base=frozenset({'milk', 'mineral water', 'frozen vegetables', 'nan'}), items_add=frozenset({'soup'}), confidence=0.27710843373493976, lift=5.484407286136631), OrderedStatistic(items_base=frozenset({'milk', 'frozen vegetables', 'soup', 'nan'}), items_add=frozenset({'mineral water'}), confidence=0.7666666666666666, lift=3.21631245339299), OrderedStatistic(items_base=frozenset({'mineral water', 'frozen vegetables', 'soup', 'nan'}), items_add=frozenset({'milk'}), confidence=0.6052631578947368, lift=4.670863114576565), OrderedStatistic(items_base=frozenset({'milk', 'mineral water', 'soup', 'nan'}), items_add=frozenset({'frozen vegetables'}), confidence=0.35937500000000006, lift=3.7701704545454553)]),\n",
       " RelationRecord(items=frozenset({'milk', 'mineral water', 'frozen vegetables', 'spaghetti', 'nan'}), support=0.004532728969470737, ordered_statistics=[OrderedStatistic(items_base=frozenset({'milk', 'mineral water', 'spaghetti', 'nan'}), items_add=frozenset({'frozen vegetables'}), confidence=0.28813559322033894, lift=3.0228043143297376)]),\n",
       " RelationRecord(items=frozenset({'mineral water', 'shrimp', 'frozen vegetables', 'spaghetti', 'nan'}), support=0.003332888948140248, ordered_statistics=[OrderedStatistic(items_base=frozenset({'mineral water', 'frozen vegetables', 'spaghetti', 'nan'}), items_add=frozenset({'shrimp'}), confidence=0.2777777777777778, lift=3.8873341625207294), OrderedStatistic(items_base=frozenset({'mineral water', 'shrimp', 'spaghetti', 'nan'}), items_add=frozenset({'frozen vegetables'}), confidence=0.39062500000000006, lift=4.098011363636364)]),\n",
       " RelationRecord(items=frozenset({'mineral water', 'tomatoes', 'frozen vegetables', 'spaghetti', 'nan'}), support=0.0030662578322890282, ordered_statistics=[OrderedStatistic(items_base=frozenset({'mineral water', 'frozen vegetables', 'spaghetti', 'nan'}), items_add=frozenset({'tomatoes'}), confidence=0.2555555555555556, lift=3.7366904916612524), OrderedStatistic(items_base=frozenset({'mineral water', 'frozen vegetables', 'tomatoes', 'nan'}), items_add=frozenset({'spaghetti'}), confidence=0.5227272727272727, lift=3.0022796881525826), OrderedStatistic(items_base=frozenset({'mineral water', 'spaghetti', 'tomatoes', 'nan'}), items_add=frozenset({'frozen vegetables'}), confidence=0.32857142857142857, lift=3.447012987012987)]),\n",
       " RelationRecord(items=frozenset({'mineral water', 'olive oil', 'ground beef', 'spaghetti', 'nan'}), support=0.0030662578322890282, ordered_statistics=[OrderedStatistic(items_base=frozenset({'mineral water', 'olive oil', 'spaghetti', 'nan'}), items_add=frozenset({'ground beef'}), confidence=0.2987012987012987, lift=3.0401064335935435)]),\n",
       " RelationRecord(items=frozenset({'mineral water', 'tomatoes', 'ground beef', 'spaghetti', 'nan'}), support=0.0030662578322890282, ordered_statistics=[OrderedStatistic(items_base=frozenset({'mineral water', 'ground beef', 'tomatoes', 'nan'}), items_add=frozenset({'spaghetti'}), confidence=0.5609756097560976, lift=3.221958689724723), OrderedStatistic(items_base=frozenset({'mineral water', 'spaghetti', 'tomatoes', 'nan'}), items_add=frozenset({'ground beef'}), confidence=0.32857142857142857, lift=3.344117076952898)]),\n",
       " RelationRecord(items=frozenset({'milk', 'olive oil', 'mineral water', 'spaghetti', 'nan'}), support=0.003332888948140248, ordered_statistics=[OrderedStatistic(items_base=frozenset({'milk', 'mineral water', 'spaghetti', 'nan'}), items_add=frozenset({'olive oil'}), confidence=0.211864406779661, lift=3.216993755575379)]),\n",
       " RelationRecord(items=frozenset({'milk', 'tomatoes', 'mineral water', 'spaghetti', 'nan'}), support=0.003332888948140248, ordered_statistics=[OrderedStatistic(items_base=frozenset({'milk', 'mineral water', 'spaghetti', 'nan'}), items_add=frozenset({'tomatoes'}), confidence=0.211864406779661, lift=3.0978458387022165)])]"
      ]
     },
     "execution_count": 88,
     "metadata": {},
     "output_type": "execute_result"
    }
   ],
   "source": [
    "results"
   ]
  },
  {
   "cell_type": "code",
   "execution_count": null,
   "metadata": {
    "collapsed": true
   },
   "outputs": [],
   "source": [
    "frog = pd.read_csv('Desktop/uci/frog.csv', header = 0, index_col = None)"
   ]
  },
  {
   "cell_type": "code",
   "execution_count": null,
   "metadata": {
    "collapsed": false
   },
   "outputs": [],
   "source": [
    "frog.head(10)"
   ]
  },
  {
   "cell_type": "code",
   "execution_count": null,
   "metadata": {
    "collapsed": false
   },
   "outputs": [],
   "source": [
    "frog['Species'].value_counts()"
   ]
  },
  {
   "cell_type": "code",
   "execution_count": null,
   "metadata": {
    "collapsed": false
   },
   "outputs": [],
   "source": [
    "frog['Family'].value_counts()"
   ]
  },
  {
   "cell_type": "code",
   "execution_count": null,
   "metadata": {
    "collapsed": false
   },
   "outputs": [],
   "source": [
    "frog['Species'].value_counts()"
   ]
  },
  {
   "cell_type": "code",
   "execution_count": null,
   "metadata": {
    "collapsed": false
   },
   "outputs": [],
   "source": [
    "frog.replace({'Genus':{'Adenomera':0, 'Hypsiboas':1, 'Ameerega':2, 'Dendropsophus':3, 'Leptodactylus':4, 'Scinax':5, 'Osteocephalus':6, 'Rhinella':7}, 'Family':{'Leptodactylidae':0, 'Hylidae':1, 'Dendrobatidae':2, 'Bufonidae':3}, \n",
    "              'Species':{'AdenomeraHylaedactylus':0, 'HypsiboasCordobae':1, 'AdenomeraAndre':2, 'Ameeregatrivittata':3, 'HypsiboasCinerascens':4, 'HylaMinuta':5, 'LeptodactylusFuscus':6, 'ScinaxRuber':7, 'OsteocephalusOophagus':8,\n",
    "                         'Rhinellagranulosa':9}})"
   ]
  },
  {
   "cell_type": "code",
   "execution_count": null,
   "metadata": {
    "collapsed": false
   },
   "outputs": [],
   "source": [
    "frog.drop(frog.columns[0:22].values, axis = 1, inplace = 1)"
   ]
  },
  {
   "cell_type": "code",
   "execution_count": null,
   "metadata": {
    "collapsed": false
   },
   "outputs": [],
   "source": [
    "frog.head(10)"
   ]
  },
  {
   "cell_type": "code",
   "execution_count": null,
   "metadata": {
    "collapsed": false
   },
   "outputs": [],
   "source": [
    "frog.drop('RecordID', axis = 1, inplace = 1)"
   ]
  },
  {
   "cell_type": "code",
   "execution_count": null,
   "metadata": {
    "collapsed": false
   },
   "outputs": [],
   "source": [
    "frog.head()"
   ]
  },
  {
   "cell_type": "code",
   "execution_count": null,
   "metadata": {
    "collapsed": true
   },
   "outputs": [],
   "source": [
    "frog.replace({'Genus':{'Adenomera':0, 'Hypsiboas':1, 'Ameerega':2, 'Dendropsophus':3, 'Leptodactylus':4, 'Scinax':5, 'Osteocephalus':6, 'Rhinella':7}, 'Family':{'Leptodactylidae':0, 'Hylidae':1, 'Dendrobatidae':2, 'Bufonidae':3}, \n",
    "              'Species':{'AdenomeraHylaedactylus':0, 'HypsiboasCordobae':1, 'AdenomeraAndre':2, 'Ameeregatrivittata':3, 'HypsiboasCinerascens':4, 'HylaMinuta':5, 'LeptodactylusFuscus':6, 'ScinaxRuber':7, 'OsteocephalusOophagus':8,\n",
    "                         'Rhinellagranulosa':9}}, inplace = 1)"
   ]
  },
  {
   "cell_type": "code",
   "execution_count": null,
   "metadata": {
    "collapsed": false
   },
   "outputs": [],
   "source": [
    "frog.head(10)"
   ]
  },
  {
   "cell_type": "code",
   "execution_count": null,
   "metadata": {
    "collapsed": true
   },
   "outputs": [],
   "source": [
    "X = frog.ix[:, ['Family', 'Genus']]"
   ]
  },
  {
   "cell_type": "code",
   "execution_count": null,
   "metadata": {
    "collapsed": false
   },
   "outputs": [],
   "source": [
    "X.head()"
   ]
  },
  {
   "cell_type": "code",
   "execution_count": null,
   "metadata": {
    "collapsed": true
   },
   "outputs": [],
   "source": [
    "wcss = []"
   ]
  },
  {
   "cell_type": "code",
   "execution_count": null,
   "metadata": {
    "collapsed": true
   },
   "outputs": [],
   "source": [
    "for i in range(1, 11):\n",
    "    kmeans = KMeans(n_clusters = i, init = 'k-means++', max_iter = 300, random_state = 1)\n",
    "    kmeans.fit(X)\n",
    "    wcss.append(kmeans.inertia_)"
   ]
  },
  {
   "cell_type": "code",
   "execution_count": null,
   "metadata": {
    "collapsed": false
   },
   "outputs": [],
   "source": [
    "plt.plot(range(1, 11), wcss)\n",
    "plt.show()"
   ]
  },
  {
   "cell_type": "code",
   "execution_count": null,
   "metadata": {
    "collapsed": true
   },
   "outputs": [],
   "source": [
    "kmeans = KMeans(n_clusters = 5, init = 'k-means++', max_iter = 300, random_state = 1)"
   ]
  },
  {
   "cell_type": "code",
   "execution_count": null,
   "metadata": {
    "collapsed": true
   },
   "outputs": [],
   "source": [
    "pred = kmeans.fit_predict(X)"
   ]
  },
  {
   "cell_type": "code",
   "execution_count": null,
   "metadata": {
    "collapsed": true
   },
   "outputs": [],
   "source": [
    "cc = kmeans.cluster_centers_"
   ]
  },
  {
   "cell_type": "code",
   "execution_count": null,
   "metadata": {
    "collapsed": false
   },
   "outputs": [],
   "source": [
    "cc"
   ]
  },
  {
   "cell_type": "code",
   "execution_count": null,
   "metadata": {
    "collapsed": false
   },
   "outputs": [],
   "source": [
    "pred"
   ]
  },
  {
   "cell_type": "code",
   "execution_count": null,
   "metadata": {
    "collapsed": false
   },
   "outputs": [],
   "source": [
    "plt.scatter(X.iloc[pred == 0, 0], X.iloc[pred == 0, 1], s = 30)\n",
    "plt.scatter(X.iloc[pred == 1, 0], X.iloc[pred == 1, 1], s = 30)\n",
    "plt.scatter(X.iloc[pred == 2, 0], X.iloc[pred == 2, 1], s = 30)\n",
    "plt.scatter(X.iloc[pred == 3, 0], X.iloc[pred == 3, 1], s = 30)\n",
    "plt.scatter(X.iloc[pred == 4, 0], X.iloc[pred == 4, 1], s = 30)\n",
    "plt.scatter(cc[:,0], cc[:,1], s = 50)\n",
    "plt.show()"
   ]
  },
  {
   "cell_type": "markdown",
   "metadata": {},
   "source": [
    "# ANN"
   ]
  },
  {
   "cell_type": "code",
   "execution_count": 89,
   "metadata": {
    "collapsed": false
   },
   "outputs": [],
   "source": [
    "bank = pd.read_csv('ANN/Churn_Modelling.csv', header = 0, index_col = None)"
   ]
  },
  {
   "cell_type": "code",
   "execution_count": 90,
   "metadata": {
    "collapsed": false
   },
   "outputs": [
    {
     "data": {
      "text/html": [
       "<div>\n",
       "<table border=\"1\" class=\"dataframe\">\n",
       "  <thead>\n",
       "    <tr style=\"text-align: right;\">\n",
       "      <th></th>\n",
       "      <th>RowNumber</th>\n",
       "      <th>CustomerId</th>\n",
       "      <th>Surname</th>\n",
       "      <th>CreditScore</th>\n",
       "      <th>Geography</th>\n",
       "      <th>Gender</th>\n",
       "      <th>Age</th>\n",
       "      <th>Tenure</th>\n",
       "      <th>Balance</th>\n",
       "      <th>NumOfProducts</th>\n",
       "      <th>HasCrCard</th>\n",
       "      <th>IsActiveMember</th>\n",
       "      <th>EstimatedSalary</th>\n",
       "      <th>Exited</th>\n",
       "    </tr>\n",
       "  </thead>\n",
       "  <tbody>\n",
       "    <tr>\n",
       "      <th>0</th>\n",
       "      <td>1</td>\n",
       "      <td>15634602</td>\n",
       "      <td>Hargrave</td>\n",
       "      <td>619</td>\n",
       "      <td>France</td>\n",
       "      <td>Female</td>\n",
       "      <td>42</td>\n",
       "      <td>2</td>\n",
       "      <td>0.00</td>\n",
       "      <td>1</td>\n",
       "      <td>1</td>\n",
       "      <td>1</td>\n",
       "      <td>101348.88</td>\n",
       "      <td>1</td>\n",
       "    </tr>\n",
       "    <tr>\n",
       "      <th>1</th>\n",
       "      <td>2</td>\n",
       "      <td>15647311</td>\n",
       "      <td>Hill</td>\n",
       "      <td>608</td>\n",
       "      <td>Spain</td>\n",
       "      <td>Female</td>\n",
       "      <td>41</td>\n",
       "      <td>1</td>\n",
       "      <td>83807.86</td>\n",
       "      <td>1</td>\n",
       "      <td>0</td>\n",
       "      <td>1</td>\n",
       "      <td>112542.58</td>\n",
       "      <td>0</td>\n",
       "    </tr>\n",
       "    <tr>\n",
       "      <th>2</th>\n",
       "      <td>3</td>\n",
       "      <td>15619304</td>\n",
       "      <td>Onio</td>\n",
       "      <td>502</td>\n",
       "      <td>France</td>\n",
       "      <td>Female</td>\n",
       "      <td>42</td>\n",
       "      <td>8</td>\n",
       "      <td>159660.80</td>\n",
       "      <td>3</td>\n",
       "      <td>1</td>\n",
       "      <td>0</td>\n",
       "      <td>113931.57</td>\n",
       "      <td>1</td>\n",
       "    </tr>\n",
       "    <tr>\n",
       "      <th>3</th>\n",
       "      <td>4</td>\n",
       "      <td>15701354</td>\n",
       "      <td>Boni</td>\n",
       "      <td>699</td>\n",
       "      <td>France</td>\n",
       "      <td>Female</td>\n",
       "      <td>39</td>\n",
       "      <td>1</td>\n",
       "      <td>0.00</td>\n",
       "      <td>2</td>\n",
       "      <td>0</td>\n",
       "      <td>0</td>\n",
       "      <td>93826.63</td>\n",
       "      <td>0</td>\n",
       "    </tr>\n",
       "    <tr>\n",
       "      <th>4</th>\n",
       "      <td>5</td>\n",
       "      <td>15737888</td>\n",
       "      <td>Mitchell</td>\n",
       "      <td>850</td>\n",
       "      <td>Spain</td>\n",
       "      <td>Female</td>\n",
       "      <td>43</td>\n",
       "      <td>2</td>\n",
       "      <td>125510.82</td>\n",
       "      <td>1</td>\n",
       "      <td>1</td>\n",
       "      <td>1</td>\n",
       "      <td>79084.10</td>\n",
       "      <td>0</td>\n",
       "    </tr>\n",
       "  </tbody>\n",
       "</table>\n",
       "</div>"
      ],
      "text/plain": [
       "   RowNumber  CustomerId   Surname  CreditScore Geography  Gender  Age  \\\n",
       "0          1    15634602  Hargrave          619    France  Female   42   \n",
       "1          2    15647311      Hill          608     Spain  Female   41   \n",
       "2          3    15619304      Onio          502    France  Female   42   \n",
       "3          4    15701354      Boni          699    France  Female   39   \n",
       "4          5    15737888  Mitchell          850     Spain  Female   43   \n",
       "\n",
       "   Tenure    Balance  NumOfProducts  HasCrCard  IsActiveMember  \\\n",
       "0       2       0.00              1          1               1   \n",
       "1       1   83807.86              1          0               1   \n",
       "2       8  159660.80              3          1               0   \n",
       "3       1       0.00              2          0               0   \n",
       "4       2  125510.82              1          1               1   \n",
       "\n",
       "   EstimatedSalary  Exited  \n",
       "0        101348.88       1  \n",
       "1        112542.58       0  \n",
       "2        113931.57       1  \n",
       "3         93826.63       0  \n",
       "4         79084.10       0  "
      ]
     },
     "execution_count": 90,
     "metadata": {},
     "output_type": "execute_result"
    }
   ],
   "source": [
    "bank.head()"
   ]
  },
  {
   "cell_type": "code",
   "execution_count": 91,
   "metadata": {
    "collapsed": false
   },
   "outputs": [
    {
     "data": {
      "text/plain": [
       "array(['RowNumber', 'CustomerId', 'Surname', 'CreditScore', 'Geography',\n",
       "       'Gender', 'Age', 'Tenure', 'Balance', 'NumOfProducts', 'HasCrCard',\n",
       "       'IsActiveMember', 'EstimatedSalary', 'Exited'], dtype=object)"
      ]
     },
     "execution_count": 91,
     "metadata": {},
     "output_type": "execute_result"
    }
   ],
   "source": [
    "bank.columns.values"
   ]
  },
  {
   "cell_type": "code",
   "execution_count": 92,
   "metadata": {
    "collapsed": false
   },
   "outputs": [],
   "source": [
    "X = bank.iloc[:, 3:13].values\n",
    "y = bank.iloc[:, 13].values"
   ]
  },
  {
   "cell_type": "code",
   "execution_count": 93,
   "metadata": {
    "collapsed": true
   },
   "outputs": [],
   "source": [
    "X_1 = LabelEncoder()\n",
    "X[:,1] = X_1.fit_transform(X[:,1])\n",
    "X_2 = LabelEncoder()\n",
    "X[:,2] = X_2.fit_transform(X[:,2])"
   ]
  },
  {
   "cell_type": "code",
   "execution_count": 94,
   "metadata": {
    "collapsed": false
   },
   "outputs": [
    {
     "data": {
      "text/plain": [
       "array([[619, 0, 0, 42, 2, 0.0, 1, 1, 1, 101348.88],\n",
       "       [608, 2, 0, 41, 1, 83807.86, 1, 0, 1, 112542.58],\n",
       "       [502, 0, 0, 42, 8, 159660.8, 3, 1, 0, 113931.57],\n",
       "       [699, 0, 0, 39, 1, 0.0, 2, 0, 0, 93826.63],\n",
       "       [850, 2, 0, 43, 2, 125510.82, 1, 1, 1, 79084.1]], dtype=object)"
      ]
     },
     "execution_count": 94,
     "metadata": {},
     "output_type": "execute_result"
    }
   ],
   "source": [
    "X[:5,:]"
   ]
  },
  {
   "cell_type": "code",
   "execution_count": 95,
   "metadata": {
    "collapsed": false
   },
   "outputs": [],
   "source": [
    "onh = OneHotEncoder(categorical_features = [1])\n",
    "X = onh.fit_transform(X).toarray()\n",
    "X = X[:,1:]"
   ]
  },
  {
   "cell_type": "code",
   "execution_count": 96,
   "metadata": {
    "collapsed": false
   },
   "outputs": [
    {
     "data": {
      "text/plain": [
       "array([[0.0000000e+00, 0.0000000e+00, 6.1900000e+02, ..., 1.0000000e+00,\n",
       "        1.0000000e+00, 1.0134888e+05],\n",
       "       [0.0000000e+00, 1.0000000e+00, 6.0800000e+02, ..., 0.0000000e+00,\n",
       "        1.0000000e+00, 1.1254258e+05],\n",
       "       [0.0000000e+00, 0.0000000e+00, 5.0200000e+02, ..., 1.0000000e+00,\n",
       "        0.0000000e+00, 1.1393157e+05],\n",
       "       ...,\n",
       "       [0.0000000e+00, 0.0000000e+00, 7.0900000e+02, ..., 0.0000000e+00,\n",
       "        1.0000000e+00, 4.2085580e+04],\n",
       "       [1.0000000e+00, 0.0000000e+00, 7.7200000e+02, ..., 1.0000000e+00,\n",
       "        0.0000000e+00, 9.2888520e+04],\n",
       "       [0.0000000e+00, 0.0000000e+00, 7.9200000e+02, ..., 1.0000000e+00,\n",
       "        0.0000000e+00, 3.8190780e+04]])"
      ]
     },
     "execution_count": 96,
     "metadata": {},
     "output_type": "execute_result"
    }
   ],
   "source": [
    "X"
   ]
  },
  {
   "cell_type": "code",
   "execution_count": 97,
   "metadata": {
    "collapsed": false
   },
   "outputs": [
    {
     "data": {
      "text/plain": [
       "array([1, 0, 1, ..., 1, 1, 0], dtype=int64)"
      ]
     },
     "execution_count": 97,
     "metadata": {},
     "output_type": "execute_result"
    }
   ],
   "source": [
    "y"
   ]
  },
  {
   "cell_type": "code",
   "execution_count": 98,
   "metadata": {
    "collapsed": true
   },
   "outputs": [],
   "source": [
    "X_train, X_test, y_train, y_test = tts(X, y, test_size = .33, random_state = 1)"
   ]
  },
  {
   "cell_type": "code",
   "execution_count": 100,
   "metadata": {
    "collapsed": false
   },
   "outputs": [],
   "source": [
    "X_train = ss.fit_transform(X_train)\n",
    "X_test = ss.fit_transform(X_test)"
   ]
  },
  {
   "cell_type": "code",
   "execution_count": 101,
   "metadata": {
    "collapsed": true
   },
   "outputs": [],
   "source": [
    "clf = Sequential()"
   ]
  },
  {
   "cell_type": "code",
   "execution_count": 102,
   "metadata": {
    "collapsed": false
   },
   "outputs": [
    {
     "name": "stderr",
     "output_type": "stream",
     "text": [
      "C:\\Users\\visha\\Anaconda3\\lib\\site-packages\\ipykernel\\__main__.py:2: UserWarning: Update your `Dense` call to the Keras 2 API: `Dense(6, activation=\"relu\", input_dim=11, kernel_initializer=\"uniform\")`\n",
      "  from ipykernel import kernelapp as app\n"
     ]
    }
   ],
   "source": [
    "# input layer and 1st hidden layer\n",
    "clf.add(Dense(6, init = 'uniform', activation = 'relu', input_dim = 11))"
   ]
  },
  {
   "cell_type": "code",
   "execution_count": 103,
   "metadata": {
    "collapsed": false
   },
   "outputs": [
    {
     "name": "stderr",
     "output_type": "stream",
     "text": [
      "C:\\Users\\visha\\Anaconda3\\lib\\site-packages\\ipykernel\\__main__.py:1: UserWarning: Update your `Dense` call to the Keras 2 API: `Dense(6, activation=\"relu\", kernel_initializer=\"uniform\")`\n",
      "  if __name__ == '__main__':\n"
     ]
    }
   ],
   "source": [
    "clf.add(Dense(6, init = 'uniform', activation = 'relu'))"
   ]
  },
  {
   "cell_type": "code",
   "execution_count": 104,
   "metadata": {
    "collapsed": false
   },
   "outputs": [
    {
     "name": "stderr",
     "output_type": "stream",
     "text": [
      "C:\\Users\\visha\\Anaconda3\\lib\\site-packages\\ipykernel\\__main__.py:1: UserWarning: Update your `Dense` call to the Keras 2 API: `Dense(1, activation=\"sigmoid\", kernel_initializer=\"uniform\")`\n",
      "  if __name__ == '__main__':\n"
     ]
    }
   ],
   "source": [
    "clf.add(Dense(1, init = 'uniform', activation = 'sigmoid'))"
   ]
  },
  {
   "cell_type": "code",
   "execution_count": 105,
   "metadata": {
    "collapsed": true
   },
   "outputs": [],
   "source": [
    "clf.compile(optimizer = 'sgd', loss = 'binary_crossentropy', metrics = ['accuracy'])"
   ]
  },
  {
   "cell_type": "code",
   "execution_count": 106,
   "metadata": {
    "collapsed": false,
    "scrolled": true
   },
   "outputs": [
    {
     "name": "stdout",
     "output_type": "stream",
     "text": [
      "Epoch 1/100\n",
      "6700/6700 [==============================] - 2s - loss: 0.5625 - acc: 0.7985     \n",
      "Epoch 2/100\n",
      "6700/6700 [==============================] - 0s - loss: 0.5060 - acc: 0.7991     \n",
      "Epoch 3/100\n",
      "6700/6700 [==============================] - 1s - loss: 0.5021 - acc: 0.7991     \n",
      "Epoch 4/100\n",
      "6700/6700 [==============================] - 0s - loss: 0.5017 - acc: 0.7991     \n",
      "Epoch 5/100\n",
      "6700/6700 [==============================] - 0s - loss: 0.5017 - acc: 0.7991     \n",
      "Epoch 6/100\n",
      "6700/6700 [==============================] - 0s - loss: 0.5017 - acc: 0.7991     \n",
      "Epoch 7/100\n",
      "6700/6700 [==============================] - 1s - loss: 0.5017 - acc: 0.7991     \n",
      "Epoch 8/100\n",
      "6700/6700 [==============================] - 1s - loss: 0.5017 - acc: 0.7991     \n",
      "Epoch 9/100\n",
      "6700/6700 [==============================] - 0s - loss: 0.5017 - acc: 0.7991     \n",
      "Epoch 10/100\n",
      "6700/6700 [==============================] - 0s - loss: 0.5016 - acc: 0.7991     \n",
      "Epoch 11/100\n",
      "6700/6700 [==============================] - 0s - loss: 0.5016 - acc: 0.7991     \n",
      "Epoch 12/100\n",
      "6700/6700 [==============================] - 0s - loss: 0.5016 - acc: 0.7991     \n",
      "Epoch 13/100\n",
      "6700/6700 [==============================] - 0s - loss: 0.5015 - acc: 0.7991     \n",
      "Epoch 14/100\n",
      "6700/6700 [==============================] - 0s - loss: 0.5015 - acc: 0.7991     \n",
      "Epoch 15/100\n",
      "6700/6700 [==============================] - 1s - loss: 0.5014 - acc: 0.7991     \n",
      "Epoch 16/100\n",
      "6700/6700 [==============================] - 0s - loss: 0.5013 - acc: 0.7991     \n",
      "Epoch 17/100\n",
      "6700/6700 [==============================] - 0s - loss: 0.5011 - acc: 0.7991     \n",
      "Epoch 18/100\n",
      "6700/6700 [==============================] - 1s - loss: 0.5008 - acc: 0.7991     \n",
      "Epoch 19/100\n",
      "6700/6700 [==============================] - 1s - loss: 0.5002 - acc: 0.7991     \n",
      "Epoch 20/100\n",
      "6700/6700 [==============================] - 0s - loss: 0.4992 - acc: 0.7991     \n",
      "Epoch 21/100\n",
      "6700/6700 [==============================] - 1s - loss: 0.4973 - acc: 0.7991     \n",
      "Epoch 22/100\n",
      "6700/6700 [==============================] - 0s - loss: 0.4931 - acc: 0.7991     \n",
      "Epoch 23/100\n",
      "6700/6700 [==============================] - 1s - loss: 0.4826 - acc: 0.7991     \n",
      "Epoch 24/100\n",
      "6700/6700 [==============================] - 0s - loss: 0.4609 - acc: 0.7987     \n",
      "Epoch 25/100\n",
      "6700/6700 [==============================] - 1s - loss: 0.4398 - acc: 0.8057     \n",
      "Epoch 26/100\n",
      "6700/6700 [==============================] - 0s - loss: 0.4294 - acc: 0.8118     \n",
      "Epoch 27/100\n",
      "6700/6700 [==============================] - 0s - loss: 0.4229 - acc: 0.8146     \n",
      "Epoch 28/100\n",
      "6700/6700 [==============================] - 0s - loss: 0.4166 - acc: 0.8143     \n",
      "Epoch 29/100\n",
      "6700/6700 [==============================] - 0s - loss: 0.4092 - acc: 0.8188     \n",
      "Epoch 30/100\n",
      "6700/6700 [==============================] - 0s - loss: 0.4010 - acc: 0.8230     \n",
      "Epoch 31/100\n",
      "6700/6700 [==============================] - 0s - loss: 0.3920 - acc: 0.8287     \n",
      "Epoch 32/100\n",
      "6700/6700 [==============================] - 0s - loss: 0.3831 - acc: 0.8334     \n",
      "Epoch 33/100\n",
      "6700/6700 [==============================] - 0s - loss: 0.3734 - acc: 0.8412     \n",
      "Epoch 34/100\n",
      "6700/6700 [==============================] - 0s - loss: 0.3647 - acc: 0.8479     \n",
      "Epoch 35/100\n",
      "6700/6700 [==============================] - 0s - loss: 0.3579 - acc: 0.8490     \n",
      "Epoch 36/100\n",
      "6700/6700 [==============================] - 0s - loss: 0.3541 - acc: 0.8513     \n",
      "Epoch 37/100\n",
      "6700/6700 [==============================] - 0s - loss: 0.3514 - acc: 0.8536     \n",
      "Epoch 38/100\n",
      "6700/6700 [==============================] - 0s - loss: 0.3495 - acc: 0.8566     \n",
      "Epoch 39/100\n",
      "6700/6700 [==============================] - 0s - loss: 0.3482 - acc: 0.8561     \n",
      "Epoch 40/100\n",
      "6700/6700 [==============================] - 0s - loss: 0.3471 - acc: 0.8554     \n",
      "Epoch 41/100\n",
      "6700/6700 [==============================] - 0s - loss: 0.3459 - acc: 0.8570     \n",
      "Epoch 42/100\n",
      "6700/6700 [==============================] - 0s - loss: 0.3453 - acc: 0.8549     \n",
      "Epoch 43/100\n",
      "6700/6700 [==============================] - 0s - loss: 0.3454 - acc: 0.8546     \n",
      "Epoch 44/100\n",
      "6700/6700 [==============================] - 0s - loss: 0.3456 - acc: 0.8546     \n",
      "Epoch 45/100\n",
      "6700/6700 [==============================] - 0s - loss: 0.3448 - acc: 0.8603     \n",
      "Epoch 46/100\n",
      "6700/6700 [==============================] - 0s - loss: 0.3442 - acc: 0.8584     \n",
      "Epoch 47/100\n",
      "6700/6700 [==============================] - 0s - loss: 0.3450 - acc: 0.8576     \n",
      "Epoch 48/100\n",
      "6700/6700 [==============================] - 0s - loss: 0.3433 - acc: 0.8554     \n",
      "Epoch 49/100\n",
      "6700/6700 [==============================] - 1s - loss: 0.3426 - acc: 0.8587     \n",
      "Epoch 50/100\n",
      "6700/6700 [==============================] - 0s - loss: 0.3446 - acc: 0.8570     \n",
      "Epoch 51/100\n",
      "6700/6700 [==============================] - 0s - loss: 0.3436 - acc: 0.8566     \n",
      "Epoch 52/100\n",
      "6700/6700 [==============================] - 0s - loss: 0.3431 - acc: 0.8597     \n",
      "Epoch 53/100\n",
      "6700/6700 [==============================] - 0s - loss: 0.3430 - acc: 0.8575     \n",
      "Epoch 54/100\n",
      "6700/6700 [==============================] - 0s - loss: 0.3434 - acc: 0.8567     \n",
      "Epoch 55/100\n",
      "6700/6700 [==============================] - 0s - loss: 0.3421 - acc: 0.8585     \n",
      "Epoch 56/100\n",
      "6700/6700 [==============================] - 0s - loss: 0.3422 - acc: 0.8585     \n",
      "Epoch 57/100\n",
      "6700/6700 [==============================] - 1s - loss: 0.3419 - acc: 0.8593     \n",
      "Epoch 58/100\n",
      "6700/6700 [==============================] - 1s - loss: 0.3417 - acc: 0.8582     \n",
      "Epoch 59/100\n",
      "6700/6700 [==============================] - 1s - loss: 0.3411 - acc: 0.8570     \n",
      "Epoch 60/100\n",
      "6700/6700 [==============================] - 1s - loss: 0.3399 - acc: 0.8594     \n",
      "Epoch 61/100\n",
      "6700/6700 [==============================] - 1s - loss: 0.3398 - acc: 0.8584     \n",
      "Epoch 62/100\n",
      "6700/6700 [==============================] - 1s - loss: 0.3410 - acc: 0.8572     \n",
      "Epoch 63/100\n",
      "6700/6700 [==============================] - 1s - loss: 0.3402 - acc: 0.8613     \n",
      "Epoch 64/100\n",
      "6700/6700 [==============================] - 1s - loss: 0.3394 - acc: 0.8588     \n",
      "Epoch 65/100\n",
      "6700/6700 [==============================] - 0s - loss: 0.3397 - acc: 0.8575     \n",
      "Epoch 66/100\n",
      "6700/6700 [==============================] - 1s - loss: 0.3386 - acc: 0.8606     \n",
      "Epoch 67/100\n",
      "6700/6700 [==============================] - 1s - loss: 0.3394 - acc: 0.8601     \n",
      "Epoch 68/100\n",
      "6700/6700 [==============================] - 1s - loss: 0.3383 - acc: 0.8597     \n",
      "Epoch 69/100\n",
      "6700/6700 [==============================] - 1s - loss: 0.3386 - acc: 0.8609     \n",
      "Epoch 70/100\n",
      "6700/6700 [==============================] - 1s - loss: 0.3379 - acc: 0.8594     \n",
      "Epoch 71/100\n",
      "6700/6700 [==============================] - 1s - loss: 0.3382 - acc: 0.8604     \n",
      "Epoch 72/100\n",
      "6700/6700 [==============================] - 1s - loss: 0.3378 - acc: 0.8594     \n",
      "Epoch 73/100\n",
      "6700/6700 [==============================] - 1s - loss: 0.3375 - acc: 0.8612     \n",
      "Epoch 74/100\n",
      "6700/6700 [==============================] - 1s - loss: 0.3382 - acc: 0.8594     \n",
      "Epoch 75/100\n",
      "6700/6700 [==============================] - 1s - loss: 0.3375 - acc: 0.8606     \n",
      "Epoch 76/100\n",
      "6700/6700 [==============================] - 1s - loss: 0.3374 - acc: 0.8587     \n",
      "Epoch 77/100\n",
      "6700/6700 [==============================] - 1s - loss: 0.3376 - acc: 0.8619     \n",
      "Epoch 78/100\n",
      "6700/6700 [==============================] - 0s - loss: 0.3375 - acc: 0.8585     \n",
      "Epoch 79/100\n",
      "6700/6700 [==============================] - 0s - loss: 0.3370 - acc: 0.8596     \n",
      "Epoch 80/100\n",
      "6700/6700 [==============================] - 0s - loss: 0.3374 - acc: 0.8624     \n",
      "Epoch 81/100\n",
      "6700/6700 [==============================] - 0s - loss: 0.3366 - acc: 0.8630     \n",
      "Epoch 82/100\n",
      "6700/6700 [==============================] - 0s - loss: 0.3370 - acc: 0.8603     \n",
      "Epoch 83/100\n",
      "6700/6700 [==============================] - 0s - loss: 0.3367 - acc: 0.8627     \n",
      "Epoch 84/100\n",
      "6700/6700 [==============================] - 0s - loss: 0.3368 - acc: 0.8612     \n",
      "Epoch 85/100\n",
      "6700/6700 [==============================] - 0s - loss: 0.3359 - acc: 0.8600     \n",
      "Epoch 86/100\n",
      "6700/6700 [==============================] - 0s - loss: 0.3363 - acc: 0.8613     \n",
      "Epoch 87/100\n",
      "6700/6700 [==============================] - 0s - loss: 0.3363 - acc: 0.8613     \n",
      "Epoch 88/100\n",
      "6700/6700 [==============================] - 0s - loss: 0.3358 - acc: 0.8616     \n",
      "Epoch 89/100\n",
      "6700/6700 [==============================] - 0s - loss: 0.3360 - acc: 0.8609     \n",
      "Epoch 90/100\n",
      "6700/6700 [==============================] - 0s - loss: 0.3359 - acc: 0.8599     \n",
      "Epoch 91/100\n",
      "6700/6700 [==============================] - 0s - loss: 0.3346 - acc: 0.8610     \n",
      "Epoch 92/100\n",
      "6700/6700 [==============================] - 0s - loss: 0.3351 - acc: 0.8630     \n",
      "Epoch 93/100\n",
      "6700/6700 [==============================] - 0s - loss: 0.3348 - acc: 0.8616     \n",
      "Epoch 94/100\n",
      "6700/6700 [==============================] - 0s - loss: 0.3363 - acc: 0.8612     \n",
      "Epoch 95/100\n",
      "6700/6700 [==============================] - 0s - loss: 0.3352 - acc: 0.8594     \n",
      "Epoch 96/100\n",
      "6700/6700 [==============================] - 1s - loss: 0.3354 - acc: 0.8619     \n",
      "Epoch 97/100\n",
      "6700/6700 [==============================] - 1s - loss: 0.3353 - acc: 0.8599     \n",
      "Epoch 98/100\n",
      "6700/6700 [==============================] - 0s - loss: 0.3355 - acc: 0.8610     \n",
      "Epoch 99/100\n",
      "6700/6700 [==============================] - 1s - loss: 0.3356 - acc: 0.8613     \n",
      "Epoch 100/100\n",
      "6700/6700 [==============================] - 1s - loss: 0.3354 - acc: 0.8612     \n"
     ]
    },
    {
     "data": {
      "text/plain": [
       "<keras.callbacks.History at 0x2807dbd26d8>"
      ]
     },
     "execution_count": 106,
     "metadata": {},
     "output_type": "execute_result"
    }
   ],
   "source": [
    "clf.fit(X_train, y_train, batch_size = 10, epochs = 100)"
   ]
  },
  {
   "cell_type": "code",
   "execution_count": 107,
   "metadata": {
    "collapsed": true
   },
   "outputs": [],
   "source": [
    "pred = clf.predict(X_test)"
   ]
  },
  {
   "cell_type": "code",
   "execution_count": 108,
   "metadata": {
    "collapsed": false
   },
   "outputs": [
    {
     "data": {
      "text/plain": [
       "array([[0.03284963],\n",
       "       [0.14541472],\n",
       "       [0.04212011],\n",
       "       ...,\n",
       "       [0.6899409 ],\n",
       "       [0.01288543],\n",
       "       [0.03367313]], dtype=float32)"
      ]
     },
     "execution_count": 108,
     "metadata": {},
     "output_type": "execute_result"
    }
   ],
   "source": [
    "pred"
   ]
  },
  {
   "cell_type": "code",
   "execution_count": 109,
   "metadata": {
    "collapsed": true
   },
   "outputs": [],
   "source": [
    "y_pred = []\n",
    "for i in pred:\n",
    "    if i <= .5:\n",
    "        i = 0\n",
    "    else:\n",
    "        i = 1\n",
    "    y_pred.append(i)"
   ]
  },
  {
   "cell_type": "code",
   "execution_count": 110,
   "metadata": {
    "collapsed": false,
    "scrolled": true
   },
   "outputs": [
    {
     "data": {
      "text/plain": [
       "array([[0.43157166],\n",
       "       [0.15440811],\n",
       "       [0.6899409 ],\n",
       "       [0.01288543],\n",
       "       [0.03367313]], dtype=float32)"
      ]
     },
     "execution_count": 110,
     "metadata": {},
     "output_type": "execute_result"
    }
   ],
   "source": [
    "pred[-5:]"
   ]
  },
  {
   "cell_type": "code",
   "execution_count": 111,
   "metadata": {
    "collapsed": false
   },
   "outputs": [
    {
     "data": {
      "text/plain": [
       "[0, 0, 1, 0, 0]"
      ]
     },
     "execution_count": 111,
     "metadata": {},
     "output_type": "execute_result"
    }
   ],
   "source": [
    "y_pred[-5:]"
   ]
  },
  {
   "cell_type": "code",
   "execution_count": 112,
   "metadata": {
    "collapsed": true
   },
   "outputs": [],
   "source": [
    "cm = confusion_matrix(y_test, y_pred)"
   ]
  },
  {
   "cell_type": "code",
   "execution_count": 113,
   "metadata": {
    "collapsed": false
   },
   "outputs": [
    {
     "data": {
      "text/plain": [
       "array([[2514,   95],\n",
       "       [ 364,  327]], dtype=int64)"
      ]
     },
     "execution_count": 113,
     "metadata": {},
     "output_type": "execute_result"
    }
   ],
   "source": [
    "cm"
   ]
  },
  {
   "cell_type": "code",
   "execution_count": 114,
   "metadata": {
    "collapsed": false
   },
   "outputs": [
    {
     "data": {
      "text/plain": [
       "0.8675757575757576"
      ]
     },
     "execution_count": 114,
     "metadata": {},
     "output_type": "execute_result"
    }
   ],
   "source": [
    "(2507+356)/(2507+102+365+326)"
   ]
  },
  {
   "cell_type": "markdown",
   "metadata": {},
   "source": [
    "# CNN"
   ]
  },
  {
   "cell_type": "code",
   "execution_count": 39,
   "metadata": {
    "collapsed": true
   },
   "outputs": [],
   "source": [
    "clf = Sequential()"
   ]
  },
  {
   "cell_type": "code",
   "execution_count": 40,
   "metadata": {
    "collapsed": false
   },
   "outputs": [
    {
     "name": "stderr",
     "output_type": "stream",
     "text": [
      "C:\\Users\\visha\\Anaconda3\\lib\\site-packages\\ipykernel\\__main__.py:1: UserWarning: Update your `Conv2D` call to the Keras 2 API: `Conv2D(32, (3, 3), activation=\"relu\", input_shape=(64, 64, 3...)`\n",
      "  if __name__ == '__main__':\n"
     ]
    }
   ],
   "source": [
    "clf.add(Convolution2D(32, 3, 3, input_shape = (64, 64, 3), activation = 'relu'))"
   ]
  },
  {
   "cell_type": "code",
   "execution_count": 41,
   "metadata": {
    "collapsed": false
   },
   "outputs": [],
   "source": [
    "clf.add(MaxPooling2D(pool_size = (2, 2)))"
   ]
  },
  {
   "cell_type": "code",
   "execution_count": 42,
   "metadata": {
    "collapsed": false
   },
   "outputs": [
    {
     "name": "stderr",
     "output_type": "stream",
     "text": [
      "C:\\Users\\visha\\Anaconda3\\lib\\site-packages\\ipykernel\\__main__.py:1: UserWarning: Update your `Conv2D` call to the Keras 2 API: `Conv2D(32, (3, 3), activation=\"relu\")`\n",
      "  if __name__ == '__main__':\n"
     ]
    }
   ],
   "source": [
    "clf.add(Convolution2D(32, 3, 3, activation = 'relu'))"
   ]
  },
  {
   "cell_type": "code",
   "execution_count": 43,
   "metadata": {
    "collapsed": true
   },
   "outputs": [],
   "source": [
    "clf.add(MaxPooling2D(pool_size = (2, 2)))"
   ]
  },
  {
   "cell_type": "code",
   "execution_count": 44,
   "metadata": {
    "collapsed": true
   },
   "outputs": [],
   "source": [
    "clf.add(Flatten())"
   ]
  },
  {
   "cell_type": "code",
   "execution_count": 45,
   "metadata": {
    "collapsed": true
   },
   "outputs": [],
   "source": [
    "clf.add(Dense(128, activation = 'relu'))\n",
    "clf.add(Dense(1, activation = 'sigmoid'))"
   ]
  },
  {
   "cell_type": "code",
   "execution_count": 46,
   "metadata": {
    "collapsed": true
   },
   "outputs": [],
   "source": [
    "clf.compile(optimizer = 'adamax', loss = 'binary_crossentropy', metrics = ['accuracy'])"
   ]
  },
  {
   "cell_type": "code",
   "execution_count": 47,
   "metadata": {
    "collapsed": false,
    "scrolled": true
   },
   "outputs": [
    {
     "name": "stdout",
     "output_type": "stream",
     "text": [
      "Found 8000 images belonging to 2 classes.\n",
      "Found 2000 images belonging to 2 classes.\n"
     ]
    }
   ],
   "source": [
    "train_datagen = ImageDataGenerator(\n",
    "        rescale = 1./255,\n",
    "        shear_range = 0.2,\n",
    "        zoom_range = 0.2,\n",
    "        horizontal_flip = True)\n",
    "\n",
    "test_datagen = ImageDataGenerator(rescale = 1./255)\n",
    "\n",
    "train_set = train_datagen.flow_from_directory('CNN/dataset/training_set', target_size=(64, 64), batch_size=32, class_mode='binary')\n",
    "\n",
    "test_set = test_datagen.flow_from_directory('CNN/dataset/test_set', target_size = (64, 64), batch_size = 32, class_mode = 'binary')"
   ]
  },
  {
   "cell_type": "code",
   "execution_count": 48,
   "metadata": {
    "collapsed": false,
    "scrolled": false
   },
   "outputs": [
    {
     "name": "stdout",
     "output_type": "stream",
     "text": [
      "Epoch 1/25\n",
      "8000/8000 [==============================] - 2722s 340ms/step - loss: 0.4012 - acc: 0.8095 - val_loss: 0.5109 - val_acc: 0.7971\n",
      "Epoch 2/25\n",
      "8000/8000 [==============================] - 2569s 321ms/step - loss: 0.1395 - acc: 0.9457 - val_loss: 0.6769 - val_acc: 0.8105\n",
      "Epoch 3/25\n",
      "8000/8000 [==============================] - 2561s 320ms/step - loss: 0.0498 - acc: 0.9825 - val_loss: 0.8776 - val_acc: 0.8212\n",
      "Epoch 4/25\n",
      "8000/8000 [==============================] - 2508s 314ms/step - loss: 0.0254 - acc: 0.9914 - val_loss: 1.0731 - val_acc: 0.8114\n",
      "Epoch 5/25\n",
      "8000/8000 [==============================] - 2513s 314ms/step - loss: 0.0159 - acc: 0.9949 - val_loss: 1.3025 - val_acc: 0.7995\n",
      "Epoch 6/25\n",
      "8000/8000 [==============================] - 2469s 309ms/step - loss: 0.0113 - acc: 0.9965 - val_loss: 1.1813 - val_acc: 0.8175\n",
      "Epoch 7/25\n",
      "8000/8000 [==============================] - 2806s 351ms/step - loss: 0.0088 - acc: 0.9971 - val_loss: 1.3005 - val_acc: 0.8151\n",
      "Epoch 8/25\n",
      "8000/8000 [==============================] - 2910s 364ms/step - loss: 0.0064 - acc: 0.9980 - val_loss: 1.3468 - val_acc: 0.8124\n",
      "Epoch 9/25\n",
      "8000/8000 [==============================] - 2921s 365ms/step - loss: 0.0059 - acc: 0.9981 - val_loss: 1.3728 - val_acc: 0.8125\n",
      "Epoch 10/25\n",
      "8000/8000 [==============================] - 2918s 365ms/step - loss: 0.0048 - acc: 0.9984 - val_loss: 1.3819 - val_acc: 0.8169\n",
      "Epoch 11/25\n",
      "2708/8000 [=========>....................] - ETA: 28:46 - loss: 0.0047 - acc: 0.9984"
     ]
    },
    {
     "ename": "KeyboardInterrupt",
     "evalue": "",
     "output_type": "error",
     "traceback": [
      "\u001b[0;31m---------------------------------------------------------------------------\u001b[0m",
      "\u001b[0;31mKeyboardInterrupt\u001b[0m                         Traceback (most recent call last)",
      "\u001b[0;32m<ipython-input-48-60ebac0c869f>\u001b[0m in \u001b[0;36m<module>\u001b[0;34m()\u001b[0m\n\u001b[0;32m----> 1\u001b[0;31m \u001b[0mclf\u001b[0m\u001b[1;33m.\u001b[0m\u001b[0mfit_generator\u001b[0m\u001b[1;33m(\u001b[0m\u001b[0mtrain_set\u001b[0m\u001b[1;33m,\u001b[0m \u001b[0msteps_per_epoch\u001b[0m \u001b[1;33m=\u001b[0m \u001b[1;36m8000\u001b[0m\u001b[1;33m,\u001b[0m \u001b[0mepochs\u001b[0m \u001b[1;33m=\u001b[0m \u001b[1;36m25\u001b[0m\u001b[1;33m,\u001b[0m \u001b[0mvalidation_data\u001b[0m \u001b[1;33m=\u001b[0m \u001b[0mtest_set\u001b[0m\u001b[1;33m,\u001b[0m \u001b[0mvalidation_steps\u001b[0m \u001b[1;33m=\u001b[0m \u001b[1;36m2000\u001b[0m\u001b[1;33m)\u001b[0m\u001b[1;33m\u001b[0m\u001b[0m\n\u001b[0m",
      "\u001b[0;32mC:\\Users\\visha\\Anaconda3\\lib\\site-packages\\keras\\legacy\\interfaces.py\u001b[0m in \u001b[0;36mwrapper\u001b[0;34m(*args, **kwargs)\u001b[0m\n\u001b[1;32m     89\u001b[0m                 warnings.warn('Update your `' + object_name +\n\u001b[1;32m     90\u001b[0m                               '` call to the Keras 2 API: ' + signature, stacklevel=2)\n\u001b[0;32m---> 91\u001b[0;31m             \u001b[1;32mreturn\u001b[0m \u001b[0mfunc\u001b[0m\u001b[1;33m(\u001b[0m\u001b[1;33m*\u001b[0m\u001b[0margs\u001b[0m\u001b[1;33m,\u001b[0m \u001b[1;33m**\u001b[0m\u001b[0mkwargs\u001b[0m\u001b[1;33m)\u001b[0m\u001b[1;33m\u001b[0m\u001b[0m\n\u001b[0m\u001b[1;32m     92\u001b[0m         \u001b[0mwrapper\u001b[0m\u001b[1;33m.\u001b[0m\u001b[0m_original_function\u001b[0m \u001b[1;33m=\u001b[0m \u001b[0mfunc\u001b[0m\u001b[1;33m\u001b[0m\u001b[0m\n\u001b[1;32m     93\u001b[0m         \u001b[1;32mreturn\u001b[0m \u001b[0mwrapper\u001b[0m\u001b[1;33m\u001b[0m\u001b[0m\n",
      "\u001b[0;32mC:\\Users\\visha\\Anaconda3\\lib\\site-packages\\keras\\models.py\u001b[0m in \u001b[0;36mfit_generator\u001b[0;34m(self, generator, steps_per_epoch, epochs, verbose, callbacks, validation_data, validation_steps, class_weight, max_queue_size, workers, use_multiprocessing, shuffle, initial_epoch)\u001b[0m\n\u001b[1;32m   1274\u001b[0m                                         \u001b[0muse_multiprocessing\u001b[0m\u001b[1;33m=\u001b[0m\u001b[0muse_multiprocessing\u001b[0m\u001b[1;33m,\u001b[0m\u001b[1;33m\u001b[0m\u001b[0m\n\u001b[1;32m   1275\u001b[0m                                         \u001b[0mshuffle\u001b[0m\u001b[1;33m=\u001b[0m\u001b[0mshuffle\u001b[0m\u001b[1;33m,\u001b[0m\u001b[1;33m\u001b[0m\u001b[0m\n\u001b[0;32m-> 1276\u001b[0;31m                                         initial_epoch=initial_epoch)\n\u001b[0m\u001b[1;32m   1277\u001b[0m \u001b[1;33m\u001b[0m\u001b[0m\n\u001b[1;32m   1278\u001b[0m     \u001b[1;33m@\u001b[0m\u001b[0minterfaces\u001b[0m\u001b[1;33m.\u001b[0m\u001b[0mlegacy_generator_methods_support\u001b[0m\u001b[1;33m\u001b[0m\u001b[0m\n",
      "\u001b[0;32mC:\\Users\\visha\\Anaconda3\\lib\\site-packages\\keras\\legacy\\interfaces.py\u001b[0m in \u001b[0;36mwrapper\u001b[0;34m(*args, **kwargs)\u001b[0m\n\u001b[1;32m     89\u001b[0m                 warnings.warn('Update your `' + object_name +\n\u001b[1;32m     90\u001b[0m                               '` call to the Keras 2 API: ' + signature, stacklevel=2)\n\u001b[0;32m---> 91\u001b[0;31m             \u001b[1;32mreturn\u001b[0m \u001b[0mfunc\u001b[0m\u001b[1;33m(\u001b[0m\u001b[1;33m*\u001b[0m\u001b[0margs\u001b[0m\u001b[1;33m,\u001b[0m \u001b[1;33m**\u001b[0m\u001b[0mkwargs\u001b[0m\u001b[1;33m)\u001b[0m\u001b[1;33m\u001b[0m\u001b[0m\n\u001b[0m\u001b[1;32m     92\u001b[0m         \u001b[0mwrapper\u001b[0m\u001b[1;33m.\u001b[0m\u001b[0m_original_function\u001b[0m \u001b[1;33m=\u001b[0m \u001b[0mfunc\u001b[0m\u001b[1;33m\u001b[0m\u001b[0m\n\u001b[1;32m     93\u001b[0m         \u001b[1;32mreturn\u001b[0m \u001b[0mwrapper\u001b[0m\u001b[1;33m\u001b[0m\u001b[0m\n",
      "\u001b[0;32mC:\\Users\\visha\\Anaconda3\\lib\\site-packages\\keras\\engine\\training.py\u001b[0m in \u001b[0;36mfit_generator\u001b[0;34m(self, generator, steps_per_epoch, epochs, verbose, callbacks, validation_data, validation_steps, class_weight, max_queue_size, workers, use_multiprocessing, shuffle, initial_epoch)\u001b[0m\n\u001b[1;32m   2222\u001b[0m                     outs = self.train_on_batch(x, y,\n\u001b[1;32m   2223\u001b[0m                                                \u001b[0msample_weight\u001b[0m\u001b[1;33m=\u001b[0m\u001b[0msample_weight\u001b[0m\u001b[1;33m,\u001b[0m\u001b[1;33m\u001b[0m\u001b[0m\n\u001b[0;32m-> 2224\u001b[0;31m                                                class_weight=class_weight)\n\u001b[0m\u001b[1;32m   2225\u001b[0m \u001b[1;33m\u001b[0m\u001b[0m\n\u001b[1;32m   2226\u001b[0m                     \u001b[1;32mif\u001b[0m \u001b[1;32mnot\u001b[0m \u001b[0misinstance\u001b[0m\u001b[1;33m(\u001b[0m\u001b[0mouts\u001b[0m\u001b[1;33m,\u001b[0m \u001b[0mlist\u001b[0m\u001b[1;33m)\u001b[0m\u001b[1;33m:\u001b[0m\u001b[1;33m\u001b[0m\u001b[0m\n",
      "\u001b[0;32mC:\\Users\\visha\\Anaconda3\\lib\\site-packages\\keras\\engine\\training.py\u001b[0m in \u001b[0;36mtrain_on_batch\u001b[0;34m(self, x, y, sample_weight, class_weight)\u001b[0m\n\u001b[1;32m   1881\u001b[0m             \u001b[0mins\u001b[0m \u001b[1;33m=\u001b[0m \u001b[0mx\u001b[0m \u001b[1;33m+\u001b[0m \u001b[0my\u001b[0m \u001b[1;33m+\u001b[0m \u001b[0msample_weights\u001b[0m\u001b[1;33m\u001b[0m\u001b[0m\n\u001b[1;32m   1882\u001b[0m         \u001b[0mself\u001b[0m\u001b[1;33m.\u001b[0m\u001b[0m_make_train_function\u001b[0m\u001b[1;33m(\u001b[0m\u001b[1;33m)\u001b[0m\u001b[1;33m\u001b[0m\u001b[0m\n\u001b[0;32m-> 1883\u001b[0;31m         \u001b[0moutputs\u001b[0m \u001b[1;33m=\u001b[0m \u001b[0mself\u001b[0m\u001b[1;33m.\u001b[0m\u001b[0mtrain_function\u001b[0m\u001b[1;33m(\u001b[0m\u001b[0mins\u001b[0m\u001b[1;33m)\u001b[0m\u001b[1;33m\u001b[0m\u001b[0m\n\u001b[0m\u001b[1;32m   1884\u001b[0m         \u001b[1;32mif\u001b[0m \u001b[0mlen\u001b[0m\u001b[1;33m(\u001b[0m\u001b[0moutputs\u001b[0m\u001b[1;33m)\u001b[0m \u001b[1;33m==\u001b[0m \u001b[1;36m1\u001b[0m\u001b[1;33m:\u001b[0m\u001b[1;33m\u001b[0m\u001b[0m\n\u001b[1;32m   1885\u001b[0m             \u001b[1;32mreturn\u001b[0m \u001b[0moutputs\u001b[0m\u001b[1;33m[\u001b[0m\u001b[1;36m0\u001b[0m\u001b[1;33m]\u001b[0m\u001b[1;33m\u001b[0m\u001b[0m\n",
      "\u001b[0;32mC:\\Users\\visha\\Anaconda3\\lib\\site-packages\\keras\\backend\\tensorflow_backend.py\u001b[0m in \u001b[0;36m__call__\u001b[0;34m(self, inputs)\u001b[0m\n\u001b[1;32m   2476\u001b[0m         \u001b[0msession\u001b[0m \u001b[1;33m=\u001b[0m \u001b[0mget_session\u001b[0m\u001b[1;33m(\u001b[0m\u001b[1;33m)\u001b[0m\u001b[1;33m\u001b[0m\u001b[0m\n\u001b[1;32m   2477\u001b[0m         updated = session.run(fetches=fetches, feed_dict=feed_dict,\n\u001b[0;32m-> 2478\u001b[0;31m                               **self.session_kwargs)\n\u001b[0m\u001b[1;32m   2479\u001b[0m         \u001b[1;32mreturn\u001b[0m \u001b[0mupdated\u001b[0m\u001b[1;33m[\u001b[0m\u001b[1;33m:\u001b[0m\u001b[0mlen\u001b[0m\u001b[1;33m(\u001b[0m\u001b[0mself\u001b[0m\u001b[1;33m.\u001b[0m\u001b[0moutputs\u001b[0m\u001b[1;33m)\u001b[0m\u001b[1;33m]\u001b[0m\u001b[1;33m\u001b[0m\u001b[0m\n\u001b[1;32m   2480\u001b[0m \u001b[1;33m\u001b[0m\u001b[0m\n",
      "\u001b[0;32mC:\\Users\\visha\\Anaconda3\\lib\\site-packages\\tensorflow\\python\\client\\session.py\u001b[0m in \u001b[0;36mrun\u001b[0;34m(self, fetches, feed_dict, options, run_metadata)\u001b[0m\n\u001b[1;32m    903\u001b[0m     \u001b[1;32mtry\u001b[0m\u001b[1;33m:\u001b[0m\u001b[1;33m\u001b[0m\u001b[0m\n\u001b[1;32m    904\u001b[0m       result = self._run(None, fetches, feed_dict, options_ptr,\n\u001b[0;32m--> 905\u001b[0;31m                          run_metadata_ptr)\n\u001b[0m\u001b[1;32m    906\u001b[0m       \u001b[1;32mif\u001b[0m \u001b[0mrun_metadata\u001b[0m\u001b[1;33m:\u001b[0m\u001b[1;33m\u001b[0m\u001b[0m\n\u001b[1;32m    907\u001b[0m         \u001b[0mproto_data\u001b[0m \u001b[1;33m=\u001b[0m \u001b[0mtf_session\u001b[0m\u001b[1;33m.\u001b[0m\u001b[0mTF_GetBuffer\u001b[0m\u001b[1;33m(\u001b[0m\u001b[0mrun_metadata_ptr\u001b[0m\u001b[1;33m)\u001b[0m\u001b[1;33m\u001b[0m\u001b[0m\n",
      "\u001b[0;32mC:\\Users\\visha\\Anaconda3\\lib\\site-packages\\tensorflow\\python\\client\\session.py\u001b[0m in \u001b[0;36m_run\u001b[0;34m(self, handle, fetches, feed_dict, options, run_metadata)\u001b[0m\n\u001b[1;32m   1135\u001b[0m     \u001b[1;32mif\u001b[0m \u001b[0mfinal_fetches\u001b[0m \u001b[1;32mor\u001b[0m \u001b[0mfinal_targets\u001b[0m \u001b[1;32mor\u001b[0m \u001b[1;33m(\u001b[0m\u001b[0mhandle\u001b[0m \u001b[1;32mand\u001b[0m \u001b[0mfeed_dict_tensor\u001b[0m\u001b[1;33m)\u001b[0m\u001b[1;33m:\u001b[0m\u001b[1;33m\u001b[0m\u001b[0m\n\u001b[1;32m   1136\u001b[0m       results = self._do_run(handle, final_targets, final_fetches,\n\u001b[0;32m-> 1137\u001b[0;31m                              feed_dict_tensor, options, run_metadata)\n\u001b[0m\u001b[1;32m   1138\u001b[0m     \u001b[1;32melse\u001b[0m\u001b[1;33m:\u001b[0m\u001b[1;33m\u001b[0m\u001b[0m\n\u001b[1;32m   1139\u001b[0m       \u001b[0mresults\u001b[0m \u001b[1;33m=\u001b[0m \u001b[1;33m[\u001b[0m\u001b[1;33m]\u001b[0m\u001b[1;33m\u001b[0m\u001b[0m\n",
      "\u001b[0;32mC:\\Users\\visha\\Anaconda3\\lib\\site-packages\\tensorflow\\python\\client\\session.py\u001b[0m in \u001b[0;36m_do_run\u001b[0;34m(self, handle, target_list, fetch_list, feed_dict, options, run_metadata)\u001b[0m\n\u001b[1;32m   1353\u001b[0m     \u001b[1;32mif\u001b[0m \u001b[0mhandle\u001b[0m \u001b[1;32mis\u001b[0m \u001b[1;32mNone\u001b[0m\u001b[1;33m:\u001b[0m\u001b[1;33m\u001b[0m\u001b[0m\n\u001b[1;32m   1354\u001b[0m       return self._do_call(_run_fn, self._session, feeds, fetches, targets,\n\u001b[0;32m-> 1355\u001b[0;31m                            options, run_metadata)\n\u001b[0m\u001b[1;32m   1356\u001b[0m     \u001b[1;32melse\u001b[0m\u001b[1;33m:\u001b[0m\u001b[1;33m\u001b[0m\u001b[0m\n\u001b[1;32m   1357\u001b[0m       \u001b[1;32mreturn\u001b[0m \u001b[0mself\u001b[0m\u001b[1;33m.\u001b[0m\u001b[0m_do_call\u001b[0m\u001b[1;33m(\u001b[0m\u001b[0m_prun_fn\u001b[0m\u001b[1;33m,\u001b[0m \u001b[0mself\u001b[0m\u001b[1;33m.\u001b[0m\u001b[0m_session\u001b[0m\u001b[1;33m,\u001b[0m \u001b[0mhandle\u001b[0m\u001b[1;33m,\u001b[0m \u001b[0mfeeds\u001b[0m\u001b[1;33m,\u001b[0m \u001b[0mfetches\u001b[0m\u001b[1;33m)\u001b[0m\u001b[1;33m\u001b[0m\u001b[0m\n",
      "\u001b[0;32mC:\\Users\\visha\\Anaconda3\\lib\\site-packages\\tensorflow\\python\\client\\session.py\u001b[0m in \u001b[0;36m_do_call\u001b[0;34m(self, fn, *args)\u001b[0m\n\u001b[1;32m   1359\u001b[0m   \u001b[1;32mdef\u001b[0m \u001b[0m_do_call\u001b[0m\u001b[1;33m(\u001b[0m\u001b[0mself\u001b[0m\u001b[1;33m,\u001b[0m \u001b[0mfn\u001b[0m\u001b[1;33m,\u001b[0m \u001b[1;33m*\u001b[0m\u001b[0margs\u001b[0m\u001b[1;33m)\u001b[0m\u001b[1;33m:\u001b[0m\u001b[1;33m\u001b[0m\u001b[0m\n\u001b[1;32m   1360\u001b[0m     \u001b[1;32mtry\u001b[0m\u001b[1;33m:\u001b[0m\u001b[1;33m\u001b[0m\u001b[0m\n\u001b[0;32m-> 1361\u001b[0;31m       \u001b[1;32mreturn\u001b[0m \u001b[0mfn\u001b[0m\u001b[1;33m(\u001b[0m\u001b[1;33m*\u001b[0m\u001b[0margs\u001b[0m\u001b[1;33m)\u001b[0m\u001b[1;33m\u001b[0m\u001b[0m\n\u001b[0m\u001b[1;32m   1362\u001b[0m     \u001b[1;32mexcept\u001b[0m \u001b[0merrors\u001b[0m\u001b[1;33m.\u001b[0m\u001b[0mOpError\u001b[0m \u001b[1;32mas\u001b[0m \u001b[0me\u001b[0m\u001b[1;33m:\u001b[0m\u001b[1;33m\u001b[0m\u001b[0m\n\u001b[1;32m   1363\u001b[0m       \u001b[0mmessage\u001b[0m \u001b[1;33m=\u001b[0m \u001b[0mcompat\u001b[0m\u001b[1;33m.\u001b[0m\u001b[0mas_text\u001b[0m\u001b[1;33m(\u001b[0m\u001b[0me\u001b[0m\u001b[1;33m.\u001b[0m\u001b[0mmessage\u001b[0m\u001b[1;33m)\u001b[0m\u001b[1;33m\u001b[0m\u001b[0m\n",
      "\u001b[0;32mC:\\Users\\visha\\Anaconda3\\lib\\site-packages\\tensorflow\\python\\client\\session.py\u001b[0m in \u001b[0;36m_run_fn\u001b[0;34m(session, feed_dict, fetch_list, target_list, options, run_metadata)\u001b[0m\n\u001b[1;32m   1338\u001b[0m         \u001b[1;32melse\u001b[0m\u001b[1;33m:\u001b[0m\u001b[1;33m\u001b[0m\u001b[0m\n\u001b[1;32m   1339\u001b[0m           return tf_session.TF_Run(session, options, feed_dict, fetch_list,\n\u001b[0;32m-> 1340\u001b[0;31m                                    target_list, status, run_metadata)\n\u001b[0m\u001b[1;32m   1341\u001b[0m \u001b[1;33m\u001b[0m\u001b[0m\n\u001b[1;32m   1342\u001b[0m     \u001b[1;32mdef\u001b[0m \u001b[0m_prun_fn\u001b[0m\u001b[1;33m(\u001b[0m\u001b[0msession\u001b[0m\u001b[1;33m,\u001b[0m \u001b[0mhandle\u001b[0m\u001b[1;33m,\u001b[0m \u001b[0mfeed_dict\u001b[0m\u001b[1;33m,\u001b[0m \u001b[0mfetch_list\u001b[0m\u001b[1;33m)\u001b[0m\u001b[1;33m:\u001b[0m\u001b[1;33m\u001b[0m\u001b[0m\n",
      "\u001b[0;31mKeyboardInterrupt\u001b[0m: "
     ]
    }
   ],
   "source": [
    "clf.fit_generator(train_set, steps_per_epoch = 8000, epochs = 25, validation_data = test_set, validation_steps = 2000)"
   ]
  },
  {
   "cell_type": "code",
   "execution_count": null,
   "metadata": {
    "collapsed": true
   },
   "outputs": [],
   "source": [
    "#set batch size to 1"
   ]
  },
  {
   "cell_type": "code",
   "execution_count": 79,
   "metadata": {
    "collapsed": false
   },
   "outputs": [],
   "source": [
    "img = cv2.imread('Downloads/dog2.jpg')\n",
    "res_img = cv2.resize(img, (64, 64))"
   ]
  },
  {
   "cell_type": "code",
   "execution_count": 94,
   "metadata": {
    "collapsed": false
   },
   "outputs": [
    {
     "data": {
      "text/plain": [
       "(64, 64, 3)"
      ]
     },
     "execution_count": 94,
     "metadata": {},
     "output_type": "execute_result"
    }
   ],
   "source": [
    "res_img.shape"
   ]
  },
  {
   "cell_type": "code",
   "execution_count": 80,
   "metadata": {
    "collapsed": false
   },
   "outputs": [],
   "source": [
    "y = np.reshape(res_img, [1, 64, 64, 3])"
   ]
  },
  {
   "cell_type": "code",
   "execution_count": 64,
   "metadata": {
    "collapsed": false
   },
   "outputs": [
    {
     "data": {
      "text/plain": [
       "{'cats': 0, 'dogs': 1}"
      ]
     },
     "execution_count": 64,
     "metadata": {},
     "output_type": "execute_result"
    }
   ],
   "source": [
    "train_set.class_indices"
   ]
  },
  {
   "cell_type": "code",
   "execution_count": 81,
   "metadata": {
    "collapsed": false
   },
   "outputs": [],
   "source": [
    "pred = clf.predict(y)"
   ]
  },
  {
   "cell_type": "code",
   "execution_count": 82,
   "metadata": {
    "collapsed": false
   },
   "outputs": [
    {
     "name": "stdout",
     "output_type": "stream",
     "text": [
      "Dog\n"
     ]
    }
   ],
   "source": [
    "if pred == 0:\n",
    "    print('Cat')\n",
    "else:\n",
    "    print('Dog')"
   ]
  }
 ],
 "metadata": {
  "anaconda-cloud": {
   "attach-environment": true,
   "summary": "practice",
   "url": "https://anaconda.org/zombie97/prac"
  },
  "kernelspec": {
   "display_name": "Python [default]",
   "language": "python",
   "name": "python3"
  },
  "language_info": {
   "codemirror_mode": {
    "name": "ipython",
    "version": 3
   },
   "file_extension": ".py",
   "mimetype": "text/x-python",
   "name": "python",
   "nbconvert_exporter": "python",
   "pygments_lexer": "ipython3",
   "version": "3.5.2"
  }
 },
 "nbformat": 4,
 "nbformat_minor": 1
}
