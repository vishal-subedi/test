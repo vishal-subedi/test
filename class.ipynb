{
 "cells": [
  {
   "cell_type": "code",
   "execution_count": 1,
   "metadata": {
    "collapsed": true
   },
   "outputs": [],
   "source": [
    "import numpy as np\n",
    "from matplotlib import pyplot as plt\n",
    "from scipy import stats as sts"
   ]
  },
  {
   "cell_type": "code",
   "execution_count": 23,
   "metadata": {
    "collapsed": false
   },
   "outputs": [
    {
     "name": "stdout",
     "output_type": "stream",
     "text": [
      "Enter number of data points\n",
      "5\n",
      "Enter data points\n",
      "23\n",
      "14\n",
      "25\n",
      "26\n",
      "58\n",
      "23.2\n",
      "26.0\n",
      "9.88433103452\n",
      "ModeResult(mode=array([ 12.]), count=array([1]))\n",
      "-1.5765225571983668\n",
      "-0.09363846882581287\n"
     ]
    }
   ],
   "source": [
    "data = []\n",
    "print(\"Enter number of data points\")\n",
    "n = int(input())\n",
    "class Statistics:\n",
    "    def __init__(self, mu = 0, med = 0, sigma = 0, mod = 0, kurt = 0, skew = 0):\n",
    "        self.mean = mu\n",
    "        self.median = med\n",
    "        self.std_dev = sigma\n",
    "        self.mode = mod\n",
    "        self.kurtosis = kurt\n",
    "        self.skewness = skew\n",
    "\n",
    "    def getdata(self):\n",
    "        print(\"Enter data points\")\n",
    "        for i in range(n):\n",
    "            data.append(float(input()))\n",
    "        return np.sort(data)\n",
    "    \n",
    "    def calc(self):\n",
    "        summary = sts.describe(data)\n",
    "        mean = summary.mean\n",
    "        if n%2 == 0:\n",
    "            median = (data[n/2-1] + data[n/2])/2\n",
    "        else:\n",
    "            median = data[int(n/2)]\n",
    "        std_dev = np.sqrt(summary.variance)\n",
    "        mode = sts.mode(data)\n",
    "        kurtosis = summary.kurtosis\n",
    "        skewness = summary.skewness\n",
    "        \n",
    "    def showdata(self):\n",
    "        print(st2.mean)\n",
    "        print(st2.median)\n",
    "        print(st2.std_dev)\n",
    "        print(st2.mode)\n",
    "        print(st2.kurtosis)\n",
    "        jan 18 2013print(st2.skewness)\n",
    "st1 = Statistics()\n",
    "data= st1.getdata()\n",
    "st1.calc()\n",
    "st2 = Statistics(mean, median, std_dev, mode, kurtosis, skewness)\n",
    "st2.showdata()"
   ]
  },
  {
   "cell_type": "code",
   "execution_count": null,
   "metadata": {
    "collapsed": true
   },
   "outputs": [],
   "source": []
  }
 ],
 "metadata": {
  "anaconda-cloud": {},
  "kernelspec": {
   "display_name": "Python [conda root]",
   "language": "python",
   "name": "conda-root-py"
  },
  "language_info": {
   "codemirror_mode": {
    "name": "ipython",
    "version": 3
   },
   "file_extension": ".py",
   "mimetype": "text/x-python",
   "name": "python",
   "nbconvert_exporter": "python",
   "pygments_lexer": "ipython3",
   "version": "3.5.2"
  }
 },
 "nbformat": 4,
 "nbformat_minor": 2
}
