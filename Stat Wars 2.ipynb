{
 "cells": [
  {
   "cell_type": "code",
   "execution_count": 168,
   "metadata": {
    "collapsed": false
   },
   "outputs": [],
   "source": [
    "import numpy as np\n",
    "import scipy as sp\n",
    "import pandas as pd\n",
    "from sklearn.linear_model import LinearRegression as lr, Lasso as ls, Ridge as rg, ElasticNet as en, LogisticRegression as loglr\n",
    "from sklearn import svm, metrics\n",
    "from sklearn.neighbors import KNeighborsRegressor as knr, KNeighborsClassifier as knc\n",
    "from sklearn.ensemble import RandomForestRegressor as rfr, GradientBoostingRegressor as gbr, RandomForestClassifier as rfc, GradientBoostingClassifier as gbc\n",
    "from sklearn.preprocessing import Imputer, normalize, StandardScaler, MinMaxScaler, LabelBinarizer, RobustScaler\n",
    "import seaborn as sns\n",
    "from matplotlib import pyplot as plt\n",
    "from datetime import datetime as dt\n",
    "from sklearn.cross_validation import KFold, train_test_split as tts\n",
    "from catboost import CatBoostRegressor as cbr\n",
    "from sklearn.tree import DecisionTreeRegressor as dtr, DecisionTreeClassifier as dtc\n",
    "from nltk.tokenize import word_tokenize, PunktSentenceTokenizer as pst\n",
    "import random as rd\n",
    "mms = MinMaxScaler()\n",
    "rc = RobustScaler()\n",
    "ss = StandardScaler()"
   ]
  },
  {
   "cell_type": "code",
   "execution_count": 5,
   "metadata": {
    "collapsed": false
   },
   "outputs": [],
   "source": [
    "df_train = pd.read_csv('C:/Users/Visha/Downloads/DataSet_Q2/TrainingData.csv', header = 0, index_col = None)"
   ]
  },
  {
   "cell_type": "code",
   "execution_count": 100,
   "metadata": {
    "collapsed": false
   },
   "outputs": [
    {
     "data": {
      "text/html": [
       "<div>\n",
       "<table border=\"1\" class=\"dataframe\">\n",
       "  <thead>\n",
       "    <tr style=\"text-align: right;\">\n",
       "      <th></th>\n",
       "      <th>YR</th>\n",
       "      <th>QR</th>\n",
       "      <th>BL</th>\n",
       "      <th>AS</th>\n",
       "      <th>DW</th>\n",
       "      <th>LL</th>\n",
       "      <th>ZY</th>\n",
       "      <th>QJ</th>\n",
       "      <th>C1</th>\n",
       "      <th>C2</th>\n",
       "      <th>C3</th>\n",
       "      <th>C4</th>\n",
       "      <th>C5</th>\n",
       "    </tr>\n",
       "  </thead>\n",
       "  <tbody>\n",
       "    <tr>\n",
       "      <th>0</th>\n",
       "      <td>1993</td>\n",
       "      <td>1</td>\n",
       "      <td>A</td>\n",
       "      <td>2822.030932</td>\n",
       "      <td>7762.204749</td>\n",
       "      <td>3669.404853</td>\n",
       "      <td>2931.093590</td>\n",
       "      <td>10595.278120</td>\n",
       "      <td>11</td>\n",
       "      <td>19</td>\n",
       "      <td>3</td>\n",
       "      <td>10</td>\n",
       "      <td>18</td>\n",
       "    </tr>\n",
       "    <tr>\n",
       "      <th>1</th>\n",
       "      <td>1993</td>\n",
       "      <td>1</td>\n",
       "      <td>B</td>\n",
       "      <td>8306.139802</td>\n",
       "      <td>3592.249122</td>\n",
       "      <td>6361.923481</td>\n",
       "      <td>7558.887238</td>\n",
       "      <td>3819.739029</td>\n",
       "      <td>28</td>\n",
       "      <td>16</td>\n",
       "      <td>19</td>\n",
       "      <td>30</td>\n",
       "      <td>42</td>\n",
       "    </tr>\n",
       "    <tr>\n",
       "      <th>2</th>\n",
       "      <td>1993</td>\n",
       "      <td>1</td>\n",
       "      <td>C</td>\n",
       "      <td>12273.947280</td>\n",
       "      <td>5356.626792</td>\n",
       "      <td>5586.193383</td>\n",
       "      <td>8559.345123</td>\n",
       "      <td>8809.098512</td>\n",
       "      <td>12</td>\n",
       "      <td>15</td>\n",
       "      <td>14</td>\n",
       "      <td>19</td>\n",
       "      <td>23</td>\n",
       "    </tr>\n",
       "    <tr>\n",
       "      <th>3</th>\n",
       "      <td>1993</td>\n",
       "      <td>2</td>\n",
       "      <td>A</td>\n",
       "      <td>7819.374160</td>\n",
       "      <td>11247.887710</td>\n",
       "      <td>1458.187114</td>\n",
       "      <td>2265.455618</td>\n",
       "      <td>9315.001710</td>\n",
       "      <td>13</td>\n",
       "      <td>20</td>\n",
       "      <td>7</td>\n",
       "      <td>20</td>\n",
       "      <td>29</td>\n",
       "    </tr>\n",
       "    <tr>\n",
       "      <th>4</th>\n",
       "      <td>1993</td>\n",
       "      <td>2</td>\n",
       "      <td>B</td>\n",
       "      <td>8163.361092</td>\n",
       "      <td>2114.394785</td>\n",
       "      <td>4458.097484</td>\n",
       "      <td>8257.170066</td>\n",
       "      <td>3812.831606</td>\n",
       "      <td>26</td>\n",
       "      <td>16</td>\n",
       "      <td>18</td>\n",
       "      <td>32</td>\n",
       "      <td>38</td>\n",
       "    </tr>\n",
       "    <tr>\n",
       "      <th>5</th>\n",
       "      <td>1993</td>\n",
       "      <td>2</td>\n",
       "      <td>C</td>\n",
       "      <td>9827.502776</td>\n",
       "      <td>8806.366611</td>\n",
       "      <td>6988.364782</td>\n",
       "      <td>12765.580330</td>\n",
       "      <td>8173.092573</td>\n",
       "      <td>12</td>\n",
       "      <td>22</td>\n",
       "      <td>24</td>\n",
       "      <td>16</td>\n",
       "      <td>12</td>\n",
       "    </tr>\n",
       "    <tr>\n",
       "      <th>6</th>\n",
       "      <td>1993</td>\n",
       "      <td>3</td>\n",
       "      <td>A</td>\n",
       "      <td>4956.633189</td>\n",
       "      <td>9934.216008</td>\n",
       "      <td>2192.319422</td>\n",
       "      <td>3232.679230</td>\n",
       "      <td>12714.940830</td>\n",
       "      <td>11</td>\n",
       "      <td>16</td>\n",
       "      <td>2</td>\n",
       "      <td>20</td>\n",
       "      <td>15</td>\n",
       "    </tr>\n",
       "    <tr>\n",
       "      <th>7</th>\n",
       "      <td>1993</td>\n",
       "      <td>3</td>\n",
       "      <td>B</td>\n",
       "      <td>13875.653340</td>\n",
       "      <td>2753.723461</td>\n",
       "      <td>5723.008421</td>\n",
       "      <td>7379.489671</td>\n",
       "      <td>4130.676802</td>\n",
       "      <td>17</td>\n",
       "      <td>18</td>\n",
       "      <td>14</td>\n",
       "      <td>28</td>\n",
       "      <td>35</td>\n",
       "    </tr>\n",
       "    <tr>\n",
       "      <th>8</th>\n",
       "      <td>1993</td>\n",
       "      <td>3</td>\n",
       "      <td>C</td>\n",
       "      <td>9301.931754</td>\n",
       "      <td>3826.243315</td>\n",
       "      <td>6675.669766</td>\n",
       "      <td>12221.456920</td>\n",
       "      <td>8032.012692</td>\n",
       "      <td>24</td>\n",
       "      <td>16</td>\n",
       "      <td>23</td>\n",
       "      <td>23</td>\n",
       "      <td>13</td>\n",
       "    </tr>\n",
       "    <tr>\n",
       "      <th>9</th>\n",
       "      <td>1993</td>\n",
       "      <td>4</td>\n",
       "      <td>A</td>\n",
       "      <td>4947.404605</td>\n",
       "      <td>4792.286870</td>\n",
       "      <td>728.207805</td>\n",
       "      <td>2509.402047</td>\n",
       "      <td>12626.443690</td>\n",
       "      <td>11</td>\n",
       "      <td>19</td>\n",
       "      <td>5</td>\n",
       "      <td>13</td>\n",
       "      <td>18</td>\n",
       "    </tr>\n",
       "    <tr>\n",
       "      <th>10</th>\n",
       "      <td>1993</td>\n",
       "      <td>4</td>\n",
       "      <td>B</td>\n",
       "      <td>8008.488533</td>\n",
       "      <td>4017.859273</td>\n",
       "      <td>4560.418566</td>\n",
       "      <td>7538.921394</td>\n",
       "      <td>3712.519832</td>\n",
       "      <td>28</td>\n",
       "      <td>22</td>\n",
       "      <td>18</td>\n",
       "      <td>27</td>\n",
       "      <td>34</td>\n",
       "    </tr>\n",
       "    <tr>\n",
       "      <th>11</th>\n",
       "      <td>1993</td>\n",
       "      <td>4</td>\n",
       "      <td>C</td>\n",
       "      <td>9281.618390</td>\n",
       "      <td>5254.994006</td>\n",
       "      <td>4513.786405</td>\n",
       "      <td>8554.255940</td>\n",
       "      <td>6594.175631</td>\n",
       "      <td>14</td>\n",
       "      <td>18</td>\n",
       "      <td>22</td>\n",
       "      <td>14</td>\n",
       "      <td>13</td>\n",
       "    </tr>\n",
       "    <tr>\n",
       "      <th>12</th>\n",
       "      <td>1994</td>\n",
       "      <td>1</td>\n",
       "      <td>A</td>\n",
       "      <td>11303.389880</td>\n",
       "      <td>7319.831054</td>\n",
       "      <td>2913.156937</td>\n",
       "      <td>3285.538176</td>\n",
       "      <td>8732.342584</td>\n",
       "      <td>1</td>\n",
       "      <td>17</td>\n",
       "      <td>4</td>\n",
       "      <td>13</td>\n",
       "      <td>26</td>\n",
       "    </tr>\n",
       "    <tr>\n",
       "      <th>13</th>\n",
       "      <td>1994</td>\n",
       "      <td>1</td>\n",
       "      <td>B</td>\n",
       "      <td>8965.028831</td>\n",
       "      <td>3170.479054</td>\n",
       "      <td>7004.862245</td>\n",
       "      <td>6056.365693</td>\n",
       "      <td>3802.660031</td>\n",
       "      <td>14</td>\n",
       "      <td>17</td>\n",
       "      <td>17</td>\n",
       "      <td>35</td>\n",
       "      <td>39</td>\n",
       "    </tr>\n",
       "    <tr>\n",
       "      <th>14</th>\n",
       "      <td>1994</td>\n",
       "      <td>1</td>\n",
       "      <td>C</td>\n",
       "      <td>11094.367650</td>\n",
       "      <td>4541.392225</td>\n",
       "      <td>8261.077865</td>\n",
       "      <td>10942.598320</td>\n",
       "      <td>2629.190267</td>\n",
       "      <td>22</td>\n",
       "      <td>15</td>\n",
       "      <td>24</td>\n",
       "      <td>16</td>\n",
       "      <td>9</td>\n",
       "    </tr>\n",
       "    <tr>\n",
       "      <th>15</th>\n",
       "      <td>1994</td>\n",
       "      <td>2</td>\n",
       "      <td>A</td>\n",
       "      <td>5724.699754</td>\n",
       "      <td>7680.422231</td>\n",
       "      <td>2949.527759</td>\n",
       "      <td>3547.987778</td>\n",
       "      <td>12405.453140</td>\n",
       "      <td>11</td>\n",
       "      <td>11</td>\n",
       "      <td>5</td>\n",
       "      <td>17</td>\n",
       "      <td>27</td>\n",
       "    </tr>\n",
       "    <tr>\n",
       "      <th>16</th>\n",
       "      <td>1994</td>\n",
       "      <td>2</td>\n",
       "      <td>B</td>\n",
       "      <td>11588.763810</td>\n",
       "      <td>3806.257281</td>\n",
       "      <td>2982.753621</td>\n",
       "      <td>7948.478403</td>\n",
       "      <td>4383.972642</td>\n",
       "      <td>18</td>\n",
       "      <td>20</td>\n",
       "      <td>30</td>\n",
       "      <td>36</td>\n",
       "      <td>40</td>\n",
       "    </tr>\n",
       "    <tr>\n",
       "      <th>17</th>\n",
       "      <td>1994</td>\n",
       "      <td>2</td>\n",
       "      <td>C</td>\n",
       "      <td>11073.545280</td>\n",
       "      <td>4191.079287</td>\n",
       "      <td>6216.663104</td>\n",
       "      <td>9754.472263</td>\n",
       "      <td>8855.756655</td>\n",
       "      <td>19</td>\n",
       "      <td>28</td>\n",
       "      <td>20</td>\n",
       "      <td>15</td>\n",
       "      <td>10</td>\n",
       "    </tr>\n",
       "    <tr>\n",
       "      <th>18</th>\n",
       "      <td>1994</td>\n",
       "      <td>3</td>\n",
       "      <td>A</td>\n",
       "      <td>4217.861008</td>\n",
       "      <td>6851.562806</td>\n",
       "      <td>1468.393848</td>\n",
       "      <td>2792.582332</td>\n",
       "      <td>17635.781180</td>\n",
       "      <td>9</td>\n",
       "      <td>19</td>\n",
       "      <td>6</td>\n",
       "      <td>7</td>\n",
       "      <td>27</td>\n",
       "    </tr>\n",
       "    <tr>\n",
       "      <th>19</th>\n",
       "      <td>1994</td>\n",
       "      <td>3</td>\n",
       "      <td>B</td>\n",
       "      <td>6834.123306</td>\n",
       "      <td>2964.688087</td>\n",
       "      <td>3520.696775</td>\n",
       "      <td>8246.310833</td>\n",
       "      <td>3962.214080</td>\n",
       "      <td>18</td>\n",
       "      <td>13</td>\n",
       "      <td>22</td>\n",
       "      <td>31</td>\n",
       "      <td>27</td>\n",
       "    </tr>\n",
       "    <tr>\n",
       "      <th>20</th>\n",
       "      <td>1994</td>\n",
       "      <td>3</td>\n",
       "      <td>C</td>\n",
       "      <td>12304.640710</td>\n",
       "      <td>3821.604640</td>\n",
       "      <td>4937.709367</td>\n",
       "      <td>14067.933660</td>\n",
       "      <td>5769.196314</td>\n",
       "      <td>17</td>\n",
       "      <td>17</td>\n",
       "      <td>26</td>\n",
       "      <td>18</td>\n",
       "      <td>8</td>\n",
       "    </tr>\n",
       "    <tr>\n",
       "      <th>21</th>\n",
       "      <td>1994</td>\n",
       "      <td>4</td>\n",
       "      <td>A</td>\n",
       "      <td>9765.998633</td>\n",
       "      <td>8164.351052</td>\n",
       "      <td>5885.164879</td>\n",
       "      <td>4179.043826</td>\n",
       "      <td>9469.133460</td>\n",
       "      <td>6</td>\n",
       "      <td>11</td>\n",
       "      <td>4</td>\n",
       "      <td>13</td>\n",
       "      <td>30</td>\n",
       "    </tr>\n",
       "    <tr>\n",
       "      <th>22</th>\n",
       "      <td>1994</td>\n",
       "      <td>4</td>\n",
       "      <td>B</td>\n",
       "      <td>9157.466507</td>\n",
       "      <td>2747.509160</td>\n",
       "      <td>6965.192992</td>\n",
       "      <td>8676.553727</td>\n",
       "      <td>3543.376860</td>\n",
       "      <td>31</td>\n",
       "      <td>22</td>\n",
       "      <td>18</td>\n",
       "      <td>26</td>\n",
       "      <td>32</td>\n",
       "    </tr>\n",
       "    <tr>\n",
       "      <th>23</th>\n",
       "      <td>1994</td>\n",
       "      <td>4</td>\n",
       "      <td>C</td>\n",
       "      <td>6826.697150</td>\n",
       "      <td>2309.256955</td>\n",
       "      <td>4291.496386</td>\n",
       "      <td>9761.855806</td>\n",
       "      <td>8568.929280</td>\n",
       "      <td>20</td>\n",
       "      <td>17</td>\n",
       "      <td>24</td>\n",
       "      <td>12</td>\n",
       "      <td>11</td>\n",
       "    </tr>\n",
       "    <tr>\n",
       "      <th>24</th>\n",
       "      <td>1995</td>\n",
       "      <td>1</td>\n",
       "      <td>A</td>\n",
       "      <td>9878.800160</td>\n",
       "      <td>4777.830161</td>\n",
       "      <td>3655.133301</td>\n",
       "      <td>2040.857000</td>\n",
       "      <td>12501.472410</td>\n",
       "      <td>5</td>\n",
       "      <td>20</td>\n",
       "      <td>8</td>\n",
       "      <td>11</td>\n",
       "      <td>19</td>\n",
       "    </tr>\n",
       "  </tbody>\n",
       "</table>\n",
       "</div>"
      ],
      "text/plain": [
       "      YR  QR BL            AS            DW           LL            ZY  \\\n",
       "0   1993   1  A   2822.030932   7762.204749  3669.404853   2931.093590   \n",
       "1   1993   1  B   8306.139802   3592.249122  6361.923481   7558.887238   \n",
       "2   1993   1  C  12273.947280   5356.626792  5586.193383   8559.345123   \n",
       "3   1993   2  A   7819.374160  11247.887710  1458.187114   2265.455618   \n",
       "4   1993   2  B   8163.361092   2114.394785  4458.097484   8257.170066   \n",
       "5   1993   2  C   9827.502776   8806.366611  6988.364782  12765.580330   \n",
       "6   1993   3  A   4956.633189   9934.216008  2192.319422   3232.679230   \n",
       "7   1993   3  B  13875.653340   2753.723461  5723.008421   7379.489671   \n",
       "8   1993   3  C   9301.931754   3826.243315  6675.669766  12221.456920   \n",
       "9   1993   4  A   4947.404605   4792.286870   728.207805   2509.402047   \n",
       "10  1993   4  B   8008.488533   4017.859273  4560.418566   7538.921394   \n",
       "11  1993   4  C   9281.618390   5254.994006  4513.786405   8554.255940   \n",
       "12  1994   1  A  11303.389880   7319.831054  2913.156937   3285.538176   \n",
       "13  1994   1  B   8965.028831   3170.479054  7004.862245   6056.365693   \n",
       "14  1994   1  C  11094.367650   4541.392225  8261.077865  10942.598320   \n",
       "15  1994   2  A   5724.699754   7680.422231  2949.527759   3547.987778   \n",
       "16  1994   2  B  11588.763810   3806.257281  2982.753621   7948.478403   \n",
       "17  1994   2  C  11073.545280   4191.079287  6216.663104   9754.472263   \n",
       "18  1994   3  A   4217.861008   6851.562806  1468.393848   2792.582332   \n",
       "19  1994   3  B   6834.123306   2964.688087  3520.696775   8246.310833   \n",
       "20  1994   3  C  12304.640710   3821.604640  4937.709367  14067.933660   \n",
       "21  1994   4  A   9765.998633   8164.351052  5885.164879   4179.043826   \n",
       "22  1994   4  B   9157.466507   2747.509160  6965.192992   8676.553727   \n",
       "23  1994   4  C   6826.697150   2309.256955  4291.496386   9761.855806   \n",
       "24  1995   1  A   9878.800160   4777.830161  3655.133301   2040.857000   \n",
       "\n",
       "              QJ  C1  C2  C3  C4  C5  \n",
       "0   10595.278120  11  19   3  10  18  \n",
       "1    3819.739029  28  16  19  30  42  \n",
       "2    8809.098512  12  15  14  19  23  \n",
       "3    9315.001710  13  20   7  20  29  \n",
       "4    3812.831606  26  16  18  32  38  \n",
       "5    8173.092573  12  22  24  16  12  \n",
       "6   12714.940830  11  16   2  20  15  \n",
       "7    4130.676802  17  18  14  28  35  \n",
       "8    8032.012692  24  16  23  23  13  \n",
       "9   12626.443690  11  19   5  13  18  \n",
       "10   3712.519832  28  22  18  27  34  \n",
       "11   6594.175631  14  18  22  14  13  \n",
       "12   8732.342584   1  17   4  13  26  \n",
       "13   3802.660031  14  17  17  35  39  \n",
       "14   2629.190267  22  15  24  16   9  \n",
       "15  12405.453140  11  11   5  17  27  \n",
       "16   4383.972642  18  20  30  36  40  \n",
       "17   8855.756655  19  28  20  15  10  \n",
       "18  17635.781180   9  19   6   7  27  \n",
       "19   3962.214080  18  13  22  31  27  \n",
       "20   5769.196314  17  17  26  18   8  \n",
       "21   9469.133460   6  11   4  13  30  \n",
       "22   3543.376860  31  22  18  26  32  \n",
       "23   8568.929280  20  17  24  12  11  \n",
       "24  12501.472410   5  20   8  11  19  "
      ]
     },
     "execution_count": 100,
     "metadata": {},
     "output_type": "execute_result"
    }
   ],
   "source": [
    "df_train.head(25)"
   ]
  },
  {
   "cell_type": "code",
   "execution_count": 7,
   "metadata": {
    "collapsed": true
   },
   "outputs": [],
   "source": [
    "df_train.drop('Unnamed: 0', axis = 1, inplace = 1)"
   ]
  },
  {
   "cell_type": "code",
   "execution_count": 137,
   "metadata": {
    "collapsed": false
   },
   "outputs": [],
   "source": [
    "temp = df_train[df_train['QR'] == 1][['BL', 'AS', 'C1']]\n",
    "temp_as_a = temp[temp['BL'] == 'A']"
   ]
  },
  {
   "cell_type": "code",
   "execution_count": 146,
   "metadata": {
    "collapsed": false
   },
   "outputs": [
    {
     "data": {
      "text/html": [
       "<div>\n",
       "<table border=\"1\" class=\"dataframe\">\n",
       "  <thead>\n",
       "    <tr style=\"text-align: right;\">\n",
       "      <th></th>\n",
       "      <th>BL</th>\n",
       "      <th>AS</th>\n",
       "      <th>C1</th>\n",
       "    </tr>\n",
       "  </thead>\n",
       "  <tbody>\n",
       "    <tr>\n",
       "      <th>0</th>\n",
       "      <td>A</td>\n",
       "      <td>2822.030932</td>\n",
       "      <td>11</td>\n",
       "    </tr>\n",
       "    <tr>\n",
       "      <th>12</th>\n",
       "      <td>A</td>\n",
       "      <td>11303.389880</td>\n",
       "      <td>1</td>\n",
       "    </tr>\n",
       "    <tr>\n",
       "      <th>24</th>\n",
       "      <td>A</td>\n",
       "      <td>9878.800160</td>\n",
       "      <td>5</td>\n",
       "    </tr>\n",
       "    <tr>\n",
       "      <th>36</th>\n",
       "      <td>A</td>\n",
       "      <td>7054.800991</td>\n",
       "      <td>13</td>\n",
       "    </tr>\n",
       "    <tr>\n",
       "      <th>48</th>\n",
       "      <td>A</td>\n",
       "      <td>6332.993205</td>\n",
       "      <td>9</td>\n",
       "    </tr>\n",
       "  </tbody>\n",
       "</table>\n",
       "</div>"
      ],
      "text/plain": [
       "   BL            AS  C1\n",
       "0   A   2822.030932  11\n",
       "12  A  11303.389880   1\n",
       "24  A   9878.800160   5\n",
       "36  A   7054.800991  13\n",
       "48  A   6332.993205   9"
      ]
     },
     "execution_count": 146,
     "metadata": {},
     "output_type": "execute_result"
    }
   ],
   "source": [
    "temp_as_a.head()"
   ]
  },
  {
   "cell_type": "code",
   "execution_count": 151,
   "metadata": {
    "collapsed": false
   },
   "outputs": [
    {
     "data": {
      "text/plain": [
       "9878.8001599999989"
      ]
     },
     "execution_count": 151,
     "metadata": {},
     "output_type": "execute_result"
    }
   ],
   "source": [
    "temp_as_a.iloc[2,1]"
   ]
  },
  {
   "cell_type": "code",
   "execution_count": 148,
   "metadata": {
    "collapsed": false
   },
   "outputs": [
    {
     "data": {
      "text/plain": [
       "A    24\n",
       "Name: BL, dtype: int64"
      ]
     },
     "execution_count": 148,
     "metadata": {},
     "output_type": "execute_result"
    }
   ],
   "source": [
    "temp_as_a.BL.value_counts()"
   ]
  },
  {
   "cell_type": "code",
   "execution_count": 142,
   "metadata": {
    "collapsed": false
   },
   "outputs": [],
   "source": [
    "sum_as = 0\n",
    "sum_c1 = 0\n",
    "for i in range(temp_as_a.shape[0]):\n",
    "    sum_as += temp_as_a.iloc[i,1]\n",
    "    sum_c1 += temp_as_a.iloc[i,2]\n",
    "x_bar = sum_as/24"
   ]
  },
  {
   "cell_type": "code",
   "execution_count": 143,
   "metadata": {
    "collapsed": false
   },
   "outputs": [
    {
     "data": {
      "text/plain": [
       "6983.9229429166671"
      ]
     },
     "execution_count": 143,
     "metadata": {},
     "output_type": "execute_result"
    }
   ],
   "source": [
    "x_bar"
   ]
  },
  {
   "cell_type": "code",
   "execution_count": 156,
   "metadata": {
    "collapsed": false
   },
   "outputs": [
    {
     "data": {
      "text/plain": [
       "0"
      ]
     },
     "execution_count": 156,
     "metadata": {},
     "output_type": "execute_result"
    }
   ],
   "source": [
    "2^2"
   ]
  },
  {
   "cell_type": "code",
   "execution_count": 157,
   "metadata": {
    "collapsed": false
   },
   "outputs": [],
   "source": [
    "var = 0\n",
    "for i in range(temp_as_a.shape[0]):\n",
    "    var += (pow(temp_as_a.iloc[i,1] - x_bar,2))/(23)\n",
    "sigm = np.sqrt(var)"
   ]
  },
  {
   "cell_type": "code",
   "execution_count": 158,
   "metadata": {
    "collapsed": false
   },
   "outputs": [
    {
     "data": {
      "text/plain": [
       "1971.8807008965421"
      ]
     },
     "execution_count": 158,
     "metadata": {},
     "output_type": "execute_result"
    }
   ],
   "source": [
    "sigm"
   ]
  },
  {
   "cell_type": "code",
   "execution_count": 132,
   "metadata": {
    "collapsed": true
   },
   "outputs": [],
   "source": [
    "temp = df_train[df_train['QR'] == 1][['BL', 'AS']]\n",
    "temp_as_b = temp[temp['BL'] == 'B']"
   ]
  },
  {
   "cell_type": "code",
   "execution_count": 133,
   "metadata": {
    "collapsed": false
   },
   "outputs": [
    {
     "data": {
      "text/html": [
       "<div>\n",
       "<table border=\"1\" class=\"dataframe\">\n",
       "  <thead>\n",
       "    <tr style=\"text-align: right;\">\n",
       "      <th></th>\n",
       "      <th>BL</th>\n",
       "      <th>AS</th>\n",
       "    </tr>\n",
       "  </thead>\n",
       "  <tbody>\n",
       "    <tr>\n",
       "      <th>1</th>\n",
       "      <td>B</td>\n",
       "      <td>8306.139802</td>\n",
       "    </tr>\n",
       "    <tr>\n",
       "      <th>13</th>\n",
       "      <td>B</td>\n",
       "      <td>8965.028831</td>\n",
       "    </tr>\n",
       "    <tr>\n",
       "      <th>25</th>\n",
       "      <td>B</td>\n",
       "      <td>10434.220550</td>\n",
       "    </tr>\n",
       "    <tr>\n",
       "      <th>37</th>\n",
       "      <td>B</td>\n",
       "      <td>6848.969736</td>\n",
       "    </tr>\n",
       "    <tr>\n",
       "      <th>49</th>\n",
       "      <td>B</td>\n",
       "      <td>6541.677165</td>\n",
       "    </tr>\n",
       "  </tbody>\n",
       "</table>\n",
       "</div>"
      ],
      "text/plain": [
       "   BL            AS\n",
       "1   B   8306.139802\n",
       "13  B   8965.028831\n",
       "25  B  10434.220550\n",
       "37  B   6848.969736\n",
       "49  B   6541.677165"
      ]
     },
     "execution_count": 133,
     "metadata": {},
     "output_type": "execute_result"
    }
   ],
   "source": [
    "temp_as_b.head()"
   ]
  },
  {
   "cell_type": "code",
   "execution_count": 136,
   "metadata": {
    "collapsed": false
   },
   "outputs": [
    {
     "data": {
      "text/plain": [
       "B    25\n",
       "Name: BL, dtype: int64"
      ]
     },
     "execution_count": 136,
     "metadata": {},
     "output_type": "execute_result"
    }
   ],
   "source": [
    "temp_as_b.BL.value_counts()"
   ]
  },
  {
   "cell_type": "code",
   "execution_count": 24,
   "metadata": {
    "collapsed": true
   },
   "outputs": [],
   "source": [
    "temp = df_train[df_train['QR'] == 1][['BL', 'AS']]\n",
    "temp_as_c = temp[temp['BL'] == 'C']"
   ]
  },
  {
   "cell_type": "code",
   "execution_count": 25,
   "metadata": {
    "collapsed": false
   },
   "outputs": [
    {
     "data": {
      "text/html": [
       "<div>\n",
       "<table border=\"1\" class=\"dataframe\">\n",
       "  <thead>\n",
       "    <tr style=\"text-align: right;\">\n",
       "      <th></th>\n",
       "      <th>BL</th>\n",
       "      <th>AS</th>\n",
       "    </tr>\n",
       "  </thead>\n",
       "  <tbody>\n",
       "    <tr>\n",
       "      <th>2</th>\n",
       "      <td>C</td>\n",
       "      <td>12273.947280</td>\n",
       "    </tr>\n",
       "    <tr>\n",
       "      <th>14</th>\n",
       "      <td>C</td>\n",
       "      <td>11094.367650</td>\n",
       "    </tr>\n",
       "    <tr>\n",
       "      <th>26</th>\n",
       "      <td>C</td>\n",
       "      <td>8047.547175</td>\n",
       "    </tr>\n",
       "    <tr>\n",
       "      <th>38</th>\n",
       "      <td>C</td>\n",
       "      <td>6767.508982</td>\n",
       "    </tr>\n",
       "    <tr>\n",
       "      <th>50</th>\n",
       "      <td>C</td>\n",
       "      <td>11107.574120</td>\n",
       "    </tr>\n",
       "  </tbody>\n",
       "</table>\n",
       "</div>"
      ],
      "text/plain": [
       "   BL            AS\n",
       "2   C  12273.947280\n",
       "14  C  11094.367650\n",
       "26  C   8047.547175\n",
       "38  C   6767.508982\n",
       "50  C  11107.574120"
      ]
     },
     "execution_count": 25,
     "metadata": {},
     "output_type": "execute_result"
    }
   ],
   "source": [
    "temp_as_c.head()"
   ]
  },
  {
   "cell_type": "code",
   "execution_count": 46,
   "metadata": {
    "collapsed": false
   },
   "outputs": [
    {
     "data": {
      "image/png": "[encoded data removed]",
      "text/plain": [
       "<matplotlib.figure.Figure at 0x28d3b5ed780>"
      ]
     },
     "metadata": {},
     "output_type": "display_data"
    }
   ],
   "source": [
    "plt.hist(temp_as_b.AS, bins = 5, normed = 1)\n",
    "plt.show()"
   ]
  },
  {
   "cell_type": "code",
   "execution_count": 44,
   "metadata": {
    "collapsed": false
   },
   "outputs": [
    {
     "data": {
      "image/png": "[encoded data removed]",
      "text/plain": [
       "<matplotlib.figure.Figure at 0x28d3b61b048>"
      ]
     },
     "metadata": {},
     "output_type": "display_data"
    }
   ],
   "source": [
    "plt.hist(temp_as_c.AS, bins = 5, normed = 1, cumulative = 0)\n",
    "plt.show()"
   ]
  },
  {
   "cell_type": "code",
   "execution_count": 38,
   "metadata": {
    "collapsed": false
   },
   "outputs": [
    {
     "data": {
      "image/png": "[encoded data removed]",
      "text/plain": [
       "<matplotlib.figure.Figure at 0x28d3c759d68>"
      ]
     },
     "metadata": {},
     "output_type": "display_data"
    }
   ],
   "source": [
    "plt.hist(temp_as_a.AS, bins = 10, normed = 1)\n",
    "plt.show()"
   ]
  },
  {
   "cell_type": "code",
   "execution_count": 50,
   "metadata": {
    "collapsed": true
   },
   "outputs": [],
   "source": [
    "temp = df_train[df_train['QR'] == 2][['BL', 'AS']]\n",
    "temp_as_a_2 = temp[temp['BL'] == 'A']"
   ]
  },
  {
   "cell_type": "code",
   "execution_count": 51,
   "metadata": {
    "collapsed": false
   },
   "outputs": [
    {
     "data": {
      "text/html": [
       "<div>\n",
       "<table border=\"1\" class=\"dataframe\">\n",
       "  <thead>\n",
       "    <tr style=\"text-align: right;\">\n",
       "      <th></th>\n",
       "      <th>BL</th>\n",
       "      <th>AS</th>\n",
       "    </tr>\n",
       "  </thead>\n",
       "  <tbody>\n",
       "    <tr>\n",
       "      <th>3</th>\n",
       "      <td>A</td>\n",
       "      <td>7819.374160</td>\n",
       "    </tr>\n",
       "    <tr>\n",
       "      <th>15</th>\n",
       "      <td>A</td>\n",
       "      <td>5724.699754</td>\n",
       "    </tr>\n",
       "    <tr>\n",
       "      <th>27</th>\n",
       "      <td>A</td>\n",
       "      <td>11185.388050</td>\n",
       "    </tr>\n",
       "    <tr>\n",
       "      <th>39</th>\n",
       "      <td>A</td>\n",
       "      <td>7103.394939</td>\n",
       "    </tr>\n",
       "    <tr>\n",
       "      <th>51</th>\n",
       "      <td>A</td>\n",
       "      <td>6398.971667</td>\n",
       "    </tr>\n",
       "  </tbody>\n",
       "</table>\n",
       "</div>"
      ],
      "text/plain": [
       "   BL            AS\n",
       "3   A   7819.374160\n",
       "15  A   5724.699754\n",
       "27  A  11185.388050\n",
       "39  A   7103.394939\n",
       "51  A   6398.971667"
      ]
     },
     "execution_count": 51,
     "metadata": {},
     "output_type": "execute_result"
    }
   ],
   "source": [
    "temp_as_a_2.head()"
   ]
  },
  {
   "cell_type": "code",
   "execution_count": 52,
   "metadata": {
    "collapsed": false
   },
   "outputs": [
    {
     "data": {
      "image/png": "[encoded data removed]",
      "text/plain": [
       "<matplotlib.figure.Figure at 0x28d3b4d4780>"
      ]
     },
     "metadata": {},
     "output_type": "display_data"
    }
   ],
   "source": [
    "plt.hist(temp_as_a_2.AS, bins = 10, normed = 1)\n",
    "plt.show()"
   ]
  },
  {
   "cell_type": "code",
   "execution_count": 53,
   "metadata": {
    "collapsed": true
   },
   "outputs": [],
   "source": [
    "temp = df_train[df_train['QR'] == 2][['BL', 'AS']]\n",
    "temp_as_b_2 = temp[temp['BL'] == 'B']"
   ]
  },
  {
   "cell_type": "code",
   "execution_count": 54,
   "metadata": {
    "collapsed": false
   },
   "outputs": [
    {
     "data": {
      "text/html": [
       "<div>\n",
       "<table border=\"1\" class=\"dataframe\">\n",
       "  <thead>\n",
       "    <tr style=\"text-align: right;\">\n",
       "      <th></th>\n",
       "      <th>BL</th>\n",
       "      <th>AS</th>\n",
       "    </tr>\n",
       "  </thead>\n",
       "  <tbody>\n",
       "    <tr>\n",
       "      <th>4</th>\n",
       "      <td>B</td>\n",
       "      <td>8163.361092</td>\n",
       "    </tr>\n",
       "    <tr>\n",
       "      <th>16</th>\n",
       "      <td>B</td>\n",
       "      <td>11588.763810</td>\n",
       "    </tr>\n",
       "    <tr>\n",
       "      <th>28</th>\n",
       "      <td>B</td>\n",
       "      <td>10870.244260</td>\n",
       "    </tr>\n",
       "    <tr>\n",
       "      <th>40</th>\n",
       "      <td>B</td>\n",
       "      <td>11495.292270</td>\n",
       "    </tr>\n",
       "    <tr>\n",
       "      <th>52</th>\n",
       "      <td>B</td>\n",
       "      <td>10093.303080</td>\n",
       "    </tr>\n",
       "  </tbody>\n",
       "</table>\n",
       "</div>"
      ],
      "text/plain": [
       "   BL            AS\n",
       "4   B   8163.361092\n",
       "16  B  11588.763810\n",
       "28  B  10870.244260\n",
       "40  B  11495.292270\n",
       "52  B  10093.303080"
      ]
     },
     "execution_count": 54,
     "metadata": {},
     "output_type": "execute_result"
    }
   ],
   "source": [
    "temp_as_b_2.head()"
   ]
  },
  {
   "cell_type": "code",
   "execution_count": 57,
   "metadata": {
    "collapsed": false
   },
   "outputs": [
    {
     "data": {
      "text/plain": [
       "B    25\n",
       "Name: BL, dtype: int64"
      ]
     },
     "execution_count": 57,
     "metadata": {},
     "output_type": "execute_result"
    }
   ],
   "source": [
    "temp_as_b_2.BL.value_counts()"
   ]
  },
  {
   "cell_type": "code",
   "execution_count": 55,
   "metadata": {
    "collapsed": false
   },
   "outputs": [
    {
     "data": {
      "image/png": "[encoded data removed]",
      "text/plain": [
       "<matplotlib.figure.Figure at 0x28d3b4a7278>"
      ]
     },
     "metadata": {},
     "output_type": "display_data"
    }
   ],
   "source": [
    "plt.hist(temp_as_b_2.AS, bins = 10, normed = 1)\n",
    "plt.show()"
   ]
  },
  {
   "cell_type": "code",
   "execution_count": 58,
   "metadata": {
    "collapsed": true
   },
   "outputs": [],
   "source": [
    "temp = df_train[df_train['QR'] == 1][['BL', 'DW']]\n",
    "temp_dw_a_1 = temp[temp['BL'] == 'A']"
   ]
  },
  {
   "cell_type": "code",
   "execution_count": 60,
   "metadata": {
    "collapsed": false
   },
   "outputs": [
    {
     "data": {
      "text/html": [
       "<div>\n",
       "<table border=\"1\" class=\"dataframe\">\n",
       "  <thead>\n",
       "    <tr style=\"text-align: right;\">\n",
       "      <th></th>\n",
       "      <th>BL</th>\n",
       "      <th>DW</th>\n",
       "    </tr>\n",
       "  </thead>\n",
       "  <tbody>\n",
       "    <tr>\n",
       "      <th>0</th>\n",
       "      <td>A</td>\n",
       "      <td>7762.204749</td>\n",
       "    </tr>\n",
       "    <tr>\n",
       "      <th>12</th>\n",
       "      <td>A</td>\n",
       "      <td>7319.831054</td>\n",
       "    </tr>\n",
       "    <tr>\n",
       "      <th>24</th>\n",
       "      <td>A</td>\n",
       "      <td>4777.830161</td>\n",
       "    </tr>\n",
       "    <tr>\n",
       "      <th>36</th>\n",
       "      <td>A</td>\n",
       "      <td>10067.120080</td>\n",
       "    </tr>\n",
       "    <tr>\n",
       "      <th>48</th>\n",
       "      <td>A</td>\n",
       "      <td>10893.203920</td>\n",
       "    </tr>\n",
       "  </tbody>\n",
       "</table>\n",
       "</div>"
      ],
      "text/plain": [
       "   BL            DW\n",
       "0   A   7762.204749\n",
       "12  A   7319.831054\n",
       "24  A   4777.830161\n",
       "36  A  10067.120080\n",
       "48  A  10893.203920"
      ]
     },
     "execution_count": 60,
     "metadata": {},
     "output_type": "execute_result"
    }
   ],
   "source": [
    "temp_dw_a_1.head()"
   ]
  },
  {
   "cell_type": "code",
   "execution_count": 63,
   "metadata": {
    "collapsed": false
   },
   "outputs": [
    {
     "data": {
      "image/png": "[encoded data removed]",
      "text/plain": [
       "<matplotlib.figure.Figure at 0x28d3b575c50>"
      ]
     },
     "metadata": {},
     "output_type": "display_data"
    }
   ],
   "source": [
    "plt.hist(temp_dw_a_1.DW, bins = 10, normed = 1, color = 'black')\n",
    "plt.show()"
   ]
  },
  {
   "cell_type": "code",
   "execution_count": 105,
   "metadata": {
    "collapsed": true
   },
   "outputs": [],
   "source": [
    "temp = df_train[df_train['QR'] == 1][['BL', 'DW']]\n",
    "temp_dw_b_1 = temp[temp['BL'] == 'B']"
   ]
  },
  {
   "cell_type": "code",
   "execution_count": 111,
   "metadata": {
    "collapsed": false
   },
   "outputs": [
    {
     "data": {
      "text/plain": [
       "3592.2491219999997"
      ]
     },
     "execution_count": 111,
     "metadata": {},
     "output_type": "execute_result"
    }
   ],
   "source": [
    "temp_dw_b_1.DW.iloc[0]"
   ]
  },
  {
   "cell_type": "code",
   "execution_count": 112,
   "metadata": {
    "collapsed": false
   },
   "outputs": [
    {
     "data": {
      "image/png": "[encoded data removed]",
      "text/plain": [
       "<matplotlib.figure.Figure at 0x28d3c746518>"
      ]
     },
     "metadata": {},
     "output_type": "display_data"
    }
   ],
   "source": [
    "plt.hist(temp_dw_a_1.DW, bins = 10, normed = 1, color = 'black')\n",
    "plt.show()"
   ]
  },
  {
   "cell_type": "code",
   "execution_count": 72,
   "metadata": {
    "collapsed": false
   },
   "outputs": [],
   "source": [
    "temp = df_train[df_train['QR'] == 1][['BL', 'AS', 'DW', 'LL', 'ZY', 'QJ']]\n",
    "temp_A_1 = temp[temp['BL'] == 'A']"
   ]
  },
  {
   "cell_type": "code",
   "execution_count": 82,
   "metadata": {
    "collapsed": false
   },
   "outputs": [],
   "source": [
    "z = []\n",
    "for i in range(temp_A_1.shape[0]):\n",
    "    for j in range()\n",
    "    z.append(temp_A_1.iloc[i,1:])"
   ]
  },
  {
   "cell_type": "code",
   "execution_count": null,
   "metadata": {
    "collapsed": true
   },
   "outputs": [],
   "source": []
  },
  {
   "cell_type": "code",
   "execution_count": 83,
   "metadata": {
    "collapsed": false
   },
   "outputs": [
    {
     "data": {
      "text/plain": [
       "[AS    2822.03\n",
       " DW     7762.2\n",
       " LL     3669.4\n",
       " ZY    2931.09\n",
       " QJ    10595.3\n",
       " Name: 0, dtype: object, AS    11303.4\n",
       " DW    7319.83\n",
       " LL    2913.16\n",
       " ZY    3285.54\n",
       " QJ    8732.34\n",
       " Name: 12, dtype: object, AS     9878.8\n",
       " DW    4777.83\n",
       " LL    3655.13\n",
       " ZY    2040.86\n",
       " QJ    12501.5\n",
       " Name: 24, dtype: object, AS     7054.8\n",
       " DW    10067.1\n",
       " LL    2216.75\n",
       " ZY    2728.84\n",
       " QJ    12574.1\n",
       " Name: 36, dtype: object, AS    6332.99\n",
       " DW    10893.2\n",
       " LL    4398.75\n",
       " ZY    4422.55\n",
       " QJ    7176.34\n",
       " Name: 48, dtype: object, AS    6375.64\n",
       " DW    7590.01\n",
       " LL    2209.53\n",
       " ZY    1045.06\n",
       " QJ    9245.11\n",
       " Name: 60, dtype: object, AS    7088.74\n",
       " DW    5761.23\n",
       " LL    2201.57\n",
       " ZY    2170.18\n",
       " QJ    7334.81\n",
       " Name: 72, dtype: object, AS    7723.17\n",
       " DW    9521.38\n",
       " LL     2183.1\n",
       " ZY    1897.25\n",
       " QJ    7717.39\n",
       " Name: 84, dtype: object, AS    5606.81\n",
       " DW    5262.28\n",
       " LL    725.563\n",
       " ZY    2751.62\n",
       " QJ    8307.34\n",
       " Name: 96, dtype: object, AS    4228.93\n",
       " DW    7735.14\n",
       " LL    743.639\n",
       " ZY     2806.7\n",
       " QJ    8383.25\n",
       " Name: 108, dtype: object, AS    5631.82\n",
       " DW    6269.53\n",
       " LL    3646.36\n",
       " ZY    2430.37\n",
       " QJ    14764.5\n",
       " Name: 120, dtype: object, AS    6406.45\n",
       " DW    8862.27\n",
       " LL    2930.72\n",
       " ZY    3409.57\n",
       " QJ     9161.1\n",
       " Name: 132, dtype: object, AS    5584.87\n",
       " DW    11561.3\n",
       " LL    2916.53\n",
       " ZY    3595.51\n",
       " QJ      13850\n",
       " Name: 144, dtype: object, AS    9183.14\n",
       " DW    8253.22\n",
       " LL    1460.66\n",
       " ZY    2746.04\n",
       " QJ    12718.6\n",
       " Name: 156, dtype: object, AS    9861.16\n",
       " DW    8666.62\n",
       " LL    1460.46\n",
       " ZY    2938.74\n",
       " QJ    13974.6\n",
       " Name: 168, dtype: object, AS    8417.83\n",
       " DW    6616.92\n",
       " LL    2216.61\n",
       " ZY    5122.51\n",
       " QJ    11109.1\n",
       " Name: 180, dtype: object, AS     5624.7\n",
       " DW    10479.8\n",
       " LL     5118.2\n",
       " ZY    1776.22\n",
       " QJ    9373.44\n",
       " Name: 192, dtype: object, AS     4951.9\n",
       " DW    7735.72\n",
       " LL     2926.4\n",
       " ZY    3795.41\n",
       " QJ    10226.9\n",
       " Name: 204, dtype: object, AS    5652.72\n",
       " DW    10435.9\n",
       " LL    4383.91\n",
       " ZY    3729.84\n",
       " QJ      13319\n",
       " Name: 216, dtype: object, AS    6968.94\n",
       " DW    8650.78\n",
       " LL     2206.8\n",
       " ZY    2707.49\n",
       " QJ      11137\n",
       " Name: 228, dtype: object, AS    6355.93\n",
       " DW    7694.78\n",
       " LL    4392.44\n",
       " ZY    3420.05\n",
       " QJ    6941.64\n",
       " Name: 240, dtype: object, AS    6379.34\n",
       " DW    8295.04\n",
       " LL    2934.32\n",
       " ZY    4195.47\n",
       " QJ    8883.85\n",
       " Name: 252, dtype: object, AS    6999.05\n",
       " DW    9944.28\n",
       " LL    3681.53\n",
       " ZY    3123.75\n",
       " QJ    7710.46\n",
       " Name: 264, dtype: object, AS    8467.57\n",
       " DW    11417.5\n",
       " LL    1467.63\n",
       " ZY    2451.57\n",
       " QJ    11227.3\n",
       " Name: 276, dtype: object, AS    9119.86\n",
       " DW    7617.37\n",
       " LL    1476.56\n",
       " ZY    2929.73\n",
       " QJ    11456.7\n",
       " Name: 288, dtype: object]"
      ]
     },
     "execution_count": 83,
     "metadata": {},
     "output_type": "execute_result"
    }
   ],
   "source": [
    "z"
   ]
  },
  {
   "cell_type": "code",
   "execution_count": 97,
   "metadata": {
    "collapsed": false
   },
   "outputs": [],
   "source": [
    "temp = df_train[df_train['C3'] == 0][['LL', 'QR']]"
   ]
  },
  {
   "cell_type": "code",
   "execution_count": 98,
   "metadata": {
    "collapsed": false
   },
   "outputs": [
    {
     "data": {
      "text/html": [
       "<div>\n",
       "<table border=\"1\" class=\"dataframe\">\n",
       "  <thead>\n",
       "    <tr style=\"text-align: right;\">\n",
       "      <th></th>\n",
       "      <th>LL</th>\n",
       "      <th>QR</th>\n",
       "    </tr>\n",
       "  </thead>\n",
       "  <tbody>\n",
       "    <tr>\n",
       "      <th>123</th>\n",
       "      <td>5134.427947</td>\n",
       "      <td>2</td>\n",
       "    </tr>\n",
       "    <tr>\n",
       "      <th>132</th>\n",
       "      <td>2930.719091</td>\n",
       "      <td>1</td>\n",
       "    </tr>\n",
       "  </tbody>\n",
       "</table>\n",
       "</div>"
      ],
      "text/plain": [
       "              LL  QR\n",
       "123  5134.427947   2\n",
       "132  2930.719091   1"
      ]
     },
     "execution_count": 98,
     "metadata": {},
     "output_type": "execute_result"
    }
   ],
   "source": [
    "temp"
   ]
  },
  {
   "cell_type": "code",
   "execution_count": 99,
   "metadata": {
    "collapsed": true
   },
   "outputs": [],
   "source": [
    "df_train.drop([123, 132], inplace = 1)"
   ]
  },
  {
   "cell_type": "code",
   "execution_count": 116,
   "metadata": {
    "collapsed": false
   },
   "outputs": [
    {
     "data": {
      "image/png": "[encoded data removed]",
      "text/plain": [
       "<matplotlib.figure.Figure at 0x28d3c9e44a8>"
      ]
     },
     "metadata": {},
     "output_type": "display_data"
    }
   ],
   "source": [
    "plt.boxplot(temp_dw_a_1.DW)\n",
    "plt.show()"
   ]
  },
  {
   "cell_type": "code",
   "execution_count": 161,
   "metadata": {
    "collapsed": false
   },
   "outputs": [],
   "source": [
    "nw = df_train.filter(['AS'])/df_train.filter(['C1'])"
   ]
  },
  {
   "cell_type": "code",
   "execution_count": null,
   "metadata": {
    "collapsed": true
   },
   "outputs": [],
   "source": [
    "for i in "
   ]
  },
  {
   "cell_type": "code",
   "execution_count": 162,
   "metadata": {
    "collapsed": false
   },
   "outputs": [
    {
     "data": {
      "text/html": [
       "<div>\n",
       "<table border=\"1\" class=\"dataframe\">\n",
       "  <thead>\n",
       "    <tr style=\"text-align: right;\">\n",
       "      <th></th>\n",
       "      <th>AS</th>\n",
       "      <th>C1</th>\n",
       "    </tr>\n",
       "  </thead>\n",
       "  <tbody>\n",
       "    <tr>\n",
       "      <th>0</th>\n",
       "      <td>NaN</td>\n",
       "      <td>NaN</td>\n",
       "    </tr>\n",
       "    <tr>\n",
       "      <th>1</th>\n",
       "      <td>NaN</td>\n",
       "      <td>NaN</td>\n",
       "    </tr>\n",
       "    <tr>\n",
       "      <th>2</th>\n",
       "      <td>NaN</td>\n",
       "      <td>NaN</td>\n",
       "    </tr>\n",
       "    <tr>\n",
       "      <th>3</th>\n",
       "      <td>NaN</td>\n",
       "      <td>NaN</td>\n",
       "    </tr>\n",
       "    <tr>\n",
       "      <th>4</th>\n",
       "      <td>NaN</td>\n",
       "      <td>NaN</td>\n",
       "    </tr>\n",
       "    <tr>\n",
       "      <th>5</th>\n",
       "      <td>NaN</td>\n",
       "      <td>NaN</td>\n",
       "    </tr>\n",
       "    <tr>\n",
       "      <th>6</th>\n",
       "      <td>NaN</td>\n",
       "      <td>NaN</td>\n",
       "    </tr>\n",
       "    <tr>\n",
       "      <th>7</th>\n",
       "      <td>NaN</td>\n",
       "      <td>NaN</td>\n",
       "    </tr>\n",
       "    <tr>\n",
       "      <th>8</th>\n",
       "      <td>NaN</td>\n",
       "      <td>NaN</td>\n",
       "    </tr>\n",
       "    <tr>\n",
       "      <th>9</th>\n",
       "      <td>NaN</td>\n",
       "      <td>NaN</td>\n",
       "    </tr>\n",
       "    <tr>\n",
       "      <th>10</th>\n",
       "      <td>NaN</td>\n",
       "      <td>NaN</td>\n",
       "    </tr>\n",
       "    <tr>\n",
       "      <th>11</th>\n",
       "      <td>NaN</td>\n",
       "      <td>NaN</td>\n",
       "    </tr>\n",
       "    <tr>\n",
       "      <th>12</th>\n",
       "      <td>NaN</td>\n",
       "      <td>NaN</td>\n",
       "    </tr>\n",
       "    <tr>\n",
       "      <th>13</th>\n",
       "      <td>NaN</td>\n",
       "      <td>NaN</td>\n",
       "    </tr>\n",
       "    <tr>\n",
       "      <th>14</th>\n",
       "      <td>NaN</td>\n",
       "      <td>NaN</td>\n",
       "    </tr>\n",
       "    <tr>\n",
       "      <th>15</th>\n",
       "      <td>NaN</td>\n",
       "      <td>NaN</td>\n",
       "    </tr>\n",
       "    <tr>\n",
       "      <th>16</th>\n",
       "      <td>NaN</td>\n",
       "      <td>NaN</td>\n",
       "    </tr>\n",
       "    <tr>\n",
       "      <th>17</th>\n",
       "      <td>NaN</td>\n",
       "      <td>NaN</td>\n",
       "    </tr>\n",
       "    <tr>\n",
       "      <th>18</th>\n",
       "      <td>NaN</td>\n",
       "      <td>NaN</td>\n",
       "    </tr>\n",
       "    <tr>\n",
       "      <th>19</th>\n",
       "      <td>NaN</td>\n",
       "      <td>NaN</td>\n",
       "    </tr>\n",
       "    <tr>\n",
       "      <th>20</th>\n",
       "      <td>NaN</td>\n",
       "      <td>NaN</td>\n",
       "    </tr>\n",
       "    <tr>\n",
       "      <th>21</th>\n",
       "      <td>NaN</td>\n",
       "      <td>NaN</td>\n",
       "    </tr>\n",
       "    <tr>\n",
       "      <th>22</th>\n",
       "      <td>NaN</td>\n",
       "      <td>NaN</td>\n",
       "    </tr>\n",
       "    <tr>\n",
       "      <th>23</th>\n",
       "      <td>NaN</td>\n",
       "      <td>NaN</td>\n",
       "    </tr>\n",
       "    <tr>\n",
       "      <th>24</th>\n",
       "      <td>NaN</td>\n",
       "      <td>NaN</td>\n",
       "    </tr>\n",
       "    <tr>\n",
       "      <th>25</th>\n",
       "      <td>NaN</td>\n",
       "      <td>NaN</td>\n",
       "    </tr>\n",
       "    <tr>\n",
       "      <th>26</th>\n",
       "      <td>NaN</td>\n",
       "      <td>NaN</td>\n",
       "    </tr>\n",
       "    <tr>\n",
       "      <th>27</th>\n",
       "      <td>NaN</td>\n",
       "      <td>NaN</td>\n",
       "    </tr>\n",
       "    <tr>\n",
       "      <th>28</th>\n",
       "      <td>NaN</td>\n",
       "      <td>NaN</td>\n",
       "    </tr>\n",
       "    <tr>\n",
       "      <th>29</th>\n",
       "      <td>NaN</td>\n",
       "      <td>NaN</td>\n",
       "    </tr>\n",
       "    <tr>\n",
       "      <th>...</th>\n",
       "      <td>...</td>\n",
       "      <td>...</td>\n",
       "    </tr>\n",
       "    <tr>\n",
       "      <th>270</th>\n",
       "      <td>NaN</td>\n",
       "      <td>NaN</td>\n",
       "    </tr>\n",
       "    <tr>\n",
       "      <th>271</th>\n",
       "      <td>NaN</td>\n",
       "      <td>NaN</td>\n",
       "    </tr>\n",
       "    <tr>\n",
       "      <th>272</th>\n",
       "      <td>NaN</td>\n",
       "      <td>NaN</td>\n",
       "    </tr>\n",
       "    <tr>\n",
       "      <th>273</th>\n",
       "      <td>NaN</td>\n",
       "      <td>NaN</td>\n",
       "    </tr>\n",
       "    <tr>\n",
       "      <th>274</th>\n",
       "      <td>NaN</td>\n",
       "      <td>NaN</td>\n",
       "    </tr>\n",
       "    <tr>\n",
       "      <th>275</th>\n",
       "      <td>NaN</td>\n",
       "      <td>NaN</td>\n",
       "    </tr>\n",
       "    <tr>\n",
       "      <th>276</th>\n",
       "      <td>NaN</td>\n",
       "      <td>NaN</td>\n",
       "    </tr>\n",
       "    <tr>\n",
       "      <th>277</th>\n",
       "      <td>NaN</td>\n",
       "      <td>NaN</td>\n",
       "    </tr>\n",
       "    <tr>\n",
       "      <th>278</th>\n",
       "      <td>NaN</td>\n",
       "      <td>NaN</td>\n",
       "    </tr>\n",
       "    <tr>\n",
       "      <th>279</th>\n",
       "      <td>NaN</td>\n",
       "      <td>NaN</td>\n",
       "    </tr>\n",
       "    <tr>\n",
       "      <th>280</th>\n",
       "      <td>NaN</td>\n",
       "      <td>NaN</td>\n",
       "    </tr>\n",
       "    <tr>\n",
       "      <th>281</th>\n",
       "      <td>NaN</td>\n",
       "      <td>NaN</td>\n",
       "    </tr>\n",
       "    <tr>\n",
       "      <th>282</th>\n",
       "      <td>NaN</td>\n",
       "      <td>NaN</td>\n",
       "    </tr>\n",
       "    <tr>\n",
       "      <th>283</th>\n",
       "      <td>NaN</td>\n",
       "      <td>NaN</td>\n",
       "    </tr>\n",
       "    <tr>\n",
       "      <th>284</th>\n",
       "      <td>NaN</td>\n",
       "      <td>NaN</td>\n",
       "    </tr>\n",
       "    <tr>\n",
       "      <th>285</th>\n",
       "      <td>NaN</td>\n",
       "      <td>NaN</td>\n",
       "    </tr>\n",
       "    <tr>\n",
       "      <th>286</th>\n",
       "      <td>NaN</td>\n",
       "      <td>NaN</td>\n",
       "    </tr>\n",
       "    <tr>\n",
       "      <th>287</th>\n",
       "      <td>NaN</td>\n",
       "      <td>NaN</td>\n",
       "    </tr>\n",
       "    <tr>\n",
       "      <th>288</th>\n",
       "      <td>NaN</td>\n",
       "      <td>NaN</td>\n",
       "    </tr>\n",
       "    <tr>\n",
       "      <th>289</th>\n",
       "      <td>NaN</td>\n",
       "      <td>NaN</td>\n",
       "    </tr>\n",
       "    <tr>\n",
       "      <th>290</th>\n",
       "      <td>NaN</td>\n",
       "      <td>NaN</td>\n",
       "    </tr>\n",
       "    <tr>\n",
       "      <th>291</th>\n",
       "      <td>NaN</td>\n",
       "      <td>NaN</td>\n",
       "    </tr>\n",
       "    <tr>\n",
       "      <th>292</th>\n",
       "      <td>NaN</td>\n",
       "      <td>NaN</td>\n",
       "    </tr>\n",
       "    <tr>\n",
       "      <th>293</th>\n",
       "      <td>NaN</td>\n",
       "      <td>NaN</td>\n",
       "    </tr>\n",
       "    <tr>\n",
       "      <th>294</th>\n",
       "      <td>NaN</td>\n",
       "      <td>NaN</td>\n",
       "    </tr>\n",
       "    <tr>\n",
       "      <th>295</th>\n",
       "      <td>NaN</td>\n",
       "      <td>NaN</td>\n",
       "    </tr>\n",
       "    <tr>\n",
       "      <th>296</th>\n",
       "      <td>NaN</td>\n",
       "      <td>NaN</td>\n",
       "    </tr>\n",
       "    <tr>\n",
       "      <th>297</th>\n",
       "      <td>NaN</td>\n",
       "      <td>NaN</td>\n",
       "    </tr>\n",
       "    <tr>\n",
       "      <th>298</th>\n",
       "      <td>NaN</td>\n",
       "      <td>NaN</td>\n",
       "    </tr>\n",
       "    <tr>\n",
       "      <th>299</th>\n",
       "      <td>NaN</td>\n",
       "      <td>NaN</td>\n",
       "    </tr>\n",
       "  </tbody>\n",
       "</table>\n",
       "<p>298 rows × 2 columns</p>\n",
       "</div>"
      ],
      "text/plain": [
       "     AS  C1\n",
       "0   NaN NaN\n",
       "1   NaN NaN\n",
       "2   NaN NaN\n",
       "3   NaN NaN\n",
       "4   NaN NaN\n",
       "5   NaN NaN\n",
       "6   NaN NaN\n",
       "7   NaN NaN\n",
       "8   NaN NaN\n",
       "9   NaN NaN\n",
       "10  NaN NaN\n",
       "11  NaN NaN\n",
       "12  NaN NaN\n",
       "13  NaN NaN\n",
       "14  NaN NaN\n",
       "15  NaN NaN\n",
       "16  NaN NaN\n",
       "17  NaN NaN\n",
       "18  NaN NaN\n",
       "19  NaN NaN\n",
       "20  NaN NaN\n",
       "21  NaN NaN\n",
       "22  NaN NaN\n",
       "23  NaN NaN\n",
       "24  NaN NaN\n",
       "25  NaN NaN\n",
       "26  NaN NaN\n",
       "27  NaN NaN\n",
       "28  NaN NaN\n",
       "29  NaN NaN\n",
       "..   ..  ..\n",
       "270 NaN NaN\n",
       "271 NaN NaN\n",
       "272 NaN NaN\n",
       "273 NaN NaN\n",
       "274 NaN NaN\n",
       "275 NaN NaN\n",
       "276 NaN NaN\n",
       "277 NaN NaN\n",
       "278 NaN NaN\n",
       "279 NaN NaN\n",
       "280 NaN NaN\n",
       "281 NaN NaN\n",
       "282 NaN NaN\n",
       "283 NaN NaN\n",
       "284 NaN NaN\n",
       "285 NaN NaN\n",
       "286 NaN NaN\n",
       "287 NaN NaN\n",
       "288 NaN NaN\n",
       "289 NaN NaN\n",
       "290 NaN NaN\n",
       "291 NaN NaN\n",
       "292 NaN NaN\n",
       "293 NaN NaN\n",
       "294 NaN NaN\n",
       "295 NaN NaN\n",
       "296 NaN NaN\n",
       "297 NaN NaN\n",
       "298 NaN NaN\n",
       "299 NaN NaN\n",
       "\n",
       "[298 rows x 2 columns]"
      ]
     },
     "execution_count": 162,
     "metadata": {},
     "output_type": "execute_result"
    }
   ],
   "source": [
    "nw"
   ]
  },
  {
   "cell_type": "code",
   "execution_count": 174,
   "metadata": {
    "collapsed": false
   },
   "outputs": [
    {
     "name": "stdout",
     "output_type": "stream",
     "text": [
      "[1, 2]\n",
      "[4, 5]\n",
      "[1, 3]\n",
      "[2, 3]\n",
      "[5, 4]\n",
      "[5, 1]\n",
      "[2, 3]\n",
      "[3, 5]\n",
      "[2, 1]\n",
      "[3, 2]\n",
      "[5, 1]\n"
     ]
    }
   ],
   "source": [
    "for i in range(11):\n",
    "    print(rd.sample(range(1,6), 2))"
   ]
  }
 ],
 "metadata": {
  "anaconda-cloud": {},
  "kernelspec": {
   "display_name": "Python [conda root]",
   "language": "python",
   "name": "conda-root-py"
  },
  "language_info": {
   "codemirror_mode": {
    "name": "ipython",
    "version": 3
   },
   "file_extension": ".py",
   "mimetype": "text/x-python",
   "name": "python",
   "nbconvert_exporter": "python",
   "pygments_lexer": "ipython3",
   "version": "3.5.2"
  }
 },
 "nbformat": 4,
 "nbformat_minor": 2
}
