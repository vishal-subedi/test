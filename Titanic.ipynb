{
 "cells": [
  {
   "cell_type": "code",
   "execution_count": 261,
   "metadata": {
    "collapsed": false
   },
   "outputs": [],
   "source": [
    "import numpy as np\n",
    "import scipy as sp\n",
    "import pandas as pd\n",
    "from sklearn.linear_model import LinearRegression as lr, Lasso as ls, Ridge as rg, ElasticNet as en, LogisticRegression as loglr\n",
    "from sklearn import svm, metrics\n",
    "from sklearn.neighbors import KNeighborsRegressor as knr, KNeighborsClassifier as knc\n",
    "from sklearn.ensemble import RandomForestRegressor as rfr, GradientBoostingRegressor as gbr, RandomForestClassifier as rfc, GradientBoostingClassifier as gbc\n",
    "from sklearn.preprocessing import Imputer, normalize, StandardScaler, MinMaxScaler, LabelBinarizer, RobustScaler\n",
    "import seaborn as sns\n",
    "from matplotlib import pyplot as plt\n",
    "from datetime import datetime as dt\n",
    "from sklearn.cross_validation import KFold, train_test_split as tts\n",
    "from catboost import CatBoostRegressor as cbr\n",
    "from sklearn.tree import DecisionTreeRegressor as dtr, DecisionTreeClassifier as dtc\n",
    "from nltk.tokenize import word_tokenize, PunktSentenceTokenizer as pst\n",
    "mms = MinMaxScaler()\n",
    "rc = RobustScaler()\n",
    "ss = StandardScaler()"
   ]
  },
  {
   "cell_type": "code",
   "execution_count": 378,
   "metadata": {
    "collapsed": false
   },
   "outputs": [
    {
     "data": {
      "text/html": [
       "<div>\n",
       "<table border=\"1\" class=\"dataframe\">\n",
       "  <thead>\n",
       "    <tr style=\"text-align: right;\">\n",
       "      <th></th>\n",
       "      <th>PassengerId</th>\n",
       "      <th>Survived</th>\n",
       "      <th>Pclass</th>\n",
       "      <th>Name</th>\n",
       "      <th>Sex</th>\n",
       "      <th>Age</th>\n",
       "      <th>SibSp</th>\n",
       "      <th>Parch</th>\n",
       "      <th>Ticket</th>\n",
       "      <th>Fare</th>\n",
       "      <th>Cabin</th>\n",
       "      <th>Embarked</th>\n",
       "    </tr>\n",
       "  </thead>\n",
       "  <tbody>\n",
       "    <tr>\n",
       "      <th>884</th>\n",
       "      <td>885</td>\n",
       "      <td>0</td>\n",
       "      <td>3</td>\n",
       "      <td>Sutehall, Mr. Henry Jr</td>\n",
       "      <td>0</td>\n",
       "      <td>25.0</td>\n",
       "      <td>0</td>\n",
       "      <td>0</td>\n",
       "      <td>SOTON/OQ 392076</td>\n",
       "      <td>7.050</td>\n",
       "      <td>NaN</td>\n",
       "      <td>S</td>\n",
       "    </tr>\n",
       "    <tr>\n",
       "      <th>885</th>\n",
       "      <td>886</td>\n",
       "      <td>0</td>\n",
       "      <td>3</td>\n",
       "      <td>Rice, Mrs. William (Margaret Norton)</td>\n",
       "      <td>1</td>\n",
       "      <td>39.0</td>\n",
       "      <td>0</td>\n",
       "      <td>5</td>\n",
       "      <td>382652</td>\n",
       "      <td>29.125</td>\n",
       "      <td>NaN</td>\n",
       "      <td>Q</td>\n",
       "    </tr>\n",
       "    <tr>\n",
       "      <th>886</th>\n",
       "      <td>887</td>\n",
       "      <td>0</td>\n",
       "      <td>2</td>\n",
       "      <td>Montvila, Rev. Juozas</td>\n",
       "      <td>0</td>\n",
       "      <td>27.0</td>\n",
       "      <td>0</td>\n",
       "      <td>0</td>\n",
       "      <td>211536</td>\n",
       "      <td>13.000</td>\n",
       "      <td>NaN</td>\n",
       "      <td>S</td>\n",
       "    </tr>\n",
       "    <tr>\n",
       "      <th>887</th>\n",
       "      <td>888</td>\n",
       "      <td>1</td>\n",
       "      <td>1</td>\n",
       "      <td>Graham, Miss. Margaret Edith</td>\n",
       "      <td>1</td>\n",
       "      <td>19.0</td>\n",
       "      <td>0</td>\n",
       "      <td>0</td>\n",
       "      <td>112053</td>\n",
       "      <td>30.000</td>\n",
       "      <td>B42</td>\n",
       "      <td>S</td>\n",
       "    </tr>\n",
       "    <tr>\n",
       "      <th>888</th>\n",
       "      <td>889</td>\n",
       "      <td>0</td>\n",
       "      <td>3</td>\n",
       "      <td>Johnston, Miss. Catherine Helen \"Carrie\"</td>\n",
       "      <td>1</td>\n",
       "      <td>NaN</td>\n",
       "      <td>1</td>\n",
       "      <td>2</td>\n",
       "      <td>W./C. 6607</td>\n",
       "      <td>23.450</td>\n",
       "      <td>NaN</td>\n",
       "      <td>S</td>\n",
       "    </tr>\n",
       "    <tr>\n",
       "      <th>889</th>\n",
       "      <td>890</td>\n",
       "      <td>1</td>\n",
       "      <td>1</td>\n",
       "      <td>Behr, Mr. Karl Howell</td>\n",
       "      <td>0</td>\n",
       "      <td>26.0</td>\n",
       "      <td>0</td>\n",
       "      <td>0</td>\n",
       "      <td>111369</td>\n",
       "      <td>30.000</td>\n",
       "      <td>C148</td>\n",
       "      <td>C</td>\n",
       "    </tr>\n",
       "    <tr>\n",
       "      <th>890</th>\n",
       "      <td>891</td>\n",
       "      <td>0</td>\n",
       "      <td>3</td>\n",
       "      <td>Dooley, Mr. Patrick</td>\n",
       "      <td>0</td>\n",
       "      <td>32.0</td>\n",
       "      <td>0</td>\n",
       "      <td>0</td>\n",
       "      <td>370376</td>\n",
       "      <td>7.750</td>\n",
       "      <td>NaN</td>\n",
       "      <td>Q</td>\n",
       "    </tr>\n",
       "  </tbody>\n",
       "</table>\n",
       "</div>"
      ],
      "text/plain": [
       "     PassengerId  Survived  Pclass                                      Name  \\\n",
       "884          885         0       3                    Sutehall, Mr. Henry Jr   \n",
       "885          886         0       3      Rice, Mrs. William (Margaret Norton)   \n",
       "886          887         0       2                     Montvila, Rev. Juozas   \n",
       "887          888         1       1              Graham, Miss. Margaret Edith   \n",
       "888          889         0       3  Johnston, Miss. Catherine Helen \"Carrie\"   \n",
       "889          890         1       1                     Behr, Mr. Karl Howell   \n",
       "890          891         0       3                       Dooley, Mr. Patrick   \n",
       "\n",
       "     Sex   Age  SibSp  Parch           Ticket    Fare Cabin Embarked  \n",
       "884    0  25.0      0      0  SOTON/OQ 392076   7.050   NaN        S  \n",
       "885    1  39.0      0      5           382652  29.125   NaN        Q  \n",
       "886    0  27.0      0      0           211536  13.000   NaN        S  \n",
       "887    1  19.0      0      0           112053  30.000   B42        S  \n",
       "888    1   NaN      1      2       W./C. 6607  23.450   NaN        S  \n",
       "889    0  26.0      0      0           111369  30.000  C148        C  \n",
       "890    0  32.0      0      0           370376   7.750   NaN        Q  "
      ]
     },
     "execution_count": 378,
     "metadata": {},
     "output_type": "execute_result"
    }
   ],
   "source": [
    "df_train = pd.read_csv('C:/Users/Visha/Downloads/Documents/train.csv', header = 0, index_col = None)\n",
    "df_train.tail(7)"
   ]
  },
  {
   "cell_type": "code",
   "execution_count": 4,
   "metadata": {
    "collapsed": false
   },
   "outputs": [
    {
     "data": {
      "text/plain": [
       "Index(['PassengerId', 'Survived', 'Pclass', 'Name', 'Sex', 'Age', 'SibSp',\n",
       "       'Parch', 'Ticket', 'Fare', 'Cabin', 'Embarked'],\n",
       "      dtype='object')"
      ]
     },
     "execution_count": 4,
     "metadata": {},
     "output_type": "execute_result"
    }
   ],
   "source": [
    "df_train.columns"
   ]
  },
  {
   "cell_type": "code",
   "execution_count": 5,
   "metadata": {
    "collapsed": false
   },
   "outputs": [
    {
     "data": {
      "text/plain": [
       "0    15\n",
       "Name: Sex, dtype: int64"
      ]
     },
     "execution_count": 5,
     "metadata": {},
     "output_type": "execute_result"
    }
   ],
   "source": [
    "df_train.loc[df_train['Fare'] == 0]['Sex'].value_counts()"
   ]
  },
  {
   "cell_type": "code",
   "execution_count": 6,
   "metadata": {
    "collapsed": false
   },
   "outputs": [
    {
     "name": "stdout",
     "output_type": "stream",
     "text": [
      "<class 'pandas.core.frame.DataFrame'>\n",
      "RangeIndex: 891 entries, 0 to 890\n",
      "Data columns (total 12 columns):\n",
      "PassengerId    891 non-null int64\n",
      "Survived       891 non-null int64\n",
      "Pclass         891 non-null int64\n",
      "Name           891 non-null object\n",
      "Sex            891 non-null int64\n",
      "Age            714 non-null float64\n",
      "SibSp          891 non-null int64\n",
      "Parch          891 non-null int64\n",
      "Ticket         891 non-null object\n",
      "Fare           891 non-null float64\n",
      "Cabin          204 non-null object\n",
      "Embarked       889 non-null object\n",
      "dtypes: float64(2), int64(6), object(4)\n",
      "memory usage: 83.6+ KB\n"
     ]
    }
   ],
   "source": [
    "df_train.info()"
   ]
  },
  {
   "cell_type": "code",
   "execution_count": 7,
   "metadata": {
    "collapsed": false
   },
   "outputs": [
    {
     "name": "stderr",
     "output_type": "stream",
     "text": [
      "C:\\Users\\Visha\\Anaconda3\\lib\\site-packages\\numpy\\lib\\function_base.py:4274: RuntimeWarning: Invalid value encountered in percentile\n",
      "  interpolation=interpolation)\n"
     ]
    },
    {
     "data": {
      "text/html": [
       "<div>\n",
       "<table border=\"1\" class=\"dataframe\">\n",
       "  <thead>\n",
       "    <tr style=\"text-align: right;\">\n",
       "      <th></th>\n",
       "      <th>PassengerId</th>\n",
       "      <th>Survived</th>\n",
       "      <th>Pclass</th>\n",
       "      <th>Sex</th>\n",
       "      <th>Age</th>\n",
       "      <th>SibSp</th>\n",
       "      <th>Parch</th>\n",
       "      <th>Fare</th>\n",
       "    </tr>\n",
       "  </thead>\n",
       "  <tbody>\n",
       "    <tr>\n",
       "      <th>count</th>\n",
       "      <td>891.000000</td>\n",
       "      <td>891.000000</td>\n",
       "      <td>891.000000</td>\n",
       "      <td>891.000000</td>\n",
       "      <td>714.000000</td>\n",
       "      <td>891.000000</td>\n",
       "      <td>891.000000</td>\n",
       "      <td>891.000000</td>\n",
       "    </tr>\n",
       "    <tr>\n",
       "      <th>mean</th>\n",
       "      <td>446.000000</td>\n",
       "      <td>0.383838</td>\n",
       "      <td>2.308642</td>\n",
       "      <td>0.352413</td>\n",
       "      <td>29.699118</td>\n",
       "      <td>0.523008</td>\n",
       "      <td>0.381594</td>\n",
       "      <td>32.204208</td>\n",
       "    </tr>\n",
       "    <tr>\n",
       "      <th>std</th>\n",
       "      <td>257.353842</td>\n",
       "      <td>0.486592</td>\n",
       "      <td>0.836071</td>\n",
       "      <td>0.477990</td>\n",
       "      <td>14.526497</td>\n",
       "      <td>1.102743</td>\n",
       "      <td>0.806057</td>\n",
       "      <td>49.693429</td>\n",
       "    </tr>\n",
       "    <tr>\n",
       "      <th>min</th>\n",
       "      <td>1.000000</td>\n",
       "      <td>0.000000</td>\n",
       "      <td>1.000000</td>\n",
       "      <td>0.000000</td>\n",
       "      <td>0.420000</td>\n",
       "      <td>0.000000</td>\n",
       "      <td>0.000000</td>\n",
       "      <td>0.000000</td>\n",
       "    </tr>\n",
       "    <tr>\n",
       "      <th>25%</th>\n",
       "      <td>223.500000</td>\n",
       "      <td>0.000000</td>\n",
       "      <td>2.000000</td>\n",
       "      <td>0.000000</td>\n",
       "      <td>NaN</td>\n",
       "      <td>0.000000</td>\n",
       "      <td>0.000000</td>\n",
       "      <td>7.910400</td>\n",
       "    </tr>\n",
       "    <tr>\n",
       "      <th>50%</th>\n",
       "      <td>446.000000</td>\n",
       "      <td>0.000000</td>\n",
       "      <td>3.000000</td>\n",
       "      <td>0.000000</td>\n",
       "      <td>NaN</td>\n",
       "      <td>0.000000</td>\n",
       "      <td>0.000000</td>\n",
       "      <td>14.454200</td>\n",
       "    </tr>\n",
       "    <tr>\n",
       "      <th>75%</th>\n",
       "      <td>668.500000</td>\n",
       "      <td>1.000000</td>\n",
       "      <td>3.000000</td>\n",
       "      <td>1.000000</td>\n",
       "      <td>NaN</td>\n",
       "      <td>1.000000</td>\n",
       "      <td>0.000000</td>\n",
       "      <td>31.000000</td>\n",
       "    </tr>\n",
       "    <tr>\n",
       "      <th>max</th>\n",
       "      <td>891.000000</td>\n",
       "      <td>1.000000</td>\n",
       "      <td>3.000000</td>\n",
       "      <td>1.000000</td>\n",
       "      <td>80.000000</td>\n",
       "      <td>8.000000</td>\n",
       "      <td>6.000000</td>\n",
       "      <td>512.329200</td>\n",
       "    </tr>\n",
       "  </tbody>\n",
       "</table>\n",
       "</div>"
      ],
      "text/plain": [
       "       PassengerId    Survived      Pclass         Sex         Age  \\\n",
       "count   891.000000  891.000000  891.000000  891.000000  714.000000   \n",
       "mean    446.000000    0.383838    2.308642    0.352413   29.699118   \n",
       "std     257.353842    0.486592    0.836071    0.477990   14.526497   \n",
       "min       1.000000    0.000000    1.000000    0.000000    0.420000   \n",
       "25%     223.500000    0.000000    2.000000    0.000000         NaN   \n",
       "50%     446.000000    0.000000    3.000000    0.000000         NaN   \n",
       "75%     668.500000    1.000000    3.000000    1.000000         NaN   \n",
       "max     891.000000    1.000000    3.000000    1.000000   80.000000   \n",
       "\n",
       "            SibSp       Parch        Fare  \n",
       "count  891.000000  891.000000  891.000000  \n",
       "mean     0.523008    0.381594   32.204208  \n",
       "std      1.102743    0.806057   49.693429  \n",
       "min      0.000000    0.000000    0.000000  \n",
       "25%      0.000000    0.000000    7.910400  \n",
       "50%      0.000000    0.000000   14.454200  \n",
       "75%      1.000000    0.000000   31.000000  \n",
       "max      8.000000    6.000000  512.329200  "
      ]
     },
     "execution_count": 7,
     "metadata": {},
     "output_type": "execute_result"
    }
   ],
   "source": [
    "df_train.describe()"
   ]
  },
  {
   "cell_type": "code",
   "execution_count": 8,
   "metadata": {
    "collapsed": true
   },
   "outputs": [],
   "source": [
    "#survival data -ve skewed hai kyuki mean(Survived)<median(survived)\n",
    "#top 25% log ya 1 quartile of the whole ship population hi survive kiya hai\n",
    "#ship m agar koi lower class tha to wo 50% se bhi zyada of the total ship population m aata tha or  75 percentile m aata tha\n",
    "#waisehi jo middle class tha wo around top 25% percent space occupy krta tha aur upper class less than 25%"
   ]
  },
  {
   "cell_type": "code",
   "execution_count": 9,
   "metadata": {
    "collapsed": false
   },
   "outputs": [
    {
     "data": {
      "text/plain": [
       "1    136\n",
       "0     80\n",
       "Name: Survived, dtype: int64"
      ]
     },
     "execution_count": 9,
     "metadata": {},
     "output_type": "execute_result"
    }
   ],
   "source": [
    "df_train.loc[df_train['Pclass'] == 1]['Survived'].value_counts()"
   ]
  },
  {
   "cell_type": "code",
   "execution_count": 10,
   "metadata": {
    "collapsed": true
   },
   "outputs": [],
   "source": [
    "#survive krne walon mese 62% log upper class the"
   ]
  },
  {
   "cell_type": "code",
   "execution_count": 11,
   "metadata": {
    "collapsed": false
   },
   "outputs": [
    {
     "data": {
      "text/plain": [
       "1    233\n",
       "0     81\n",
       "Name: Survived, dtype: int64"
      ]
     },
     "execution_count": 11,
     "metadata": {},
     "output_type": "execute_result"
    }
   ],
   "source": [
    "df_train.loc[df_train['Sex'] == 1]['Survived'].value_counts()"
   ]
  },
  {
   "cell_type": "code",
   "execution_count": 12,
   "metadata": {
    "collapsed": true
   },
   "outputs": [],
   "source": [
    "#ship m around 35% people were female\n",
    "#but survive krne walon mese 74% log mada the!!!"
   ]
  },
  {
   "cell_type": "code",
   "execution_count": 13,
   "metadata": {
    "collapsed": false
   },
   "outputs": [
    {
     "data": {
      "text/plain": [
       "0    468\n",
       "1    109\n",
       "Name: Survived, dtype: int64"
      ]
     },
     "execution_count": 13,
     "metadata": {},
     "output_type": "execute_result"
    }
   ],
   "source": [
    "df_train.loc[df_train['Sex'] == 0]['Survived'].value_counts()"
   ]
  },
  {
   "cell_type": "code",
   "execution_count": 14,
   "metadata": {
    "collapsed": true
   },
   "outputs": [],
   "source": [
    "#ship m around 64% people were male\n",
    "#but survive krne walon mese bs 18% log hi male the!!!!"
   ]
  },
  {
   "cell_type": "code",
   "execution_count": 19,
   "metadata": {
    "collapsed": false
   },
   "outputs": [
    {
     "data": {
      "image/png": "[encoded data removed]",
      "text/plain": [
       "<matplotlib.figure.Figure at 0x12da1085160>"
      ]
     },
     "metadata": {},
     "output_type": "display_data"
    }
   ],
   "source": [
    "fig, axs = plt.subplots(1, 1, squeeze = 0, figsize = (10,10))\n",
    "axs1 = fig.add_subplot(221)\n",
    "axs2 = fig.add_subplot(222)\n",
    "males = (df_train['Sex'] == 0).sum()\n",
    "females = (df_train['Sex'] == 1).sum()\n",
    "proportions1 = [males, females]\n",
    "males_survived = df_male_survived.shape[0]\n",
    "females_survived = df_female_survived.shape[0]\n",
    "proportions2 = [males_survived, females_survived]\n",
    "axs1.pie(proportions1, labels = ['total Males', 'total females'], autopct = '%1.1f%%', shadow = 1, explode = (.1, .1))\n",
    "axs2.pie(proportions2, labels = ['total Males survived', 'total females survived'], autopct = '%1.1f%%', shadow = 1, explode = [.05, .05])\n",
    "plt.show()"
   ]
  },
  {
   "cell_type": "code",
   "execution_count": 20,
   "metadata": {
    "collapsed": false
   },
   "outputs": [
    {
     "data": {
      "image/png": "[encoded data removed]",
      "text/plain": [
       "<matplotlib.figure.Figure at 0x12da14a2a20>"
      ]
     },
     "metadata": {},
     "output_type": "display_data"
    }
   ],
   "source": [
    "fig, axs = plt.subplots(2, 1, squeeze = 1, figsize = (10,10))\n",
    "axs1 = fig.add_subplot(221)\n",
    "axs2 = fig.add_subplot(222)\n",
    "axs3 = fig.add_subplot(223)\n",
    "fig.subplots_adjust(hspace = .8, wspace = .3)\n",
    "upper = (df_train['Pclass'] == 1).value_counts()[1]\n",
    "middle = (df_train['Pclass'] == 2).value_counts()[1]\n",
    "lower = (df_train['Pclass'] == 3).value_counts()[1]\n",
    "proportions1 = [upper, middle, lower]\n",
    "upper = (df_female_survived['Pclass'] == 1).value_counts()[1]\n",
    "middle = (df_female_survived['Pclass'] == 2).value_counts()[1]\n",
    "lower = (df_female_survived['Pclass'] == 3).value_counts()[1]\n",
    "proportions2 = [upper, middle, lower]\n",
    "upper = (df_male_survived['Pclass'] == 1).value_counts()[1]\n",
    "middle = (df_male_survived['Pclass'] == 2).value_counts()[1]\n",
    "lower = (df_male_survived['Pclass'] == 3).value_counts()[1]\n",
    "proportions3 = [upper, middle, lower]\n",
    "axs1.pie(proportions1, labels = ['upper class', 'middle class', 'lower class'], autopct = '%1.1f%%', explode = [.05, .05, .05], shadow = 1)\n",
    "axs2.pie(proportions2, labels = ['surv female upper class', 'surv female middle class', 'surv female lower class'], autopct = '%1.1f%%', explode = [.05, .05, .05], shadow = 1)\n",
    "axs3.pie(proportions3, labels = ['surv male upper class', 'surv male middle class', 'surv male lower class'], autopct = '%1.1f%%', explode = [.1, .1, .1], shadow = 1)\n",
    "plt.show()"
   ]
  },
  {
   "cell_type": "code",
   "execution_count": 21,
   "metadata": {
    "collapsed": false
   },
   "outputs": [
    {
     "data": {
      "image/png": "[encoded data removed]",
      "text/plain": [
       "<matplotlib.figure.Figure at 0x12da10cad30>"
      ]
     },
     "metadata": {},
     "output_type": "display_data"
    }
   ],
   "source": [
    "plt.boxplot(df_train.Fare, vert = 0)\n",
    "plt.show()"
   ]
  },
  {
   "cell_type": "markdown",
   "metadata": {},
   "source": [
    "#  "
   ]
  },
  {
   "cell_type": "markdown",
   "metadata": {},
   "source": [
    "#  survived female ka bkc"
   ]
  },
  {
   "cell_type": "markdown",
   "metadata": {},
   "source": [
    "#  "
   ]
  },
  {
   "cell_type": "code",
   "execution_count": 22,
   "metadata": {
    "collapsed": false
   },
   "outputs": [
    {
     "name": "stderr",
     "output_type": "stream",
     "text": [
      "C:\\Users\\Visha\\Anaconda3\\lib\\site-packages\\ipykernel\\__main__.py:1: UserWarning: Boolean Series key will be reindexed to match DataFrame index.\n",
      "  if __name__ == '__main__':\n"
     ]
    }
   ],
   "source": [
    "df_female_survived = df_train.loc[df_train['Sex'] == 1][df_train['Survived'] == 1]"
   ]
  },
  {
   "cell_type": "code",
   "execution_count": 23,
   "metadata": {
    "collapsed": false
   },
   "outputs": [
    {
     "data": {
      "text/html": [
       "<div>\n",
       "<table border=\"1\" class=\"dataframe\">\n",
       "  <thead>\n",
       "    <tr style=\"text-align: right;\">\n",
       "      <th></th>\n",
       "      <th>PassengerId</th>\n",
       "      <th>Survived</th>\n",
       "      <th>Pclass</th>\n",
       "      <th>Name</th>\n",
       "      <th>Sex</th>\n",
       "      <th>Age</th>\n",
       "      <th>SibSp</th>\n",
       "      <th>Parch</th>\n",
       "      <th>Ticket</th>\n",
       "      <th>Fare</th>\n",
       "      <th>Cabin</th>\n",
       "      <th>Embarked</th>\n",
       "    </tr>\n",
       "  </thead>\n",
       "  <tbody>\n",
       "    <tr>\n",
       "      <th>1</th>\n",
       "      <td>2</td>\n",
       "      <td>1</td>\n",
       "      <td>1</td>\n",
       "      <td>Cumings, Mrs. John Bradley (Florence Briggs Th...</td>\n",
       "      <td>1</td>\n",
       "      <td>38.0</td>\n",
       "      <td>1</td>\n",
       "      <td>0</td>\n",
       "      <td>PC 17599</td>\n",
       "      <td>71.2833</td>\n",
       "      <td>C85</td>\n",
       "      <td>C</td>\n",
       "    </tr>\n",
       "    <tr>\n",
       "      <th>2</th>\n",
       "      <td>3</td>\n",
       "      <td>1</td>\n",
       "      <td>3</td>\n",
       "      <td>Heikkinen, Miss. Laina</td>\n",
       "      <td>1</td>\n",
       "      <td>26.0</td>\n",
       "      <td>0</td>\n",
       "      <td>0</td>\n",
       "      <td>STON/O2. 3101282</td>\n",
       "      <td>7.9250</td>\n",
       "      <td>NaN</td>\n",
       "      <td>S</td>\n",
       "    </tr>\n",
       "    <tr>\n",
       "      <th>3</th>\n",
       "      <td>4</td>\n",
       "      <td>1</td>\n",
       "      <td>1</td>\n",
       "      <td>Futrelle, Mrs. Jacques Heath (Lily May Peel)</td>\n",
       "      <td>1</td>\n",
       "      <td>35.0</td>\n",
       "      <td>1</td>\n",
       "      <td>0</td>\n",
       "      <td>113803</td>\n",
       "      <td>53.1000</td>\n",
       "      <td>C123</td>\n",
       "      <td>S</td>\n",
       "    </tr>\n",
       "    <tr>\n",
       "      <th>8</th>\n",
       "      <td>9</td>\n",
       "      <td>1</td>\n",
       "      <td>3</td>\n",
       "      <td>Johnson, Mrs. Oscar W (Elisabeth Vilhelmina Berg)</td>\n",
       "      <td>1</td>\n",
       "      <td>27.0</td>\n",
       "      <td>0</td>\n",
       "      <td>2</td>\n",
       "      <td>347742</td>\n",
       "      <td>11.1333</td>\n",
       "      <td>NaN</td>\n",
       "      <td>S</td>\n",
       "    </tr>\n",
       "    <tr>\n",
       "      <th>9</th>\n",
       "      <td>10</td>\n",
       "      <td>1</td>\n",
       "      <td>2</td>\n",
       "      <td>Nasser, Mrs. Nicholas (Adele Achem)</td>\n",
       "      <td>1</td>\n",
       "      <td>14.0</td>\n",
       "      <td>1</td>\n",
       "      <td>0</td>\n",
       "      <td>237736</td>\n",
       "      <td>30.0708</td>\n",
       "      <td>NaN</td>\n",
       "      <td>C</td>\n",
       "    </tr>\n",
       "    <tr>\n",
       "      <th>10</th>\n",
       "      <td>11</td>\n",
       "      <td>1</td>\n",
       "      <td>3</td>\n",
       "      <td>Sandstrom, Miss. Marguerite Rut</td>\n",
       "      <td>1</td>\n",
       "      <td>4.0</td>\n",
       "      <td>1</td>\n",
       "      <td>1</td>\n",
       "      <td>PP 9549</td>\n",
       "      <td>16.7000</td>\n",
       "      <td>G6</td>\n",
       "      <td>S</td>\n",
       "    </tr>\n",
       "    <tr>\n",
       "      <th>11</th>\n",
       "      <td>12</td>\n",
       "      <td>1</td>\n",
       "      <td>1</td>\n",
       "      <td>Bonnell, Miss. Elizabeth</td>\n",
       "      <td>1</td>\n",
       "      <td>58.0</td>\n",
       "      <td>0</td>\n",
       "      <td>0</td>\n",
       "      <td>113783</td>\n",
       "      <td>26.5500</td>\n",
       "      <td>C103</td>\n",
       "      <td>S</td>\n",
       "    </tr>\n",
       "    <tr>\n",
       "      <th>15</th>\n",
       "      <td>16</td>\n",
       "      <td>1</td>\n",
       "      <td>2</td>\n",
       "      <td>Hewlett, Mrs. (Mary D Kingcome)</td>\n",
       "      <td>1</td>\n",
       "      <td>55.0</td>\n",
       "      <td>0</td>\n",
       "      <td>0</td>\n",
       "      <td>248706</td>\n",
       "      <td>16.0000</td>\n",
       "      <td>NaN</td>\n",
       "      <td>S</td>\n",
       "    </tr>\n",
       "    <tr>\n",
       "      <th>19</th>\n",
       "      <td>20</td>\n",
       "      <td>1</td>\n",
       "      <td>3</td>\n",
       "      <td>Masselmani, Mrs. Fatima</td>\n",
       "      <td>1</td>\n",
       "      <td>NaN</td>\n",
       "      <td>0</td>\n",
       "      <td>0</td>\n",
       "      <td>2649</td>\n",
       "      <td>7.2250</td>\n",
       "      <td>NaN</td>\n",
       "      <td>C</td>\n",
       "    </tr>\n",
       "    <tr>\n",
       "      <th>22</th>\n",
       "      <td>23</td>\n",
       "      <td>1</td>\n",
       "      <td>3</td>\n",
       "      <td>McGowan, Miss. Anna \"Annie\"</td>\n",
       "      <td>1</td>\n",
       "      <td>15.0</td>\n",
       "      <td>0</td>\n",
       "      <td>0</td>\n",
       "      <td>330923</td>\n",
       "      <td>8.0292</td>\n",
       "      <td>NaN</td>\n",
       "      <td>Q</td>\n",
       "    </tr>\n",
       "    <tr>\n",
       "      <th>25</th>\n",
       "      <td>26</td>\n",
       "      <td>1</td>\n",
       "      <td>3</td>\n",
       "      <td>Asplund, Mrs. Carl Oscar (Selma Augusta Emilia...</td>\n",
       "      <td>1</td>\n",
       "      <td>38.0</td>\n",
       "      <td>1</td>\n",
       "      <td>5</td>\n",
       "      <td>347077</td>\n",
       "      <td>31.3875</td>\n",
       "      <td>NaN</td>\n",
       "      <td>S</td>\n",
       "    </tr>\n",
       "    <tr>\n",
       "      <th>28</th>\n",
       "      <td>29</td>\n",
       "      <td>1</td>\n",
       "      <td>3</td>\n",
       "      <td>O'Dwyer, Miss. Ellen \"Nellie\"</td>\n",
       "      <td>1</td>\n",
       "      <td>NaN</td>\n",
       "      <td>0</td>\n",
       "      <td>0</td>\n",
       "      <td>330959</td>\n",
       "      <td>7.8792</td>\n",
       "      <td>NaN</td>\n",
       "      <td>Q</td>\n",
       "    </tr>\n",
       "    <tr>\n",
       "      <th>31</th>\n",
       "      <td>32</td>\n",
       "      <td>1</td>\n",
       "      <td>1</td>\n",
       "      <td>Spencer, Mrs. William Augustus (Marie Eugenie)</td>\n",
       "      <td>1</td>\n",
       "      <td>NaN</td>\n",
       "      <td>1</td>\n",
       "      <td>0</td>\n",
       "      <td>PC 17569</td>\n",
       "      <td>146.5208</td>\n",
       "      <td>B78</td>\n",
       "      <td>C</td>\n",
       "    </tr>\n",
       "    <tr>\n",
       "      <th>32</th>\n",
       "      <td>33</td>\n",
       "      <td>1</td>\n",
       "      <td>3</td>\n",
       "      <td>Glynn, Miss. Mary Agatha</td>\n",
       "      <td>1</td>\n",
       "      <td>NaN</td>\n",
       "      <td>0</td>\n",
       "      <td>0</td>\n",
       "      <td>335677</td>\n",
       "      <td>7.7500</td>\n",
       "      <td>NaN</td>\n",
       "      <td>Q</td>\n",
       "    </tr>\n",
       "    <tr>\n",
       "      <th>39</th>\n",
       "      <td>40</td>\n",
       "      <td>1</td>\n",
       "      <td>3</td>\n",
       "      <td>Nicola-Yarred, Miss. Jamila</td>\n",
       "      <td>1</td>\n",
       "      <td>14.0</td>\n",
       "      <td>1</td>\n",
       "      <td>0</td>\n",
       "      <td>2651</td>\n",
       "      <td>11.2417</td>\n",
       "      <td>NaN</td>\n",
       "      <td>C</td>\n",
       "    </tr>\n",
       "    <tr>\n",
       "      <th>43</th>\n",
       "      <td>44</td>\n",
       "      <td>1</td>\n",
       "      <td>2</td>\n",
       "      <td>Laroche, Miss. Simonne Marie Anne Andree</td>\n",
       "      <td>1</td>\n",
       "      <td>3.0</td>\n",
       "      <td>1</td>\n",
       "      <td>2</td>\n",
       "      <td>SC/Paris 2123</td>\n",
       "      <td>41.5792</td>\n",
       "      <td>NaN</td>\n",
       "      <td>C</td>\n",
       "    </tr>\n",
       "    <tr>\n",
       "      <th>44</th>\n",
       "      <td>45</td>\n",
       "      <td>1</td>\n",
       "      <td>3</td>\n",
       "      <td>Devaney, Miss. Margaret Delia</td>\n",
       "      <td>1</td>\n",
       "      <td>19.0</td>\n",
       "      <td>0</td>\n",
       "      <td>0</td>\n",
       "      <td>330958</td>\n",
       "      <td>7.8792</td>\n",
       "      <td>NaN</td>\n",
       "      <td>Q</td>\n",
       "    </tr>\n",
       "    <tr>\n",
       "      <th>47</th>\n",
       "      <td>48</td>\n",
       "      <td>1</td>\n",
       "      <td>3</td>\n",
       "      <td>O'Driscoll, Miss. Bridget</td>\n",
       "      <td>1</td>\n",
       "      <td>NaN</td>\n",
       "      <td>0</td>\n",
       "      <td>0</td>\n",
       "      <td>14311</td>\n",
       "      <td>7.7500</td>\n",
       "      <td>NaN</td>\n",
       "      <td>Q</td>\n",
       "    </tr>\n",
       "    <tr>\n",
       "      <th>52</th>\n",
       "      <td>53</td>\n",
       "      <td>1</td>\n",
       "      <td>1</td>\n",
       "      <td>Harper, Mrs. Henry Sleeper (Myna Haxtun)</td>\n",
       "      <td>1</td>\n",
       "      <td>49.0</td>\n",
       "      <td>1</td>\n",
       "      <td>0</td>\n",
       "      <td>PC 17572</td>\n",
       "      <td>76.7292</td>\n",
       "      <td>D33</td>\n",
       "      <td>C</td>\n",
       "    </tr>\n",
       "    <tr>\n",
       "      <th>53</th>\n",
       "      <td>54</td>\n",
       "      <td>1</td>\n",
       "      <td>2</td>\n",
       "      <td>Faunthorpe, Mrs. Lizzie (Elizabeth Anne Wilkin...</td>\n",
       "      <td>1</td>\n",
       "      <td>29.0</td>\n",
       "      <td>1</td>\n",
       "      <td>0</td>\n",
       "      <td>2926</td>\n",
       "      <td>26.0000</td>\n",
       "      <td>NaN</td>\n",
       "      <td>S</td>\n",
       "    </tr>\n",
       "    <tr>\n",
       "      <th>56</th>\n",
       "      <td>57</td>\n",
       "      <td>1</td>\n",
       "      <td>2</td>\n",
       "      <td>Rugg, Miss. Emily</td>\n",
       "      <td>1</td>\n",
       "      <td>21.0</td>\n",
       "      <td>0</td>\n",
       "      <td>0</td>\n",
       "      <td>C.A. 31026</td>\n",
       "      <td>10.5000</td>\n",
       "      <td>NaN</td>\n",
       "      <td>S</td>\n",
       "    </tr>\n",
       "    <tr>\n",
       "      <th>58</th>\n",
       "      <td>59</td>\n",
       "      <td>1</td>\n",
       "      <td>2</td>\n",
       "      <td>West, Miss. Constance Mirium</td>\n",
       "      <td>1</td>\n",
       "      <td>5.0</td>\n",
       "      <td>1</td>\n",
       "      <td>2</td>\n",
       "      <td>C.A. 34651</td>\n",
       "      <td>27.7500</td>\n",
       "      <td>NaN</td>\n",
       "      <td>S</td>\n",
       "    </tr>\n",
       "    <tr>\n",
       "      <th>61</th>\n",
       "      <td>62</td>\n",
       "      <td>1</td>\n",
       "      <td>1</td>\n",
       "      <td>Icard, Miss. Amelie</td>\n",
       "      <td>1</td>\n",
       "      <td>38.0</td>\n",
       "      <td>0</td>\n",
       "      <td>0</td>\n",
       "      <td>113572</td>\n",
       "      <td>80.0000</td>\n",
       "      <td>B28</td>\n",
       "      <td>NaN</td>\n",
       "    </tr>\n",
       "    <tr>\n",
       "      <th>66</th>\n",
       "      <td>67</td>\n",
       "      <td>1</td>\n",
       "      <td>2</td>\n",
       "      <td>Nye, Mrs. (Elizabeth Ramell)</td>\n",
       "      <td>1</td>\n",
       "      <td>29.0</td>\n",
       "      <td>0</td>\n",
       "      <td>0</td>\n",
       "      <td>C.A. 29395</td>\n",
       "      <td>10.5000</td>\n",
       "      <td>F33</td>\n",
       "      <td>S</td>\n",
       "    </tr>\n",
       "    <tr>\n",
       "      <th>68</th>\n",
       "      <td>69</td>\n",
       "      <td>1</td>\n",
       "      <td>3</td>\n",
       "      <td>Andersson, Miss. Erna Alexandra</td>\n",
       "      <td>1</td>\n",
       "      <td>17.0</td>\n",
       "      <td>4</td>\n",
       "      <td>2</td>\n",
       "      <td>3101281</td>\n",
       "      <td>7.9250</td>\n",
       "      <td>NaN</td>\n",
       "      <td>S</td>\n",
       "    </tr>\n",
       "    <tr>\n",
       "      <th>79</th>\n",
       "      <td>80</td>\n",
       "      <td>1</td>\n",
       "      <td>3</td>\n",
       "      <td>Dowdell, Miss. Elizabeth</td>\n",
       "      <td>1</td>\n",
       "      <td>30.0</td>\n",
       "      <td>0</td>\n",
       "      <td>0</td>\n",
       "      <td>364516</td>\n",
       "      <td>12.4750</td>\n",
       "      <td>NaN</td>\n",
       "      <td>S</td>\n",
       "    </tr>\n",
       "    <tr>\n",
       "      <th>82</th>\n",
       "      <td>83</td>\n",
       "      <td>1</td>\n",
       "      <td>3</td>\n",
       "      <td>McDermott, Miss. Brigdet Delia</td>\n",
       "      <td>1</td>\n",
       "      <td>NaN</td>\n",
       "      <td>0</td>\n",
       "      <td>0</td>\n",
       "      <td>330932</td>\n",
       "      <td>7.7875</td>\n",
       "      <td>NaN</td>\n",
       "      <td>Q</td>\n",
       "    </tr>\n",
       "    <tr>\n",
       "      <th>84</th>\n",
       "      <td>85</td>\n",
       "      <td>1</td>\n",
       "      <td>2</td>\n",
       "      <td>Ilett, Miss. Bertha</td>\n",
       "      <td>1</td>\n",
       "      <td>17.0</td>\n",
       "      <td>0</td>\n",
       "      <td>0</td>\n",
       "      <td>SO/C 14885</td>\n",
       "      <td>10.5000</td>\n",
       "      <td>NaN</td>\n",
       "      <td>S</td>\n",
       "    </tr>\n",
       "    <tr>\n",
       "      <th>85</th>\n",
       "      <td>86</td>\n",
       "      <td>1</td>\n",
       "      <td>3</td>\n",
       "      <td>Backstrom, Mrs. Karl Alfred (Maria Mathilda Gu...</td>\n",
       "      <td>1</td>\n",
       "      <td>33.0</td>\n",
       "      <td>3</td>\n",
       "      <td>0</td>\n",
       "      <td>3101278</td>\n",
       "      <td>15.8500</td>\n",
       "      <td>NaN</td>\n",
       "      <td>S</td>\n",
       "    </tr>\n",
       "    <tr>\n",
       "      <th>88</th>\n",
       "      <td>89</td>\n",
       "      <td>1</td>\n",
       "      <td>1</td>\n",
       "      <td>Fortune, Miss. Mabel Helen</td>\n",
       "      <td>1</td>\n",
       "      <td>23.0</td>\n",
       "      <td>3</td>\n",
       "      <td>2</td>\n",
       "      <td>19950</td>\n",
       "      <td>263.0000</td>\n",
       "      <td>C23 C25 C27</td>\n",
       "      <td>S</td>\n",
       "    </tr>\n",
       "    <tr>\n",
       "      <th>...</th>\n",
       "      <td>...</td>\n",
       "      <td>...</td>\n",
       "      <td>...</td>\n",
       "      <td>...</td>\n",
       "      <td>...</td>\n",
       "      <td>...</td>\n",
       "      <td>...</td>\n",
       "      <td>...</td>\n",
       "      <td>...</td>\n",
       "      <td>...</td>\n",
       "      <td>...</td>\n",
       "      <td>...</td>\n",
       "    </tr>\n",
       "    <tr>\n",
       "      <th>774</th>\n",
       "      <td>775</td>\n",
       "      <td>1</td>\n",
       "      <td>2</td>\n",
       "      <td>Hocking, Mrs. Elizabeth (Eliza Needs)</td>\n",
       "      <td>1</td>\n",
       "      <td>54.0</td>\n",
       "      <td>1</td>\n",
       "      <td>3</td>\n",
       "      <td>29105</td>\n",
       "      <td>23.0000</td>\n",
       "      <td>NaN</td>\n",
       "      <td>S</td>\n",
       "    </tr>\n",
       "    <tr>\n",
       "      <th>777</th>\n",
       "      <td>778</td>\n",
       "      <td>1</td>\n",
       "      <td>3</td>\n",
       "      <td>Emanuel, Miss. Virginia Ethel</td>\n",
       "      <td>1</td>\n",
       "      <td>5.0</td>\n",
       "      <td>0</td>\n",
       "      <td>0</td>\n",
       "      <td>364516</td>\n",
       "      <td>12.4750</td>\n",
       "      <td>NaN</td>\n",
       "      <td>S</td>\n",
       "    </tr>\n",
       "    <tr>\n",
       "      <th>779</th>\n",
       "      <td>780</td>\n",
       "      <td>1</td>\n",
       "      <td>1</td>\n",
       "      <td>Robert, Mrs. Edward Scott (Elisabeth Walton Mc...</td>\n",
       "      <td>1</td>\n",
       "      <td>43.0</td>\n",
       "      <td>0</td>\n",
       "      <td>1</td>\n",
       "      <td>24160</td>\n",
       "      <td>211.3375</td>\n",
       "      <td>B3</td>\n",
       "      <td>S</td>\n",
       "    </tr>\n",
       "    <tr>\n",
       "      <th>780</th>\n",
       "      <td>781</td>\n",
       "      <td>1</td>\n",
       "      <td>3</td>\n",
       "      <td>Ayoub, Miss. Banoura</td>\n",
       "      <td>1</td>\n",
       "      <td>13.0</td>\n",
       "      <td>0</td>\n",
       "      <td>0</td>\n",
       "      <td>2687</td>\n",
       "      <td>7.2292</td>\n",
       "      <td>NaN</td>\n",
       "      <td>C</td>\n",
       "    </tr>\n",
       "    <tr>\n",
       "      <th>781</th>\n",
       "      <td>782</td>\n",
       "      <td>1</td>\n",
       "      <td>1</td>\n",
       "      <td>Dick, Mrs. Albert Adrian (Vera Gillespie)</td>\n",
       "      <td>1</td>\n",
       "      <td>17.0</td>\n",
       "      <td>1</td>\n",
       "      <td>0</td>\n",
       "      <td>17474</td>\n",
       "      <td>57.0000</td>\n",
       "      <td>B20</td>\n",
       "      <td>S</td>\n",
       "    </tr>\n",
       "    <tr>\n",
       "      <th>786</th>\n",
       "      <td>787</td>\n",
       "      <td>1</td>\n",
       "      <td>3</td>\n",
       "      <td>Sjoblom, Miss. Anna Sofia</td>\n",
       "      <td>1</td>\n",
       "      <td>18.0</td>\n",
       "      <td>0</td>\n",
       "      <td>0</td>\n",
       "      <td>3101265</td>\n",
       "      <td>7.4958</td>\n",
       "      <td>NaN</td>\n",
       "      <td>S</td>\n",
       "    </tr>\n",
       "    <tr>\n",
       "      <th>796</th>\n",
       "      <td>797</td>\n",
       "      <td>1</td>\n",
       "      <td>1</td>\n",
       "      <td>Leader, Dr. Alice (Farnham)</td>\n",
       "      <td>1</td>\n",
       "      <td>49.0</td>\n",
       "      <td>0</td>\n",
       "      <td>0</td>\n",
       "      <td>17465</td>\n",
       "      <td>25.9292</td>\n",
       "      <td>D17</td>\n",
       "      <td>S</td>\n",
       "    </tr>\n",
       "    <tr>\n",
       "      <th>797</th>\n",
       "      <td>798</td>\n",
       "      <td>1</td>\n",
       "      <td>3</td>\n",
       "      <td>Osman, Mrs. Mara</td>\n",
       "      <td>1</td>\n",
       "      <td>31.0</td>\n",
       "      <td>0</td>\n",
       "      <td>0</td>\n",
       "      <td>349244</td>\n",
       "      <td>8.6833</td>\n",
       "      <td>NaN</td>\n",
       "      <td>S</td>\n",
       "    </tr>\n",
       "    <tr>\n",
       "      <th>801</th>\n",
       "      <td>802</td>\n",
       "      <td>1</td>\n",
       "      <td>2</td>\n",
       "      <td>Collyer, Mrs. Harvey (Charlotte Annie Tate)</td>\n",
       "      <td>1</td>\n",
       "      <td>31.0</td>\n",
       "      <td>1</td>\n",
       "      <td>1</td>\n",
       "      <td>C.A. 31921</td>\n",
       "      <td>26.2500</td>\n",
       "      <td>NaN</td>\n",
       "      <td>S</td>\n",
       "    </tr>\n",
       "    <tr>\n",
       "      <th>809</th>\n",
       "      <td>810</td>\n",
       "      <td>1</td>\n",
       "      <td>1</td>\n",
       "      <td>Chambers, Mrs. Norman Campbell (Bertha Griggs)</td>\n",
       "      <td>1</td>\n",
       "      <td>33.0</td>\n",
       "      <td>1</td>\n",
       "      <td>0</td>\n",
       "      <td>113806</td>\n",
       "      <td>53.1000</td>\n",
       "      <td>E8</td>\n",
       "      <td>S</td>\n",
       "    </tr>\n",
       "    <tr>\n",
       "      <th>820</th>\n",
       "      <td>821</td>\n",
       "      <td>1</td>\n",
       "      <td>1</td>\n",
       "      <td>Hays, Mrs. Charles Melville (Clara Jennings Gr...</td>\n",
       "      <td>1</td>\n",
       "      <td>52.0</td>\n",
       "      <td>1</td>\n",
       "      <td>1</td>\n",
       "      <td>12749</td>\n",
       "      <td>93.5000</td>\n",
       "      <td>B69</td>\n",
       "      <td>S</td>\n",
       "    </tr>\n",
       "    <tr>\n",
       "      <th>823</th>\n",
       "      <td>824</td>\n",
       "      <td>1</td>\n",
       "      <td>3</td>\n",
       "      <td>Moor, Mrs. (Beila)</td>\n",
       "      <td>1</td>\n",
       "      <td>27.0</td>\n",
       "      <td>0</td>\n",
       "      <td>1</td>\n",
       "      <td>392096</td>\n",
       "      <td>12.4750</td>\n",
       "      <td>E121</td>\n",
       "      <td>S</td>\n",
       "    </tr>\n",
       "    <tr>\n",
       "      <th>829</th>\n",
       "      <td>830</td>\n",
       "      <td>1</td>\n",
       "      <td>1</td>\n",
       "      <td>Stone, Mrs. George Nelson (Martha Evelyn)</td>\n",
       "      <td>1</td>\n",
       "      <td>62.0</td>\n",
       "      <td>0</td>\n",
       "      <td>0</td>\n",
       "      <td>113572</td>\n",
       "      <td>80.0000</td>\n",
       "      <td>B28</td>\n",
       "      <td>NaN</td>\n",
       "    </tr>\n",
       "    <tr>\n",
       "      <th>830</th>\n",
       "      <td>831</td>\n",
       "      <td>1</td>\n",
       "      <td>3</td>\n",
       "      <td>Yasbeck, Mrs. Antoni (Selini Alexander)</td>\n",
       "      <td>1</td>\n",
       "      <td>15.0</td>\n",
       "      <td>1</td>\n",
       "      <td>0</td>\n",
       "      <td>2659</td>\n",
       "      <td>14.4542</td>\n",
       "      <td>NaN</td>\n",
       "      <td>C</td>\n",
       "    </tr>\n",
       "    <tr>\n",
       "      <th>835</th>\n",
       "      <td>836</td>\n",
       "      <td>1</td>\n",
       "      <td>1</td>\n",
       "      <td>Compton, Miss. Sara Rebecca</td>\n",
       "      <td>1</td>\n",
       "      <td>39.0</td>\n",
       "      <td>1</td>\n",
       "      <td>1</td>\n",
       "      <td>PC 17756</td>\n",
       "      <td>83.1583</td>\n",
       "      <td>E49</td>\n",
       "      <td>C</td>\n",
       "    </tr>\n",
       "    <tr>\n",
       "      <th>842</th>\n",
       "      <td>843</td>\n",
       "      <td>1</td>\n",
       "      <td>1</td>\n",
       "      <td>Serepeca, Miss. Augusta</td>\n",
       "      <td>1</td>\n",
       "      <td>30.0</td>\n",
       "      <td>0</td>\n",
       "      <td>0</td>\n",
       "      <td>113798</td>\n",
       "      <td>31.0000</td>\n",
       "      <td>NaN</td>\n",
       "      <td>C</td>\n",
       "    </tr>\n",
       "    <tr>\n",
       "      <th>849</th>\n",
       "      <td>850</td>\n",
       "      <td>1</td>\n",
       "      <td>1</td>\n",
       "      <td>Goldenberg, Mrs. Samuel L (Edwiga Grabowska)</td>\n",
       "      <td>1</td>\n",
       "      <td>NaN</td>\n",
       "      <td>1</td>\n",
       "      <td>0</td>\n",
       "      <td>17453</td>\n",
       "      <td>89.1042</td>\n",
       "      <td>C92</td>\n",
       "      <td>C</td>\n",
       "    </tr>\n",
       "    <tr>\n",
       "      <th>853</th>\n",
       "      <td>854</td>\n",
       "      <td>1</td>\n",
       "      <td>1</td>\n",
       "      <td>Lines, Miss. Mary Conover</td>\n",
       "      <td>1</td>\n",
       "      <td>16.0</td>\n",
       "      <td>0</td>\n",
       "      <td>1</td>\n",
       "      <td>PC 17592</td>\n",
       "      <td>39.4000</td>\n",
       "      <td>D28</td>\n",
       "      <td>S</td>\n",
       "    </tr>\n",
       "    <tr>\n",
       "      <th>855</th>\n",
       "      <td>856</td>\n",
       "      <td>1</td>\n",
       "      <td>3</td>\n",
       "      <td>Aks, Mrs. Sam (Leah Rosen)</td>\n",
       "      <td>1</td>\n",
       "      <td>18.0</td>\n",
       "      <td>0</td>\n",
       "      <td>1</td>\n",
       "      <td>392091</td>\n",
       "      <td>9.3500</td>\n",
       "      <td>NaN</td>\n",
       "      <td>S</td>\n",
       "    </tr>\n",
       "    <tr>\n",
       "      <th>856</th>\n",
       "      <td>857</td>\n",
       "      <td>1</td>\n",
       "      <td>1</td>\n",
       "      <td>Wick, Mrs. George Dennick (Mary Hitchcock)</td>\n",
       "      <td>1</td>\n",
       "      <td>45.0</td>\n",
       "      <td>1</td>\n",
       "      <td>1</td>\n",
       "      <td>36928</td>\n",
       "      <td>164.8667</td>\n",
       "      <td>NaN</td>\n",
       "      <td>S</td>\n",
       "    </tr>\n",
       "    <tr>\n",
       "      <th>858</th>\n",
       "      <td>859</td>\n",
       "      <td>1</td>\n",
       "      <td>3</td>\n",
       "      <td>Baclini, Mrs. Solomon (Latifa Qurban)</td>\n",
       "      <td>1</td>\n",
       "      <td>24.0</td>\n",
       "      <td>0</td>\n",
       "      <td>3</td>\n",
       "      <td>2666</td>\n",
       "      <td>19.2583</td>\n",
       "      <td>NaN</td>\n",
       "      <td>C</td>\n",
       "    </tr>\n",
       "    <tr>\n",
       "      <th>862</th>\n",
       "      <td>863</td>\n",
       "      <td>1</td>\n",
       "      <td>1</td>\n",
       "      <td>Swift, Mrs. Frederick Joel (Margaret Welles Ba...</td>\n",
       "      <td>1</td>\n",
       "      <td>48.0</td>\n",
       "      <td>0</td>\n",
       "      <td>0</td>\n",
       "      <td>17466</td>\n",
       "      <td>25.9292</td>\n",
       "      <td>D17</td>\n",
       "      <td>S</td>\n",
       "    </tr>\n",
       "    <tr>\n",
       "      <th>865</th>\n",
       "      <td>866</td>\n",
       "      <td>1</td>\n",
       "      <td>2</td>\n",
       "      <td>Bystrom, Mrs. (Karolina)</td>\n",
       "      <td>1</td>\n",
       "      <td>42.0</td>\n",
       "      <td>0</td>\n",
       "      <td>0</td>\n",
       "      <td>236852</td>\n",
       "      <td>13.0000</td>\n",
       "      <td>NaN</td>\n",
       "      <td>S</td>\n",
       "    </tr>\n",
       "    <tr>\n",
       "      <th>866</th>\n",
       "      <td>867</td>\n",
       "      <td>1</td>\n",
       "      <td>2</td>\n",
       "      <td>Duran y More, Miss. Asuncion</td>\n",
       "      <td>1</td>\n",
       "      <td>27.0</td>\n",
       "      <td>1</td>\n",
       "      <td>0</td>\n",
       "      <td>SC/PARIS 2149</td>\n",
       "      <td>13.8583</td>\n",
       "      <td>NaN</td>\n",
       "      <td>C</td>\n",
       "    </tr>\n",
       "    <tr>\n",
       "      <th>871</th>\n",
       "      <td>872</td>\n",
       "      <td>1</td>\n",
       "      <td>1</td>\n",
       "      <td>Beckwith, Mrs. Richard Leonard (Sallie Monypeny)</td>\n",
       "      <td>1</td>\n",
       "      <td>47.0</td>\n",
       "      <td>1</td>\n",
       "      <td>1</td>\n",
       "      <td>11751</td>\n",
       "      <td>52.5542</td>\n",
       "      <td>D35</td>\n",
       "      <td>S</td>\n",
       "    </tr>\n",
       "    <tr>\n",
       "      <th>874</th>\n",
       "      <td>875</td>\n",
       "      <td>1</td>\n",
       "      <td>2</td>\n",
       "      <td>Abelson, Mrs. Samuel (Hannah Wizosky)</td>\n",
       "      <td>1</td>\n",
       "      <td>28.0</td>\n",
       "      <td>1</td>\n",
       "      <td>0</td>\n",
       "      <td>P/PP 3381</td>\n",
       "      <td>24.0000</td>\n",
       "      <td>NaN</td>\n",
       "      <td>C</td>\n",
       "    </tr>\n",
       "    <tr>\n",
       "      <th>875</th>\n",
       "      <td>876</td>\n",
       "      <td>1</td>\n",
       "      <td>3</td>\n",
       "      <td>Najib, Miss. Adele Kiamie \"Jane\"</td>\n",
       "      <td>1</td>\n",
       "      <td>15.0</td>\n",
       "      <td>0</td>\n",
       "      <td>0</td>\n",
       "      <td>2667</td>\n",
       "      <td>7.2250</td>\n",
       "      <td>NaN</td>\n",
       "      <td>C</td>\n",
       "    </tr>\n",
       "    <tr>\n",
       "      <th>879</th>\n",
       "      <td>880</td>\n",
       "      <td>1</td>\n",
       "      <td>1</td>\n",
       "      <td>Potter, Mrs. Thomas Jr (Lily Alexenia Wilson)</td>\n",
       "      <td>1</td>\n",
       "      <td>56.0</td>\n",
       "      <td>0</td>\n",
       "      <td>1</td>\n",
       "      <td>11767</td>\n",
       "      <td>83.1583</td>\n",
       "      <td>C50</td>\n",
       "      <td>C</td>\n",
       "    </tr>\n",
       "    <tr>\n",
       "      <th>880</th>\n",
       "      <td>881</td>\n",
       "      <td>1</td>\n",
       "      <td>2</td>\n",
       "      <td>Shelley, Mrs. William (Imanita Parrish Hall)</td>\n",
       "      <td>1</td>\n",
       "      <td>25.0</td>\n",
       "      <td>0</td>\n",
       "      <td>1</td>\n",
       "      <td>230433</td>\n",
       "      <td>26.0000</td>\n",
       "      <td>NaN</td>\n",
       "      <td>S</td>\n",
       "    </tr>\n",
       "    <tr>\n",
       "      <th>887</th>\n",
       "      <td>888</td>\n",
       "      <td>1</td>\n",
       "      <td>1</td>\n",
       "      <td>Graham, Miss. Margaret Edith</td>\n",
       "      <td>1</td>\n",
       "      <td>19.0</td>\n",
       "      <td>0</td>\n",
       "      <td>0</td>\n",
       "      <td>112053</td>\n",
       "      <td>30.0000</td>\n",
       "      <td>B42</td>\n",
       "      <td>S</td>\n",
       "    </tr>\n",
       "  </tbody>\n",
       "</table>\n",
       "<p>233 rows × 12 columns</p>\n",
       "</div>"
      ],
      "text/plain": [
       "     PassengerId  Survived  Pclass  \\\n",
       "1              2         1       1   \n",
       "2              3         1       3   \n",
       "3              4         1       1   \n",
       "8              9         1       3   \n",
       "9             10         1       2   \n",
       "10            11         1       3   \n",
       "11            12         1       1   \n",
       "15            16         1       2   \n",
       "19            20         1       3   \n",
       "22            23         1       3   \n",
       "25            26         1       3   \n",
       "28            29         1       3   \n",
       "31            32         1       1   \n",
       "32            33         1       3   \n",
       "39            40         1       3   \n",
       "43            44         1       2   \n",
       "44            45         1       3   \n",
       "47            48         1       3   \n",
       "52            53         1       1   \n",
       "53            54         1       2   \n",
       "56            57         1       2   \n",
       "58            59         1       2   \n",
       "61            62         1       1   \n",
       "66            67         1       2   \n",
       "68            69         1       3   \n",
       "79            80         1       3   \n",
       "82            83         1       3   \n",
       "84            85         1       2   \n",
       "85            86         1       3   \n",
       "88            89         1       1   \n",
       "..           ...       ...     ...   \n",
       "774          775         1       2   \n",
       "777          778         1       3   \n",
       "779          780         1       1   \n",
       "780          781         1       3   \n",
       "781          782         1       1   \n",
       "786          787         1       3   \n",
       "796          797         1       1   \n",
       "797          798         1       3   \n",
       "801          802         1       2   \n",
       "809          810         1       1   \n",
       "820          821         1       1   \n",
       "823          824         1       3   \n",
       "829          830         1       1   \n",
       "830          831         1       3   \n",
       "835          836         1       1   \n",
       "842          843         1       1   \n",
       "849          850         1       1   \n",
       "853          854         1       1   \n",
       "855          856         1       3   \n",
       "856          857         1       1   \n",
       "858          859         1       3   \n",
       "862          863         1       1   \n",
       "865          866         1       2   \n",
       "866          867         1       2   \n",
       "871          872         1       1   \n",
       "874          875         1       2   \n",
       "875          876         1       3   \n",
       "879          880         1       1   \n",
       "880          881         1       2   \n",
       "887          888         1       1   \n",
       "\n",
       "                                                  Name  Sex   Age  SibSp  \\\n",
       "1    Cumings, Mrs. John Bradley (Florence Briggs Th...    1  38.0      1   \n",
       "2                               Heikkinen, Miss. Laina    1  26.0      0   \n",
       "3         Futrelle, Mrs. Jacques Heath (Lily May Peel)    1  35.0      1   \n",
       "8    Johnson, Mrs. Oscar W (Elisabeth Vilhelmina Berg)    1  27.0      0   \n",
       "9                  Nasser, Mrs. Nicholas (Adele Achem)    1  14.0      1   \n",
       "10                     Sandstrom, Miss. Marguerite Rut    1   4.0      1   \n",
       "11                            Bonnell, Miss. Elizabeth    1  58.0      0   \n",
       "15                    Hewlett, Mrs. (Mary D Kingcome)     1  55.0      0   \n",
       "19                             Masselmani, Mrs. Fatima    1   NaN      0   \n",
       "22                         McGowan, Miss. Anna \"Annie\"    1  15.0      0   \n",
       "25   Asplund, Mrs. Carl Oscar (Selma Augusta Emilia...    1  38.0      1   \n",
       "28                       O'Dwyer, Miss. Ellen \"Nellie\"    1   NaN      0   \n",
       "31      Spencer, Mrs. William Augustus (Marie Eugenie)    1   NaN      1   \n",
       "32                            Glynn, Miss. Mary Agatha    1   NaN      0   \n",
       "39                         Nicola-Yarred, Miss. Jamila    1  14.0      1   \n",
       "43            Laroche, Miss. Simonne Marie Anne Andree    1   3.0      1   \n",
       "44                       Devaney, Miss. Margaret Delia    1  19.0      0   \n",
       "47                           O'Driscoll, Miss. Bridget    1   NaN      0   \n",
       "52            Harper, Mrs. Henry Sleeper (Myna Haxtun)    1  49.0      1   \n",
       "53   Faunthorpe, Mrs. Lizzie (Elizabeth Anne Wilkin...    1  29.0      1   \n",
       "56                                   Rugg, Miss. Emily    1  21.0      0   \n",
       "58                        West, Miss. Constance Mirium    1   5.0      1   \n",
       "61                                 Icard, Miss. Amelie    1  38.0      0   \n",
       "66                        Nye, Mrs. (Elizabeth Ramell)    1  29.0      0   \n",
       "68                     Andersson, Miss. Erna Alexandra    1  17.0      4   \n",
       "79                            Dowdell, Miss. Elizabeth    1  30.0      0   \n",
       "82                      McDermott, Miss. Brigdet Delia    1   NaN      0   \n",
       "84                                 Ilett, Miss. Bertha    1  17.0      0   \n",
       "85   Backstrom, Mrs. Karl Alfred (Maria Mathilda Gu...    1  33.0      3   \n",
       "88                          Fortune, Miss. Mabel Helen    1  23.0      3   \n",
       "..                                                 ...  ...   ...    ...   \n",
       "774              Hocking, Mrs. Elizabeth (Eliza Needs)    1  54.0      1   \n",
       "777                      Emanuel, Miss. Virginia Ethel    1   5.0      0   \n",
       "779  Robert, Mrs. Edward Scott (Elisabeth Walton Mc...    1  43.0      0   \n",
       "780                               Ayoub, Miss. Banoura    1  13.0      0   \n",
       "781          Dick, Mrs. Albert Adrian (Vera Gillespie)    1  17.0      1   \n",
       "786                          Sjoblom, Miss. Anna Sofia    1  18.0      0   \n",
       "796                        Leader, Dr. Alice (Farnham)    1  49.0      0   \n",
       "797                                   Osman, Mrs. Mara    1  31.0      0   \n",
       "801        Collyer, Mrs. Harvey (Charlotte Annie Tate)    1  31.0      1   \n",
       "809     Chambers, Mrs. Norman Campbell (Bertha Griggs)    1  33.0      1   \n",
       "820  Hays, Mrs. Charles Melville (Clara Jennings Gr...    1  52.0      1   \n",
       "823                                 Moor, Mrs. (Beila)    1  27.0      0   \n",
       "829          Stone, Mrs. George Nelson (Martha Evelyn)    1  62.0      0   \n",
       "830            Yasbeck, Mrs. Antoni (Selini Alexander)    1  15.0      1   \n",
       "835                        Compton, Miss. Sara Rebecca    1  39.0      1   \n",
       "842                            Serepeca, Miss. Augusta    1  30.0      0   \n",
       "849       Goldenberg, Mrs. Samuel L (Edwiga Grabowska)    1   NaN      1   \n",
       "853                          Lines, Miss. Mary Conover    1  16.0      0   \n",
       "855                         Aks, Mrs. Sam (Leah Rosen)    1  18.0      0   \n",
       "856         Wick, Mrs. George Dennick (Mary Hitchcock)    1  45.0      1   \n",
       "858              Baclini, Mrs. Solomon (Latifa Qurban)    1  24.0      0   \n",
       "862  Swift, Mrs. Frederick Joel (Margaret Welles Ba...    1  48.0      0   \n",
       "865                           Bystrom, Mrs. (Karolina)    1  42.0      0   \n",
       "866                       Duran y More, Miss. Asuncion    1  27.0      1   \n",
       "871   Beckwith, Mrs. Richard Leonard (Sallie Monypeny)    1  47.0      1   \n",
       "874              Abelson, Mrs. Samuel (Hannah Wizosky)    1  28.0      1   \n",
       "875                   Najib, Miss. Adele Kiamie \"Jane\"    1  15.0      0   \n",
       "879      Potter, Mrs. Thomas Jr (Lily Alexenia Wilson)    1  56.0      0   \n",
       "880       Shelley, Mrs. William (Imanita Parrish Hall)    1  25.0      0   \n",
       "887                       Graham, Miss. Margaret Edith    1  19.0      0   \n",
       "\n",
       "     Parch            Ticket      Fare        Cabin Embarked  \n",
       "1        0          PC 17599   71.2833          C85        C  \n",
       "2        0  STON/O2. 3101282    7.9250          NaN        S  \n",
       "3        0            113803   53.1000         C123        S  \n",
       "8        2            347742   11.1333          NaN        S  \n",
       "9        0            237736   30.0708          NaN        C  \n",
       "10       1           PP 9549   16.7000           G6        S  \n",
       "11       0            113783   26.5500         C103        S  \n",
       "15       0            248706   16.0000          NaN        S  \n",
       "19       0              2649    7.2250          NaN        C  \n",
       "22       0            330923    8.0292          NaN        Q  \n",
       "25       5            347077   31.3875          NaN        S  \n",
       "28       0            330959    7.8792          NaN        Q  \n",
       "31       0          PC 17569  146.5208          B78        C  \n",
       "32       0            335677    7.7500          NaN        Q  \n",
       "39       0              2651   11.2417          NaN        C  \n",
       "43       2     SC/Paris 2123   41.5792          NaN        C  \n",
       "44       0            330958    7.8792          NaN        Q  \n",
       "47       0             14311    7.7500          NaN        Q  \n",
       "52       0          PC 17572   76.7292          D33        C  \n",
       "53       0              2926   26.0000          NaN        S  \n",
       "56       0        C.A. 31026   10.5000          NaN        S  \n",
       "58       2        C.A. 34651   27.7500          NaN        S  \n",
       "61       0            113572   80.0000          B28      NaN  \n",
       "66       0        C.A. 29395   10.5000          F33        S  \n",
       "68       2           3101281    7.9250          NaN        S  \n",
       "79       0            364516   12.4750          NaN        S  \n",
       "82       0            330932    7.7875          NaN        Q  \n",
       "84       0        SO/C 14885   10.5000          NaN        S  \n",
       "85       0           3101278   15.8500          NaN        S  \n",
       "88       2             19950  263.0000  C23 C25 C27        S  \n",
       "..     ...               ...       ...          ...      ...  \n",
       "774      3             29105   23.0000          NaN        S  \n",
       "777      0            364516   12.4750          NaN        S  \n",
       "779      1             24160  211.3375           B3        S  \n",
       "780      0              2687    7.2292          NaN        C  \n",
       "781      0             17474   57.0000          B20        S  \n",
       "786      0           3101265    7.4958          NaN        S  \n",
       "796      0             17465   25.9292          D17        S  \n",
       "797      0            349244    8.6833          NaN        S  \n",
       "801      1        C.A. 31921   26.2500          NaN        S  \n",
       "809      0            113806   53.1000           E8        S  \n",
       "820      1             12749   93.5000          B69        S  \n",
       "823      1            392096   12.4750         E121        S  \n",
       "829      0            113572   80.0000          B28      NaN  \n",
       "830      0              2659   14.4542          NaN        C  \n",
       "835      1          PC 17756   83.1583          E49        C  \n",
       "842      0            113798   31.0000          NaN        C  \n",
       "849      0             17453   89.1042          C92        C  \n",
       "853      1          PC 17592   39.4000          D28        S  \n",
       "855      1            392091    9.3500          NaN        S  \n",
       "856      1             36928  164.8667          NaN        S  \n",
       "858      3              2666   19.2583          NaN        C  \n",
       "862      0             17466   25.9292          D17        S  \n",
       "865      0            236852   13.0000          NaN        S  \n",
       "866      0     SC/PARIS 2149   13.8583          NaN        C  \n",
       "871      1             11751   52.5542          D35        S  \n",
       "874      0         P/PP 3381   24.0000          NaN        C  \n",
       "875      0              2667    7.2250          NaN        C  \n",
       "879      1             11767   83.1583          C50        C  \n",
       "880      1            230433   26.0000          NaN        S  \n",
       "887      0            112053   30.0000          B42        S  \n",
       "\n",
       "[233 rows x 12 columns]"
      ]
     },
     "execution_count": 23,
     "metadata": {},
     "output_type": "execute_result"
    }
   ],
   "source": [
    "df_female_survived"
   ]
  },
  {
   "cell_type": "code",
   "execution_count": 24,
   "metadata": {
    "collapsed": false
   },
   "outputs": [],
   "source": [
    "names = []\n",
    "for i in df_female_survived.iloc[:,3]:\n",
    "    names.append(i)"
   ]
  },
  {
   "cell_type": "code",
   "execution_count": 25,
   "metadata": {
    "collapsed": true
   },
   "outputs": [],
   "source": [
    "tokens = []\n",
    "for i in names:\n",
    "    tokens.append(word_tokenize(i))"
   ]
  },
  {
   "cell_type": "code",
   "execution_count": 26,
   "metadata": {
    "collapsed": true
   },
   "outputs": [],
   "source": [
    "counts = 0\n",
    "for i in tokens:\n",
    "    for j in range(len(i)):\n",
    "        if i[j] == '(' or i[j] == 'Miss':\n",
    "            counts += 1"
   ]
  },
  {
   "cell_type": "code",
   "execution_count": 27,
   "metadata": {
    "collapsed": false
   },
   "outputs": [
    {
     "data": {
      "text/plain": [
       "229"
      ]
     },
     "execution_count": 27,
     "metadata": {},
     "output_type": "execute_result"
    }
   ],
   "source": [
    "counts"
   ]
  },
  {
   "cell_type": "code",
   "execution_count": 28,
   "metadata": {
    "collapsed": false
   },
   "outputs": [
    {
     "data": {
      "image/png": "[encoded data removed]",
      "text/plain": [
       "<matplotlib.figure.Figure at 0x12da30aba58>"
      ]
     },
     "metadata": {},
     "output_type": "display_data"
    }
   ],
   "source": [
    "fig, axs = plt.subplots(1, 1, squeeze = 1, figsize = (10,10))\n",
    "axs1 = fig.add_subplot(221)\n",
    "axs2 = fig.add_subplot(222)\n",
    "fig.subplots_adjust(hspace = .3, wspace = .3)\n",
    "total_men_survived = df_male_survived.shape[0]\n",
    "total_men_dead = df_train.loc[df_train['Sex'] == 0].shape[0] - total_men_survived\n",
    "proportions1 = [total_men_survived, total_men_dead]\n",
    "total_women_survived = df_female_survived.shape[0]\n",
    "total_women_dead = df_train.loc[df_train['Sex'] == 1].shape[0] - total_women_survived\n",
    "proportions2 = [total_women_survived, total_women_dead]\n",
    "axs1.pie(proportions1, labels = ['total men survived', 'total men died'], pctdistance = 0.5, autopct = '%1.1f%%', explode = [.05, .05], shadow = 1)\n",
    "axs2.pie(proportions2, labels = ['total women survived', 'total women died'], pctdistance = 0.5, autopct = '%1.1f%%', explode = [.05, .05], shadow = 1)\n",
    "plt.show()"
   ]
  },
  {
   "cell_type": "code",
   "execution_count": 29,
   "metadata": {
    "collapsed": false
   },
   "outputs": [
    {
     "data": {
      "text/plain": [
       "28.84771573604061"
      ]
     },
     "execution_count": 29,
     "metadata": {},
     "output_type": "execute_result"
    }
   ],
   "source": [
    "df_female_survived.Age.mean(skipna = 1)"
   ]
  },
  {
   "cell_type": "code",
   "execution_count": 30,
   "metadata": {
    "collapsed": false
   },
   "outputs": [
    {
     "data": {
      "text/plain": [
       "28.0"
      ]
     },
     "execution_count": 30,
     "metadata": {},
     "output_type": "execute_result"
    }
   ],
   "source": [
    "df_female_survived.Age.median(skipna = 1)"
   ]
  },
  {
   "cell_type": "code",
   "execution_count": 31,
   "metadata": {
    "collapsed": false
   },
   "outputs": [
    {
     "data": {
      "text/plain": [
       "0.75"
      ]
     },
     "execution_count": 31,
     "metadata": {},
     "output_type": "execute_result"
    }
   ],
   "source": [
    "df_train.iloc[469,5]"
   ]
  },
  {
   "cell_type": "code",
   "execution_count": 32,
   "metadata": {
    "collapsed": false
   },
   "outputs": [
    {
     "data": {
      "image/png": "[encoded data removed]",
      "text/plain": [
       "<matplotlib.figure.Figure at 0x12da31a4a58>"
      ]
     },
     "metadata": {},
     "output_type": "display_data"
    }
   ],
   "source": [
    "plt.hist(df_female_survived.Age, color = 'green', range = (.75, 63), normed = 1)\n",
    "plt.xlabel('Age')\n",
    "plt.show()"
   ]
  },
  {
   "cell_type": "markdown",
   "metadata": {},
   "source": [
    "#  "
   ]
  },
  {
   "cell_type": "markdown",
   "metadata": {},
   "source": [
    "#                        survived male ka bkc"
   ]
  },
  {
   "cell_type": "markdown",
   "metadata": {},
   "source": [
    "#   "
   ]
  },
  {
   "cell_type": "code",
   "execution_count": 33,
   "metadata": {
    "collapsed": false
   },
   "outputs": [
    {
     "name": "stderr",
     "output_type": "stream",
     "text": [
      "C:\\Users\\Visha\\Anaconda3\\lib\\site-packages\\ipykernel\\__main__.py:1: UserWarning: Boolean Series key will be reindexed to match DataFrame index.\n",
      "  if __name__ == '__main__':\n"
     ]
    }
   ],
   "source": [
    "df_male_survived = df_train.loc[df_train['Sex'] == 0][df_train['Survived'] == 1]"
   ]
  },
  {
   "cell_type": "code",
   "execution_count": 34,
   "metadata": {
    "collapsed": false
   },
   "outputs": [
    {
     "data": {
      "text/html": [
       "<div>\n",
       "<table border=\"1\" class=\"dataframe\">\n",
       "  <thead>\n",
       "    <tr style=\"text-align: right;\">\n",
       "      <th></th>\n",
       "      <th>PassengerId</th>\n",
       "      <th>Survived</th>\n",
       "      <th>Pclass</th>\n",
       "      <th>Name</th>\n",
       "      <th>Sex</th>\n",
       "      <th>Age</th>\n",
       "      <th>SibSp</th>\n",
       "      <th>Parch</th>\n",
       "      <th>Ticket</th>\n",
       "      <th>Fare</th>\n",
       "      <th>Cabin</th>\n",
       "      <th>Embarked</th>\n",
       "    </tr>\n",
       "  </thead>\n",
       "  <tbody>\n",
       "    <tr>\n",
       "      <th>17</th>\n",
       "      <td>18</td>\n",
       "      <td>1</td>\n",
       "      <td>2</td>\n",
       "      <td>Williams, Mr. Charles Eugene</td>\n",
       "      <td>0</td>\n",
       "      <td>NaN</td>\n",
       "      <td>0</td>\n",
       "      <td>0</td>\n",
       "      <td>244373</td>\n",
       "      <td>13.0000</td>\n",
       "      <td>NaN</td>\n",
       "      <td>S</td>\n",
       "    </tr>\n",
       "    <tr>\n",
       "      <th>21</th>\n",
       "      <td>22</td>\n",
       "      <td>1</td>\n",
       "      <td>2</td>\n",
       "      <td>Beesley, Mr. Lawrence</td>\n",
       "      <td>0</td>\n",
       "      <td>34.00</td>\n",
       "      <td>0</td>\n",
       "      <td>0</td>\n",
       "      <td>248698</td>\n",
       "      <td>13.0000</td>\n",
       "      <td>D56</td>\n",
       "      <td>S</td>\n",
       "    </tr>\n",
       "    <tr>\n",
       "      <th>23</th>\n",
       "      <td>24</td>\n",
       "      <td>1</td>\n",
       "      <td>1</td>\n",
       "      <td>Sloper, Mr. William Thompson</td>\n",
       "      <td>0</td>\n",
       "      <td>28.00</td>\n",
       "      <td>0</td>\n",
       "      <td>0</td>\n",
       "      <td>113788</td>\n",
       "      <td>35.5000</td>\n",
       "      <td>A6</td>\n",
       "      <td>S</td>\n",
       "    </tr>\n",
       "    <tr>\n",
       "      <th>36</th>\n",
       "      <td>37</td>\n",
       "      <td>1</td>\n",
       "      <td>3</td>\n",
       "      <td>Mamee, Mr. Hanna</td>\n",
       "      <td>0</td>\n",
       "      <td>NaN</td>\n",
       "      <td>0</td>\n",
       "      <td>0</td>\n",
       "      <td>2677</td>\n",
       "      <td>7.2292</td>\n",
       "      <td>NaN</td>\n",
       "      <td>C</td>\n",
       "    </tr>\n",
       "    <tr>\n",
       "      <th>55</th>\n",
       "      <td>56</td>\n",
       "      <td>1</td>\n",
       "      <td>1</td>\n",
       "      <td>Woolner, Mr. Hugh</td>\n",
       "      <td>0</td>\n",
       "      <td>NaN</td>\n",
       "      <td>0</td>\n",
       "      <td>0</td>\n",
       "      <td>19947</td>\n",
       "      <td>35.5000</td>\n",
       "      <td>C52</td>\n",
       "      <td>S</td>\n",
       "    </tr>\n",
       "    <tr>\n",
       "      <th>65</th>\n",
       "      <td>66</td>\n",
       "      <td>1</td>\n",
       "      <td>3</td>\n",
       "      <td>Moubarek, Master. Gerios</td>\n",
       "      <td>0</td>\n",
       "      <td>NaN</td>\n",
       "      <td>1</td>\n",
       "      <td>1</td>\n",
       "      <td>2661</td>\n",
       "      <td>15.2458</td>\n",
       "      <td>NaN</td>\n",
       "      <td>C</td>\n",
       "    </tr>\n",
       "    <tr>\n",
       "      <th>74</th>\n",
       "      <td>75</td>\n",
       "      <td>1</td>\n",
       "      <td>3</td>\n",
       "      <td>Bing, Mr. Lee</td>\n",
       "      <td>0</td>\n",
       "      <td>32.00</td>\n",
       "      <td>0</td>\n",
       "      <td>0</td>\n",
       "      <td>1601</td>\n",
       "      <td>56.4958</td>\n",
       "      <td>NaN</td>\n",
       "      <td>S</td>\n",
       "    </tr>\n",
       "    <tr>\n",
       "      <th>78</th>\n",
       "      <td>79</td>\n",
       "      <td>1</td>\n",
       "      <td>2</td>\n",
       "      <td>Caldwell, Master. Alden Gates</td>\n",
       "      <td>0</td>\n",
       "      <td>0.83</td>\n",
       "      <td>0</td>\n",
       "      <td>2</td>\n",
       "      <td>248738</td>\n",
       "      <td>29.0000</td>\n",
       "      <td>NaN</td>\n",
       "      <td>S</td>\n",
       "    </tr>\n",
       "    <tr>\n",
       "      <th>81</th>\n",
       "      <td>82</td>\n",
       "      <td>1</td>\n",
       "      <td>3</td>\n",
       "      <td>Sheerlinck, Mr. Jan Baptist</td>\n",
       "      <td>0</td>\n",
       "      <td>29.00</td>\n",
       "      <td>0</td>\n",
       "      <td>0</td>\n",
       "      <td>345779</td>\n",
       "      <td>9.5000</td>\n",
       "      <td>NaN</td>\n",
       "      <td>S</td>\n",
       "    </tr>\n",
       "    <tr>\n",
       "      <th>97</th>\n",
       "      <td>98</td>\n",
       "      <td>1</td>\n",
       "      <td>1</td>\n",
       "      <td>Greenfield, Mr. William Bertram</td>\n",
       "      <td>0</td>\n",
       "      <td>23.00</td>\n",
       "      <td>0</td>\n",
       "      <td>1</td>\n",
       "      <td>PC 17759</td>\n",
       "      <td>63.3583</td>\n",
       "      <td>D10 D12</td>\n",
       "      <td>C</td>\n",
       "    </tr>\n",
       "  </tbody>\n",
       "</table>\n",
       "</div>"
      ],
      "text/plain": [
       "    PassengerId  Survived  Pclass                             Name  Sex  \\\n",
       "17           18         1       2     Williams, Mr. Charles Eugene    0   \n",
       "21           22         1       2            Beesley, Mr. Lawrence    0   \n",
       "23           24         1       1     Sloper, Mr. William Thompson    0   \n",
       "36           37         1       3                 Mamee, Mr. Hanna    0   \n",
       "55           56         1       1                Woolner, Mr. Hugh    0   \n",
       "65           66         1       3         Moubarek, Master. Gerios    0   \n",
       "74           75         1       3                    Bing, Mr. Lee    0   \n",
       "78           79         1       2    Caldwell, Master. Alden Gates    0   \n",
       "81           82         1       3      Sheerlinck, Mr. Jan Baptist    0   \n",
       "97           98         1       1  Greenfield, Mr. William Bertram    0   \n",
       "\n",
       "      Age  SibSp  Parch    Ticket     Fare    Cabin Embarked  \n",
       "17    NaN      0      0    244373  13.0000      NaN        S  \n",
       "21  34.00      0      0    248698  13.0000      D56        S  \n",
       "23  28.00      0      0    113788  35.5000       A6        S  \n",
       "36    NaN      0      0      2677   7.2292      NaN        C  \n",
       "55    NaN      0      0     19947  35.5000      C52        S  \n",
       "65    NaN      1      1      2661  15.2458      NaN        C  \n",
       "74  32.00      0      0      1601  56.4958      NaN        S  \n",
       "78   0.83      0      2    248738  29.0000      NaN        S  \n",
       "81  29.00      0      0    345779   9.5000      NaN        S  \n",
       "97  23.00      0      1  PC 17759  63.3583  D10 D12        C  "
      ]
     },
     "execution_count": 34,
     "metadata": {},
     "output_type": "execute_result"
    }
   ],
   "source": [
    "df_male_survived.head(10)"
   ]
  },
  {
   "cell_type": "code",
   "execution_count": 35,
   "metadata": {
    "collapsed": true
   },
   "outputs": [],
   "source": [
    "name = df_male_survived.iloc[:,3]"
   ]
  },
  {
   "cell_type": "code",
   "execution_count": 36,
   "metadata": {
    "collapsed": false
   },
   "outputs": [],
   "source": [
    "token = []\n",
    "for i in name:\n",
    "    token.append(word_tokenize(i))"
   ]
  },
  {
   "cell_type": "code",
   "execution_count": 37,
   "metadata": {
    "collapsed": false
   },
   "outputs": [],
   "source": [
    "flag = 0\n",
    "for i in token:\n",
    "    for j in range(len(i)):\n",
    "        if i[j] == '(':\n",
    "            flag += 1"
   ]
  },
  {
   "cell_type": "code",
   "execution_count": 38,
   "metadata": {
    "collapsed": false
   },
   "outputs": [
    {
     "data": {
      "text/plain": [
       "9"
      ]
     },
     "execution_count": 38,
     "metadata": {},
     "output_type": "execute_result"
    }
   ],
   "source": [
    "flag"
   ]
  },
  {
   "cell_type": "code",
   "execution_count": 39,
   "metadata": {
    "collapsed": false,
    "scrolled": true
   },
   "outputs": [
    {
     "data": {
      "image/png": "[encoded data removed]",
      "text/plain": [
       "<matplotlib.figure.Figure at 0x12da0b81e80>"
      ]
     },
     "metadata": {},
     "output_type": "display_data"
    }
   ],
   "source": [
    "plt.hist(df_male_survived.Age, color = 'green', range = (.419, 80), normed = 1)\n",
    "plt.xlabel('Age')\n",
    "plt.show()"
   ]
  },
  {
   "cell_type": "code",
   "execution_count": 40,
   "metadata": {
    "collapsed": false
   },
   "outputs": [
    {
     "data": {
      "text/plain": [
       "27.276021505376345"
      ]
     },
     "execution_count": 40,
     "metadata": {},
     "output_type": "execute_result"
    }
   ],
   "source": [
    "df_male_survived.Age.mean()"
   ]
  },
  {
   "cell_type": "code",
   "execution_count": 41,
   "metadata": {
    "collapsed": false
   },
   "outputs": [
    {
     "data": {
      "text/plain": [
       "28.0"
      ]
     },
     "execution_count": 41,
     "metadata": {},
     "output_type": "execute_result"
    }
   ],
   "source": [
    "df_male_survived.Age.median()"
   ]
  },
  {
   "cell_type": "markdown",
   "metadata": {},
   "source": [
    "#   "
   ]
  },
  {
   "cell_type": "markdown",
   "metadata": {},
   "source": [
    "# density plots of numeric non NaN variables"
   ]
  },
  {
   "cell_type": "markdown",
   "metadata": {},
   "source": [
    "#   "
   ]
  },
  {
   "cell_type": "code",
   "execution_count": 42,
   "metadata": {
    "collapsed": false
   },
   "outputs": [
    {
     "data": {
      "image/png": "[encoded data removed]",
      "text/plain": [
       "<matplotlib.figure.Figure at 0x12d9feccf98>"
      ]
     },
     "metadata": {},
     "output_type": "display_data"
    }
   ],
   "source": [
    "%matplotlib inline\n",
    "num_df = df_train[['Survived', 'Pclass', 'Fare']]\n",
    "\n",
    "fig, axs = plt.subplots(1, 3, figsize = (20, 10))\n",
    "\n",
    "fig.subplots_adjust(hspace=1, wspace=1)\n",
    "\n",
    "for k in axs:\n",
    "    for i,j in zip(num_df, axs.flat):\n",
    "        g = num_df[i].plot.kde(ax = j, title = i)\n",
    "        g.get_xaxis().tick_bottom()\n",
    "        g.get_yaxis().tick_left()"
   ]
  },
  {
   "cell_type": "code",
   "execution_count": 43,
   "metadata": {
    "collapsed": false
   },
   "outputs": [
    {
     "data": {
      "text/plain": [
       "[None, None, None]"
      ]
     },
     "execution_count": 43,
     "metadata": {},
     "output_type": "execute_result"
    },
    {
     "data": {
      "image/png": "[encoded data removed]",
      "text/plain": [
       "<matplotlib.figure.Figure at 0x12da32eb0f0>"
      ]
     },
     "metadata": {},
     "output_type": "display_data"
    }
   ],
   "source": [
    "object_features = df_train[['Embarked']]\n",
    "#object_df = train[object_features]\n",
    "fig, axs = plt.subplots(1, 1, figsize = (20,10))\n",
    "axs1 = fig.add_subplot(221)\n",
    "fig.subplots_adjust(hspace=.001, wspace=.001)\n",
    "g = sns.countplot(x='Embarked', data=object_features, ax=axs1)\n",
    "plt.setp(axs1.get_xticklabels(), rotation=90)"
   ]
  },
  {
   "cell_type": "code",
   "execution_count": 44,
   "metadata": {
    "collapsed": false
   },
   "outputs": [
    {
     "name": "stdout",
     "output_type": "stream",
     "text": [
      "<class 'pandas.core.frame.DataFrame'>\n",
      "RangeIndex: 891 entries, 0 to 890\n",
      "Data columns (total 12 columns):\n",
      "PassengerId    891 non-null int64\n",
      "Survived       891 non-null int64\n",
      "Pclass         891 non-null int64\n",
      "Name           891 non-null object\n",
      "Sex            891 non-null int64\n",
      "Age            714 non-null float64\n",
      "SibSp          891 non-null int64\n",
      "Parch          891 non-null int64\n",
      "Ticket         891 non-null object\n",
      "Fare           891 non-null float64\n",
      "Cabin          204 non-null object\n",
      "Embarked       889 non-null object\n",
      "dtypes: float64(2), int64(6), object(4)\n",
      "memory usage: 83.6+ KB\n"
     ]
    }
   ],
   "source": [
    "df_train.info()"
   ]
  },
  {
   "cell_type": "code",
   "execution_count": 45,
   "metadata": {
    "collapsed": false
   },
   "outputs": [
    {
     "data": {
      "text/html": [
       "<div>\n",
       "<table border=\"1\" class=\"dataframe\">\n",
       "  <thead>\n",
       "    <tr style=\"text-align: right;\">\n",
       "      <th></th>\n",
       "      <th>PassengerId</th>\n",
       "      <th>Survived</th>\n",
       "      <th>Pclass</th>\n",
       "      <th>Sex</th>\n",
       "      <th>Age</th>\n",
       "      <th>SibSp</th>\n",
       "      <th>Parch</th>\n",
       "      <th>Fare</th>\n",
       "    </tr>\n",
       "  </thead>\n",
       "  <tbody>\n",
       "    <tr>\n",
       "      <th>PassengerId</th>\n",
       "      <td>1.000000</td>\n",
       "      <td>-0.005007</td>\n",
       "      <td>-0.034091</td>\n",
       "      <td>-0.042939</td>\n",
       "      <td>0.041010</td>\n",
       "      <td>-0.061161</td>\n",
       "      <td>0.001235</td>\n",
       "      <td>-0.013975</td>\n",
       "    </tr>\n",
       "    <tr>\n",
       "      <th>Survived</th>\n",
       "      <td>-0.005007</td>\n",
       "      <td>1.000000</td>\n",
       "      <td>-0.339668</td>\n",
       "      <td>0.543351</td>\n",
       "      <td>-0.052565</td>\n",
       "      <td>0.088879</td>\n",
       "      <td>0.138266</td>\n",
       "      <td>0.323736</td>\n",
       "    </tr>\n",
       "    <tr>\n",
       "      <th>Pclass</th>\n",
       "      <td>-0.034091</td>\n",
       "      <td>-0.339668</td>\n",
       "      <td>1.000000</td>\n",
       "      <td>-0.135775</td>\n",
       "      <td>-0.361666</td>\n",
       "      <td>-0.043019</td>\n",
       "      <td>-0.022801</td>\n",
       "      <td>-0.688032</td>\n",
       "    </tr>\n",
       "    <tr>\n",
       "      <th>Sex</th>\n",
       "      <td>-0.042939</td>\n",
       "      <td>0.543351</td>\n",
       "      <td>-0.135775</td>\n",
       "      <td>1.000000</td>\n",
       "      <td>-0.083330</td>\n",
       "      <td>0.195204</td>\n",
       "      <td>0.254512</td>\n",
       "      <td>0.259593</td>\n",
       "    </tr>\n",
       "    <tr>\n",
       "      <th>Age</th>\n",
       "      <td>0.041010</td>\n",
       "      <td>-0.052565</td>\n",
       "      <td>-0.361666</td>\n",
       "      <td>-0.083330</td>\n",
       "      <td>1.000000</td>\n",
       "      <td>-0.182061</td>\n",
       "      <td>-0.254212</td>\n",
       "      <td>0.135051</td>\n",
       "    </tr>\n",
       "    <tr>\n",
       "      <th>SibSp</th>\n",
       "      <td>-0.061161</td>\n",
       "      <td>0.088879</td>\n",
       "      <td>-0.043019</td>\n",
       "      <td>0.195204</td>\n",
       "      <td>-0.182061</td>\n",
       "      <td>1.000000</td>\n",
       "      <td>0.450014</td>\n",
       "      <td>0.447113</td>\n",
       "    </tr>\n",
       "    <tr>\n",
       "      <th>Parch</th>\n",
       "      <td>0.001235</td>\n",
       "      <td>0.138266</td>\n",
       "      <td>-0.022801</td>\n",
       "      <td>0.254512</td>\n",
       "      <td>-0.254212</td>\n",
       "      <td>0.450014</td>\n",
       "      <td>1.000000</td>\n",
       "      <td>0.410074</td>\n",
       "    </tr>\n",
       "    <tr>\n",
       "      <th>Fare</th>\n",
       "      <td>-0.013975</td>\n",
       "      <td>0.323736</td>\n",
       "      <td>-0.688032</td>\n",
       "      <td>0.259593</td>\n",
       "      <td>0.135051</td>\n",
       "      <td>0.447113</td>\n",
       "      <td>0.410074</td>\n",
       "      <td>1.000000</td>\n",
       "    </tr>\n",
       "  </tbody>\n",
       "</table>\n",
       "</div>"
      ],
      "text/plain": [
       "             PassengerId  Survived    Pclass       Sex       Age     SibSp  \\\n",
       "PassengerId     1.000000 -0.005007 -0.034091 -0.042939  0.041010 -0.061161   \n",
       "Survived       -0.005007  1.000000 -0.339668  0.543351 -0.052565  0.088879   \n",
       "Pclass         -0.034091 -0.339668  1.000000 -0.135775 -0.361666 -0.043019   \n",
       "Sex            -0.042939  0.543351 -0.135775  1.000000 -0.083330  0.195204   \n",
       "Age             0.041010 -0.052565 -0.361666 -0.083330  1.000000 -0.182061   \n",
       "SibSp          -0.061161  0.088879 -0.043019  0.195204 -0.182061  1.000000   \n",
       "Parch           0.001235  0.138266 -0.022801  0.254512 -0.254212  0.450014   \n",
       "Fare           -0.013975  0.323736 -0.688032  0.259593  0.135051  0.447113   \n",
       "\n",
       "                Parch      Fare  \n",
       "PassengerId  0.001235 -0.013975  \n",
       "Survived     0.138266  0.323736  \n",
       "Pclass      -0.022801 -0.688032  \n",
       "Sex          0.254512  0.259593  \n",
       "Age         -0.254212  0.135051  \n",
       "SibSp        0.450014  0.447113  \n",
       "Parch        1.000000  0.410074  \n",
       "Fare         0.410074  1.000000  "
      ]
     },
     "execution_count": 45,
     "metadata": {},
     "output_type": "execute_result"
    }
   ],
   "source": [
    "sp_corr = df_train.corr(method = 'spearman')\n",
    "sp_corr"
   ]
  },
  {
   "cell_type": "code",
   "execution_count": 46,
   "metadata": {
    "collapsed": false
   },
   "outputs": [
    {
     "data": {
      "text/plain": [
       "1.0"
      ]
     },
     "execution_count": 46,
     "metadata": {},
     "output_type": "execute_result"
    }
   ],
   "source": [
    "sp_corr.iloc[0,0]"
   ]
  },
  {
   "cell_type": "code",
   "execution_count": 47,
   "metadata": {
    "collapsed": true
   },
   "outputs": [],
   "source": [
    "pear_corr = df_train.corr()"
   ]
  },
  {
   "cell_type": "code",
   "execution_count": 48,
   "metadata": {
    "collapsed": false
   },
   "outputs": [
    {
     "data": {
      "text/plain": [
       "PassengerId   -0.042939\n",
       "Survived       0.543351\n",
       "Pclass        -0.135775\n",
       "Sex            1.000000\n",
       "Age           -0.083330\n",
       "SibSp          0.195204\n",
       "Parch          0.254512\n",
       "Fare           0.259593\n",
       "Name: Sex, dtype: float64"
      ]
     },
     "execution_count": 48,
     "metadata": {},
     "output_type": "execute_result"
    }
   ],
   "source": [
    "sp_corr_age = sp_corr.iloc[3,:]\n",
    "sp_corr_age"
   ]
  },
  {
   "cell_type": "code",
   "execution_count": 52,
   "metadata": {
    "collapsed": false
   },
   "outputs": [],
   "source": [
    "df_y = pd.DataFrame(y_missing_age, y_missing_age.index, columns = ['Age'])"
   ]
  },
  {
   "cell_type": "code",
   "execution_count": 53,
   "metadata": {
    "collapsed": false,
    "scrolled": true
   },
   "outputs": [
    {
     "data": {
      "text/html": [
       "<div>\n",
       "<table border=\"1\" class=\"dataframe\">\n",
       "  <thead>\n",
       "    <tr style=\"text-align: right;\">\n",
       "      <th></th>\n",
       "      <th>Age</th>\n",
       "    </tr>\n",
       "  </thead>\n",
       "  <tbody>\n",
       "    <tr>\n",
       "      <th>0</th>\n",
       "      <td>22.0</td>\n",
       "    </tr>\n",
       "    <tr>\n",
       "      <th>1</th>\n",
       "      <td>38.0</td>\n",
       "    </tr>\n",
       "    <tr>\n",
       "      <th>2</th>\n",
       "      <td>26.0</td>\n",
       "    </tr>\n",
       "    <tr>\n",
       "      <th>3</th>\n",
       "      <td>35.0</td>\n",
       "    </tr>\n",
       "    <tr>\n",
       "      <th>4</th>\n",
       "      <td>35.0</td>\n",
       "    </tr>\n",
       "  </tbody>\n",
       "</table>\n",
       "</div>"
      ],
      "text/plain": [
       "    Age\n",
       "0  22.0\n",
       "1  38.0\n",
       "2  26.0\n",
       "3  35.0\n",
       "4  35.0"
      ]
     },
     "execution_count": 53,
     "metadata": {},
     "output_type": "execute_result"
    }
   ],
   "source": [
    "df_y.head()"
   ]
  },
  {
   "cell_type": "code",
   "execution_count": 54,
   "metadata": {
    "collapsed": false
   },
   "outputs": [],
   "source": [
    "y_missing_age = df_train['Age'].dropna()\n",
    "y_missing_age.head(6)\n",
    "y_missing_age.reset_index(drop = 1, inplace = 1)"
   ]
  },
  {
   "cell_type": "code",
   "execution_count": 55,
   "metadata": {
    "collapsed": false
   },
   "outputs": [],
   "source": [
    "df_new = pd.DataFrame(data = x_age_related.Fare, index = y_missing_age.index, columns = ['Fare'])"
   ]
  },
  {
   "cell_type": "code",
   "execution_count": 56,
   "metadata": {
    "collapsed": false
   },
   "outputs": [],
   "source": [
    "df_new_1 = pd.DataFrame(data = x_age_related.Survived, index = y_missing_age.index, columns = ['Survived'])"
   ]
  },
  {
   "cell_type": "code",
   "execution_count": 57,
   "metadata": {
    "collapsed": false
   },
   "outputs": [
    {
     "data": {
      "text/html": [
       "<div>\n",
       "<table border=\"1\" class=\"dataframe\">\n",
       "  <thead>\n",
       "    <tr style=\"text-align: right;\">\n",
       "      <th></th>\n",
       "      <th>Fare</th>\n",
       "    </tr>\n",
       "  </thead>\n",
       "  <tbody>\n",
       "    <tr>\n",
       "      <th>0</th>\n",
       "      <td>7.2500</td>\n",
       "    </tr>\n",
       "    <tr>\n",
       "      <th>1</th>\n",
       "      <td>71.2833</td>\n",
       "    </tr>\n",
       "    <tr>\n",
       "      <th>2</th>\n",
       "      <td>7.9250</td>\n",
       "    </tr>\n",
       "    <tr>\n",
       "      <th>3</th>\n",
       "      <td>53.1000</td>\n",
       "    </tr>\n",
       "    <tr>\n",
       "      <th>4</th>\n",
       "      <td>8.0500</td>\n",
       "    </tr>\n",
       "    <tr>\n",
       "      <th>5</th>\n",
       "      <td>8.4583</td>\n",
       "    </tr>\n",
       "    <tr>\n",
       "      <th>6</th>\n",
       "      <td>51.8625</td>\n",
       "    </tr>\n",
       "    <tr>\n",
       "      <th>7</th>\n",
       "      <td>21.0750</td>\n",
       "    </tr>\n",
       "    <tr>\n",
       "      <th>8</th>\n",
       "      <td>11.1333</td>\n",
       "    </tr>\n",
       "    <tr>\n",
       "      <th>9</th>\n",
       "      <td>30.0708</td>\n",
       "    </tr>\n",
       "    <tr>\n",
       "      <th>10</th>\n",
       "      <td>16.7000</td>\n",
       "    </tr>\n",
       "    <tr>\n",
       "      <th>11</th>\n",
       "      <td>26.5500</td>\n",
       "    </tr>\n",
       "    <tr>\n",
       "      <th>12</th>\n",
       "      <td>8.0500</td>\n",
       "    </tr>\n",
       "    <tr>\n",
       "      <th>13</th>\n",
       "      <td>31.2750</td>\n",
       "    </tr>\n",
       "    <tr>\n",
       "      <th>14</th>\n",
       "      <td>7.8542</td>\n",
       "    </tr>\n",
       "    <tr>\n",
       "      <th>15</th>\n",
       "      <td>16.0000</td>\n",
       "    </tr>\n",
       "    <tr>\n",
       "      <th>16</th>\n",
       "      <td>29.1250</td>\n",
       "    </tr>\n",
       "    <tr>\n",
       "      <th>17</th>\n",
       "      <td>13.0000</td>\n",
       "    </tr>\n",
       "    <tr>\n",
       "      <th>18</th>\n",
       "      <td>18.0000</td>\n",
       "    </tr>\n",
       "    <tr>\n",
       "      <th>19</th>\n",
       "      <td>7.2250</td>\n",
       "    </tr>\n",
       "    <tr>\n",
       "      <th>20</th>\n",
       "      <td>26.0000</td>\n",
       "    </tr>\n",
       "    <tr>\n",
       "      <th>21</th>\n",
       "      <td>13.0000</td>\n",
       "    </tr>\n",
       "    <tr>\n",
       "      <th>22</th>\n",
       "      <td>8.0292</td>\n",
       "    </tr>\n",
       "    <tr>\n",
       "      <th>23</th>\n",
       "      <td>35.5000</td>\n",
       "    </tr>\n",
       "    <tr>\n",
       "      <th>24</th>\n",
       "      <td>21.0750</td>\n",
       "    </tr>\n",
       "    <tr>\n",
       "      <th>25</th>\n",
       "      <td>31.3875</td>\n",
       "    </tr>\n",
       "    <tr>\n",
       "      <th>26</th>\n",
       "      <td>7.2250</td>\n",
       "    </tr>\n",
       "    <tr>\n",
       "      <th>27</th>\n",
       "      <td>263.0000</td>\n",
       "    </tr>\n",
       "    <tr>\n",
       "      <th>28</th>\n",
       "      <td>7.8792</td>\n",
       "    </tr>\n",
       "    <tr>\n",
       "      <th>29</th>\n",
       "      <td>7.8958</td>\n",
       "    </tr>\n",
       "    <tr>\n",
       "      <th>...</th>\n",
       "      <td>...</td>\n",
       "    </tr>\n",
       "    <tr>\n",
       "      <th>684</th>\n",
       "      <td>39.0000</td>\n",
       "    </tr>\n",
       "    <tr>\n",
       "      <th>685</th>\n",
       "      <td>41.5792</td>\n",
       "    </tr>\n",
       "    <tr>\n",
       "      <th>686</th>\n",
       "      <td>39.6875</td>\n",
       "    </tr>\n",
       "    <tr>\n",
       "      <th>687</th>\n",
       "      <td>10.1708</td>\n",
       "    </tr>\n",
       "    <tr>\n",
       "      <th>688</th>\n",
       "      <td>7.7958</td>\n",
       "    </tr>\n",
       "    <tr>\n",
       "      <th>689</th>\n",
       "      <td>211.3375</td>\n",
       "    </tr>\n",
       "    <tr>\n",
       "      <th>690</th>\n",
       "      <td>57.0000</td>\n",
       "    </tr>\n",
       "    <tr>\n",
       "      <th>691</th>\n",
       "      <td>13.4167</td>\n",
       "    </tr>\n",
       "    <tr>\n",
       "      <th>692</th>\n",
       "      <td>56.4958</td>\n",
       "    </tr>\n",
       "    <tr>\n",
       "      <th>693</th>\n",
       "      <td>7.2250</td>\n",
       "    </tr>\n",
       "    <tr>\n",
       "      <th>694</th>\n",
       "      <td>26.5500</td>\n",
       "    </tr>\n",
       "    <tr>\n",
       "      <th>695</th>\n",
       "      <td>13.5000</td>\n",
       "    </tr>\n",
       "    <tr>\n",
       "      <th>696</th>\n",
       "      <td>8.0500</td>\n",
       "    </tr>\n",
       "    <tr>\n",
       "      <th>697</th>\n",
       "      <td>7.7333</td>\n",
       "    </tr>\n",
       "    <tr>\n",
       "      <th>698</th>\n",
       "      <td>110.8833</td>\n",
       "    </tr>\n",
       "    <tr>\n",
       "      <th>699</th>\n",
       "      <td>7.6500</td>\n",
       "    </tr>\n",
       "    <tr>\n",
       "      <th>700</th>\n",
       "      <td>227.5250</td>\n",
       "    </tr>\n",
       "    <tr>\n",
       "      <th>701</th>\n",
       "      <td>26.2875</td>\n",
       "    </tr>\n",
       "    <tr>\n",
       "      <th>702</th>\n",
       "      <td>14.4542</td>\n",
       "    </tr>\n",
       "    <tr>\n",
       "      <th>703</th>\n",
       "      <td>7.7417</td>\n",
       "    </tr>\n",
       "    <tr>\n",
       "      <th>704</th>\n",
       "      <td>7.8542</td>\n",
       "    </tr>\n",
       "    <tr>\n",
       "      <th>705</th>\n",
       "      <td>26.0000</td>\n",
       "    </tr>\n",
       "    <tr>\n",
       "      <th>706</th>\n",
       "      <td>13.5000</td>\n",
       "    </tr>\n",
       "    <tr>\n",
       "      <th>707</th>\n",
       "      <td>26.2875</td>\n",
       "    </tr>\n",
       "    <tr>\n",
       "      <th>708</th>\n",
       "      <td>151.5500</td>\n",
       "    </tr>\n",
       "    <tr>\n",
       "      <th>709</th>\n",
       "      <td>15.2458</td>\n",
       "    </tr>\n",
       "    <tr>\n",
       "      <th>710</th>\n",
       "      <td>49.5042</td>\n",
       "    </tr>\n",
       "    <tr>\n",
       "      <th>711</th>\n",
       "      <td>26.5500</td>\n",
       "    </tr>\n",
       "    <tr>\n",
       "      <th>712</th>\n",
       "      <td>52.0000</td>\n",
       "    </tr>\n",
       "    <tr>\n",
       "      <th>713</th>\n",
       "      <td>9.4833</td>\n",
       "    </tr>\n",
       "  </tbody>\n",
       "</table>\n",
       "<p>714 rows × 1 columns</p>\n",
       "</div>"
      ],
      "text/plain": [
       "         Fare\n",
       "0      7.2500\n",
       "1     71.2833\n",
       "2      7.9250\n",
       "3     53.1000\n",
       "4      8.0500\n",
       "5      8.4583\n",
       "6     51.8625\n",
       "7     21.0750\n",
       "8     11.1333\n",
       "9     30.0708\n",
       "10    16.7000\n",
       "11    26.5500\n",
       "12     8.0500\n",
       "13    31.2750\n",
       "14     7.8542\n",
       "15    16.0000\n",
       "16    29.1250\n",
       "17    13.0000\n",
       "18    18.0000\n",
       "19     7.2250\n",
       "20    26.0000\n",
       "21    13.0000\n",
       "22     8.0292\n",
       "23    35.5000\n",
       "24    21.0750\n",
       "25    31.3875\n",
       "26     7.2250\n",
       "27   263.0000\n",
       "28     7.8792\n",
       "29     7.8958\n",
       "..        ...\n",
       "684   39.0000\n",
       "685   41.5792\n",
       "686   39.6875\n",
       "687   10.1708\n",
       "688    7.7958\n",
       "689  211.3375\n",
       "690   57.0000\n",
       "691   13.4167\n",
       "692   56.4958\n",
       "693    7.2250\n",
       "694   26.5500\n",
       "695   13.5000\n",
       "696    8.0500\n",
       "697    7.7333\n",
       "698  110.8833\n",
       "699    7.6500\n",
       "700  227.5250\n",
       "701   26.2875\n",
       "702   14.4542\n",
       "703    7.7417\n",
       "704    7.8542\n",
       "705   26.0000\n",
       "706   13.5000\n",
       "707   26.2875\n",
       "708  151.5500\n",
       "709   15.2458\n",
       "710   49.5042\n",
       "711   26.5500\n",
       "712   52.0000\n",
       "713    9.4833\n",
       "\n",
       "[714 rows x 1 columns]"
      ]
     },
     "execution_count": 57,
     "metadata": {},
     "output_type": "execute_result"
    }
   ],
   "source": [
    "df_new.reset_index(drop = 1)"
   ]
  },
  {
   "cell_type": "code",
   "execution_count": 58,
   "metadata": {
    "collapsed": false
   },
   "outputs": [
    {
     "data": {
      "text/html": [
       "<div>\n",
       "<table border=\"1\" class=\"dataframe\">\n",
       "  <thead>\n",
       "    <tr style=\"text-align: right;\">\n",
       "      <th></th>\n",
       "      <th>Survived</th>\n",
       "    </tr>\n",
       "  </thead>\n",
       "  <tbody>\n",
       "    <tr>\n",
       "      <th>0</th>\n",
       "      <td>0</td>\n",
       "    </tr>\n",
       "    <tr>\n",
       "      <th>1</th>\n",
       "      <td>1</td>\n",
       "    </tr>\n",
       "    <tr>\n",
       "      <th>2</th>\n",
       "      <td>1</td>\n",
       "    </tr>\n",
       "    <tr>\n",
       "      <th>3</th>\n",
       "      <td>1</td>\n",
       "    </tr>\n",
       "    <tr>\n",
       "      <th>4</th>\n",
       "      <td>0</td>\n",
       "    </tr>\n",
       "    <tr>\n",
       "      <th>5</th>\n",
       "      <td>0</td>\n",
       "    </tr>\n",
       "    <tr>\n",
       "      <th>6</th>\n",
       "      <td>0</td>\n",
       "    </tr>\n",
       "    <tr>\n",
       "      <th>7</th>\n",
       "      <td>0</td>\n",
       "    </tr>\n",
       "    <tr>\n",
       "      <th>8</th>\n",
       "      <td>1</td>\n",
       "    </tr>\n",
       "    <tr>\n",
       "      <th>9</th>\n",
       "      <td>1</td>\n",
       "    </tr>\n",
       "    <tr>\n",
       "      <th>10</th>\n",
       "      <td>1</td>\n",
       "    </tr>\n",
       "    <tr>\n",
       "      <th>11</th>\n",
       "      <td>1</td>\n",
       "    </tr>\n",
       "    <tr>\n",
       "      <th>12</th>\n",
       "      <td>0</td>\n",
       "    </tr>\n",
       "    <tr>\n",
       "      <th>13</th>\n",
       "      <td>0</td>\n",
       "    </tr>\n",
       "    <tr>\n",
       "      <th>14</th>\n",
       "      <td>0</td>\n",
       "    </tr>\n",
       "    <tr>\n",
       "      <th>15</th>\n",
       "      <td>1</td>\n",
       "    </tr>\n",
       "    <tr>\n",
       "      <th>16</th>\n",
       "      <td>0</td>\n",
       "    </tr>\n",
       "    <tr>\n",
       "      <th>17</th>\n",
       "      <td>1</td>\n",
       "    </tr>\n",
       "    <tr>\n",
       "      <th>18</th>\n",
       "      <td>0</td>\n",
       "    </tr>\n",
       "    <tr>\n",
       "      <th>19</th>\n",
       "      <td>1</td>\n",
       "    </tr>\n",
       "    <tr>\n",
       "      <th>20</th>\n",
       "      <td>0</td>\n",
       "    </tr>\n",
       "    <tr>\n",
       "      <th>21</th>\n",
       "      <td>1</td>\n",
       "    </tr>\n",
       "    <tr>\n",
       "      <th>22</th>\n",
       "      <td>1</td>\n",
       "    </tr>\n",
       "    <tr>\n",
       "      <th>23</th>\n",
       "      <td>1</td>\n",
       "    </tr>\n",
       "    <tr>\n",
       "      <th>24</th>\n",
       "      <td>0</td>\n",
       "    </tr>\n",
       "    <tr>\n",
       "      <th>25</th>\n",
       "      <td>1</td>\n",
       "    </tr>\n",
       "    <tr>\n",
       "      <th>26</th>\n",
       "      <td>0</td>\n",
       "    </tr>\n",
       "    <tr>\n",
       "      <th>27</th>\n",
       "      <td>0</td>\n",
       "    </tr>\n",
       "    <tr>\n",
       "      <th>28</th>\n",
       "      <td>1</td>\n",
       "    </tr>\n",
       "    <tr>\n",
       "      <th>29</th>\n",
       "      <td>0</td>\n",
       "    </tr>\n",
       "    <tr>\n",
       "      <th>...</th>\n",
       "      <td>...</td>\n",
       "    </tr>\n",
       "    <tr>\n",
       "      <th>684</th>\n",
       "      <td>0</td>\n",
       "    </tr>\n",
       "    <tr>\n",
       "      <th>685</th>\n",
       "      <td>0</td>\n",
       "    </tr>\n",
       "    <tr>\n",
       "      <th>686</th>\n",
       "      <td>0</td>\n",
       "    </tr>\n",
       "    <tr>\n",
       "      <th>687</th>\n",
       "      <td>0</td>\n",
       "    </tr>\n",
       "    <tr>\n",
       "      <th>688</th>\n",
       "      <td>0</td>\n",
       "    </tr>\n",
       "    <tr>\n",
       "      <th>689</th>\n",
       "      <td>1</td>\n",
       "    </tr>\n",
       "    <tr>\n",
       "      <th>690</th>\n",
       "      <td>1</td>\n",
       "    </tr>\n",
       "    <tr>\n",
       "      <th>691</th>\n",
       "      <td>1</td>\n",
       "    </tr>\n",
       "    <tr>\n",
       "      <th>692</th>\n",
       "      <td>1</td>\n",
       "    </tr>\n",
       "    <tr>\n",
       "      <th>693</th>\n",
       "      <td>0</td>\n",
       "    </tr>\n",
       "    <tr>\n",
       "      <th>694</th>\n",
       "      <td>0</td>\n",
       "    </tr>\n",
       "    <tr>\n",
       "      <th>695</th>\n",
       "      <td>0</td>\n",
       "    </tr>\n",
       "    <tr>\n",
       "      <th>696</th>\n",
       "      <td>0</td>\n",
       "    </tr>\n",
       "    <tr>\n",
       "      <th>697</th>\n",
       "      <td>1</td>\n",
       "    </tr>\n",
       "    <tr>\n",
       "      <th>698</th>\n",
       "      <td>0</td>\n",
       "    </tr>\n",
       "    <tr>\n",
       "      <th>699</th>\n",
       "      <td>0</td>\n",
       "    </tr>\n",
       "    <tr>\n",
       "      <th>700</th>\n",
       "      <td>1</td>\n",
       "    </tr>\n",
       "    <tr>\n",
       "      <th>701</th>\n",
       "      <td>1</td>\n",
       "    </tr>\n",
       "    <tr>\n",
       "      <th>702</th>\n",
       "      <td>0</td>\n",
       "    </tr>\n",
       "    <tr>\n",
       "      <th>703</th>\n",
       "      <td>0</td>\n",
       "    </tr>\n",
       "    <tr>\n",
       "      <th>704</th>\n",
       "      <td>0</td>\n",
       "    </tr>\n",
       "    <tr>\n",
       "      <th>705</th>\n",
       "      <td>0</td>\n",
       "    </tr>\n",
       "    <tr>\n",
       "      <th>706</th>\n",
       "      <td>1</td>\n",
       "    </tr>\n",
       "    <tr>\n",
       "      <th>707</th>\n",
       "      <td>1</td>\n",
       "    </tr>\n",
       "    <tr>\n",
       "      <th>708</th>\n",
       "      <td>1</td>\n",
       "    </tr>\n",
       "    <tr>\n",
       "      <th>709</th>\n",
       "      <td>1</td>\n",
       "    </tr>\n",
       "    <tr>\n",
       "      <th>710</th>\n",
       "      <td>1</td>\n",
       "    </tr>\n",
       "    <tr>\n",
       "      <th>711</th>\n",
       "      <td>0</td>\n",
       "    </tr>\n",
       "    <tr>\n",
       "      <th>712</th>\n",
       "      <td>1</td>\n",
       "    </tr>\n",
       "    <tr>\n",
       "      <th>713</th>\n",
       "      <td>0</td>\n",
       "    </tr>\n",
       "  </tbody>\n",
       "</table>\n",
       "<p>714 rows × 1 columns</p>\n",
       "</div>"
      ],
      "text/plain": [
       "     Survived\n",
       "0           0\n",
       "1           1\n",
       "2           1\n",
       "3           1\n",
       "4           0\n",
       "5           0\n",
       "6           0\n",
       "7           0\n",
       "8           1\n",
       "9           1\n",
       "10          1\n",
       "11          1\n",
       "12          0\n",
       "13          0\n",
       "14          0\n",
       "15          1\n",
       "16          0\n",
       "17          1\n",
       "18          0\n",
       "19          1\n",
       "20          0\n",
       "21          1\n",
       "22          1\n",
       "23          1\n",
       "24          0\n",
       "25          1\n",
       "26          0\n",
       "27          0\n",
       "28          1\n",
       "29          0\n",
       "..        ...\n",
       "684         0\n",
       "685         0\n",
       "686         0\n",
       "687         0\n",
       "688         0\n",
       "689         1\n",
       "690         1\n",
       "691         1\n",
       "692         1\n",
       "693         0\n",
       "694         0\n",
       "695         0\n",
       "696         0\n",
       "697         1\n",
       "698         0\n",
       "699         0\n",
       "700         1\n",
       "701         1\n",
       "702         0\n",
       "703         0\n",
       "704         0\n",
       "705         0\n",
       "706         1\n",
       "707         1\n",
       "708         1\n",
       "709         1\n",
       "710         1\n",
       "711         0\n",
       "712         1\n",
       "713         0\n",
       "\n",
       "[714 rows x 1 columns]"
      ]
     },
     "execution_count": 58,
     "metadata": {},
     "output_type": "execute_result"
    }
   ],
   "source": [
    "df_new_1.reset_index(drop = 1)"
   ]
  },
  {
   "cell_type": "code",
   "execution_count": 59,
   "metadata": {
    "collapsed": false
   },
   "outputs": [],
   "source": [
    "df_x = pd.DataFrame.join(df_new, df_new_1)"
   ]
  },
  {
   "cell_type": "code",
   "execution_count": 60,
   "metadata": {
    "collapsed": false
   },
   "outputs": [],
   "source": [
    "x_age_related = df_train[['Fare', 'Survived']]"
   ]
  },
  {
   "cell_type": "code",
   "execution_count": 61,
   "metadata": {
    "collapsed": false
   },
   "outputs": [
    {
     "data": {
      "text/html": [
       "<div>\n",
       "<table border=\"1\" class=\"dataframe\">\n",
       "  <thead>\n",
       "    <tr style=\"text-align: right;\">\n",
       "      <th></th>\n",
       "      <th>Fare</th>\n",
       "      <th>Survived</th>\n",
       "    </tr>\n",
       "  </thead>\n",
       "  <tbody>\n",
       "    <tr>\n",
       "      <th>0</th>\n",
       "      <td>7.2500</td>\n",
       "      <td>0</td>\n",
       "    </tr>\n",
       "    <tr>\n",
       "      <th>1</th>\n",
       "      <td>71.2833</td>\n",
       "      <td>1</td>\n",
       "    </tr>\n",
       "    <tr>\n",
       "      <th>2</th>\n",
       "      <td>7.9250</td>\n",
       "      <td>1</td>\n",
       "    </tr>\n",
       "    <tr>\n",
       "      <th>3</th>\n",
       "      <td>53.1000</td>\n",
       "      <td>1</td>\n",
       "    </tr>\n",
       "    <tr>\n",
       "      <th>4</th>\n",
       "      <td>8.0500</td>\n",
       "      <td>0</td>\n",
       "    </tr>\n",
       "  </tbody>\n",
       "</table>\n",
       "</div>"
      ],
      "text/plain": [
       "      Fare  Survived\n",
       "0   7.2500         0\n",
       "1  71.2833         1\n",
       "2   7.9250         1\n",
       "3  53.1000         1\n",
       "4   8.0500         0"
      ]
     },
     "execution_count": 61,
     "metadata": {},
     "output_type": "execute_result"
    }
   ],
   "source": [
    "df_x.reset_index(drop = 1, inplace = 1)\n",
    "df_x.head()"
   ]
  },
  {
   "cell_type": "code",
   "execution_count": 62,
   "metadata": {
    "collapsed": false
   },
   "outputs": [],
   "source": [
    "df_x_train, df_x_test, df_y_train, df_y_test = tts(df_x, df_y, test_size = .30, random_state = 1)"
   ]
  },
  {
   "cell_type": "code",
   "execution_count": 63,
   "metadata": {
    "collapsed": true
   },
   "outputs": [],
   "source": [
    "clf1 = lr(n_jobs = -1)"
   ]
  },
  {
   "cell_type": "code",
   "execution_count": 64,
   "metadata": {
    "collapsed": true
   },
   "outputs": [],
   "source": [
    "clf2 = rg(random_state = 1, solver = 'lsqr')"
   ]
  },
  {
   "cell_type": "code",
   "execution_count": 65,
   "metadata": {
    "collapsed": true
   },
   "outputs": [],
   "source": [
    "clf3 = ls(random_state = 1, selection = 'random')"
   ]
  },
  {
   "cell_type": "code",
   "execution_count": 66,
   "metadata": {
    "collapsed": true
   },
   "outputs": [],
   "source": [
    "clf4 = en(alpha = 1, l1_ratio = 1, random_state = 1, selection = 'random')"
   ]
  },
  {
   "cell_type": "code",
   "execution_count": 67,
   "metadata": {
    "collapsed": false
   },
   "outputs": [
    {
     "data": {
      "text/plain": [
       "LinearRegression(copy_X=True, fit_intercept=True, n_jobs=-1, normalize=False)"
      ]
     },
     "execution_count": 67,
     "metadata": {},
     "output_type": "execute_result"
    }
   ],
   "source": [
    "clf1.fit(df_x_train, df_y_train)"
   ]
  },
  {
   "cell_type": "code",
   "execution_count": 68,
   "metadata": {
    "collapsed": false
   },
   "outputs": [
    {
     "data": {
      "text/plain": [
       "215"
      ]
     },
     "execution_count": 68,
     "metadata": {},
     "output_type": "execute_result"
    }
   ],
   "source": [
    "df_y_test.shape[0]"
   ]
  },
  {
   "cell_type": "code",
   "execution_count": 69,
   "metadata": {
    "collapsed": false
   },
   "outputs": [
    {
     "data": {
      "text/plain": [
       "array([[ 26.,   1.]])"
      ]
     },
     "execution_count": 69,
     "metadata": {},
     "output_type": "execute_result"
    }
   ],
   "source": [
    "df_x_test.iloc[0,:].reshape(1,-1)"
   ]
  },
  {
   "cell_type": "code",
   "execution_count": 70,
   "metadata": {
    "collapsed": false
   },
   "outputs": [
    {
     "name": "stdout",
     "output_type": "stream",
     "text": [
      "[[ 29.]] -> Age    15.0\n",
      "Name: 546, dtype: float64\n",
      "[[ 30.]] -> Age    7.0\n",
      "Name: 223, dtype: float64\n",
      "[[ 30.]] -> Age    33.0\n",
      "Name: 403, dtype: float64\n",
      "[[ 29.]] -> Age    14.0\n",
      "Name: 8, dtype: float64\n",
      "[[ 29.]] -> Age    21.0\n",
      "Name: 394, dtype: float64\n",
      "[[ 30.]] -> Age    42.0\n",
      "Name: 120, dtype: float64\n",
      "[[ 29.]] -> Age    23.0\n",
      "Name: 377, dtype: float64\n",
      "[[ 30.]] -> Age    56.0\n",
      "Name: 373, dtype: float64\n",
      "[[ 29.]] -> Age    39.0\n",
      "Name: 632, dtype: float64\n",
      "[[ 29.]] -> Age    24.0\n",
      "Name: 690, dtype: float64\n",
      "[[ 29.]] -> Age    27.0\n",
      "Name: 438, dtype: float64\n",
      "[[ 30.]] -> Age    22.0\n",
      "Name: 181, dtype: float64\n",
      "[[ 29.]] -> Age    45.5\n",
      "Name: 161, dtype: float64\n",
      "[[ 30.]] -> Age    52.0\n",
      "Name: 567, dtype: float64\n",
      "[[ 29.]] -> Age    33.0\n",
      "Name: 599, dtype: float64\n",
      "[[ 30.]] -> Age    3.0\n",
      "Name: 280, dtype: float64\n",
      "[[ 29.]] -> Age    26.0\n",
      "Name: 56, dtype: float64\n",
      "[[ 29.]] -> Age    22.0\n",
      "Name: 257, dtype: float64\n",
      "[[ 29.]] -> Age    31.0\n",
      "Name: 591, dtype: float64\n",
      "[[ 30.]] -> Age    47.0\n",
      "Name: 698, dtype: float64\n",
      "[[ 30.]] -> Age    19.0\n",
      "Name: 511, dtype: float64\n",
      "[[ 30.]] -> Age    61.0\n",
      "Name: 262, dtype: float64\n",
      "[[ 29.]] -> Age    14.0\n",
      "Name: 540, dtype: float64\n",
      "[[ 29.]] -> Age    60.0\n",
      "Name: 550, dtype: float64\n",
      "[[ 30.]] -> Age    29.0\n",
      "Name: 69, dtype: float64\n",
      "[[ 29.]] -> Age    25.0\n",
      "Name: 218, dtype: float64\n",
      "[[ 29.]] -> Age    48.0\n",
      "Name: 615, dtype: float64\n",
      "[[ 29.]] -> Age    19.0\n",
      "Name: 23, dtype: float64\n",
      "[[ 30.]] -> Age    24.0\n",
      "Name: 111, dtype: float64\n",
      "[[ 30.]] -> Age    23.0\n",
      "Name: 584, dtype: float64\n",
      "[[ 30.]] -> Age    36.0\n",
      "Name: 428, dtype: float64\n",
      "[[ 30.]] -> Age    62.0\n",
      "Name: 441, dtype: float64\n",
      "[[ 30.]] -> Age    0.83\n",
      "Name: 59, dtype: float64\n",
      "[[ 29.]] -> Age    33.0\n",
      "Name: 571, dtype: float64\n",
      "[[ 30.]] -> Age    25.0\n",
      "Name: 396, dtype: float64\n",
      "[[ 30.]] -> Age    19.0\n",
      "Name: 242, dtype: float64\n",
      "[[ 29.]] -> Age    40.0\n",
      "Name: 445, dtype: float64\n",
      "[[ 30.]] -> Age    21.0\n",
      "Name: 589, dtype: float64\n",
      "[[ 29.]] -> Age    36.0\n",
      "Name: 453, dtype: float64\n",
      "[[ 30.]] -> Age    41.0\n",
      "Name: 687, dtype: float64\n",
      "[[ 30.]] -> Age    30.0\n",
      "Name: 60, dtype: float64\n",
      "[[ 29.]] -> Age    28.5\n",
      "Name: 585, dtype: float64\n",
      "[[ 30.]] -> Age    47.0\n",
      "Name: 464, dtype: float64\n",
      "[[ 30.]] -> Age    27.0\n",
      "Name: 117, dtype: float64\n",
      "[[ 29.]] -> Age    31.0\n",
      "Name: 172, dtype: float64\n",
      "[[ 29.]] -> Age    59.0\n",
      "Name: 187, dtype: float64\n",
      "[[ 30.]] -> Age    16.0\n",
      "Name: 214, dtype: float64\n",
      "[[ 30.]] -> Age    58.0\n",
      "Name: 388, dtype: float64\n",
      "[[ 28.]] -> Age    28.0\n",
      "Name: 341, dtype: float64\n",
      "[[ 29.]] -> Age    33.0\n",
      "Name: 65, dtype: float64\n",
      "[[ 29.]] -> Age    15.0\n",
      "Name: 19, dtype: float64\n",
      "[[ 29.]] -> Age    45.0\n",
      "Name: 47, dtype: float64\n",
      "[[ 30.]] -> Age    32.0\n",
      "Name: 343, dtype: float64\n",
      "[[ 30.]] -> Age    44.0\n",
      "Name: 552, dtype: float64\n",
      "[[ 30.]] -> Age    28.0\n",
      "Name: 159, dtype: float64\n",
      "[[ 30.]] -> Age    9.0\n",
      "Name: 501, dtype: float64\n",
      "[[ 29.]] -> Age    24.0\n",
      "Name: 274, dtype: float64\n",
      "[[ 30.]] -> Age    19.0\n",
      "Name: 108, dtype: float64\n",
      "[[ 30.]] -> Age    2.0\n",
      "Name: 273, dtype: float64\n",
      "[[ 28.]] -> Age    3.0\n",
      "Name: 299, dtype: float64\n",
      "[[ 29.]] -> Age    26.0\n",
      "Name: 323, dtype: float64\n",
      "[[ 30.]] -> Age    4.0\n",
      "Name: 678, dtype: float64\n",
      "[[ 30.]] -> Age    32.0\n",
      "Name: 613, dtype: float64\n",
      "[[ 30.]] -> Age    25.0\n",
      "Name: 624, dtype: float64\n",
      "[[ 30.]] -> Age    28.0\n",
      "Name: 285, dtype: float64\n",
      "[[ 29.]] -> Age    33.0\n",
      "Name: 697, dtype: float64\n",
      "[[ 30.]] -> Age    3.0\n",
      "Name: 154, dtype: float64\n",
      "[[ 30.]] -> Age    32.0\n",
      "Name: 57, dtype: float64\n",
      "[[ 30.]] -> Age    1.0\n",
      "Name: 661, dtype: float64\n",
      "[[ 29.]] -> Age    25.0\n",
      "Name: 558, dtype: float64\n",
      "[[ 30.]] -> Age    34.0\n",
      "Name: 574, dtype: float64\n",
      "[[ 30.]] -> Age    22.0\n",
      "Name: 415, dtype: float64\n",
      "[[ 30.]] -> Age    1.0\n",
      "Name: 132, dtype: float64\n",
      "[[ 29.]] -> Age    13.0\n",
      "Name: 358, dtype: float64\n",
      "[[ 30.]] -> Age    18.0\n",
      "Name: 35, dtype: float64\n",
      "[[ 30.]] -> Age    32.0\n",
      "Name: 500, dtype: float64\n",
      "[[ 30.]] -> Age    31.0\n",
      "Name: 634, dtype: float64\n",
      "[[ 30.]] -> Age    43.0\n",
      "Name: 528, dtype: float64\n",
      "[[ 29.]] -> Age    37.0\n",
      "Name: 81, dtype: float64\n",
      "[[ 30.]] -> Age    21.0\n",
      "Name: 41, dtype: float64\n",
      "[[ 30.]] -> Age    31.0\n",
      "Name: 16, dtype: float64\n",
      "[[ 30.]] -> Age    40.0\n",
      "Name: 529, dtype: float64\n",
      "[[ 29.]] -> Age    56.0\n",
      "Name: 512, dtype: float64\n",
      "[[ 30.]] -> Age    19.0\n",
      "Name: 711, dtype: float64\n",
      "[[ 29.]] -> Age    18.0\n",
      "Name: 248, dtype: float64\n",
      "[[ 30.]] -> Age    22.0\n",
      "Name: 0, dtype: float64\n",
      "[[ 30.]] -> Age    45.0\n",
      "Name: 134, dtype: float64\n",
      "[[ 29.]] -> Age    26.0\n",
      "Name: 647, dtype: float64\n",
      "[[ 29.]] -> Age    71.0\n",
      "Name: 74, dtype: float64\n",
      "[[ 29.]] -> Age    18.0\n",
      "Name: 557, dtype: float64\n",
      "[[ 30.]] -> Age    34.0\n",
      "Name: 333, dtype: float64\n",
      "[[ 29.]] -> Age    16.0\n",
      "Name: 66, dtype: float64\n",
      "[[ 30.]] -> Age    0.67\n",
      "Name: 602, dtype: float64\n",
      "[[ 30.]] -> Age    39.0\n",
      "Name: 482, dtype: float64\n",
      "[[ 30.]] -> Age    5.0\n",
      "Name: 619, dtype: float64\n",
      "[[ 30.]] -> Age    49.0\n",
      "Name: 364, dtype: float64\n",
      "[[ 30.]] -> Age    45.0\n",
      "Name: 101, dtype: float64\n",
      "[[ 30.]] -> Age    27.0\n",
      "Name: 173, dtype: float64\n",
      "[[ 30.]] -> Age    54.0\n",
      "Name: 201, dtype: float64\n",
      "[[ 29.]] -> Age    35.0\n",
      "Name: 649, dtype: float64\n",
      "[[ 29.]] -> Age    38.0\n",
      "Name: 84, dtype: float64\n",
      "[[ 30.]] -> Age    47.0\n",
      "Name: 104, dtype: float64\n",
      "[[ 30.]] -> Age    20.0\n",
      "Name: 491, dtype: float64\n",
      "[[ 29.]] -> Age    47.0\n",
      "Name: 85, dtype: float64\n",
      "[[ 29.]] -> Age    36.0\n",
      "Name: 261, dtype: float64\n",
      "[[ 30.]] -> Age    14.0\n",
      "Name: 13, dtype: float64\n",
      "[[ 30.]] -> Age    39.0\n",
      "Name: 419, dtype: float64\n",
      "[[ 30.]] -> Age    52.0\n",
      "Name: 656, dtype: float64\n",
      "[[ 30.]] -> Age    25.0\n",
      "Name: 386, dtype: float64\n",
      "[[ 29.]] -> Age    17.0\n",
      "Name: 573, dtype: float64\n",
      "[[ 30.]] -> Age    2.0\n",
      "Name: 382, dtype: float64\n",
      "[[ 30.]] -> Age    30.0\n",
      "Name: 636, dtype: float64\n",
      "[[ 30.]] -> Age    29.0\n",
      "Name: 92, dtype: float64\n",
      "[[ 30.]] -> Age    30.0\n",
      "Name: 578, dtype: float64\n",
      "[[ 30.]] -> Age    28.0\n",
      "Name: 502, dtype: float64\n",
      "[[ 29.]] -> Age    31.0\n",
      "Name: 530, dtype: float64\n",
      "[[ 30.]] -> Age    36.0\n",
      "Name: 277, dtype: float64\n",
      "[[ 30.]] -> Age    19.0\n",
      "Name: 50, dtype: float64\n",
      "[[ 29.]] -> Age    22.0\n",
      "Name: 286, dtype: float64\n",
      "[[ 30.]] -> Age    54.0\n",
      "Name: 408, dtype: float64\n",
      "[[ 29.]] -> Age    22.0\n",
      "Name: 61, dtype: float64\n",
      "[[ 30.]] -> Age    35.0\n",
      "Name: 185, dtype: float64\n",
      "[[ 30.]] -> Age    33.0\n",
      "Name: 705, dtype: float64\n",
      "[[ 30.]] -> Age    21.0\n",
      "Name: 139, dtype: float64\n",
      "[[ 30.]] -> Age    45.0\n",
      "Name: 148, dtype: float64\n",
      "[[ 30.]] -> Age    30.0\n",
      "Name: 335, dtype: float64\n",
      "[[ 29.]] -> Age    31.0\n",
      "Name: 255, dtype: float64\n",
      "[[ 29.]] -> Age    20.0\n",
      "Name: 701, dtype: float64\n",
      "[[ 30.]] -> Age    33.0\n",
      "Name: 646, dtype: float64\n",
      "[[ 30.]] -> Age    4.0\n",
      "Name: 694, dtype: float64\n",
      "[[ 30.]] -> Age    17.0\n",
      "Name: 422, dtype: float64\n",
      "[[ 30.]] -> Age    22.0\n",
      "Name: 439, dtype: float64\n",
      "[[ 29.]] -> Age    24.0\n",
      "Name: 68, dtype: float64\n",
      "[[ 30.]] -> Age    34.0\n",
      "Name: 76, dtype: float64\n",
      "[[ 29.]] -> Age    27.0\n",
      "Name: 479, dtype: float64\n",
      "[[ 29.]] -> Age    28.0\n",
      "Name: 677, dtype: float64\n",
      "[[ 29.]] -> Age    9.0\n",
      "Name: 118, dtype: float64\n",
      "[[ 29.]] -> Age    32.0\n",
      "Name: 526, dtype: float64\n",
      "[[ 29.]] -> Age    39.0\n",
      "Name: 460, dtype: float64\n",
      "[[ 30.]] -> Age    19.0\n",
      "Name: 34, dtype: float64\n",
      "[[ 30.]] -> Age    24.0\n",
      "Name: 189, dtype: float64\n",
      "[[ 29.]] -> Age    17.0\n",
      "Name: 622, dtype: float64\n",
      "[[ 29.]] -> Age    25.0\n",
      "Name: 708, dtype: float64\n",
      "[[ 30.]] -> Age    15.0\n",
      "Name: 663, dtype: float64\n",
      "[[ 29.]] -> Age    24.0\n",
      "Name: 447, dtype: float64\n",
      "[[ 30.]] -> Age    36.5\n",
      "Name: 119, dtype: float64\n",
      "[[ 29.]] -> Age    28.0\n",
      "Name: 82, dtype: float64\n",
      "[[ 29.]] -> Age    22.0\n",
      "Name: 233, dtype: float64\n",
      "[[ 30.]] -> Age    25.0\n",
      "Name: 631, dtype: float64\n",
      "[[ 27.]] -> Age    74.0\n",
      "Name: 679, dtype: float64\n",
      "[[ 29.]] -> Age    23.0\n",
      "Name: 107, dtype: float64\n",
      "[[ 29.]] -> Age    35.0\n",
      "Name: 17, dtype: float64\n",
      "[[ 30.]] -> Age    19.0\n",
      "Name: 702, dtype: float64\n",
      "[[ 30.]] -> Age    34.0\n",
      "Name: 605, dtype: float64\n",
      "[[ 30.]] -> Age    38.0\n",
      "Name: 180, dtype: float64\n",
      "[[ 29.]] -> Age    49.0\n",
      "Name: 473, dtype: float64\n",
      "[[ 29.]] -> Age    20.0\n",
      "Name: 506, dtype: float64\n",
      "[[ 30.]] -> Age    22.0\n",
      "Name: 45, dtype: float64\n",
      "[[ 30.]] -> Age    64.0\n",
      "Name: 433, dtype: float64\n",
      "[[ 29.]] -> Age    9.0\n",
      "Name: 383, dtype: float64\n",
      "[[ 29.]] -> Age    38.0\n",
      "Name: 375, dtype: float64\n",
      "[[ 29.]] -> Age    20.0\n",
      "Name: 11, dtype: float64\n",
      "[[ 28.]] -> Age    20.0\n",
      "Name: 88, dtype: float64\n",
      "[[ 30.]] -> Age    26.0\n",
      "Name: 695, dtype: float64\n",
      "[[ 29.]] -> Age    30.5\n",
      "Name: 612, dtype: float64\n",
      "[[ 30.]] -> Age    4.0\n",
      "Name: 147, dtype: float64\n",
      "[[ 30.]] -> Age    34.0\n",
      "Name: 411, dtype: float64\n",
      "[[ 30.]] -> Age    22.0\n",
      "Name: 378, dtype: float64\n",
      "[[ 29.]] -> Age    16.0\n",
      "Name: 681, dtype: float64\n",
      "[[ 30.]] -> Age    29.0\n",
      "Name: 623, dtype: float64\n",
      "[[ 29.]] -> Age    65.0\n",
      "Name: 366, dtype: float64\n",
      "[[ 30.]] -> Age    51.0\n",
      "Name: 121, dtype: float64\n",
      "[[ 30.]] -> Age    29.0\n",
      "Name: 49, dtype: float64\n",
      "[[ 29.]] -> Age    40.0\n",
      "Name: 31, dtype: float64\n",
      "[[ 29.]] -> Age    30.0\n",
      "Name: 259, dtype: float64\n",
      "[[ 29.]] -> Age    49.0\n",
      "Name: 472, dtype: float64\n",
      "[[ 30.]] -> Age    21.0\n",
      "Name: 349, dtype: float64\n",
      "[[ 29.]] -> Age    30.0\n",
      "Name: 207, dtype: float64\n",
      "[[ 30.]] -> Age    30.0\n",
      "Name: 363, dtype: float64\n",
      "[[ 30.]] -> Age    6.0\n",
      "Name: 650, dtype: float64\n",
      "[[ 30.]] -> Age    5.0\n",
      "Name: 360, dtype: float64\n",
      "[[ 30.]] -> Age    19.0\n",
      "Name: 116, dtype: float64\n",
      "[[ 30.]] -> Age    25.0\n",
      "Name: 704, dtype: float64\n",
      "[[ 29.]] -> Age    24.0\n",
      "Name: 247, dtype: float64\n",
      "[[ 30.]] -> Age    21.0\n",
      "Name: 95, dtype: float64\n",
      "[[ 29.]] -> Age    47.0\n",
      "Name: 523, dtype: float64\n",
      "[[ 30.]] -> Age    57.0\n",
      "Name: 495, dtype: float64\n",
      "[[ 29.]] -> Age    50.0\n",
      "Name: 241, dtype: float64\n",
      "[[ 29.]] -> Age    20.0\n",
      "Name: 539, dtype: float64\n",
      "[[ 30.]] -> Age    34.0\n",
      "Name: 637, dtype: float64\n",
      "[[ 30.]] -> Age    28.0\n",
      "Name: 314, dtype: float64\n",
      "[[ 30.]] -> Age    29.0\n",
      "Name: 62, dtype: float64\n",
      "[[ 29.]] -> Age    42.0\n",
      "Name: 345, dtype: float64\n",
      "[[ 30.]] -> Age    30.0\n",
      "Name: 594, dtype: float64\n",
      "[[ 29.]] -> Age    31.0\n",
      "Name: 504, dtype: float64\n",
      "[[ 30.]] -> Age    33.0\n",
      "Name: 331, dtype: float64\n",
      "[[ 30.]] -> Age    28.0\n",
      "Name: 135, dtype: float64\n",
      "[[ 29.]] -> Age    35.0\n",
      "Name: 556, dtype: float64\n",
      "[[ 29.]] -> Age    19.0\n",
      "Name: 448, dtype: float64\n",
      "[[ 29.]] -> Age    2.0\n",
      "Name: 660, dtype: float64\n",
      "[[ 29.]] -> Age    42.0\n",
      "Name: 691, dtype: float64\n",
      "[[ 29.]] -> Age    48.0\n",
      "Name: 368, dtype: float64\n",
      "[[ 30.]] -> Age    61.0\n",
      "Name: 494, dtype: float64\n",
      "[[ 29.]] -> Age    30.5\n",
      "Name: 651, dtype: float64\n",
      "[[ 30.]] -> Age    21.0\n",
      "Name: 90, dtype: float64\n",
      "[[ 29.]] -> Age    18.0\n",
      "Name: 644, dtype: float64\n",
      "[[ 30.]] -> Age    31.0\n",
      "Name: 693, dtype: float64\n",
      "[[ 30.]] -> Age    18.0\n",
      "Name: 29, dtype: float64\n",
      "[[ 29.]] -> Age    33.0\n",
      "Name: 435, dtype: float64\n",
      "[[ 30.]] -> Age    44.0\n",
      "Name: 682, dtype: float64\n",
      "[[ 29.]] -> Age    16.0\n",
      "Name: 268, dtype: float64\n",
      "[[ 29.]] -> Age    35.0\n",
      "Name: 307, dtype: float64\n",
      "[[ 29.]] -> Age    31.0\n",
      "Name: 318, dtype: float64\n",
      "[[ 29.]] -> Age    35.0\n",
      "Name: 224, dtype: float64\n",
      "[[ 30.]] -> Age    18.0\n",
      "Name: 555, dtype: float64\n"
     ]
    }
   ],
   "source": [
    "for i in range(df_x_test.shape[0]):\n",
    "        print(np.round(clf1.predict(df_x_test.iloc[i,:].reshape(1,-1))), end = \"\")\n",
    "        print(\" -> \", end = \"\")\n",
    "        print(df_y_test.iloc[i])"
   ]
  },
  {
   "cell_type": "code",
   "execution_count": 71,
   "metadata": {
    "collapsed": false
   },
   "outputs": [
    {
     "data": {
      "text/plain": [
       "Ridge(alpha=1.0, copy_X=True, fit_intercept=True, max_iter=None,\n",
       "   normalize=False, random_state=1, solver='lsqr', tol=0.001)"
      ]
     },
     "execution_count": 71,
     "metadata": {},
     "output_type": "execute_result"
    }
   ],
   "source": [
    "clf2.fit(df_x_train, df_y_train)"
   ]
  },
  {
   "cell_type": "code",
   "execution_count": 72,
   "metadata": {
    "collapsed": false
   },
   "outputs": [
    {
     "name": "stdout",
     "output_type": "stream",
     "text": [
      "[[ 30.]] -> Age    15.0\n",
      "Name: 546, dtype: float64\n",
      "[[ 30.]] -> Age    7.0\n",
      "Name: 223, dtype: float64\n",
      "[[ 30.]] -> Age    33.0\n",
      "Name: 403, dtype: float64\n",
      "[[ 30.]] -> Age    14.0\n",
      "Name: 8, dtype: float64\n",
      "[[ 30.]] -> Age    21.0\n",
      "Name: 394, dtype: float64\n",
      "[[ 30.]] -> Age    42.0\n",
      "Name: 120, dtype: float64\n",
      "[[ 29.]] -> Age    23.0\n",
      "Name: 377, dtype: float64\n",
      "[[ 29.]] -> Age    56.0\n",
      "Name: 373, dtype: float64\n",
      "[[ 30.]] -> Age    39.0\n",
      "Name: 632, dtype: float64\n",
      "[[ 30.]] -> Age    24.0\n",
      "Name: 690, dtype: float64\n",
      "[[ 28.]] -> Age    27.0\n",
      "Name: 438, dtype: float64\n",
      "[[ 30.]] -> Age    22.0\n",
      "Name: 181, dtype: float64\n",
      "[[ 30.]] -> Age    45.5\n",
      "Name: 161, dtype: float64\n",
      "[[ 30.]] -> Age    52.0\n",
      "Name: 567, dtype: float64\n",
      "[[ 30.]] -> Age    33.0\n",
      "Name: 599, dtype: float64\n",
      "[[ 30.]] -> Age    3.0\n",
      "Name: 280, dtype: float64\n",
      "[[ 30.]] -> Age    26.0\n",
      "Name: 56, dtype: float64\n",
      "[[ 29.]] -> Age    22.0\n",
      "Name: 257, dtype: float64\n",
      "[[ 30.]] -> Age    31.0\n",
      "Name: 591, dtype: float64\n",
      "[[ 29.]] -> Age    47.0\n",
      "Name: 698, dtype: float64\n",
      "[[ 30.]] -> Age    19.0\n",
      "Name: 511, dtype: float64\n",
      "[[ 30.]] -> Age    61.0\n",
      "Name: 262, dtype: float64\n",
      "[[ 30.]] -> Age    14.0\n",
      "Name: 540, dtype: float64\n",
      "[[ 29.]] -> Age    60.0\n",
      "Name: 550, dtype: float64\n",
      "[[ 30.]] -> Age    29.0\n",
      "Name: 69, dtype: float64\n",
      "[[ 30.]] -> Age    25.0\n",
      "Name: 218, dtype: float64\n",
      "[[ 30.]] -> Age    48.0\n",
      "Name: 615, dtype: float64\n",
      "[[ 30.]] -> Age    19.0\n",
      "Name: 23, dtype: float64\n",
      "[[ 30.]] -> Age    24.0\n",
      "Name: 111, dtype: float64\n",
      "[[ 30.]] -> Age    23.0\n",
      "Name: 584, dtype: float64\n",
      "[[ 30.]] -> Age    36.0\n",
      "Name: 428, dtype: float64\n",
      "[[ 30.]] -> Age    62.0\n",
      "Name: 441, dtype: float64\n",
      "[[ 30.]] -> Age    0.83\n",
      "Name: 59, dtype: float64\n",
      "[[ 30.]] -> Age    33.0\n",
      "Name: 571, dtype: float64\n",
      "[[ 30.]] -> Age    25.0\n",
      "Name: 396, dtype: float64\n",
      "[[ 30.]] -> Age    19.0\n",
      "Name: 242, dtype: float64\n",
      "[[ 30.]] -> Age    40.0\n",
      "Name: 445, dtype: float64\n",
      "[[ 30.]] -> Age    21.0\n",
      "Name: 589, dtype: float64\n",
      "[[ 29.]] -> Age    36.0\n",
      "Name: 453, dtype: float64\n",
      "[[ 30.]] -> Age    41.0\n",
      "Name: 687, dtype: float64\n",
      "[[ 30.]] -> Age    30.0\n",
      "Name: 60, dtype: float64\n",
      "[[ 30.]] -> Age    28.5\n",
      "Name: 585, dtype: float64\n",
      "[[ 30.]] -> Age    47.0\n",
      "Name: 464, dtype: float64\n",
      "[[ 30.]] -> Age    27.0\n",
      "Name: 117, dtype: float64\n",
      "[[ 30.]] -> Age    31.0\n",
      "Name: 172, dtype: float64\n",
      "[[ 30.]] -> Age    59.0\n",
      "Name: 187, dtype: float64\n",
      "[[ 30.]] -> Age    16.0\n",
      "Name: 214, dtype: float64\n",
      "[[ 30.]] -> Age    58.0\n",
      "Name: 388, dtype: float64\n",
      "[[ 28.]] -> Age    28.0\n",
      "Name: 341, dtype: float64\n",
      "[[ 30.]] -> Age    33.0\n",
      "Name: 65, dtype: float64\n",
      "[[ 30.]] -> Age    15.0\n",
      "Name: 19, dtype: float64\n",
      "[[ 30.]] -> Age    45.0\n",
      "Name: 47, dtype: float64\n",
      "[[ 30.]] -> Age    32.0\n",
      "Name: 343, dtype: float64\n",
      "[[ 30.]] -> Age    44.0\n",
      "Name: 552, dtype: float64\n",
      "[[ 30.]] -> Age    28.0\n",
      "Name: 159, dtype: float64\n",
      "[[ 30.]] -> Age    9.0\n",
      "Name: 501, dtype: float64\n",
      "[[ 30.]] -> Age    24.0\n",
      "Name: 274, dtype: float64\n",
      "[[ 30.]] -> Age    19.0\n",
      "Name: 108, dtype: float64\n",
      "[[ 30.]] -> Age    2.0\n",
      "Name: 273, dtype: float64\n",
      "[[ 28.]] -> Age    3.0\n",
      "Name: 299, dtype: float64\n",
      "[[ 30.]] -> Age    26.0\n",
      "Name: 323, dtype: float64\n",
      "[[ 30.]] -> Age    4.0\n",
      "Name: 678, dtype: float64\n",
      "[[ 30.]] -> Age    32.0\n",
      "Name: 613, dtype: float64\n",
      "[[ 30.]] -> Age    25.0\n",
      "Name: 624, dtype: float64\n",
      "[[ 30.]] -> Age    28.0\n",
      "Name: 285, dtype: float64\n",
      "[[ 30.]] -> Age    33.0\n",
      "Name: 697, dtype: float64\n",
      "[[ 30.]] -> Age    3.0\n",
      "Name: 154, dtype: float64\n",
      "[[ 30.]] -> Age    32.0\n",
      "Name: 57, dtype: float64\n",
      "[[ 30.]] -> Age    1.0\n",
      "Name: 661, dtype: float64\n",
      "[[ 30.]] -> Age    25.0\n",
      "Name: 558, dtype: float64\n",
      "[[ 30.]] -> Age    34.0\n",
      "Name: 574, dtype: float64\n",
      "[[ 30.]] -> Age    22.0\n",
      "Name: 415, dtype: float64\n",
      "[[ 30.]] -> Age    1.0\n",
      "Name: 132, dtype: float64\n",
      "[[ 30.]] -> Age    13.0\n",
      "Name: 358, dtype: float64\n",
      "[[ 30.]] -> Age    18.0\n",
      "Name: 35, dtype: float64\n",
      "[[ 30.]] -> Age    32.0\n",
      "Name: 500, dtype: float64\n",
      "[[ 30.]] -> Age    31.0\n",
      "Name: 634, dtype: float64\n",
      "[[ 30.]] -> Age    43.0\n",
      "Name: 528, dtype: float64\n",
      "[[ 30.]] -> Age    37.0\n",
      "Name: 81, dtype: float64\n",
      "[[ 30.]] -> Age    21.0\n",
      "Name: 41, dtype: float64\n",
      "[[ 30.]] -> Age    31.0\n",
      "Name: 16, dtype: float64\n",
      "[[ 30.]] -> Age    40.0\n",
      "Name: 529, dtype: float64\n",
      "[[ 30.]] -> Age    56.0\n",
      "Name: 512, dtype: float64\n",
      "[[ 30.]] -> Age    19.0\n",
      "Name: 711, dtype: float64\n",
      "[[ 30.]] -> Age    18.0\n",
      "Name: 248, dtype: float64\n",
      "[[ 30.]] -> Age    22.0\n",
      "Name: 0, dtype: float64\n",
      "[[ 30.]] -> Age    45.0\n",
      "Name: 134, dtype: float64\n",
      "[[ 30.]] -> Age    26.0\n",
      "Name: 647, dtype: float64\n",
      "[[ 30.]] -> Age    71.0\n",
      "Name: 74, dtype: float64\n",
      "[[ 29.]] -> Age    18.0\n",
      "Name: 557, dtype: float64\n",
      "[[ 30.]] -> Age    34.0\n",
      "Name: 333, dtype: float64\n",
      "[[ 30.]] -> Age    16.0\n",
      "Name: 66, dtype: float64\n",
      "[[ 30.]] -> Age    0.67\n",
      "Name: 602, dtype: float64\n",
      "[[ 30.]] -> Age    39.0\n",
      "Name: 482, dtype: float64\n",
      "[[ 30.]] -> Age    5.0\n",
      "Name: 619, dtype: float64\n",
      "[[ 30.]] -> Age    49.0\n",
      "Name: 364, dtype: float64\n",
      "[[ 30.]] -> Age    45.0\n",
      "Name: 101, dtype: float64\n",
      "[[ 30.]] -> Age    27.0\n",
      "Name: 173, dtype: float64\n",
      "[[ 30.]] -> Age    54.0\n",
      "Name: 201, dtype: float64\n",
      "[[ 30.]] -> Age    35.0\n",
      "Name: 649, dtype: float64\n",
      "[[ 30.]] -> Age    38.0\n",
      "Name: 84, dtype: float64\n",
      "[[ 30.]] -> Age    47.0\n",
      "Name: 104, dtype: float64\n",
      "[[ 30.]] -> Age    20.0\n",
      "Name: 491, dtype: float64\n",
      "[[ 30.]] -> Age    47.0\n",
      "Name: 85, dtype: float64\n",
      "[[ 30.]] -> Age    36.0\n",
      "Name: 261, dtype: float64\n",
      "[[ 30.]] -> Age    14.0\n",
      "Name: 13, dtype: float64\n",
      "[[ 30.]] -> Age    39.0\n",
      "Name: 419, dtype: float64\n",
      "[[ 30.]] -> Age    52.0\n",
      "Name: 656, dtype: float64\n",
      "[[ 30.]] -> Age    25.0\n",
      "Name: 386, dtype: float64\n",
      "[[ 30.]] -> Age    17.0\n",
      "Name: 573, dtype: float64\n",
      "[[ 30.]] -> Age    2.0\n",
      "Name: 382, dtype: float64\n",
      "[[ 30.]] -> Age    30.0\n",
      "Name: 636, dtype: float64\n",
      "[[ 30.]] -> Age    29.0\n",
      "Name: 92, dtype: float64\n",
      "[[ 30.]] -> Age    30.0\n",
      "Name: 578, dtype: float64\n",
      "[[ 30.]] -> Age    28.0\n",
      "Name: 502, dtype: float64\n",
      "[[ 30.]] -> Age    31.0\n",
      "Name: 530, dtype: float64\n",
      "[[ 30.]] -> Age    36.0\n",
      "Name: 277, dtype: float64\n",
      "[[ 30.]] -> Age    19.0\n",
      "Name: 50, dtype: float64\n",
      "[[ 30.]] -> Age    22.0\n",
      "Name: 286, dtype: float64\n",
      "[[ 30.]] -> Age    54.0\n",
      "Name: 408, dtype: float64\n",
      "[[ 30.]] -> Age    22.0\n",
      "Name: 61, dtype: float64\n",
      "[[ 30.]] -> Age    35.0\n",
      "Name: 185, dtype: float64\n",
      "[[ 30.]] -> Age    33.0\n",
      "Name: 705, dtype: float64\n",
      "[[ 30.]] -> Age    21.0\n",
      "Name: 139, dtype: float64\n",
      "[[ 30.]] -> Age    45.0\n",
      "Name: 148, dtype: float64\n",
      "[[ 30.]] -> Age    30.0\n",
      "Name: 335, dtype: float64\n",
      "[[ 30.]] -> Age    31.0\n",
      "Name: 255, dtype: float64\n",
      "[[ 30.]] -> Age    20.0\n",
      "Name: 701, dtype: float64\n",
      "[[ 30.]] -> Age    33.0\n",
      "Name: 646, dtype: float64\n",
      "[[ 30.]] -> Age    4.0\n",
      "Name: 694, dtype: float64\n",
      "[[ 30.]] -> Age    17.0\n",
      "Name: 422, dtype: float64\n",
      "[[ 30.]] -> Age    22.0\n",
      "Name: 439, dtype: float64\n",
      "[[ 30.]] -> Age    24.0\n",
      "Name: 68, dtype: float64\n",
      "[[ 30.]] -> Age    34.0\n",
      "Name: 76, dtype: float64\n",
      "[[ 30.]] -> Age    27.0\n",
      "Name: 479, dtype: float64\n",
      "[[ 30.]] -> Age    28.0\n",
      "Name: 677, dtype: float64\n",
      "[[ 28.]] -> Age    9.0\n",
      "Name: 118, dtype: float64\n",
      "[[ 30.]] -> Age    32.0\n",
      "Name: 526, dtype: float64\n",
      "[[ 30.]] -> Age    39.0\n",
      "Name: 460, dtype: float64\n",
      "[[ 30.]] -> Age    19.0\n",
      "Name: 34, dtype: float64\n",
      "[[ 30.]] -> Age    24.0\n",
      "Name: 189, dtype: float64\n",
      "[[ 30.]] -> Age    17.0\n",
      "Name: 622, dtype: float64\n",
      "[[ 29.]] -> Age    25.0\n",
      "Name: 708, dtype: float64\n",
      "[[ 30.]] -> Age    15.0\n",
      "Name: 663, dtype: float64\n",
      "[[ 30.]] -> Age    24.0\n",
      "Name: 447, dtype: float64\n",
      "[[ 30.]] -> Age    36.5\n",
      "Name: 119, dtype: float64\n",
      "[[ 30.]] -> Age    28.0\n",
      "Name: 82, dtype: float64\n",
      "[[ 30.]] -> Age    22.0\n",
      "Name: 233, dtype: float64\n",
      "[[ 30.]] -> Age    25.0\n",
      "Name: 631, dtype: float64\n",
      "[[ 27.]] -> Age    74.0\n",
      "Name: 679, dtype: float64\n",
      "[[ 30.]] -> Age    23.0\n",
      "Name: 107, dtype: float64\n",
      "[[ 30.]] -> Age    35.0\n",
      "Name: 17, dtype: float64\n",
      "[[ 30.]] -> Age    19.0\n",
      "Name: 702, dtype: float64\n",
      "[[ 30.]] -> Age    34.0\n",
      "Name: 605, dtype: float64\n",
      "[[ 30.]] -> Age    38.0\n",
      "Name: 180, dtype: float64\n",
      "[[ 30.]] -> Age    49.0\n",
      "Name: 473, dtype: float64\n",
      "[[ 30.]] -> Age    20.0\n",
      "Name: 506, dtype: float64\n",
      "[[ 30.]] -> Age    22.0\n",
      "Name: 45, dtype: float64\n",
      "[[ 30.]] -> Age    64.0\n",
      "Name: 433, dtype: float64\n",
      "[[ 30.]] -> Age    9.0\n",
      "Name: 383, dtype: float64\n",
      "[[ 30.]] -> Age    38.0\n",
      "Name: 375, dtype: float64\n",
      "[[ 30.]] -> Age    20.0\n",
      "Name: 11, dtype: float64\n",
      "[[ 28.]] -> Age    20.0\n",
      "Name: 88, dtype: float64\n",
      "[[ 30.]] -> Age    26.0\n",
      "Name: 695, dtype: float64\n",
      "[[ 30.]] -> Age    30.5\n",
      "Name: 612, dtype: float64\n",
      "[[ 30.]] -> Age    4.0\n",
      "Name: 147, dtype: float64\n",
      "[[ 30.]] -> Age    34.0\n",
      "Name: 411, dtype: float64\n",
      "[[ 30.]] -> Age    22.0\n",
      "Name: 378, dtype: float64\n",
      "[[ 30.]] -> Age    16.0\n",
      "Name: 681, dtype: float64\n",
      "[[ 30.]] -> Age    29.0\n",
      "Name: 623, dtype: float64\n",
      "[[ 30.]] -> Age    65.0\n",
      "Name: 366, dtype: float64\n",
      "[[ 30.]] -> Age    51.0\n",
      "Name: 121, dtype: float64\n",
      "[[ 30.]] -> Age    29.0\n",
      "Name: 49, dtype: float64\n",
      "[[ 29.]] -> Age    40.0\n",
      "Name: 31, dtype: float64\n",
      "[[ 30.]] -> Age    30.0\n",
      "Name: 259, dtype: float64\n",
      "[[ 30.]] -> Age    49.0\n",
      "Name: 472, dtype: float64\n",
      "[[ 30.]] -> Age    21.0\n",
      "Name: 349, dtype: float64\n",
      "[[ 30.]] -> Age    30.0\n",
      "Name: 207, dtype: float64\n",
      "[[ 30.]] -> Age    30.0\n",
      "Name: 363, dtype: float64\n",
      "[[ 30.]] -> Age    6.0\n",
      "Name: 650, dtype: float64\n",
      "[[ 30.]] -> Age    5.0\n",
      "Name: 360, dtype: float64\n",
      "[[ 30.]] -> Age    19.0\n",
      "Name: 116, dtype: float64\n",
      "[[ 30.]] -> Age    25.0\n",
      "Name: 704, dtype: float64\n",
      "[[ 30.]] -> Age    24.0\n",
      "Name: 247, dtype: float64\n",
      "[[ 30.]] -> Age    21.0\n",
      "Name: 95, dtype: float64\n",
      "[[ 30.]] -> Age    47.0\n",
      "Name: 523, dtype: float64\n",
      "[[ 30.]] -> Age    57.0\n",
      "Name: 495, dtype: float64\n",
      "[[ 30.]] -> Age    50.0\n",
      "Name: 241, dtype: float64\n",
      "[[ 30.]] -> Age    20.0\n",
      "Name: 539, dtype: float64\n",
      "[[ 30.]] -> Age    34.0\n",
      "Name: 637, dtype: float64\n",
      "[[ 30.]] -> Age    28.0\n",
      "Name: 314, dtype: float64\n",
      "[[ 30.]] -> Age    29.0\n",
      "Name: 62, dtype: float64\n",
      "[[ 30.]] -> Age    42.0\n",
      "Name: 345, dtype: float64\n",
      "[[ 30.]] -> Age    30.0\n",
      "Name: 594, dtype: float64\n",
      "[[ 29.]] -> Age    31.0\n",
      "Name: 504, dtype: float64\n",
      "[[ 30.]] -> Age    33.0\n",
      "Name: 331, dtype: float64\n",
      "[[ 30.]] -> Age    28.0\n",
      "Name: 135, dtype: float64\n",
      "[[ 30.]] -> Age    35.0\n",
      "Name: 556, dtype: float64\n",
      "[[ 30.]] -> Age    19.0\n",
      "Name: 448, dtype: float64\n",
      "[[ 29.]] -> Age    2.0\n",
      "Name: 660, dtype: float64\n",
      "[[ 30.]] -> Age    42.0\n",
      "Name: 691, dtype: float64\n",
      "[[ 30.]] -> Age    48.0\n",
      "Name: 368, dtype: float64\n",
      "[[ 30.]] -> Age    61.0\n",
      "Name: 494, dtype: float64\n",
      "[[ 30.]] -> Age    30.5\n",
      "Name: 651, dtype: float64\n",
      "[[ 30.]] -> Age    21.0\n",
      "Name: 90, dtype: float64\n",
      "[[ 30.]] -> Age    18.0\n",
      "Name: 644, dtype: float64\n",
      "[[ 30.]] -> Age    31.0\n",
      "Name: 693, dtype: float64\n",
      "[[ 30.]] -> Age    18.0\n",
      "Name: 29, dtype: float64\n",
      "[[ 29.]] -> Age    33.0\n",
      "Name: 435, dtype: float64\n",
      "[[ 30.]] -> Age    44.0\n",
      "Name: 682, dtype: float64\n",
      "[[ 29.]] -> Age    16.0\n",
      "Name: 268, dtype: float64\n",
      "[[ 29.]] -> Age    35.0\n",
      "Name: 307, dtype: float64\n",
      "[[ 29.]] -> Age    31.0\n",
      "Name: 318, dtype: float64\n",
      "[[ 29.]] -> Age    35.0\n",
      "Name: 224, dtype: float64\n",
      "[[ 30.]] -> Age    18.0\n",
      "Name: 555, dtype: float64\n"
     ]
    }
   ],
   "source": [
    "for i in range(df_x_test.shape[0]):\n",
    "        print(np.round(clf2.predict(df_x_test.iloc[i,:].reshape(1,-1))), end = \"\")\n",
    "        print(\" -> \", end = \"\")\n",
    "        print(df_y_test.iloc[i])"
   ]
  },
  {
   "cell_type": "code",
   "execution_count": 73,
   "metadata": {
    "collapsed": false
   },
   "outputs": [
    {
     "data": {
      "text/plain": [
       "0.51055896196393857"
      ]
     },
     "execution_count": 73,
     "metadata": {},
     "output_type": "execute_result"
    }
   ],
   "source": [
    "metrics.mean_squared_log_error(df_y_test, abs(clf1.predict(df_x_test)))"
   ]
  },
  {
   "cell_type": "code",
   "execution_count": 74,
   "metadata": {
    "collapsed": false
   },
   "outputs": [
    {
     "data": {
      "text/plain": [
       "0.507754180026465"
      ]
     },
     "execution_count": 74,
     "metadata": {},
     "output_type": "execute_result"
    }
   ],
   "source": [
    "metrics.mean_squared_log_error(df_y_test, abs(clf2.predict(df_x_test)))"
   ]
  },
  {
   "cell_type": "code",
   "execution_count": 75,
   "metadata": {
    "collapsed": false
   },
   "outputs": [
    {
     "data": {
      "text/plain": [
       "Lasso(alpha=1.0, copy_X=True, fit_intercept=True, max_iter=1000,\n",
       "   normalize=False, positive=False, precompute=False, random_state=1,\n",
       "   selection='random', tol=0.0001, warm_start=False)"
      ]
     },
     "execution_count": 75,
     "metadata": {},
     "output_type": "execute_result"
    }
   ],
   "source": [
    "clf3.fit(df_x_train, df_y_train)"
   ]
  },
  {
   "cell_type": "code",
   "execution_count": 76,
   "metadata": {
    "collapsed": false
   },
   "outputs": [
    {
     "data": {
      "text/plain": [
       "0.50778870394938225"
      ]
     },
     "execution_count": 76,
     "metadata": {},
     "output_type": "execute_result"
    }
   ],
   "source": [
    "metrics.mean_squared_log_error(df_y_test, abs(clf3.predict(df_x_test)))"
   ]
  },
  {
   "cell_type": "code",
   "execution_count": 77,
   "metadata": {
    "collapsed": false
   },
   "outputs": [
    {
     "data": {
      "text/plain": [
       "ElasticNet(alpha=1, copy_X=True, fit_intercept=True, l1_ratio=1,\n",
       "      max_iter=1000, normalize=False, positive=False, precompute=False,\n",
       "      random_state=1, selection='random', tol=0.0001, warm_start=False)"
      ]
     },
     "execution_count": 77,
     "metadata": {},
     "output_type": "execute_result"
    }
   ],
   "source": [
    "clf4.fit(df_x_train, df_y_train)"
   ]
  },
  {
   "cell_type": "code",
   "execution_count": 78,
   "metadata": {
    "collapsed": false
   },
   "outputs": [
    {
     "data": {
      "text/plain": [
       "0.50778870394938225"
      ]
     },
     "execution_count": 78,
     "metadata": {},
     "output_type": "execute_result"
    }
   ],
   "source": [
    "metrics.mean_squared_log_error(df_y_test, abs(clf4.predict(df_x_test)))"
   ]
  },
  {
   "cell_type": "code",
   "execution_count": 107,
   "metadata": {
    "collapsed": true
   },
   "outputs": [],
   "source": [
    "clf5 = knr(n_neighbors = 5, weights = 'distance', algorithm = 'brute')"
   ]
  },
  {
   "cell_type": "code",
   "execution_count": 108,
   "metadata": {
    "collapsed": false
   },
   "outputs": [
    {
     "data": {
      "text/plain": [
       "KNeighborsRegressor(algorithm='brute', leaf_size=30, metric='minkowski',\n",
       "          metric_params=None, n_jobs=1, n_neighbors=5, p=2,\n",
       "          weights='distance')"
      ]
     },
     "execution_count": 108,
     "metadata": {},
     "output_type": "execute_result"
    }
   ],
   "source": [
    "clf5.fit(df_x_train, df_y_train)"
   ]
  },
  {
   "cell_type": "code",
   "execution_count": 109,
   "metadata": {
    "collapsed": false
   },
   "outputs": [
    {
     "data": {
      "text/plain": [
       "0.65240105485399735"
      ]
     },
     "execution_count": 109,
     "metadata": {},
     "output_type": "execute_result"
    }
   ],
   "source": [
    "metrics.mean_squared_log_error(df_y_test, abs(clf5.predict(df_x_test)))"
   ]
  },
  {
   "cell_type": "code",
   "execution_count": 120,
   "metadata": {
    "collapsed": true
   },
   "outputs": [],
   "source": [
    "clf6 = dtr(splitter = 'random', random_state = 1, max_features = 'auto')"
   ]
  },
  {
   "cell_type": "code",
   "execution_count": 123,
   "metadata": {
    "collapsed": false
   },
   "outputs": [
    {
     "data": {
      "text/plain": [
       "DecisionTreeRegressor(criterion='mse', max_depth=None, max_features='auto',\n",
       "           max_leaf_nodes=None, min_impurity_decrease=0.0,\n",
       "           min_impurity_split=None, min_samples_leaf=1,\n",
       "           min_samples_split=2, min_weight_fraction_leaf=0.0,\n",
       "           presort=False, random_state=1, splitter='random')"
      ]
     },
     "execution_count": 123,
     "metadata": {},
     "output_type": "execute_result"
    }
   ],
   "source": [
    "clf6.fit(df_x_train, df_y_train)"
   ]
  },
  {
   "cell_type": "code",
   "execution_count": 124,
   "metadata": {
    "collapsed": false
   },
   "outputs": [
    {
     "data": {
      "text/plain": [
       "0.72064520262453169"
      ]
     },
     "execution_count": 124,
     "metadata": {},
     "output_type": "execute_result"
    }
   ],
   "source": [
    "metrics.mean_squared_log_error(df_y_test, abs(clf6.predict(df_x_test)))"
   ]
  },
  {
   "cell_type": "code",
   "execution_count": 150,
   "metadata": {
    "collapsed": true
   },
   "outputs": [],
   "source": [
    "clf7 = rfr(n_estimators = 10, max_features = .3, random_state = 1)"
   ]
  },
  {
   "cell_type": "code",
   "execution_count": 151,
   "metadata": {
    "collapsed": false
   },
   "outputs": [
    {
     "name": "stderr",
     "output_type": "stream",
     "text": [
      "C:\\Users\\Visha\\Anaconda3\\lib\\site-packages\\ipykernel\\__main__.py:1: DataConversionWarning: A column-vector y was passed when a 1d array was expected. Please change the shape of y to (n_samples,), for example using ravel().\n",
      "  if __name__ == '__main__':\n"
     ]
    },
    {
     "data": {
      "text/plain": [
       "RandomForestRegressor(bootstrap=True, criterion='mse', max_depth=None,\n",
       "           max_features=0.3, max_leaf_nodes=None,\n",
       "           min_impurity_decrease=0.0, min_impurity_split=None,\n",
       "           min_samples_leaf=1, min_samples_split=2,\n",
       "           min_weight_fraction_leaf=0.0, n_estimators=10, n_jobs=1,\n",
       "           oob_score=False, random_state=1, verbose=0, warm_start=False)"
      ]
     },
     "execution_count": 151,
     "metadata": {},
     "output_type": "execute_result"
    }
   ],
   "source": [
    "clf7.fit(df_x_train, df_y_train)"
   ]
  },
  {
   "cell_type": "code",
   "execution_count": 152,
   "metadata": {
    "collapsed": false
   },
   "outputs": [
    {
     "data": {
      "text/plain": [
       "0.57198123178073979"
      ]
     },
     "execution_count": 152,
     "metadata": {},
     "output_type": "execute_result"
    }
   ],
   "source": [
    "metrics.mean_squared_log_error(df_y_test, abs(clf7.predict(df_x_test)))"
   ]
  },
  {
   "cell_type": "code",
   "execution_count": 178,
   "metadata": {
    "collapsed": true
   },
   "outputs": [],
   "source": [
    "clf8 = gbr(loss = 'quantile', random_state = 1)"
   ]
  },
  {
   "cell_type": "code",
   "execution_count": 179,
   "metadata": {
    "collapsed": false
   },
   "outputs": [
    {
     "name": "stderr",
     "output_type": "stream",
     "text": [
      "C:\\Users\\Visha\\Anaconda3\\lib\\site-packages\\sklearn\\utils\\validation.py:547: DataConversionWarning: A column-vector y was passed when a 1d array was expected. Please change the shape of y to (n_samples, ), for example using ravel().\n",
      "  y = column_or_1d(y, warn=True)\n"
     ]
    },
    {
     "data": {
      "text/plain": [
       "GradientBoostingRegressor(alpha=0.9, criterion='friedman_mse', init=None,\n",
       "             learning_rate=0.1, loss='quantile', max_depth=3,\n",
       "             max_features=None, max_leaf_nodes=None,\n",
       "             min_impurity_decrease=0.0, min_impurity_split=None,\n",
       "             min_samples_leaf=1, min_samples_split=2,\n",
       "             min_weight_fraction_leaf=0.0, n_estimators=100,\n",
       "             presort='auto', random_state=1, subsample=1.0, verbose=0,\n",
       "             warm_start=False)"
      ]
     },
     "execution_count": 179,
     "metadata": {},
     "output_type": "execute_result"
    }
   ],
   "source": [
    "clf8.fit(df_x_train, df_y_train)"
   ]
  },
  {
   "cell_type": "code",
   "execution_count": 180,
   "metadata": {
    "collapsed": false
   },
   "outputs": [
    {
     "data": {
      "text/plain": [
       "0.90344915059796338"
      ]
     },
     "execution_count": 180,
     "metadata": {},
     "output_type": "execute_result"
    }
   ],
   "source": [
    "metrics.mean_squared_log_error(df_y_test, abs(clf8.predict(df_x_test)))"
   ]
  },
  {
   "cell_type": "code",
   "execution_count": 183,
   "metadata": {
    "collapsed": false
   },
   "outputs": [
    {
     "data": {
      "text/plain": [
       "0    22.0\n",
       "1    38.0\n",
       "2    26.0\n",
       "3    35.0\n",
       "4    35.0\n",
       "Name: Age, dtype: float64"
      ]
     },
     "execution_count": 183,
     "metadata": {},
     "output_type": "execute_result"
    }
   ],
   "source": [
    "df_train.Age.head()"
   ]
  },
  {
   "cell_type": "code",
   "execution_count": 200,
   "metadata": {
    "collapsed": false
   },
   "outputs": [
    {
     "data": {
      "text/plain": [
       "22.0"
      ]
     },
     "execution_count": 200,
     "metadata": {},
     "output_type": "execute_result"
    }
   ],
   "source": [
    "df_train['Age'].iloc[0]"
   ]
  },
  {
   "cell_type": "code",
   "execution_count": 203,
   "metadata": {
    "collapsed": false
   },
   "outputs": [],
   "source": [
    "index_to_change = []\n",
    "for i in df_train.Age.index:\n",
    "     if df_train.Age.iloc[i] == 'nan':\n",
    "            index_to_change.append(i)"
   ]
  },
  {
   "cell_type": "code",
   "execution_count": 204,
   "metadata": {
    "collapsed": false
   },
   "outputs": [
    {
     "data": {
      "text/plain": [
       "[]"
      ]
     },
     "execution_count": 204,
     "metadata": {},
     "output_type": "execute_result"
    }
   ],
   "source": [
    "index_to_change"
   ]
  },
  {
   "cell_type": "code",
   "execution_count": 207,
   "metadata": {
    "collapsed": false
   },
   "outputs": [
    {
     "data": {
      "text/html": [
       "<div>\n",
       "<table border=\"1\" class=\"dataframe\">\n",
       "  <thead>\n",
       "    <tr style=\"text-align: right;\">\n",
       "      <th></th>\n",
       "      <th>PassengerId</th>\n",
       "      <th>Survived</th>\n",
       "      <th>Pclass</th>\n",
       "      <th>Sex</th>\n",
       "      <th>Age</th>\n",
       "      <th>SibSp</th>\n",
       "      <th>Parch</th>\n",
       "      <th>Fare</th>\n",
       "    </tr>\n",
       "  </thead>\n",
       "  <tbody>\n",
       "    <tr>\n",
       "      <th>PassengerId</th>\n",
       "      <td>1.000000</td>\n",
       "      <td>-0.005007</td>\n",
       "      <td>-0.034091</td>\n",
       "      <td>-0.042939</td>\n",
       "      <td>0.041010</td>\n",
       "      <td>-0.061161</td>\n",
       "      <td>0.001235</td>\n",
       "      <td>-0.013975</td>\n",
       "    </tr>\n",
       "    <tr>\n",
       "      <th>Survived</th>\n",
       "      <td>-0.005007</td>\n",
       "      <td>1.000000</td>\n",
       "      <td>-0.339668</td>\n",
       "      <td>0.543351</td>\n",
       "      <td>-0.052565</td>\n",
       "      <td>0.088879</td>\n",
       "      <td>0.138266</td>\n",
       "      <td>0.323736</td>\n",
       "    </tr>\n",
       "    <tr>\n",
       "      <th>Pclass</th>\n",
       "      <td>-0.034091</td>\n",
       "      <td>-0.339668</td>\n",
       "      <td>1.000000</td>\n",
       "      <td>-0.135775</td>\n",
       "      <td>-0.361666</td>\n",
       "      <td>-0.043019</td>\n",
       "      <td>-0.022801</td>\n",
       "      <td>-0.688032</td>\n",
       "    </tr>\n",
       "    <tr>\n",
       "      <th>Sex</th>\n",
       "      <td>-0.042939</td>\n",
       "      <td>0.543351</td>\n",
       "      <td>-0.135775</td>\n",
       "      <td>1.000000</td>\n",
       "      <td>-0.083330</td>\n",
       "      <td>0.195204</td>\n",
       "      <td>0.254512</td>\n",
       "      <td>0.259593</td>\n",
       "    </tr>\n",
       "    <tr>\n",
       "      <th>Age</th>\n",
       "      <td>0.041010</td>\n",
       "      <td>-0.052565</td>\n",
       "      <td>-0.361666</td>\n",
       "      <td>-0.083330</td>\n",
       "      <td>1.000000</td>\n",
       "      <td>-0.182061</td>\n",
       "      <td>-0.254212</td>\n",
       "      <td>0.135051</td>\n",
       "    </tr>\n",
       "    <tr>\n",
       "      <th>SibSp</th>\n",
       "      <td>-0.061161</td>\n",
       "      <td>0.088879</td>\n",
       "      <td>-0.043019</td>\n",
       "      <td>0.195204</td>\n",
       "      <td>-0.182061</td>\n",
       "      <td>1.000000</td>\n",
       "      <td>0.450014</td>\n",
       "      <td>0.447113</td>\n",
       "    </tr>\n",
       "    <tr>\n",
       "      <th>Parch</th>\n",
       "      <td>0.001235</td>\n",
       "      <td>0.138266</td>\n",
       "      <td>-0.022801</td>\n",
       "      <td>0.254512</td>\n",
       "      <td>-0.254212</td>\n",
       "      <td>0.450014</td>\n",
       "      <td>1.000000</td>\n",
       "      <td>0.410074</td>\n",
       "    </tr>\n",
       "    <tr>\n",
       "      <th>Fare</th>\n",
       "      <td>-0.013975</td>\n",
       "      <td>0.323736</td>\n",
       "      <td>-0.688032</td>\n",
       "      <td>0.259593</td>\n",
       "      <td>0.135051</td>\n",
       "      <td>0.447113</td>\n",
       "      <td>0.410074</td>\n",
       "      <td>1.000000</td>\n",
       "    </tr>\n",
       "  </tbody>\n",
       "</table>\n",
       "</div>"
      ],
      "text/plain": [
       "             PassengerId  Survived    Pclass       Sex       Age     SibSp  \\\n",
       "PassengerId     1.000000 -0.005007 -0.034091 -0.042939  0.041010 -0.061161   \n",
       "Survived       -0.005007  1.000000 -0.339668  0.543351 -0.052565  0.088879   \n",
       "Pclass         -0.034091 -0.339668  1.000000 -0.135775 -0.361666 -0.043019   \n",
       "Sex            -0.042939  0.543351 -0.135775  1.000000 -0.083330  0.195204   \n",
       "Age             0.041010 -0.052565 -0.361666 -0.083330  1.000000 -0.182061   \n",
       "SibSp          -0.061161  0.088879 -0.043019  0.195204 -0.182061  1.000000   \n",
       "Parch           0.001235  0.138266 -0.022801  0.254512 -0.254212  0.450014   \n",
       "Fare           -0.013975  0.323736 -0.688032  0.259593  0.135051  0.447113   \n",
       "\n",
       "                Parch      Fare  \n",
       "PassengerId  0.001235 -0.013975  \n",
       "Survived     0.138266  0.323736  \n",
       "Pclass      -0.022801 -0.688032  \n",
       "Sex          0.254512  0.259593  \n",
       "Age         -0.254212  0.135051  \n",
       "SibSp        0.450014  0.447113  \n",
       "Parch        1.000000  0.410074  \n",
       "Fare         0.410074  1.000000  "
      ]
     },
     "execution_count": 207,
     "metadata": {},
     "output_type": "execute_result"
    }
   ],
   "source": [
    "df_train.corr(method = 'spearman')"
   ]
  },
  {
   "cell_type": "code",
   "execution_count": 379,
   "metadata": {
    "collapsed": false
   },
   "outputs": [],
   "source": [
    "X = df_train[['Fare', 'Sex', 'Parch']]\n",
    "y = df_train.Survived"
   ]
  },
  {
   "cell_type": "code",
   "execution_count": 380,
   "metadata": {
    "collapsed": false
   },
   "outputs": [
    {
     "data": {
      "text/plain": [
       "891"
      ]
     },
     "execution_count": 380,
     "metadata": {},
     "output_type": "execute_result"
    }
   ],
   "source": [
    "X.shape[0]"
   ]
  },
  {
   "cell_type": "code",
   "execution_count": 381,
   "metadata": {
    "collapsed": false
   },
   "outputs": [
    {
     "name": "stderr",
     "output_type": "stream",
     "text": [
      "C:\\Users\\Visha\\Anaconda3\\lib\\site-packages\\pandas\\core\\indexing.py:465: SettingWithCopyWarning: \n",
      "A value is trying to be set on a copy of a slice from a DataFrame.\n",
      "Try using .loc[row_indexer,col_indexer] = value instead\n",
      "\n",
      "See the caveats in the documentation: http://pandas.pydata.org/pandas-docs/stable/indexing.html#indexing-view-versus-copy\n",
      "  self.obj[item] = s\n"
     ]
    }
   ],
   "source": [
    "for i in range(X.shape[0]):\n",
    "    if X.iloc[i,1] == 0:\n",
    "        X.iloc[i,1] = 'Male'\n",
    "    else:\n",
    "        X.iloc[i,1] = 'Female'"
   ]
  },
  {
   "cell_type": "code",
   "execution_count": 382,
   "metadata": {
    "collapsed": false
   },
   "outputs": [
    {
     "data": {
      "text/html": [
       "<div>\n",
       "<table border=\"1\" class=\"dataframe\">\n",
       "  <thead>\n",
       "    <tr style=\"text-align: right;\">\n",
       "      <th></th>\n",
       "      <th>Fare</th>\n",
       "      <th>Sex</th>\n",
       "      <th>Parch</th>\n",
       "    </tr>\n",
       "  </thead>\n",
       "  <tbody>\n",
       "    <tr>\n",
       "      <th>886</th>\n",
       "      <td>13.00</td>\n",
       "      <td>Male</td>\n",
       "      <td>0</td>\n",
       "    </tr>\n",
       "    <tr>\n",
       "      <th>887</th>\n",
       "      <td>30.00</td>\n",
       "      <td>Female</td>\n",
       "      <td>0</td>\n",
       "    </tr>\n",
       "    <tr>\n",
       "      <th>888</th>\n",
       "      <td>23.45</td>\n",
       "      <td>Female</td>\n",
       "      <td>2</td>\n",
       "    </tr>\n",
       "    <tr>\n",
       "      <th>889</th>\n",
       "      <td>30.00</td>\n",
       "      <td>Male</td>\n",
       "      <td>0</td>\n",
       "    </tr>\n",
       "    <tr>\n",
       "      <th>890</th>\n",
       "      <td>7.75</td>\n",
       "      <td>Male</td>\n",
       "      <td>0</td>\n",
       "    </tr>\n",
       "  </tbody>\n",
       "</table>\n",
       "</div>"
      ],
      "text/plain": [
       "      Fare     Sex  Parch\n",
       "886  13.00    Male      0\n",
       "887  30.00  Female      0\n",
       "888  23.45  Female      2\n",
       "889  30.00    Male      0\n",
       "890   7.75    Male      0"
      ]
     },
     "execution_count": 382,
     "metadata": {},
     "output_type": "execute_result"
    }
   ],
   "source": [
    "X.tail()"
   ]
  },
  {
   "cell_type": "code",
   "execution_count": 299,
   "metadata": {
    "collapsed": false
   },
   "outputs": [
    {
     "data": {
      "text/plain": [
       "array([[ 0.01415106,  0.        ],\n",
       "       [ 0.13913574,  1.        ],\n",
       "       [ 0.01546857,  1.        ],\n",
       "       ..., \n",
       "       [ 0.04577135,  1.        ],\n",
       "       [ 0.0585561 ,  0.        ],\n",
       "       [ 0.01512699,  0.        ]])"
      ]
     },
     "execution_count": 299,
     "metadata": {},
     "output_type": "execute_result"
    }
   ],
   "source": [
    "mms.fit_transform(X)"
   ]
  },
  {
   "cell_type": "code",
   "execution_count": 318,
   "metadata": {
    "collapsed": true
   },
   "outputs": [],
   "source": [
    "X_train, X_test, y_train, y_test = tts(mms.fit_transform(X), y, test_size = .25, random_state = 1)"
   ]
  },
  {
   "cell_type": "code",
   "execution_count": 319,
   "metadata": {
    "collapsed": true
   },
   "outputs": [],
   "source": [
    "clf = svm.SVC(C = 1, kernel = 'rbf', degree = 2,)"
   ]
  },
  {
   "cell_type": "code",
   "execution_count": 320,
   "metadata": {
    "collapsed": false
   },
   "outputs": [
    {
     "data": {
      "text/plain": [
       "SVC(C=1, cache_size=200, class_weight=None, coef0=0.0,\n",
       "  decision_function_shape='ovr', degree=2, gamma='auto', kernel='rbf',\n",
       "  max_iter=-1, probability=False, random_state=None, shrinking=True,\n",
       "  tol=0.001, verbose=False)"
      ]
     },
     "execution_count": 320,
     "metadata": {},
     "output_type": "execute_result"
    }
   ],
   "source": [
    "clf.fit(X_train, y_train)"
   ]
  },
  {
   "cell_type": "code",
   "execution_count": 321,
   "metadata": {
    "collapsed": false
   },
   "outputs": [
    {
     "data": {
      "text/plain": [
       "0.7847533632286996"
      ]
     },
     "execution_count": 321,
     "metadata": {},
     "output_type": "execute_result"
    }
   ],
   "source": [
    "clf.score(X_test, y_test)"
   ]
  },
  {
   "cell_type": "code",
   "execution_count": 322,
   "metadata": {
    "collapsed": false
   },
   "outputs": [],
   "source": [
    "clf9 = loglr(penalty = 'l2', solver = 'liblinear', n_jobs = -1, max_iter = 100000)"
   ]
  },
  {
   "cell_type": "code",
   "execution_count": 323,
   "metadata": {
    "collapsed": false
   },
   "outputs": [
    {
     "name": "stderr",
     "output_type": "stream",
     "text": [
      "C:\\Users\\Visha\\Anaconda3\\lib\\site-packages\\sklearn\\linear_model\\logistic.py:1228: UserWarning: 'n_jobs' > 1 does not have any effect when 'solver' is set to 'liblinear'. Got 'n_jobs' = -1.\n",
      "  \" = {}.\".format(self.n_jobs))\n"
     ]
    },
    {
     "data": {
      "text/plain": [
       "LogisticRegression(C=1.0, class_weight=None, dual=False, fit_intercept=True,\n",
       "          intercept_scaling=1, max_iter=100000, multi_class='ovr',\n",
       "          n_jobs=-1, penalty='l2', random_state=None, solver='liblinear',\n",
       "          tol=0.0001, verbose=0, warm_start=False)"
      ]
     },
     "execution_count": 323,
     "metadata": {},
     "output_type": "execute_result"
    }
   ],
   "source": [
    "clf9.fit(X_train, y_train)"
   ]
  },
  {
   "cell_type": "code",
   "execution_count": 376,
   "metadata": {
    "collapsed": false
   },
   "outputs": [
    {
     "data": {
      "text/plain": [
       "0.78923766816143492"
      ]
     },
     "execution_count": 376,
     "metadata": {},
     "output_type": "execute_result"
    }
   ],
   "source": [
    "clf9.score(X_test, y_test)"
   ]
  },
  {
   "cell_type": "code",
   "execution_count": 340,
   "metadata": {
    "collapsed": true
   },
   "outputs": [],
   "source": [
    "clf10 = knc(n_neighbors = 5, algorithm = 'brute', weights = 'distance')"
   ]
  },
  {
   "cell_type": "code",
   "execution_count": 341,
   "metadata": {
    "collapsed": false
   },
   "outputs": [
    {
     "data": {
      "text/plain": [
       "KNeighborsClassifier(algorithm='brute', leaf_size=30, metric='minkowski',\n",
       "           metric_params=None, n_jobs=1, n_neighbors=5, p=2,\n",
       "           weights='distance')"
      ]
     },
     "execution_count": 341,
     "metadata": {},
     "output_type": "execute_result"
    }
   ],
   "source": [
    "clf10.fit(X_train, y_train)"
   ]
  },
  {
   "cell_type": "code",
   "execution_count": 375,
   "metadata": {
    "collapsed": false
   },
   "outputs": [
    {
     "data": {
      "text/plain": [
       "0.82959641255605376"
      ]
     },
     "execution_count": 375,
     "metadata": {},
     "output_type": "execute_result"
    }
   ],
   "source": [
    "clf10.score(X_test, y_test)"
   ]
  },
  {
   "cell_type": "code",
   "execution_count": 357,
   "metadata": {
    "collapsed": true
   },
   "outputs": [],
   "source": [
    "clf11 = dtc(splitter = 'random', max_features = 'auto')"
   ]
  },
  {
   "cell_type": "code",
   "execution_count": 358,
   "metadata": {
    "collapsed": false
   },
   "outputs": [
    {
     "data": {
      "text/plain": [
       "DecisionTreeClassifier(class_weight=None, criterion='gini', max_depth=None,\n",
       "            max_features='auto', max_leaf_nodes=None,\n",
       "            min_impurity_decrease=0.0, min_impurity_split=None,\n",
       "            min_samples_leaf=1, min_samples_split=2,\n",
       "            min_weight_fraction_leaf=0.0, presort=False, random_state=None,\n",
       "            splitter='random')"
      ]
     },
     "execution_count": 358,
     "metadata": {},
     "output_type": "execute_result"
    }
   ],
   "source": [
    "clf11.fit(X_train, y_train)"
   ]
  },
  {
   "cell_type": "code",
   "execution_count": 359,
   "metadata": {
    "collapsed": false
   },
   "outputs": [
    {
     "data": {
      "text/plain": [
       "0.83856502242152464"
      ]
     },
     "execution_count": 359,
     "metadata": {},
     "output_type": "execute_result"
    }
   ],
   "source": [
    "clf11.score(X_test, y_test)"
   ]
  },
  {
   "cell_type": "code",
   "execution_count": 369,
   "metadata": {
    "collapsed": true
   },
   "outputs": [],
   "source": [
    "clf12 = gbc(loss = 'exponential', max_features = 'auto')"
   ]
  },
  {
   "cell_type": "code",
   "execution_count": 370,
   "metadata": {
    "collapsed": false
   },
   "outputs": [
    {
     "data": {
      "text/plain": [
       "GradientBoostingClassifier(criterion='friedman_mse', init=None,\n",
       "              learning_rate=0.1, loss='exponential', max_depth=3,\n",
       "              max_features='auto', max_leaf_nodes=None,\n",
       "              min_impurity_decrease=0.0, min_impurity_split=None,\n",
       "              min_samples_leaf=1, min_samples_split=2,\n",
       "              min_weight_fraction_leaf=0.0, n_estimators=100,\n",
       "              presort='auto', random_state=None, subsample=1.0, verbose=0,\n",
       "              warm_start=False)"
      ]
     },
     "execution_count": 370,
     "metadata": {},
     "output_type": "execute_result"
    }
   ],
   "source": [
    "clf12.fit(X_train, y_train)"
   ]
  },
  {
   "cell_type": "code",
   "execution_count": 377,
   "metadata": {
    "collapsed": false
   },
   "outputs": [
    {
     "data": {
      "text/plain": [
       "0.7847533632286996"
      ]
     },
     "execution_count": 377,
     "metadata": {},
     "output_type": "execute_result"
    }
   ],
   "source": [
    "clf.score(X_test, y_test)"
   ]
  },
  {
   "cell_type": "code",
   "execution_count": null,
   "metadata": {
    "collapsed": true
   },
   "outputs": [],
   "source": [
    "clf13 = "
   ]
  }
 ],
 "metadata": {
  "anaconda-cloud": {},
  "kernelspec": {
   "display_name": "Python [conda root]",
   "language": "python",
   "name": "conda-root-py"
  },
  "language_info": {
   "codemirror_mode": {
    "name": "ipython",
    "version": 3
   },
   "file_extension": ".py",
   "mimetype": "text/x-python",
   "name": "python",
   "nbconvert_exporter": "python",
   "pygments_lexer": "ipython3",
   "version": "3.5.2"
  }
 },
 "nbformat": 4,
 "nbformat_minor": 2
}
