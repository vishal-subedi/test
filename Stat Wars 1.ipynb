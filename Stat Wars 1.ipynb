{
 "cells": [
  {
   "cell_type": "code",
   "execution_count": 1,
   "metadata": {
    "collapsed": false
   },
   "outputs": [
    {
     "name": "stderr",
     "output_type": "stream",
     "text": [
      "C:\\Users\\Visha\\Anaconda3\\lib\\site-packages\\sklearn\\cross_validation.py:41: DeprecationWarning: This module was deprecated in version 0.18 in favor of the model_selection module into which all the refactored classes and functions are moved. Also note that the interface of the new CV iterators are different from that of this module. This module will be removed in 0.20.\n",
      "  \"This module will be removed in 0.20.\", DeprecationWarning)\n"
     ]
    }
   ],
   "source": [
    "import numpy as np\n",
    "import scipy as sp\n",
    "import pandas as pd\n",
    "from sklearn.linear_model import LinearRegression as lr, Lasso as ls, Ridge as rg, ElasticNet as en, LogisticRegression as loglr\n",
    "from sklearn import svm, metrics\n",
    "from sklearn.neighbors import KNeighborsRegressor as knr, KNeighborsClassifier as knc\n",
    "from sklearn.ensemble import RandomForestRegressor as rfr, GradientBoostingRegressor as gbr, RandomForestClassifier as rfc, GradientBoostingClassifier as gbc\n",
    "from sklearn.preprocessing import Imputer, normalize, StandardScaler, MinMaxScaler, LabelBinarizer, RobustScaler\n",
    "import seaborn as sns\n",
    "from matplotlib import pyplot as plt\n",
    "from datetime import datetime as dt\n",
    "from sklearn.cross_validation import KFold, train_test_split as tts\n",
    "from catboost import CatBoostRegressor as cbr\n",
    "from sklearn.tree import DecisionTreeRegressor as dtr, DecisionTreeClassifier as dtc\n",
    "from nltk.tokenize import word_tokenize, PunktSentenceTokenizer as pst\n",
    "mms = MinMaxScaler()\n",
    "rc = RobustScaler()\n",
    "ss = StandardScaler()"
   ]
  },
  {
   "cell_type": "code",
   "execution_count": 2,
   "metadata": {
    "collapsed": true
   },
   "outputs": [],
   "source": [
    "import pandas as pd"
   ]
  },
  {
   "cell_type": "code",
   "execution_count": 2,
   "metadata": {
    "collapsed": true
   },
   "outputs": [],
   "source": [
    "df_train = pd.read_csv('C:/Users/Visha/Downloads/TrainData.csv', header = 0, index_col = None)"
   ]
  },
  {
   "cell_type": "code",
   "execution_count": 71,
   "metadata": {
    "collapsed": false
   },
   "outputs": [
    {
     "data": {
      "text/html": [
       "<div>\n",
       "<table border=\"1\" class=\"dataframe\">\n",
       "  <thead>\n",
       "    <tr style=\"text-align: right;\">\n",
       "      <th></th>\n",
       "      <th>SerialNumber</th>\n",
       "      <th>TimeStamp</th>\n",
       "      <th>Symbol</th>\n",
       "      <th>BestBuyOrderPrice</th>\n",
       "      <th>BestBuyOrderQuantity</th>\n",
       "      <th>BestSellOrderPrice</th>\n",
       "      <th>BestSellOrderQuantity</th>\n",
       "      <th>LastTradedPrice</th>\n",
       "      <th>TotalTradedQuantity</th>\n",
       "      <th>Difference</th>\n",
       "    </tr>\n",
       "  </thead>\n",
       "  <tbody>\n",
       "    <tr>\n",
       "      <th>0</th>\n",
       "      <td>1</td>\n",
       "      <td>01-09-2017 09:15</td>\n",
       "      <td>XYZ Corporation</td>\n",
       "      <td>1173.05</td>\n",
       "      <td>26</td>\n",
       "      <td>1174.20</td>\n",
       "      <td>335</td>\n",
       "      <td>1173.00</td>\n",
       "      <td>2850</td>\n",
       "      <td>-309</td>\n",
       "    </tr>\n",
       "    <tr>\n",
       "      <th>1</th>\n",
       "      <td>2</td>\n",
       "      <td>01-09-2017 09:15</td>\n",
       "      <td>XYZ Corporation</td>\n",
       "      <td>1172.10</td>\n",
       "      <td>5</td>\n",
       "      <td>1172.95</td>\n",
       "      <td>21</td>\n",
       "      <td>1172.95</td>\n",
       "      <td>3049</td>\n",
       "      <td>-16</td>\n",
       "    </tr>\n",
       "    <tr>\n",
       "      <th>2</th>\n",
       "      <td>3</td>\n",
       "      <td>01-09-2017 09:15</td>\n",
       "      <td>XYZ Corporation</td>\n",
       "      <td>1172.00</td>\n",
       "      <td>163</td>\n",
       "      <td>1172.10</td>\n",
       "      <td>6</td>\n",
       "      <td>1172.00</td>\n",
       "      <td>3112</td>\n",
       "      <td>157</td>\n",
       "    </tr>\n",
       "    <tr>\n",
       "      <th>3</th>\n",
       "      <td>4</td>\n",
       "      <td>01-09-2017 09:15</td>\n",
       "      <td>XYZ Corporation</td>\n",
       "      <td>1172.00</td>\n",
       "      <td>23</td>\n",
       "      <td>1172.90</td>\n",
       "      <td>26</td>\n",
       "      <td>1172.00</td>\n",
       "      <td>3384</td>\n",
       "      <td>-3</td>\n",
       "    </tr>\n",
       "    <tr>\n",
       "      <th>4</th>\n",
       "      <td>5</td>\n",
       "      <td>01-09-2017 09:15</td>\n",
       "      <td>XYZ Corporation</td>\n",
       "      <td>1171.00</td>\n",
       "      <td>111</td>\n",
       "      <td>1171.05</td>\n",
       "      <td>9</td>\n",
       "      <td>1171.00</td>\n",
       "      <td>3579</td>\n",
       "      <td>102</td>\n",
       "    </tr>\n",
       "    <tr>\n",
       "      <th>5</th>\n",
       "      <td>6</td>\n",
       "      <td>01-09-2017 09:15</td>\n",
       "      <td>XYZ Corporation</td>\n",
       "      <td>1171.00</td>\n",
       "      <td>19</td>\n",
       "      <td>1171.95</td>\n",
       "      <td>26</td>\n",
       "      <td>1171.00</td>\n",
       "      <td>3731</td>\n",
       "      <td>-7</td>\n",
       "    </tr>\n",
       "    <tr>\n",
       "      <th>6</th>\n",
       "      <td>7</td>\n",
       "      <td>01-09-2017 09:15</td>\n",
       "      <td>XYZ Corporation</td>\n",
       "      <td>1171.55</td>\n",
       "      <td>98</td>\n",
       "      <td>1172.00</td>\n",
       "      <td>15</td>\n",
       "      <td>1172.00</td>\n",
       "      <td>3983</td>\n",
       "      <td>83</td>\n",
       "    </tr>\n",
       "  </tbody>\n",
       "</table>\n",
       "</div>"
      ],
      "text/plain": [
       "   SerialNumber         TimeStamp           Symbol  BestBuyOrderPrice  \\\n",
       "0             1  01-09-2017 09:15  XYZ Corporation            1173.05   \n",
       "1             2  01-09-2017 09:15  XYZ Corporation            1172.10   \n",
       "2             3  01-09-2017 09:15  XYZ Corporation            1172.00   \n",
       "3             4  01-09-2017 09:15  XYZ Corporation            1172.00   \n",
       "4             5  01-09-2017 09:15  XYZ Corporation            1171.00   \n",
       "5             6  01-09-2017 09:15  XYZ Corporation            1171.00   \n",
       "6             7  01-09-2017 09:15  XYZ Corporation            1171.55   \n",
       "\n",
       "   BestBuyOrderQuantity  BestSellOrderPrice  BestSellOrderQuantity  \\\n",
       "0                    26             1174.20                    335   \n",
       "1                     5             1172.95                     21   \n",
       "2                   163             1172.10                      6   \n",
       "3                    23             1172.90                     26   \n",
       "4                   111             1171.05                      9   \n",
       "5                    19             1171.95                     26   \n",
       "6                    98             1172.00                     15   \n",
       "\n",
       "   LastTradedPrice  TotalTradedQuantity  Difference  \n",
       "0          1173.00                 2850        -309  \n",
       "1          1172.95                 3049         -16  \n",
       "2          1172.00                 3112         157  \n",
       "3          1172.00                 3384          -3  \n",
       "4          1171.00                 3579         102  \n",
       "5          1171.00                 3731          -7  \n",
       "6          1172.00                 3983          83  "
      ]
     },
     "execution_count": 71,
     "metadata": {},
     "output_type": "execute_result"
    }
   ],
   "source": [
    "df_train.head(7)"
   ]
  },
  {
   "cell_type": "code",
   "execution_count": 70,
   "metadata": {
    "collapsed": false
   },
   "outputs": [],
   "source": [
    "df_train['Difference'] = df_train.iloc[:, 4] - df_train.iloc[:, 6]"
   ]
  },
  {
   "cell_type": "code",
   "execution_count": 81,
   "metadata": {
    "collapsed": false
   },
   "outputs": [],
   "source": [
    "result_pos = df_train[df_train['Difference'] > 0]"
   ]
  },
  {
   "cell_type": "code",
   "execution_count": 82,
   "metadata": {
    "collapsed": false
   },
   "outputs": [
    {
     "data": {
      "text/html": [
       "<div>\n",
       "<table border=\"1\" class=\"dataframe\">\n",
       "  <thead>\n",
       "    <tr style=\"text-align: right;\">\n",
       "      <th></th>\n",
       "      <th>SerialNumber</th>\n",
       "      <th>TimeStamp</th>\n",
       "      <th>Symbol</th>\n",
       "      <th>BestBuyOrderPrice</th>\n",
       "      <th>BestBuyOrderQuantity</th>\n",
       "      <th>BestSellOrderPrice</th>\n",
       "      <th>BestSellOrderQuantity</th>\n",
       "      <th>LastTradedPrice</th>\n",
       "      <th>TotalTradedQuantity</th>\n",
       "      <th>Difference</th>\n",
       "    </tr>\n",
       "  </thead>\n",
       "  <tbody>\n",
       "    <tr>\n",
       "      <th>2</th>\n",
       "      <td>3</td>\n",
       "      <td>01-09-2017 09:15</td>\n",
       "      <td>XYZ Corporation</td>\n",
       "      <td>1172.00</td>\n",
       "      <td>163</td>\n",
       "      <td>1172.10</td>\n",
       "      <td>6</td>\n",
       "      <td>1172.0</td>\n",
       "      <td>3112</td>\n",
       "      <td>157</td>\n",
       "    </tr>\n",
       "    <tr>\n",
       "      <th>4</th>\n",
       "      <td>5</td>\n",
       "      <td>01-09-2017 09:15</td>\n",
       "      <td>XYZ Corporation</td>\n",
       "      <td>1171.00</td>\n",
       "      <td>111</td>\n",
       "      <td>1171.05</td>\n",
       "      <td>9</td>\n",
       "      <td>1171.0</td>\n",
       "      <td>3579</td>\n",
       "      <td>102</td>\n",
       "    </tr>\n",
       "    <tr>\n",
       "      <th>6</th>\n",
       "      <td>7</td>\n",
       "      <td>01-09-2017 09:15</td>\n",
       "      <td>XYZ Corporation</td>\n",
       "      <td>1171.55</td>\n",
       "      <td>98</td>\n",
       "      <td>1172.00</td>\n",
       "      <td>15</td>\n",
       "      <td>1172.0</td>\n",
       "      <td>3983</td>\n",
       "      <td>83</td>\n",
       "    </tr>\n",
       "    <tr>\n",
       "      <th>7</th>\n",
       "      <td>8</td>\n",
       "      <td>01-09-2017 09:15</td>\n",
       "      <td>XYZ Corporation</td>\n",
       "      <td>1171.05</td>\n",
       "      <td>74</td>\n",
       "      <td>1171.45</td>\n",
       "      <td>5</td>\n",
       "      <td>1171.0</td>\n",
       "      <td>4165</td>\n",
       "      <td>69</td>\n",
       "    </tr>\n",
       "    <tr>\n",
       "      <th>9</th>\n",
       "      <td>10</td>\n",
       "      <td>01-09-2017 09:15</td>\n",
       "      <td>XYZ Corporation</td>\n",
       "      <td>1173.00</td>\n",
       "      <td>115</td>\n",
       "      <td>1173.05</td>\n",
       "      <td>1</td>\n",
       "      <td>1173.0</td>\n",
       "      <td>5104</td>\n",
       "      <td>114</td>\n",
       "    </tr>\n",
       "    <tr>\n",
       "      <th>10</th>\n",
       "      <td>11</td>\n",
       "      <td>01-09-2017 09:15</td>\n",
       "      <td>XYZ Corporation</td>\n",
       "      <td>1173.00</td>\n",
       "      <td>297</td>\n",
       "      <td>1173.75</td>\n",
       "      <td>26</td>\n",
       "      <td>1173.0</td>\n",
       "      <td>6046</td>\n",
       "      <td>271</td>\n",
       "    </tr>\n",
       "    <tr>\n",
       "      <th>12</th>\n",
       "      <td>13</td>\n",
       "      <td>01-09-2017 09:15</td>\n",
       "      <td>XYZ Corporation</td>\n",
       "      <td>1173.00</td>\n",
       "      <td>97</td>\n",
       "      <td>1173.05</td>\n",
       "      <td>10</td>\n",
       "      <td>1173.0</td>\n",
       "      <td>6483</td>\n",
       "      <td>87</td>\n",
       "    </tr>\n",
       "  </tbody>\n",
       "</table>\n",
       "</div>"
      ],
      "text/plain": [
       "    SerialNumber         TimeStamp           Symbol  BestBuyOrderPrice  \\\n",
       "2              3  01-09-2017 09:15  XYZ Corporation            1172.00   \n",
       "4              5  01-09-2017 09:15  XYZ Corporation            1171.00   \n",
       "6              7  01-09-2017 09:15  XYZ Corporation            1171.55   \n",
       "7              8  01-09-2017 09:15  XYZ Corporation            1171.05   \n",
       "9             10  01-09-2017 09:15  XYZ Corporation            1173.00   \n",
       "10            11  01-09-2017 09:15  XYZ Corporation            1173.00   \n",
       "12            13  01-09-2017 09:15  XYZ Corporation            1173.00   \n",
       "\n",
       "    BestBuyOrderQuantity  BestSellOrderPrice  BestSellOrderQuantity  \\\n",
       "2                    163             1172.10                      6   \n",
       "4                    111             1171.05                      9   \n",
       "6                     98             1172.00                     15   \n",
       "7                     74             1171.45                      5   \n",
       "9                    115             1173.05                      1   \n",
       "10                   297             1173.75                     26   \n",
       "12                    97             1173.05                     10   \n",
       "\n",
       "    LastTradedPrice  TotalTradedQuantity  Difference  \n",
       "2            1172.0                 3112         157  \n",
       "4            1171.0                 3579         102  \n",
       "6            1172.0                 3983          83  \n",
       "7            1171.0                 4165          69  \n",
       "9            1173.0                 5104         114  \n",
       "10           1173.0                 6046         271  \n",
       "12           1173.0                 6483          87  "
      ]
     },
     "execution_count": 82,
     "metadata": {},
     "output_type": "execute_result"
    }
   ],
   "source": [
    "result_pos.head(7)"
   ]
  },
  {
   "cell_type": "code",
   "execution_count": 83,
   "metadata": {
    "collapsed": true
   },
   "outputs": [],
   "source": [
    "result_neg = df_train[df_train['Difference'] < 0]"
   ]
  },
  {
   "cell_type": "code",
   "execution_count": 84,
   "metadata": {
    "collapsed": false
   },
   "outputs": [
    {
     "data": {
      "text/html": [
       "<div>\n",
       "<table border=\"1\" class=\"dataframe\">\n",
       "  <thead>\n",
       "    <tr style=\"text-align: right;\">\n",
       "      <th></th>\n",
       "      <th>SerialNumber</th>\n",
       "      <th>TimeStamp</th>\n",
       "      <th>Symbol</th>\n",
       "      <th>BestBuyOrderPrice</th>\n",
       "      <th>BestBuyOrderQuantity</th>\n",
       "      <th>BestSellOrderPrice</th>\n",
       "      <th>BestSellOrderQuantity</th>\n",
       "      <th>LastTradedPrice</th>\n",
       "      <th>TotalTradedQuantity</th>\n",
       "      <th>Difference</th>\n",
       "    </tr>\n",
       "  </thead>\n",
       "  <tbody>\n",
       "    <tr>\n",
       "      <th>0</th>\n",
       "      <td>1</td>\n",
       "      <td>01-09-2017 09:15</td>\n",
       "      <td>XYZ Corporation</td>\n",
       "      <td>1173.05</td>\n",
       "      <td>26</td>\n",
       "      <td>1174.20</td>\n",
       "      <td>335</td>\n",
       "      <td>1173.00</td>\n",
       "      <td>2850</td>\n",
       "      <td>-309</td>\n",
       "    </tr>\n",
       "    <tr>\n",
       "      <th>1</th>\n",
       "      <td>2</td>\n",
       "      <td>01-09-2017 09:15</td>\n",
       "      <td>XYZ Corporation</td>\n",
       "      <td>1172.10</td>\n",
       "      <td>5</td>\n",
       "      <td>1172.95</td>\n",
       "      <td>21</td>\n",
       "      <td>1172.95</td>\n",
       "      <td>3049</td>\n",
       "      <td>-16</td>\n",
       "    </tr>\n",
       "    <tr>\n",
       "      <th>3</th>\n",
       "      <td>4</td>\n",
       "      <td>01-09-2017 09:15</td>\n",
       "      <td>XYZ Corporation</td>\n",
       "      <td>1172.00</td>\n",
       "      <td>23</td>\n",
       "      <td>1172.90</td>\n",
       "      <td>26</td>\n",
       "      <td>1172.00</td>\n",
       "      <td>3384</td>\n",
       "      <td>-3</td>\n",
       "    </tr>\n",
       "    <tr>\n",
       "      <th>5</th>\n",
       "      <td>6</td>\n",
       "      <td>01-09-2017 09:15</td>\n",
       "      <td>XYZ Corporation</td>\n",
       "      <td>1171.00</td>\n",
       "      <td>19</td>\n",
       "      <td>1171.95</td>\n",
       "      <td>26</td>\n",
       "      <td>1171.00</td>\n",
       "      <td>3731</td>\n",
       "      <td>-7</td>\n",
       "    </tr>\n",
       "    <tr>\n",
       "      <th>8</th>\n",
       "      <td>9</td>\n",
       "      <td>01-09-2017 09:15</td>\n",
       "      <td>XYZ Corporation</td>\n",
       "      <td>1171.00</td>\n",
       "      <td>15</td>\n",
       "      <td>1171.90</td>\n",
       "      <td>26</td>\n",
       "      <td>1171.00</td>\n",
       "      <td>4245</td>\n",
       "      <td>-11</td>\n",
       "    </tr>\n",
       "    <tr>\n",
       "      <th>15</th>\n",
       "      <td>16</td>\n",
       "      <td>01-09-2017 09:15</td>\n",
       "      <td>XYZ Corporation</td>\n",
       "      <td>1173.05</td>\n",
       "      <td>5</td>\n",
       "      <td>1173.85</td>\n",
       "      <td>26</td>\n",
       "      <td>1173.95</td>\n",
       "      <td>7249</td>\n",
       "      <td>-21</td>\n",
       "    </tr>\n",
       "    <tr>\n",
       "      <th>28</th>\n",
       "      <td>29</td>\n",
       "      <td>01-09-2017 09:15</td>\n",
       "      <td>XYZ Corporation</td>\n",
       "      <td>1173.00</td>\n",
       "      <td>116</td>\n",
       "      <td>1173.40</td>\n",
       "      <td>528</td>\n",
       "      <td>1173.00</td>\n",
       "      <td>9433</td>\n",
       "      <td>-412</td>\n",
       "    </tr>\n",
       "  </tbody>\n",
       "</table>\n",
       "</div>"
      ],
      "text/plain": [
       "    SerialNumber         TimeStamp           Symbol  BestBuyOrderPrice  \\\n",
       "0              1  01-09-2017 09:15  XYZ Corporation            1173.05   \n",
       "1              2  01-09-2017 09:15  XYZ Corporation            1172.10   \n",
       "3              4  01-09-2017 09:15  XYZ Corporation            1172.00   \n",
       "5              6  01-09-2017 09:15  XYZ Corporation            1171.00   \n",
       "8              9  01-09-2017 09:15  XYZ Corporation            1171.00   \n",
       "15            16  01-09-2017 09:15  XYZ Corporation            1173.05   \n",
       "28            29  01-09-2017 09:15  XYZ Corporation            1173.00   \n",
       "\n",
       "    BestBuyOrderQuantity  BestSellOrderPrice  BestSellOrderQuantity  \\\n",
       "0                     26             1174.20                    335   \n",
       "1                      5             1172.95                     21   \n",
       "3                     23             1172.90                     26   \n",
       "5                     19             1171.95                     26   \n",
       "8                     15             1171.90                     26   \n",
       "15                     5             1173.85                     26   \n",
       "28                   116             1173.40                    528   \n",
       "\n",
       "    LastTradedPrice  TotalTradedQuantity  Difference  \n",
       "0           1173.00                 2850        -309  \n",
       "1           1172.95                 3049         -16  \n",
       "3           1172.00                 3384          -3  \n",
       "5           1171.00                 3731          -7  \n",
       "8           1171.00                 4245         -11  \n",
       "15          1173.95                 7249         -21  \n",
       "28          1173.00                 9433        -412  "
      ]
     },
     "execution_count": 84,
     "metadata": {},
     "output_type": "execute_result"
    }
   ],
   "source": [
    "result_neg.head(7)"
   ]
  },
  {
   "cell_type": "code",
   "execution_count": 85,
   "metadata": {
    "collapsed": false
   },
   "outputs": [
    {
     "name": "stdout",
     "output_type": "stream",
     "text": [
      "<class 'pandas.core.frame.DataFrame'>\n",
      "Index: 9937 entries, 2 to 16598\n",
      "Data columns (total 10 columns):\n",
      "SerialNumber             9937 non-null int64\n",
      "TimeStamp                9937 non-null object\n",
      "Symbol                   9937 non-null object\n",
      "BestBuyOrderPrice        9937 non-null float64\n",
      "BestBuyOrderQuantity     9937 non-null int64\n",
      "BestSellOrderPrice       9937 non-null float64\n",
      "BestSellOrderQuantity    9937 non-null int64\n",
      "LastTradedPrice          9937 non-null float64\n",
      "TotalTradedQuantity      9937 non-null int64\n",
      "Difference               9937 non-null int64\n",
      "dtypes: float64(3), int64(5), object(2)\n",
      "memory usage: 854.0+ KB\n"
     ]
    }
   ],
   "source": [
    "result_pos.info()"
   ]
  },
  {
   "cell_type": "code",
   "execution_count": 80,
   "metadata": {
    "collapsed": false
   },
   "outputs": [
    {
     "data": {
      "text/plain": [
       "510.09238200664186"
      ]
     },
     "execution_count": 80,
     "metadata": {},
     "output_type": "execute_result"
    }
   ],
   "source": [
    "result_pos.Difference.mean()"
   ]
  },
  {
   "cell_type": "code",
   "execution_count": 86,
   "metadata": {
    "collapsed": false
   },
   "outputs": [
    {
     "data": {
      "text/plain": [
       "-152.0594535858429"
      ]
     },
     "execution_count": 86,
     "metadata": {},
     "output_type": "execute_result"
    }
   ],
   "source": [
    "result_neg.Difference.mean()"
   ]
  },
  {
   "cell_type": "code",
   "execution_count": 87,
   "metadata": {
    "collapsed": false
   },
   "outputs": [
    {
     "data": {
      "text/plain": [
       "122.0"
      ]
     },
     "execution_count": 87,
     "metadata": {},
     "output_type": "execute_result"
    }
   ],
   "source": [
    "result_pos.Difference.median()"
   ]
  },
  {
   "cell_type": "code",
   "execution_count": 88,
   "metadata": {
    "collapsed": false
   },
   "outputs": [
    {
     "data": {
      "text/plain": [
       "-47.0"
      ]
     },
     "execution_count": 88,
     "metadata": {},
     "output_type": "execute_result"
    }
   ],
   "source": [
    "result_neg.Difference.median()"
   ]
  },
  {
   "cell_type": "code",
   "execution_count": 66,
   "metadata": {
    "collapsed": false
   },
   "outputs": [
    {
     "data": {
      "text/plain": [
       "2"
      ]
     },
     "execution_count": 66,
     "metadata": {},
     "output_type": "execute_result"
    }
   ],
   "source": [
    "ind = sup_dem.loc[sup_dem > 0].index\n",
    "ind_1 = list(map(int, ind))\n",
    "ind_1[0]"
   ]
  },
  {
   "cell_type": "code",
   "execution_count": 67,
   "metadata": {
    "collapsed": false
   },
   "outputs": [],
   "source": [
    "sup_dem_1 = []\n",
    "for i in ind_1:\n",
    "    sup_dem_1.append(df_train.iloc[i, 7])"
   ]
  },
  {
   "cell_type": "code",
   "execution_count": 62,
   "metadata": {
    "collapsed": true
   },
   "outputs": [],
   "source": [
    "sup_dem['Difference'] = sup_dem_1"
   ]
  },
  {
   "cell_type": "code",
   "execution_count": 68,
   "metadata": {
    "collapsed": false
   },
   "outputs": [
    {
     "data": {
      "text/plain": [
       "0   -309\n",
       "1    -16\n",
       "2    157\n",
       "3     -3\n",
       "4    102\n",
       "dtype: int64"
      ]
     },
     "execution_count": 68,
     "metadata": {},
     "output_type": "execute_result"
    }
   ],
   "source": [
    "sup_dem.head()"
   ]
  },
  {
   "cell_type": "code",
   "execution_count": 101,
   "metadata": {
    "collapsed": false
   },
   "outputs": [
    {
     "name": "stdout",
     "output_type": "stream",
     "text": [
      "<class 'pandas.core.frame.DataFrame'>\n",
      "Index: 16599 entries, 0 to 16598\n",
      "Data columns (total 10 columns):\n",
      "SerialNumber             16599 non-null int64\n",
      "TimeStamp                16599 non-null object\n",
      "Symbol                   16599 non-null object\n",
      "BestBuyOrderPrice        16599 non-null float64\n",
      "BestBuyOrderQuantity     16599 non-null int64\n",
      "BestSellOrderPrice       16599 non-null float64\n",
      "BestSellOrderQuantity    16599 non-null int64\n",
      "LastTradedPrice          16599 non-null float64\n",
      "TotalTradedQuantity      16599 non-null int64\n",
      "Difference               16599 non-null int64\n",
      "dtypes: float64(3), int64(5), object(2)\n",
      "memory usage: 1.4+ MB\n"
     ]
    }
   ],
   "source": [
    "df_train.info()"
   ]
  },
  {
   "cell_type": "code",
   "execution_count": 13,
   "metadata": {
    "collapsed": false
   },
   "outputs": [
    {
     "data": {
      "text/html": [
       "<div>\n",
       "<table border=\"1\" class=\"dataframe\">\n",
       "  <thead>\n",
       "    <tr style=\"text-align: right;\">\n",
       "      <th></th>\n",
       "      <th>SerialNumber</th>\n",
       "      <th>BestBuyOrderPrice</th>\n",
       "      <th>BestBuyOrderQuantity</th>\n",
       "      <th>BestSellOrderPrice</th>\n",
       "      <th>BestSellOrderQuantity</th>\n",
       "      <th>LastTradedPrice</th>\n",
       "      <th>TotalTradedQuantity</th>\n",
       "    </tr>\n",
       "  </thead>\n",
       "  <tbody>\n",
       "    <tr>\n",
       "      <th>SerialNumber</th>\n",
       "      <td>1.000000</td>\n",
       "      <td>0.884320</td>\n",
       "      <td>-0.072322</td>\n",
       "      <td>0.879528</td>\n",
       "      <td>0.070504</td>\n",
       "      <td>0.881199</td>\n",
       "      <td>0.999691</td>\n",
       "    </tr>\n",
       "    <tr>\n",
       "      <th>BestBuyOrderPrice</th>\n",
       "      <td>0.884320</td>\n",
       "      <td>1.000000</td>\n",
       "      <td>-0.122959</td>\n",
       "      <td>0.994449</td>\n",
       "      <td>0.078503</td>\n",
       "      <td>0.995410</td>\n",
       "      <td>0.884633</td>\n",
       "    </tr>\n",
       "    <tr>\n",
       "      <th>BestBuyOrderQuantity</th>\n",
       "      <td>-0.072322</td>\n",
       "      <td>-0.122959</td>\n",
       "      <td>1.000000</td>\n",
       "      <td>-0.106227</td>\n",
       "      <td>-0.006021</td>\n",
       "      <td>-0.113100</td>\n",
       "      <td>-0.071977</td>\n",
       "    </tr>\n",
       "    <tr>\n",
       "      <th>BestSellOrderPrice</th>\n",
       "      <td>0.879528</td>\n",
       "      <td>0.994449</td>\n",
       "      <td>-0.106227</td>\n",
       "      <td>1.000000</td>\n",
       "      <td>0.085065</td>\n",
       "      <td>0.993732</td>\n",
       "      <td>0.879175</td>\n",
       "    </tr>\n",
       "    <tr>\n",
       "      <th>BestSellOrderQuantity</th>\n",
       "      <td>0.070504</td>\n",
       "      <td>0.078503</td>\n",
       "      <td>-0.006021</td>\n",
       "      <td>0.085065</td>\n",
       "      <td>1.000000</td>\n",
       "      <td>0.079372</td>\n",
       "      <td>0.070649</td>\n",
       "    </tr>\n",
       "    <tr>\n",
       "      <th>LastTradedPrice</th>\n",
       "      <td>0.881199</td>\n",
       "      <td>0.995410</td>\n",
       "      <td>-0.113100</td>\n",
       "      <td>0.993732</td>\n",
       "      <td>0.079372</td>\n",
       "      <td>1.000000</td>\n",
       "      <td>0.880845</td>\n",
       "    </tr>\n",
       "    <tr>\n",
       "      <th>TotalTradedQuantity</th>\n",
       "      <td>0.999691</td>\n",
       "      <td>0.884633</td>\n",
       "      <td>-0.071977</td>\n",
       "      <td>0.879175</td>\n",
       "      <td>0.070649</td>\n",
       "      <td>0.880845</td>\n",
       "      <td>1.000000</td>\n",
       "    </tr>\n",
       "  </tbody>\n",
       "</table>\n",
       "</div>"
      ],
      "text/plain": [
       "                       SerialNumber  BestBuyOrderPrice  BestBuyOrderQuantity  \\\n",
       "SerialNumber               1.000000           0.884320             -0.072322   \n",
       "BestBuyOrderPrice          0.884320           1.000000             -0.122959   \n",
       "BestBuyOrderQuantity      -0.072322          -0.122959              1.000000   \n",
       "BestSellOrderPrice         0.879528           0.994449             -0.106227   \n",
       "BestSellOrderQuantity      0.070504           0.078503             -0.006021   \n",
       "LastTradedPrice            0.881199           0.995410             -0.113100   \n",
       "TotalTradedQuantity        0.999691           0.884633             -0.071977   \n",
       "\n",
       "                       BestSellOrderPrice  BestSellOrderQuantity  \\\n",
       "SerialNumber                     0.879528               0.070504   \n",
       "BestBuyOrderPrice                0.994449               0.078503   \n",
       "BestBuyOrderQuantity            -0.106227              -0.006021   \n",
       "BestSellOrderPrice               1.000000               0.085065   \n",
       "BestSellOrderQuantity            0.085065               1.000000   \n",
       "LastTradedPrice                  0.993732               0.079372   \n",
       "TotalTradedQuantity              0.879175               0.070649   \n",
       "\n",
       "                       LastTradedPrice  TotalTradedQuantity  \n",
       "SerialNumber                  0.881199             0.999691  \n",
       "BestBuyOrderPrice             0.995410             0.884633  \n",
       "BestBuyOrderQuantity         -0.113100            -0.071977  \n",
       "BestSellOrderPrice            0.993732             0.879175  \n",
       "BestSellOrderQuantity         0.079372             0.070649  \n",
       "LastTradedPrice               1.000000             0.880845  \n",
       "TotalTradedQuantity           0.880845             1.000000  "
      ]
     },
     "execution_count": 13,
     "metadata": {},
     "output_type": "execute_result"
    }
   ],
   "source": [
    "df_train.corr(method = 'spearman')"
   ]
  },
  {
   "cell_type": "code",
   "execution_count": 9,
   "metadata": {
    "collapsed": false
   },
   "outputs": [
    {
     "data": {
      "text/plain": [
       "Index(['nSerialNumber', 'TimeStamp', 'sSymbol', 'nBestBuyOrderPrice',\n",
       "       'nBestBuyOrderQuantity', 'nBestSellOrderPrice',\n",
       "       'nBestSellOrderQuantity', 'nLastTradedPrice', 'nTotalTradedQuantity'],\n",
       "      dtype='object')"
      ]
     },
     "execution_count": 9,
     "metadata": {},
     "output_type": "execute_result"
    }
   ],
   "source": [
    "df_train.columns"
   ]
  },
  {
   "cell_type": "code",
   "execution_count": 11,
   "metadata": {
    "collapsed": false
   },
   "outputs": [],
   "source": [
    "df_train.rename(index = str, columns = {\"nSerialNumber\": \"SerialNumber\" , \"sSymbol\": \"Symbol\", \"nBestBuyOrderPrice\": \"BestBuyOrderPrice\", \"nBestBuyOrderQuantity\": \"BestBuyOrderQuantity\" , \"nBestSellOrderPrice\": \"BestSellOrderPrice\", \"nBestSellOrderQuantity\": \"BestSellOrderQuantity\", \"nLastTradedPrice\": \"LastTradedPrice\", \"nTotalTradedQuantity\": \"TotalTradedQuantity\"}, inplace = 1)"
   ]
  },
  {
   "cell_type": "code",
   "execution_count": 24,
   "metadata": {
    "collapsed": false
   },
   "outputs": [
    {
     "data": {
      "image/png": "[encoded data removed]",
      "text/plain": [
       "<matplotlib.figure.Figure at 0x1e6f644bcf8>"
      ]
     },
     "metadata": {},
     "output_type": "display_data"
    }
   ],
   "source": [
    "plt.boxplot(df_train.BestBuyOrderPrice)\n",
    "plt.show()"
   ]
  },
  {
   "cell_type": "code",
   "execution_count": 23,
   "metadata": {
    "collapsed": false
   },
   "outputs": [
    {
     "data": {
      "image/png": "[encoded data removed]",
      "text/plain": [
       "<matplotlib.figure.Figure at 0x1e6f66320f0>"
      ]
     },
     "metadata": {},
     "output_type": "display_data"
    }
   ],
   "source": [
    "plt.boxplot(df_train.BestSellOrderPrice)\n",
    "plt.show()"
   ]
  },
  {
   "cell_type": "code",
   "execution_count": 25,
   "metadata": {
    "collapsed": false
   },
   "outputs": [
    {
     "data": {
      "image/png": "[encoded data removed]",
      "text/plain": [
       "<matplotlib.figure.Figure at 0x1e6f700d978>"
      ]
     },
     "metadata": {},
     "output_type": "display_data"
    }
   ],
   "source": [
    "plt.boxplot(df_train.TotalTradedQuantity)\n",
    "plt.show()"
   ]
  },
  {
   "cell_type": "code",
   "execution_count": 89,
   "metadata": {
    "collapsed": false
   },
   "outputs": [
    {
     "data": {
      "text/plain": [
       "711999.5779263811"
      ]
     },
     "execution_count": 89,
     "metadata": {},
     "output_type": "execute_result"
    }
   ],
   "source": [
    "df_train.TotalTradedQuantity.mean()"
   ]
  },
  {
   "cell_type": "code",
   "execution_count": 90,
   "metadata": {
    "collapsed": false
   },
   "outputs": [
    {
     "data": {
      "text/plain": [
       "759591.0"
      ]
     },
     "execution_count": 90,
     "metadata": {},
     "output_type": "execute_result"
    }
   ],
   "source": [
    "df_train.TotalTradedQuantity.median()"
   ]
  },
  {
   "cell_type": "code",
   "execution_count": 96,
   "metadata": {
    "collapsed": false
   },
   "outputs": [
    {
     "data": {
      "image/png": "[encoded data removed]",
      "text/plain": [
       "<matplotlib.figure.Figure at 0x1e6f7060f98>"
      ]
     },
     "metadata": {},
     "output_type": "display_data"
    }
   ],
   "source": [
    "\n",
    "%matplotlib inline\n",
    "\n",
    "\n",
    "num_df = df_train.select_dtypes(include=['float64','int64'])\n",
    "\n",
    "fig, axs = plt.subplots(3,3, figsize = (20,20))\n",
    "\n",
    "fig.subplots_adjust(hspace=.8, wspace=.3)\n",
    "\n",
    "for k in axs:\n",
    "    for i,j in zip(num_df, axs.flat):\n",
    "        g = num_df[i].plot.kde(ax = j, title = i)\n",
    "        g.get_xaxis().tick_bottom()\n",
    "        g.get_yaxis().tick_left()"
   ]
  },
  {
   "cell_type": "code",
   "execution_count": 388,
   "metadata": {
    "collapsed": false
   },
   "outputs": [],
   "source": [
    "X = df_train[['BestBuyOrderQuantity', 'BestBuyOrderPrice', 'BestSellOrderPrice', 'TotalTradedQuantity']]\n",
    "y = df_train['LastTradedPrice']"
   ]
  },
  {
   "cell_type": "code",
   "execution_count": 389,
   "metadata": {
    "collapsed": false
   },
   "outputs": [],
   "source": [
    "X_train, X_test, y_train, y_test = tts(X, y, test_size = .30)"
   ]
  },
  {
   "cell_type": "code",
   "execution_count": 390,
   "metadata": {
    "collapsed": true
   },
   "outputs": [],
   "source": [
    "clf1 = lr()"
   ]
  },
  {
   "cell_type": "code",
   "execution_count": 391,
   "metadata": {
    "collapsed": false
   },
   "outputs": [
    {
     "data": {
      "text/plain": [
       "LinearRegression(copy_X=True, fit_intercept=True, n_jobs=1, normalize=False)"
      ]
     },
     "execution_count": 391,
     "metadata": {},
     "output_type": "execute_result"
    }
   ],
   "source": [
    "clf1.fit(X_train, y_train)"
   ]
  },
  {
   "cell_type": "code",
   "execution_count": 392,
   "metadata": {
    "collapsed": false
   },
   "outputs": [
    {
     "data": {
      "text/plain": [
       "0.26403039358336722"
      ]
     },
     "execution_count": 392,
     "metadata": {},
     "output_type": "execute_result"
    }
   ],
   "source": [
    "np.sqrt(metrics.mean_squared_error(y_test, clf1.predict(X_test)))"
   ]
  },
  {
   "cell_type": "code",
   "execution_count": 346,
   "metadata": {
    "collapsed": true
   },
   "outputs": [],
   "source": [
    "clf2 = en(alpha = 1, l1_ratio = .5, random_state = 1, selection = 'random')"
   ]
  },
  {
   "cell_type": "code",
   "execution_count": 347,
   "metadata": {
    "collapsed": false
   },
   "outputs": [
    {
     "data": {
      "text/plain": [
       "ElasticNet(alpha=1, copy_X=True, fit_intercept=True, l1_ratio=0.5,\n",
       "      max_iter=1000, normalize=False, positive=False, precompute=False,\n",
       "      random_state=1, selection='random', tol=0.0001, warm_start=False)"
      ]
     },
     "execution_count": 347,
     "metadata": {},
     "output_type": "execute_result"
    }
   ],
   "source": [
    "clf2.fit(X_train, y_train)"
   ]
  },
  {
   "cell_type": "code",
   "execution_count": 348,
   "metadata": {
    "collapsed": false
   },
   "outputs": [
    {
     "data": {
      "text/plain": [
       "0.35054892719635233"
      ]
     },
     "execution_count": 348,
     "metadata": {},
     "output_type": "execute_result"
    }
   ],
   "source": [
    "np.sqrt(metrics.mean_squared_error(y_test, clf2.predict(X_test)))"
   ]
  },
  {
   "cell_type": "code",
   "execution_count": 349,
   "metadata": {
    "collapsed": true
   },
   "outputs": [],
   "source": [
    "clf3 = ls(random_state = 1, selection = 'random')"
   ]
  },
  {
   "cell_type": "code",
   "execution_count": 350,
   "metadata": {
    "collapsed": false
   },
   "outputs": [
    {
     "data": {
      "text/plain": [
       "Lasso(alpha=1.0, copy_X=True, fit_intercept=True, max_iter=1000,\n",
       "   normalize=False, positive=False, precompute=False, random_state=1,\n",
       "   selection='random', tol=0.0001, warm_start=False)"
      ]
     },
     "execution_count": 350,
     "metadata": {},
     "output_type": "execute_result"
    }
   ],
   "source": [
    "clf3.fit(X_train, y_train)"
   ]
  },
  {
   "cell_type": "code",
   "execution_count": 351,
   "metadata": {
    "collapsed": false
   },
   "outputs": [
    {
     "data": {
      "text/plain": [
       "0.41108234487368328"
      ]
     },
     "execution_count": 351,
     "metadata": {},
     "output_type": "execute_result"
    }
   ],
   "source": [
    "np.sqrt(metrics.mean_squared_error(y_test, clf3.predict(X_test)))"
   ]
  },
  {
   "cell_type": "code",
   "execution_count": 352,
   "metadata": {
    "collapsed": true
   },
   "outputs": [],
   "source": [
    "clf4 = rg(solver = 'lsqr')"
   ]
  },
  {
   "cell_type": "code",
   "execution_count": 353,
   "metadata": {
    "collapsed": false
   },
   "outputs": [
    {
     "data": {
      "text/plain": [
       "Ridge(alpha=1.0, copy_X=True, fit_intercept=True, max_iter=None,\n",
       "   normalize=False, random_state=None, solver='lsqr', tol=0.001)"
      ]
     },
     "execution_count": 353,
     "metadata": {},
     "output_type": "execute_result"
    }
   ],
   "source": [
    "clf4.fit(X_train, y_train)"
   ]
  },
  {
   "cell_type": "code",
   "execution_count": 354,
   "metadata": {
    "collapsed": false
   },
   "outputs": [
    {
     "data": {
      "text/plain": [
       "4.4950815255544541"
      ]
     },
     "execution_count": 354,
     "metadata": {},
     "output_type": "execute_result"
    }
   ],
   "source": [
    "np.sqrt(metrics.mean_squared_error(y_test, clf4.predict(X_test)))"
   ]
  },
  {
   "cell_type": "code",
   "execution_count": 355,
   "metadata": {
    "collapsed": true
   },
   "outputs": [],
   "source": [
    "clf5 = svm.SVR(kernel = 'rbf', cache_size = 10000000, gamma = 5)"
   ]
  },
  {
   "cell_type": "code",
   "execution_count": 356,
   "metadata": {
    "collapsed": false
   },
   "outputs": [
    {
     "data": {
      "text/plain": [
       "SVR(C=1.0, cache_size=10000000, coef0=0.0, degree=3, epsilon=0.1, gamma=5,\n",
       "  kernel='rbf', max_iter=-1, shrinking=True, tol=0.001, verbose=False)"
      ]
     },
     "execution_count": 356,
     "metadata": {},
     "output_type": "execute_result"
    }
   ],
   "source": [
    "clf5.fit(X_train, y_train)"
   ]
  },
  {
   "cell_type": "code",
   "execution_count": 357,
   "metadata": {
    "collapsed": false
   },
   "outputs": [
    {
     "data": {
      "text/plain": [
       "11.261813197534149"
      ]
     },
     "execution_count": 357,
     "metadata": {},
     "output_type": "execute_result"
    }
   ],
   "source": [
    "np.sqrt(metrics.mean_squared_error(y_test, clf5.predict(X_test)))"
   ]
  },
  {
   "cell_type": "code",
   "execution_count": 358,
   "metadata": {
    "collapsed": true
   },
   "outputs": [],
   "source": [
    "clf6 = dtr(splitter = 'random', max_features = 'log2', random_state = 0)"
   ]
  },
  {
   "cell_type": "code",
   "execution_count": 359,
   "metadata": {
    "collapsed": false
   },
   "outputs": [
    {
     "data": {
      "text/plain": [
       "DecisionTreeRegressor(criterion='mse', max_depth=None, max_features='log2',\n",
       "           max_leaf_nodes=None, min_impurity_decrease=0.0,\n",
       "           min_impurity_split=None, min_samples_leaf=1,\n",
       "           min_samples_split=2, min_weight_fraction_leaf=0.0,\n",
       "           presort=False, random_state=0, splitter='random')"
      ]
     },
     "execution_count": 359,
     "metadata": {},
     "output_type": "execute_result"
    }
   ],
   "source": [
    "clf6.fit(X_train, y_train)"
   ]
  },
  {
   "cell_type": "code",
   "execution_count": 360,
   "metadata": {
    "collapsed": false
   },
   "outputs": [
    {
     "data": {
      "text/plain": [
       "0.33415426066663467"
      ]
     },
     "execution_count": 360,
     "metadata": {},
     "output_type": "execute_result"
    }
   ],
   "source": [
    "np.sqrt(metrics.mean_squared_error(y_test, clf6.predict(X_test)))"
   ]
  },
  {
   "cell_type": "code",
   "execution_count": 393,
   "metadata": {
    "collapsed": true
   },
   "outputs": [],
   "source": [
    "clf7 = gbr(random_state = 1, loss = 'ls')"
   ]
  },
  {
   "cell_type": "code",
   "execution_count": 394,
   "metadata": {
    "collapsed": false
   },
   "outputs": [
    {
     "data": {
      "text/plain": [
       "GradientBoostingRegressor(alpha=0.9, criterion='friedman_mse', init=None,\n",
       "             learning_rate=0.1, loss='ls', max_depth=3, max_features=None,\n",
       "             max_leaf_nodes=None, min_impurity_decrease=0.0,\n",
       "             min_impurity_split=None, min_samples_leaf=1,\n",
       "             min_samples_split=2, min_weight_fraction_leaf=0.0,\n",
       "             n_estimators=100, presort='auto', random_state=1,\n",
       "             subsample=1.0, verbose=0, warm_start=False)"
      ]
     },
     "execution_count": 394,
     "metadata": {},
     "output_type": "execute_result"
    }
   ],
   "source": [
    "clf7.fit(X_train, y_train)"
   ]
  },
  {
   "cell_type": "code",
   "execution_count": 395,
   "metadata": {
    "collapsed": false
   },
   "outputs": [
    {
     "data": {
      "text/plain": [
       "0.239862621829909"
      ]
     },
     "execution_count": 395,
     "metadata": {},
     "output_type": "execute_result"
    }
   ],
   "source": [
    "np.sqrt(metrics.mean_squared_error(y_test, clf7.predict(X_test)))"
   ]
  },
  {
   "cell_type": "code",
   "execution_count": 401,
   "metadata": {
    "collapsed": true
   },
   "outputs": [],
   "source": [
    "clf8 = rfr(n_estimators = 10, random_state = 1, max_features = 2)"
   ]
  },
  {
   "cell_type": "code",
   "execution_count": 402,
   "metadata": {
    "collapsed": false
   },
   "outputs": [
    {
     "data": {
      "text/plain": [
       "RandomForestRegressor(bootstrap=True, criterion='mse', max_depth=None,\n",
       "           max_features=2, max_leaf_nodes=None, min_impurity_decrease=0.0,\n",
       "           min_impurity_split=None, min_samples_leaf=1,\n",
       "           min_samples_split=2, min_weight_fraction_leaf=0.0,\n",
       "           n_estimators=10, n_jobs=1, oob_score=False, random_state=1,\n",
       "           verbose=0, warm_start=False)"
      ]
     },
     "execution_count": 402,
     "metadata": {},
     "output_type": "execute_result"
    }
   ],
   "source": [
    "clf8.fit(X_train, y_train)"
   ]
  },
  {
   "cell_type": "code",
   "execution_count": 403,
   "metadata": {
    "collapsed": false
   },
   "outputs": [
    {
     "data": {
      "text/plain": [
       "0.18560291371316795"
      ]
     },
     "execution_count": 403,
     "metadata": {},
     "output_type": "execute_result"
    }
   ],
   "source": [
    "np.sqrt(metrics.mean_squared_error(y_test, clf8.predict(X_test)))"
   ]
  },
  {
   "cell_type": "code",
   "execution_count": 385,
   "metadata": {
    "collapsed": false
   },
   "outputs": [],
   "source": [
    "clf9 = knr(weights = 'uniform', algorithm = 'auto', n_neighbors = 3)"
   ]
  },
  {
   "cell_type": "code",
   "execution_count": 386,
   "metadata": {
    "collapsed": false
   },
   "outputs": [
    {
     "data": {
      "text/plain": [
       "KNeighborsRegressor(algorithm='auto', leaf_size=30, metric='minkowski',\n",
       "          metric_params=None, n_jobs=1, n_neighbors=3, p=2,\n",
       "          weights='uniform')"
      ]
     },
     "execution_count": 386,
     "metadata": {},
     "output_type": "execute_result"
    }
   ],
   "source": [
    "clf9.fit(X_train, y_train)"
   ]
  },
  {
   "cell_type": "code",
   "execution_count": 387,
   "metadata": {
    "collapsed": false
   },
   "outputs": [
    {
     "data": {
      "text/plain": [
       "0.23014034966603042"
      ]
     },
     "execution_count": 387,
     "metadata": {},
     "output_type": "execute_result"
    }
   ],
   "source": [
    "np.sqrt(metrics.mean_squared_error(y_test, clf9.predict(X_test)))"
   ]
  },
  {
   "cell_type": "code",
   "execution_count": 337,
   "metadata": {
    "collapsed": true
   },
   "outputs": [],
   "source": [
    "df_test = pd.read_csv('C:/Users/Visha/Downloads/TestData.csv', header = 0, index_col = None)"
   ]
  },
  {
   "cell_type": "code",
   "execution_count": 338,
   "metadata": {
    "collapsed": false
   },
   "outputs": [],
   "source": [
    "X_test = df_test[['nBestBuyOrderPrice', 'nBestSellOrderPrice', 'nTotalTradedQuantity']]"
   ]
  },
  {
   "cell_type": "code",
   "execution_count": 339,
   "metadata": {
    "collapsed": false
   },
   "outputs": [
    {
     "name": "stdout",
     "output_type": "stream",
     "text": [
      "<class 'pandas.core.frame.DataFrame'>\n",
      "RangeIndex: 82748 entries, 0 to 82747\n",
      "Data columns (total 3 columns):\n",
      "nBestBuyOrderPrice      82748 non-null float64\n",
      "nBestSellOrderPrice     82748 non-null float64\n",
      "nTotalTradedQuantity    82748 non-null int64\n",
      "dtypes: float64(2), int64(1)\n",
      "memory usage: 1.9 MB\n"
     ]
    }
   ],
   "source": [
    "X_test.info()"
   ]
  },
  {
   "cell_type": "code",
   "execution_count": 13,
   "metadata": {
    "collapsed": false
   },
   "outputs": [
    {
     "name": "stderr",
     "output_type": "stream",
     "text": [
      "C:\\Users\\visha\\Anaconda3\\lib\\site-packages\\ipykernel\\__main__.py:1: ParserWarning: Falling back to the 'python' engine because the 'c' engine does not support regex separators (separators > 1 char and different from '\\s+' are interpreted as regex); you can avoid this warning by specifying engine='python'.\n",
      "  if __name__ == '__main__':\n"
     ]
    }
   ],
   "source": [
    "ks = pd.read_csv('C:/users/visha/desktop/iitm.csv', header = None, sep = ':::')"
   ]
  },
  {
   "cell_type": "code",
   "execution_count": 14,
   "metadata": {
    "collapsed": false
   },
   "outputs": [
    {
     "data": {
      "text/html": [
       "<div>\n",
       "<table border=\"1\" class=\"dataframe\">\n",
       "  <thead>\n",
       "    <tr style=\"text-align: right;\">\n",
       "      <th></th>\n",
       "      <th>0</th>\n",
       "      <th>1</th>\n",
       "    </tr>\n",
       "  </thead>\n",
       "  <tbody>\n",
       "    <tr>\n",
       "      <th>0</th>\n",
       "      <td>RefEmail</td>\n",
       "      <td>vishal.subedi@gmail.com</td>\n",
       "    </tr>\n",
       "    <tr>\n",
       "      <th>1</th>\n",
       "      <td>Application No</td>\n",
       "      <td>MA18SFP0178</td>\n",
       "    </tr>\n",
       "  </tbody>\n",
       "</table>\n",
       "</div>"
      ],
      "text/plain": [
       "                 0                         1\n",
       "0        RefEmail    vishal.subedi@gmail.com\n",
       "1  Application No                MA18SFP0178"
      ]
     },
     "execution_count": 14,
     "metadata": {},
     "output_type": "execute_result"
    }
   ],
   "source": [
    "ks.head()"
   ]
  },
  {
   "cell_type": "code",
   "execution_count": 340,
   "metadata": {
    "collapsed": false
   },
   "outputs": [],
   "source": [
    "pd.DataFrame({\"nLastTradedPrice\": clf8.predict(X_test)}).to_csv('submission.csv', index = 0, header = 1)"
   ]
  }
 ],
 "metadata": {
  "kernelspec": {
   "display_name": "Python [conda root]",
   "language": "python",
   "name": "conda-root-py"
  },
  "language_info": {
   "codemirror_mode": {
    "name": "ipython",
    "version": 3
   },
   "file_extension": ".py",
   "mimetype": "text/x-python",
   "name": "python",
   "nbconvert_exporter": "python",
   "pygments_lexer": "ipython3",
   "version": "3.5.2"
  }
 },
 "nbformat": 4,
 "nbformat_minor": 2
}
